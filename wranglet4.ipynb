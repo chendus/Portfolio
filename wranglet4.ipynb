{
 "cells": [
  {
   "cell_type": "code",
   "execution_count": 7,
   "id": "1f69a763-6141-474b-afd3-21c9358ab905",
   "metadata": {
    "pycharm": {
     "name": "#%%\n"
    }
   },
   "outputs": [],
   "source": [
    "import pandas as pd\n",
    "import numpy as np"
   ]
  },
  {
   "cell_type": "markdown",
   "id": "439989f0-70cd-4458-8875-dbb691eca26b",
   "metadata": {
    "pycharm": {
     "name": "#%% md\n"
    }
   },
   "source": [
    "#### Convert the csv to dataframe by the tab seperator and remove whitespace"
   ]
  },
  {
   "cell_type": "code",
   "execution_count": 8,
   "id": "3e614775-9069-41ca-af99-4f49be550dc3",
   "metadata": {
    "pycharm": {
     "name": "#%%\n"
    }
   },
   "outputs": [
    {
     "data": {
      "text/plain": "  Ethnicity Nationality marker Terms of employment Mode of employment     Sex  \\\n0     White     European Union          Fixed-term          Full-time  Female   \n1     White     European Union          Fixed-term          Full-time  Female   \n2     White     European Union          Fixed-term          Full-time  Female   \n3     White     European Union          Fixed-term          Full-time  Female   \n4     White     European Union          Fixed-term          Full-time  Female   \n\n  Academic year   Academic employment function  Number  \n0       2014/15                  Teaching only     205  \n1       2014/15                  Research only    3020  \n2       2014/15     Both teaching and research     360  \n3       2014/15  Neither teaching nor research      10  \n4       2014/15                          Total    3595  ",
      "text/html": "<div>\n<style scoped>\n    .dataframe tbody tr th:only-of-type {\n        vertical-align: middle;\n    }\n\n    .dataframe tbody tr th {\n        vertical-align: top;\n    }\n\n    .dataframe thead th {\n        text-align: right;\n    }\n</style>\n<table border=\"1\" class=\"dataframe\">\n  <thead>\n    <tr style=\"text-align: right;\">\n      <th></th>\n      <th>Ethnicity</th>\n      <th>Nationality marker</th>\n      <th>Terms of employment</th>\n      <th>Mode of employment</th>\n      <th>Sex</th>\n      <th>Academic year</th>\n      <th>Academic employment function</th>\n      <th>Number</th>\n    </tr>\n  </thead>\n  <tbody>\n    <tr>\n      <th>0</th>\n      <td>White</td>\n      <td>European Union</td>\n      <td>Fixed-term</td>\n      <td>Full-time</td>\n      <td>Female</td>\n      <td>2014/15</td>\n      <td>Teaching only</td>\n      <td>205</td>\n    </tr>\n    <tr>\n      <th>1</th>\n      <td>White</td>\n      <td>European Union</td>\n      <td>Fixed-term</td>\n      <td>Full-time</td>\n      <td>Female</td>\n      <td>2014/15</td>\n      <td>Research only</td>\n      <td>3020</td>\n    </tr>\n    <tr>\n      <th>2</th>\n      <td>White</td>\n      <td>European Union</td>\n      <td>Fixed-term</td>\n      <td>Full-time</td>\n      <td>Female</td>\n      <td>2014/15</td>\n      <td>Both teaching and research</td>\n      <td>360</td>\n    </tr>\n    <tr>\n      <th>3</th>\n      <td>White</td>\n      <td>European Union</td>\n      <td>Fixed-term</td>\n      <td>Full-time</td>\n      <td>Female</td>\n      <td>2014/15</td>\n      <td>Neither teaching nor research</td>\n      <td>10</td>\n    </tr>\n    <tr>\n      <th>4</th>\n      <td>White</td>\n      <td>European Union</td>\n      <td>Fixed-term</td>\n      <td>Full-time</td>\n      <td>Female</td>\n      <td>2014/15</td>\n      <td>Total</td>\n      <td>3595</td>\n    </tr>\n  </tbody>\n</table>\n</div>"
     },
     "execution_count": 8,
     "metadata": {},
     "output_type": "execute_result"
    }
   ],
   "source": [
    "df = pd.read_csv('table-4.csv',low_memory=False)\n",
    "df.head()"
   ]
  },
  {
   "cell_type": "code",
   "execution_count": 9,
   "id": "99f7745a-9e3c-4637-8beb-8ec216414b96",
   "metadata": {
    "pycharm": {
     "name": "#%%\n"
    }
   },
   "outputs": [],
   "source": [
    "#copy the dataframe so as to work with the copy \n",
    "df_copy =df.copy()"
   ]
  },
  {
   "cell_type": "code",
   "execution_count": 10,
   "id": "2efc2d40-085d-49b2-902c-4948f3e0db18",
   "metadata": {
    "pycharm": {
     "name": "#%%\n"
    }
   },
   "outputs": [
    {
     "data": {
      "text/plain": "                  Ethnicity Nationality marker   Terms of employment  \\\n68015  Total academic staff                 UK  Open-ended/Permanent   \n68016  Total academic staff                 UK  Open-ended/Permanent   \n68017  Total academic staff                 UK  Open-ended/Permanent   \n68018  Total academic staff                 UK  Open-ended/Permanent   \n68019  Total academic staff                 UK  Open-ended/Permanent   \n\n      Mode of employment    Sex Academic year   Academic employment function  \\\n68015          Part-time  Other       2020/21                  Teaching only   \n68016          Part-time  Other       2020/21                  Research only   \n68017          Part-time  Other       2020/21     Both teaching and research   \n68018          Part-time  Other       2020/21  Neither teaching nor research   \n68019          Part-time  Other       2020/21                          Total   \n\n       Number  \n68015      20  \n68016       0  \n68017      25  \n68018       0  \n68019      45  ",
      "text/html": "<div>\n<style scoped>\n    .dataframe tbody tr th:only-of-type {\n        vertical-align: middle;\n    }\n\n    .dataframe tbody tr th {\n        vertical-align: top;\n    }\n\n    .dataframe thead th {\n        text-align: right;\n    }\n</style>\n<table border=\"1\" class=\"dataframe\">\n  <thead>\n    <tr style=\"text-align: right;\">\n      <th></th>\n      <th>Ethnicity</th>\n      <th>Nationality marker</th>\n      <th>Terms of employment</th>\n      <th>Mode of employment</th>\n      <th>Sex</th>\n      <th>Academic year</th>\n      <th>Academic employment function</th>\n      <th>Number</th>\n    </tr>\n  </thead>\n  <tbody>\n    <tr>\n      <th>68015</th>\n      <td>Total academic staff</td>\n      <td>UK</td>\n      <td>Open-ended/Permanent</td>\n      <td>Part-time</td>\n      <td>Other</td>\n      <td>2020/21</td>\n      <td>Teaching only</td>\n      <td>20</td>\n    </tr>\n    <tr>\n      <th>68016</th>\n      <td>Total academic staff</td>\n      <td>UK</td>\n      <td>Open-ended/Permanent</td>\n      <td>Part-time</td>\n      <td>Other</td>\n      <td>2020/21</td>\n      <td>Research only</td>\n      <td>0</td>\n    </tr>\n    <tr>\n      <th>68017</th>\n      <td>Total academic staff</td>\n      <td>UK</td>\n      <td>Open-ended/Permanent</td>\n      <td>Part-time</td>\n      <td>Other</td>\n      <td>2020/21</td>\n      <td>Both teaching and research</td>\n      <td>25</td>\n    </tr>\n    <tr>\n      <th>68018</th>\n      <td>Total academic staff</td>\n      <td>UK</td>\n      <td>Open-ended/Permanent</td>\n      <td>Part-time</td>\n      <td>Other</td>\n      <td>2020/21</td>\n      <td>Neither teaching nor research</td>\n      <td>0</td>\n    </tr>\n    <tr>\n      <th>68019</th>\n      <td>Total academic staff</td>\n      <td>UK</td>\n      <td>Open-ended/Permanent</td>\n      <td>Part-time</td>\n      <td>Other</td>\n      <td>2020/21</td>\n      <td>Total</td>\n      <td>45</td>\n    </tr>\n  </tbody>\n</table>\n</div>"
     },
     "execution_count": 10,
     "metadata": {},
     "output_type": "execute_result"
    }
   ],
   "source": [
    "df_copy.tail()"
   ]
  },
  {
   "cell_type": "code",
   "execution_count": 11,
   "id": "b965361c-b0be-4a1f-b143-4527e0fb6952",
   "metadata": {
    "pycharm": {
     "name": "#%%\n"
    }
   },
   "outputs": [
    {
     "data": {
      "text/plain": "                  Ethnicity  Nationality marker   Terms of employment  \\\n67920  Total academic staff  Non-European Union            Fixed-term   \n67921  Total academic staff  Non-European Union            Fixed-term   \n67922  Total academic staff  Non-European Union            Fixed-term   \n67923  Total academic staff  Non-European Union            Fixed-term   \n67924  Total academic staff  Non-European Union            Fixed-term   \n...                     ...                 ...                   ...   \n68015  Total academic staff                  UK  Open-ended/Permanent   \n68016  Total academic staff                  UK  Open-ended/Permanent   \n68017  Total academic staff                  UK  Open-ended/Permanent   \n68018  Total academic staff                  UK  Open-ended/Permanent   \n68019  Total academic staff                  UK  Open-ended/Permanent   \n\n      Mode of employment    Sex Academic year   Academic employment function  \\\n67920          Part-time  Other       2020/21                  Teaching only   \n67921          Part-time  Other       2020/21                  Research only   \n67922          Part-time  Other       2020/21     Both teaching and research   \n67923          Part-time  Other       2020/21  Neither teaching nor research   \n67924          Part-time  Other       2020/21                          Total   \n...                  ...    ...           ...                            ...   \n68015          Part-time  Other       2020/21                  Teaching only   \n68016          Part-time  Other       2020/21                  Research only   \n68017          Part-time  Other       2020/21     Both teaching and research   \n68018          Part-time  Other       2020/21  Neither teaching nor research   \n68019          Part-time  Other       2020/21                          Total   \n\n       Number  \n67920      20  \n67921       0  \n67922       0  \n67923       0  \n67924      20  \n...       ...  \n68015      20  \n68016       0  \n68017      25  \n68018       0  \n68019      45  \n\n[100 rows x 8 columns]",
      "text/html": "<div>\n<style scoped>\n    .dataframe tbody tr th:only-of-type {\n        vertical-align: middle;\n    }\n\n    .dataframe tbody tr th {\n        vertical-align: top;\n    }\n\n    .dataframe thead th {\n        text-align: right;\n    }\n</style>\n<table border=\"1\" class=\"dataframe\">\n  <thead>\n    <tr style=\"text-align: right;\">\n      <th></th>\n      <th>Ethnicity</th>\n      <th>Nationality marker</th>\n      <th>Terms of employment</th>\n      <th>Mode of employment</th>\n      <th>Sex</th>\n      <th>Academic year</th>\n      <th>Academic employment function</th>\n      <th>Number</th>\n    </tr>\n  </thead>\n  <tbody>\n    <tr>\n      <th>67920</th>\n      <td>Total academic staff</td>\n      <td>Non-European Union</td>\n      <td>Fixed-term</td>\n      <td>Part-time</td>\n      <td>Other</td>\n      <td>2020/21</td>\n      <td>Teaching only</td>\n      <td>20</td>\n    </tr>\n    <tr>\n      <th>67921</th>\n      <td>Total academic staff</td>\n      <td>Non-European Union</td>\n      <td>Fixed-term</td>\n      <td>Part-time</td>\n      <td>Other</td>\n      <td>2020/21</td>\n      <td>Research only</td>\n      <td>0</td>\n    </tr>\n    <tr>\n      <th>67922</th>\n      <td>Total academic staff</td>\n      <td>Non-European Union</td>\n      <td>Fixed-term</td>\n      <td>Part-time</td>\n      <td>Other</td>\n      <td>2020/21</td>\n      <td>Both teaching and research</td>\n      <td>0</td>\n    </tr>\n    <tr>\n      <th>67923</th>\n      <td>Total academic staff</td>\n      <td>Non-European Union</td>\n      <td>Fixed-term</td>\n      <td>Part-time</td>\n      <td>Other</td>\n      <td>2020/21</td>\n      <td>Neither teaching nor research</td>\n      <td>0</td>\n    </tr>\n    <tr>\n      <th>67924</th>\n      <td>Total academic staff</td>\n      <td>Non-European Union</td>\n      <td>Fixed-term</td>\n      <td>Part-time</td>\n      <td>Other</td>\n      <td>2020/21</td>\n      <td>Total</td>\n      <td>20</td>\n    </tr>\n    <tr>\n      <th>...</th>\n      <td>...</td>\n      <td>...</td>\n      <td>...</td>\n      <td>...</td>\n      <td>...</td>\n      <td>...</td>\n      <td>...</td>\n      <td>...</td>\n    </tr>\n    <tr>\n      <th>68015</th>\n      <td>Total academic staff</td>\n      <td>UK</td>\n      <td>Open-ended/Permanent</td>\n      <td>Part-time</td>\n      <td>Other</td>\n      <td>2020/21</td>\n      <td>Teaching only</td>\n      <td>20</td>\n    </tr>\n    <tr>\n      <th>68016</th>\n      <td>Total academic staff</td>\n      <td>UK</td>\n      <td>Open-ended/Permanent</td>\n      <td>Part-time</td>\n      <td>Other</td>\n      <td>2020/21</td>\n      <td>Research only</td>\n      <td>0</td>\n    </tr>\n    <tr>\n      <th>68017</th>\n      <td>Total academic staff</td>\n      <td>UK</td>\n      <td>Open-ended/Permanent</td>\n      <td>Part-time</td>\n      <td>Other</td>\n      <td>2020/21</td>\n      <td>Both teaching and research</td>\n      <td>25</td>\n    </tr>\n    <tr>\n      <th>68018</th>\n      <td>Total academic staff</td>\n      <td>UK</td>\n      <td>Open-ended/Permanent</td>\n      <td>Part-time</td>\n      <td>Other</td>\n      <td>2020/21</td>\n      <td>Neither teaching nor research</td>\n      <td>0</td>\n    </tr>\n    <tr>\n      <th>68019</th>\n      <td>Total academic staff</td>\n      <td>UK</td>\n      <td>Open-ended/Permanent</td>\n      <td>Part-time</td>\n      <td>Other</td>\n      <td>2020/21</td>\n      <td>Total</td>\n      <td>45</td>\n    </tr>\n  </tbody>\n</table>\n<p>100 rows × 8 columns</p>\n</div>"
     },
     "execution_count": 11,
     "metadata": {},
     "output_type": "execute_result"
    }
   ],
   "source": [
    "df_copy.tail(100)"
   ]
  },
  {
   "cell_type": "code",
   "execution_count": 12,
   "id": "88915d45-ad59-4efe-89ad-3e66f190023b",
   "metadata": {
    "pycharm": {
     "name": "#%%\n"
    }
   },
   "outputs": [
    {
     "data": {
      "text/plain": "                  Ethnicity Nationality marker   Terms of employment  \\\n68012  Total academic staff                 UK            Fixed-term   \n68014  Total academic staff                 UK            Fixed-term   \n68015  Total academic staff                 UK  Open-ended/Permanent   \n68017  Total academic staff                 UK  Open-ended/Permanent   \n68019  Total academic staff                 UK  Open-ended/Permanent   \n\n      Mode of employment    Sex Academic year Academic employment function  \\\n68012          Part-time  Other       2020/21   Both teaching and research   \n68014          Part-time  Other       2020/21                        Total   \n68015          Part-time  Other       2020/21                Teaching only   \n68017          Part-time  Other       2020/21   Both teaching and research   \n68019          Part-time  Other       2020/21                        Total   \n\n       Number  \n68012       5  \n68014      35  \n68015      20  \n68017      25  \n68019      45  ",
      "text/html": "<div>\n<style scoped>\n    .dataframe tbody tr th:only-of-type {\n        vertical-align: middle;\n    }\n\n    .dataframe tbody tr th {\n        vertical-align: top;\n    }\n\n    .dataframe thead th {\n        text-align: right;\n    }\n</style>\n<table border=\"1\" class=\"dataframe\">\n  <thead>\n    <tr style=\"text-align: right;\">\n      <th></th>\n      <th>Ethnicity</th>\n      <th>Nationality marker</th>\n      <th>Terms of employment</th>\n      <th>Mode of employment</th>\n      <th>Sex</th>\n      <th>Academic year</th>\n      <th>Academic employment function</th>\n      <th>Number</th>\n    </tr>\n  </thead>\n  <tbody>\n    <tr>\n      <th>68012</th>\n      <td>Total academic staff</td>\n      <td>UK</td>\n      <td>Fixed-term</td>\n      <td>Part-time</td>\n      <td>Other</td>\n      <td>2020/21</td>\n      <td>Both teaching and research</td>\n      <td>5</td>\n    </tr>\n    <tr>\n      <th>68014</th>\n      <td>Total academic staff</td>\n      <td>UK</td>\n      <td>Fixed-term</td>\n      <td>Part-time</td>\n      <td>Other</td>\n      <td>2020/21</td>\n      <td>Total</td>\n      <td>35</td>\n    </tr>\n    <tr>\n      <th>68015</th>\n      <td>Total academic staff</td>\n      <td>UK</td>\n      <td>Open-ended/Permanent</td>\n      <td>Part-time</td>\n      <td>Other</td>\n      <td>2020/21</td>\n      <td>Teaching only</td>\n      <td>20</td>\n    </tr>\n    <tr>\n      <th>68017</th>\n      <td>Total academic staff</td>\n      <td>UK</td>\n      <td>Open-ended/Permanent</td>\n      <td>Part-time</td>\n      <td>Other</td>\n      <td>2020/21</td>\n      <td>Both teaching and research</td>\n      <td>25</td>\n    </tr>\n    <tr>\n      <th>68019</th>\n      <td>Total academic staff</td>\n      <td>UK</td>\n      <td>Open-ended/Permanent</td>\n      <td>Part-time</td>\n      <td>Other</td>\n      <td>2020/21</td>\n      <td>Total</td>\n      <td>45</td>\n    </tr>\n  </tbody>\n</table>\n</div>"
     },
     "execution_count": 12,
     "metadata": {},
     "output_type": "execute_result"
    }
   ],
   "source": [
    "#remove rows where the Number column is zero\n",
    "df_copy = df_copy[df_copy.Number !=0]\n",
    "df_copy.tail()"
   ]
  },
  {
   "cell_type": "code",
   "execution_count": 13,
   "id": "5c68d675-684b-45d7-a098-e193c1ad6372",
   "metadata": {
    "pycharm": {
     "name": "#%%\n"
    }
   },
   "outputs": [],
   "source": [
    "#remove whitespace from every string in the dataframe\n",
    "def whitespace_remove(dataframe):\n",
    "    for i in dataframe.columns:\n",
    "        if dataframe[i].dtype == 'object':\n",
    "            dataframe[i] = dataframe[i].map(str.strip)\n",
    "        else:\n",
    "            pass"
   ]
  },
  {
   "cell_type": "code",
   "execution_count": 14,
   "id": "e0804e12-49e2-4965-92f7-218aa04490cd",
   "metadata": {
    "pycharm": {
     "name": "#%%\n"
    }
   },
   "outputs": [],
   "source": [
    "whitespace_remove(df_copy)"
   ]
  },
  {
   "cell_type": "code",
   "execution_count": 15,
   "id": "ac29e10c-b610-42ba-8861-b018fd81c814",
   "metadata": {
    "pycharm": {
     "name": "#%%\n"
    }
   },
   "outputs": [
    {
     "data": {
      "text/plain": "       Ethnicity Nationality marker Terms of employment Mode of employment  \\\n62509  Not known                 UK                 All          Part-time   \n62510  Not known                 UK                 All          Part-time   \n62511  Not known                 UK                 All          Part-time   \n62512  Not known                 UK                 All          Part-time   \n62514  Not known                 UK                 All          Part-time   \n\n         Sex Academic year Academic employment function  Number  \n62509  Other       2019/20                        Total      40  \n62510  Other       2020/21                Teaching only      20  \n62511  Other       2020/21                Research only       5  \n62512  Other       2020/21   Both teaching and research       5  \n62514  Other       2020/21                        Total      35  ",
      "text/html": "<div>\n<style scoped>\n    .dataframe tbody tr th:only-of-type {\n        vertical-align: middle;\n    }\n\n    .dataframe tbody tr th {\n        vertical-align: top;\n    }\n\n    .dataframe thead th {\n        text-align: right;\n    }\n</style>\n<table border=\"1\" class=\"dataframe\">\n  <thead>\n    <tr style=\"text-align: right;\">\n      <th></th>\n      <th>Ethnicity</th>\n      <th>Nationality marker</th>\n      <th>Terms of employment</th>\n      <th>Mode of employment</th>\n      <th>Sex</th>\n      <th>Academic year</th>\n      <th>Academic employment function</th>\n      <th>Number</th>\n    </tr>\n  </thead>\n  <tbody>\n    <tr>\n      <th>62509</th>\n      <td>Not known</td>\n      <td>UK</td>\n      <td>All</td>\n      <td>Part-time</td>\n      <td>Other</td>\n      <td>2019/20</td>\n      <td>Total</td>\n      <td>40</td>\n    </tr>\n    <tr>\n      <th>62510</th>\n      <td>Not known</td>\n      <td>UK</td>\n      <td>All</td>\n      <td>Part-time</td>\n      <td>Other</td>\n      <td>2020/21</td>\n      <td>Teaching only</td>\n      <td>20</td>\n    </tr>\n    <tr>\n      <th>62511</th>\n      <td>Not known</td>\n      <td>UK</td>\n      <td>All</td>\n      <td>Part-time</td>\n      <td>Other</td>\n      <td>2020/21</td>\n      <td>Research only</td>\n      <td>5</td>\n    </tr>\n    <tr>\n      <th>62512</th>\n      <td>Not known</td>\n      <td>UK</td>\n      <td>All</td>\n      <td>Part-time</td>\n      <td>Other</td>\n      <td>2020/21</td>\n      <td>Both teaching and research</td>\n      <td>5</td>\n    </tr>\n    <tr>\n      <th>62514</th>\n      <td>Not known</td>\n      <td>UK</td>\n      <td>All</td>\n      <td>Part-time</td>\n      <td>Other</td>\n      <td>2020/21</td>\n      <td>Total</td>\n      <td>35</td>\n    </tr>\n  </tbody>\n</table>\n</div>"
     },
     "execution_count": 15,
     "metadata": {},
     "output_type": "execute_result"
    }
   ],
   "source": [
    "#remove rows that have \"total academic staff\" in ethnicity column\n",
    "df_copy = df_copy[df_copy['Ethnicity'].str.contains(\"Total academic staff\")==False]\n",
    "df_copy.tail()"
   ]
  },
  {
   "cell_type": "code",
   "execution_count": 16,
   "id": "4d8c9061-94e2-455e-8983-28fc2f2f74ce",
   "metadata": {
    "pycharm": {
     "name": "#%%\n"
    }
   },
   "outputs": [
    {
     "data": {
      "text/plain": "       Ethnicity Nationality marker Terms of employment Mode of employment  \\\n62506  Not known                 UK                 All          Part-time   \n62507  Not known                 UK                 All          Part-time   \n62510  Not known                 UK                 All          Part-time   \n62511  Not known                 UK                 All          Part-time   \n62512  Not known                 UK                 All          Part-time   \n\n         Sex Academic year Academic employment function  Number  \n62506  Other       2019/20                Research only       5  \n62507  Other       2019/20   Both teaching and research      10  \n62510  Other       2020/21                Teaching only      20  \n62511  Other       2020/21                Research only       5  \n62512  Other       2020/21   Both teaching and research       5  ",
      "text/html": "<div>\n<style scoped>\n    .dataframe tbody tr th:only-of-type {\n        vertical-align: middle;\n    }\n\n    .dataframe tbody tr th {\n        vertical-align: top;\n    }\n\n    .dataframe thead th {\n        text-align: right;\n    }\n</style>\n<table border=\"1\" class=\"dataframe\">\n  <thead>\n    <tr style=\"text-align: right;\">\n      <th></th>\n      <th>Ethnicity</th>\n      <th>Nationality marker</th>\n      <th>Terms of employment</th>\n      <th>Mode of employment</th>\n      <th>Sex</th>\n      <th>Academic year</th>\n      <th>Academic employment function</th>\n      <th>Number</th>\n    </tr>\n  </thead>\n  <tbody>\n    <tr>\n      <th>62506</th>\n      <td>Not known</td>\n      <td>UK</td>\n      <td>All</td>\n      <td>Part-time</td>\n      <td>Other</td>\n      <td>2019/20</td>\n      <td>Research only</td>\n      <td>5</td>\n    </tr>\n    <tr>\n      <th>62507</th>\n      <td>Not known</td>\n      <td>UK</td>\n      <td>All</td>\n      <td>Part-time</td>\n      <td>Other</td>\n      <td>2019/20</td>\n      <td>Both teaching and research</td>\n      <td>10</td>\n    </tr>\n    <tr>\n      <th>62510</th>\n      <td>Not known</td>\n      <td>UK</td>\n      <td>All</td>\n      <td>Part-time</td>\n      <td>Other</td>\n      <td>2020/21</td>\n      <td>Teaching only</td>\n      <td>20</td>\n    </tr>\n    <tr>\n      <th>62511</th>\n      <td>Not known</td>\n      <td>UK</td>\n      <td>All</td>\n      <td>Part-time</td>\n      <td>Other</td>\n      <td>2020/21</td>\n      <td>Research only</td>\n      <td>5</td>\n    </tr>\n    <tr>\n      <th>62512</th>\n      <td>Not known</td>\n      <td>UK</td>\n      <td>All</td>\n      <td>Part-time</td>\n      <td>Other</td>\n      <td>2020/21</td>\n      <td>Both teaching and research</td>\n      <td>5</td>\n    </tr>\n  </tbody>\n</table>\n</div>"
     },
     "execution_count": 16,
     "metadata": {},
     "output_type": "execute_result"
    }
   ],
   "source": [
    "#Remove rows that have the value \"total\" in Academic employment function\n",
    "df_copy = df_copy[df_copy['Academic employment function'].str.contains(\"Total\")==False]\n",
    "df_copy.tail()"
   ]
  },
  {
   "cell_type": "code",
   "execution_count": 17,
   "id": "2c953668-d806-44ea-860a-bd8cf3058de9",
   "metadata": {
    "pycharm": {
     "name": "#%%\n"
    }
   },
   "outputs": [
    {
     "data": {
      "text/plain": "array(['White', 'Black or Black British - Caribbean',\n       'Black or Black British - African', 'Other Black background',\n       'Asian or Asian British - Indian',\n       'Asian or Asian British - Pakistani',\n       'Asian or Asian British - Bangladeshi', 'Chinese',\n       'Other Asian background', 'Mixed', 'Other',\n       'Total of known ethnicity', 'Not known'], dtype=object)"
     },
     "execution_count": 17,
     "metadata": {},
     "output_type": "execute_result"
    }
   ],
   "source": [
    "#Find the unique values in each column\n",
    "df_copy['Ethnicity'].unique()"
   ]
  },
  {
   "cell_type": "code",
   "execution_count": 18,
   "id": "4efc6abf-6eec-49ad-bfc6-f3952c033323",
   "metadata": {
    "pycharm": {
     "name": "#%%\n"
    }
   },
   "outputs": [
    {
     "data": {
      "text/plain": "       Ethnicity Nationality marker Terms of employment Mode of employment  \\\n62506  Not known                 UK                 All          Part-time   \n62507  Not known                 UK                 All          Part-time   \n62510  Not known                 UK                 All          Part-time   \n62511  Not known                 UK                 All          Part-time   \n62512  Not known                 UK                 All          Part-time   \n\n         Sex Academic year Academic employment function  Number  \n62506  Other       2019/20                Research only       5  \n62507  Other       2019/20   Both teaching and research      10  \n62510  Other       2020/21                Teaching only      20  \n62511  Other       2020/21                Research only       5  \n62512  Other       2020/21   Both teaching and research       5  ",
      "text/html": "<div>\n<style scoped>\n    .dataframe tbody tr th:only-of-type {\n        vertical-align: middle;\n    }\n\n    .dataframe tbody tr th {\n        vertical-align: top;\n    }\n\n    .dataframe thead th {\n        text-align: right;\n    }\n</style>\n<table border=\"1\" class=\"dataframe\">\n  <thead>\n    <tr style=\"text-align: right;\">\n      <th></th>\n      <th>Ethnicity</th>\n      <th>Nationality marker</th>\n      <th>Terms of employment</th>\n      <th>Mode of employment</th>\n      <th>Sex</th>\n      <th>Academic year</th>\n      <th>Academic employment function</th>\n      <th>Number</th>\n    </tr>\n  </thead>\n  <tbody>\n    <tr>\n      <th>62506</th>\n      <td>Not known</td>\n      <td>UK</td>\n      <td>All</td>\n      <td>Part-time</td>\n      <td>Other</td>\n      <td>2019/20</td>\n      <td>Research only</td>\n      <td>5</td>\n    </tr>\n    <tr>\n      <th>62507</th>\n      <td>Not known</td>\n      <td>UK</td>\n      <td>All</td>\n      <td>Part-time</td>\n      <td>Other</td>\n      <td>2019/20</td>\n      <td>Both teaching and research</td>\n      <td>10</td>\n    </tr>\n    <tr>\n      <th>62510</th>\n      <td>Not known</td>\n      <td>UK</td>\n      <td>All</td>\n      <td>Part-time</td>\n      <td>Other</td>\n      <td>2020/21</td>\n      <td>Teaching only</td>\n      <td>20</td>\n    </tr>\n    <tr>\n      <th>62511</th>\n      <td>Not known</td>\n      <td>UK</td>\n      <td>All</td>\n      <td>Part-time</td>\n      <td>Other</td>\n      <td>2020/21</td>\n      <td>Research only</td>\n      <td>5</td>\n    </tr>\n    <tr>\n      <th>62512</th>\n      <td>Not known</td>\n      <td>UK</td>\n      <td>All</td>\n      <td>Part-time</td>\n      <td>Other</td>\n      <td>2020/21</td>\n      <td>Both teaching and research</td>\n      <td>5</td>\n    </tr>\n  </tbody>\n</table>\n</div>"
     },
     "execution_count": 18,
     "metadata": {},
     "output_type": "execute_result"
    }
   ],
   "source": [
    "#remove the row \"total of known ethnicity\" in Ethnicity column\n",
    "df_copy = df_copy[df_copy['Ethnicity'].str.contains(\"Total of known ethnicity\")==False]\n",
    "df_copy.tail()"
   ]
  },
  {
   "cell_type": "code",
   "execution_count": 19,
   "id": "c2050b70-aa07-4f58-96c1-8a8af9af98dc",
   "metadata": {
    "pycharm": {
     "name": "#%%\n"
    }
   },
   "outputs": [
    {
     "data": {
      "text/plain": "array(['White', 'Black or Black British - Caribbean',\n       'Black or Black British - African', 'Other Black background',\n       'Asian or Asian British - Indian',\n       'Asian or Asian British - Pakistani',\n       'Asian or Asian British - Bangladeshi', 'Chinese',\n       'Other Asian background', 'Mixed', 'Other', 'Not known'],\n      dtype=object)"
     },
     "execution_count": 19,
     "metadata": {},
     "output_type": "execute_result"
    }
   ],
   "source": [
    "df_copy['Ethnicity'].unique()"
   ]
  },
  {
   "cell_type": "code",
   "execution_count": 20,
   "id": "e39163d8-0f8a-4c98-b911-9e11a484cd44",
   "metadata": {
    "pycharm": {
     "name": "#%%\n"
    }
   },
   "outputs": [
    {
     "data": {
      "text/plain": "array(['European Union', 'Non-European Union', 'Not known', 'UK', 'All'],\n      dtype=object)"
     },
     "execution_count": 20,
     "metadata": {},
     "output_type": "execute_result"
    }
   ],
   "source": [
    "df_copy['Nationality marker'].unique()"
   ]
  },
  {
   "cell_type": "code",
   "execution_count": 21,
   "id": "6961ef39-2ce0-44af-9941-2dc1b2242dc7",
   "metadata": {
    "pycharm": {
     "name": "#%%\n"
    }
   },
   "outputs": [
    {
     "data": {
      "text/plain": "array(['Fixed-term', 'Open-ended/Permanent', 'All'], dtype=object)"
     },
     "execution_count": 21,
     "metadata": {},
     "output_type": "execute_result"
    }
   ],
   "source": [
    "df_copy['Terms of employment'].unique()"
   ]
  },
  {
   "cell_type": "code",
   "execution_count": 22,
   "id": "be248bc4-3a21-4c95-97ec-bec1c4542495",
   "metadata": {
    "pycharm": {
     "name": "#%%\n"
    }
   },
   "outputs": [
    {
     "data": {
      "text/plain": "array(['Full-time', 'Part-time', 'All'], dtype=object)"
     },
     "execution_count": 22,
     "metadata": {},
     "output_type": "execute_result"
    }
   ],
   "source": [
    "df_copy['Mode of employment'].unique()"
   ]
  },
  {
   "cell_type": "code",
   "execution_count": 23,
   "id": "cf5b6973-17e3-40e8-bf6e-8f59908ba631",
   "metadata": {
    "pycharm": {
     "name": "#%%\n"
    }
   },
   "outputs": [
    {
     "data": {
      "text/plain": "array(['Female', 'Male', 'Other', 'All'], dtype=object)"
     },
     "execution_count": 23,
     "metadata": {},
     "output_type": "execute_result"
    }
   ],
   "source": [
    "df_copy['Sex'].unique()"
   ]
  },
  {
   "cell_type": "code",
   "execution_count": 24,
   "id": "2c1c819d-a61a-4af1-a490-26f360a711d1",
   "metadata": {
    "pycharm": {
     "name": "#%%\n"
    }
   },
   "outputs": [
    {
     "data": {
      "text/plain": "array(['2014/15', '2015/16', '2016/17', '2017/18', '2018/19', '2019/20',\n       '2020/21'], dtype=object)"
     },
     "execution_count": 24,
     "metadata": {},
     "output_type": "execute_result"
    }
   ],
   "source": [
    "df_copy['Academic year'].unique()"
   ]
  },
  {
   "cell_type": "code",
   "execution_count": 25,
   "id": "91d24111-360e-459c-a0fc-aa275276b693",
   "metadata": {
    "pycharm": {
     "name": "#%%\n"
    }
   },
   "outputs": [
    {
     "data": {
      "text/plain": "array(['Teaching only', 'Research only', 'Both teaching and research',\n       'Neither teaching nor research'], dtype=object)"
     },
     "execution_count": 25,
     "metadata": {},
     "output_type": "execute_result"
    }
   ],
   "source": [
    "df_copy['Academic employment function'].unique()"
   ]
  },
  {
   "cell_type": "code",
   "execution_count": 26,
   "id": "67051424-d40f-4312-94aa-bc7b3c8b0742",
   "metadata": {
    "pycharm": {
     "name": "#%%\n"
    }
   },
   "outputs": [
    {
     "data": {
      "text/plain": "       Ethnicity Nationality marker Terms of employment Mode of employment  \\\n62506  Not known                 UK                 All          Part-time   \n62507  Not known                 UK                 All          Part-time   \n62510  Not known                 UK                 All          Part-time   \n62511  Not known                 UK                 All          Part-time   \n62512  Not known                 UK                 All          Part-time   \n\n         Sex Academic year Academic employment function  Number  \n62506  Other       2019/20                Research only       5  \n62507  Other       2019/20   Both teaching and research      10  \n62510  Other       2020/21                Teaching only      20  \n62511  Other       2020/21                Research only       5  \n62512  Other       2020/21   Both teaching and research       5  ",
      "text/html": "<div>\n<style scoped>\n    .dataframe tbody tr th:only-of-type {\n        vertical-align: middle;\n    }\n\n    .dataframe tbody tr th {\n        vertical-align: top;\n    }\n\n    .dataframe thead th {\n        text-align: right;\n    }\n</style>\n<table border=\"1\" class=\"dataframe\">\n  <thead>\n    <tr style=\"text-align: right;\">\n      <th></th>\n      <th>Ethnicity</th>\n      <th>Nationality marker</th>\n      <th>Terms of employment</th>\n      <th>Mode of employment</th>\n      <th>Sex</th>\n      <th>Academic year</th>\n      <th>Academic employment function</th>\n      <th>Number</th>\n    </tr>\n  </thead>\n  <tbody>\n    <tr>\n      <th>62506</th>\n      <td>Not known</td>\n      <td>UK</td>\n      <td>All</td>\n      <td>Part-time</td>\n      <td>Other</td>\n      <td>2019/20</td>\n      <td>Research only</td>\n      <td>5</td>\n    </tr>\n    <tr>\n      <th>62507</th>\n      <td>Not known</td>\n      <td>UK</td>\n      <td>All</td>\n      <td>Part-time</td>\n      <td>Other</td>\n      <td>2019/20</td>\n      <td>Both teaching and research</td>\n      <td>10</td>\n    </tr>\n    <tr>\n      <th>62510</th>\n      <td>Not known</td>\n      <td>UK</td>\n      <td>All</td>\n      <td>Part-time</td>\n      <td>Other</td>\n      <td>2020/21</td>\n      <td>Teaching only</td>\n      <td>20</td>\n    </tr>\n    <tr>\n      <th>62511</th>\n      <td>Not known</td>\n      <td>UK</td>\n      <td>All</td>\n      <td>Part-time</td>\n      <td>Other</td>\n      <td>2020/21</td>\n      <td>Research only</td>\n      <td>5</td>\n    </tr>\n    <tr>\n      <th>62512</th>\n      <td>Not known</td>\n      <td>UK</td>\n      <td>All</td>\n      <td>Part-time</td>\n      <td>Other</td>\n      <td>2020/21</td>\n      <td>Both teaching and research</td>\n      <td>5</td>\n    </tr>\n  </tbody>\n</table>\n</div>"
     },
     "execution_count": 26,
     "metadata": {},
     "output_type": "execute_result"
    }
   ],
   "source": [
    "#delete rows with the value 'All'\n",
    "df_copy = df_copy[df_copy['Nationality marker'].str.contains(\"All\")==False]\n",
    "df_copy.tail()"
   ]
  },
  {
   "cell_type": "code",
   "execution_count": 27,
   "id": "d00b88d1-7f53-42e6-932f-bdfcd7e6de50",
   "metadata": {
    "pycharm": {
     "name": "#%%\n"
    }
   },
   "outputs": [
    {
     "data": {
      "text/plain": "       Ethnicity Nationality marker   Terms of employment Mode of employment  \\\n59933  Not known                 UK            Fixed-term          Part-time   \n59935  Not known                 UK  Open-ended/Permanent          Part-time   \n59936  Not known                 UK  Open-ended/Permanent          Part-time   \n59937  Not known                 UK  Open-ended/Permanent          Part-time   \n59938  Not known                 UK  Open-ended/Permanent          Part-time   \n\n       Sex Academic year   Academic employment function  Number  \n59933  All       2020/21  Neither teaching nor research      15  \n59935  All       2020/21                  Teaching only    1560  \n59936  All       2020/21                  Research only     235  \n59937  All       2020/21     Both teaching and research     590  \n59938  All       2020/21  Neither teaching nor research      10  ",
      "text/html": "<div>\n<style scoped>\n    .dataframe tbody tr th:only-of-type {\n        vertical-align: middle;\n    }\n\n    .dataframe tbody tr th {\n        vertical-align: top;\n    }\n\n    .dataframe thead th {\n        text-align: right;\n    }\n</style>\n<table border=\"1\" class=\"dataframe\">\n  <thead>\n    <tr style=\"text-align: right;\">\n      <th></th>\n      <th>Ethnicity</th>\n      <th>Nationality marker</th>\n      <th>Terms of employment</th>\n      <th>Mode of employment</th>\n      <th>Sex</th>\n      <th>Academic year</th>\n      <th>Academic employment function</th>\n      <th>Number</th>\n    </tr>\n  </thead>\n  <tbody>\n    <tr>\n      <th>59933</th>\n      <td>Not known</td>\n      <td>UK</td>\n      <td>Fixed-term</td>\n      <td>Part-time</td>\n      <td>All</td>\n      <td>2020/21</td>\n      <td>Neither teaching nor research</td>\n      <td>15</td>\n    </tr>\n    <tr>\n      <th>59935</th>\n      <td>Not known</td>\n      <td>UK</td>\n      <td>Open-ended/Permanent</td>\n      <td>Part-time</td>\n      <td>All</td>\n      <td>2020/21</td>\n      <td>Teaching only</td>\n      <td>1560</td>\n    </tr>\n    <tr>\n      <th>59936</th>\n      <td>Not known</td>\n      <td>UK</td>\n      <td>Open-ended/Permanent</td>\n      <td>Part-time</td>\n      <td>All</td>\n      <td>2020/21</td>\n      <td>Research only</td>\n      <td>235</td>\n    </tr>\n    <tr>\n      <th>59937</th>\n      <td>Not known</td>\n      <td>UK</td>\n      <td>Open-ended/Permanent</td>\n      <td>Part-time</td>\n      <td>All</td>\n      <td>2020/21</td>\n      <td>Both teaching and research</td>\n      <td>590</td>\n    </tr>\n    <tr>\n      <th>59938</th>\n      <td>Not known</td>\n      <td>UK</td>\n      <td>Open-ended/Permanent</td>\n      <td>Part-time</td>\n      <td>All</td>\n      <td>2020/21</td>\n      <td>Neither teaching nor research</td>\n      <td>10</td>\n    </tr>\n  </tbody>\n</table>\n</div>"
     },
     "execution_count": 27,
     "metadata": {},
     "output_type": "execute_result"
    }
   ],
   "source": [
    "df_copy = df_copy[df_copy['Terms of employment'].str.contains(\"All\")==False]\n",
    "df_copy.tail()"
   ]
  },
  {
   "cell_type": "code",
   "execution_count": 28,
   "id": "620b7256-3859-4243-873c-9074d2fcb1dd",
   "metadata": {
    "pycharm": {
     "name": "#%%\n"
    }
   },
   "outputs": [
    {
     "data": {
      "text/plain": "       Ethnicity Nationality marker   Terms of employment Mode of employment  \\\n59933  Not known                 UK            Fixed-term          Part-time   \n59935  Not known                 UK  Open-ended/Permanent          Part-time   \n59936  Not known                 UK  Open-ended/Permanent          Part-time   \n59937  Not known                 UK  Open-ended/Permanent          Part-time   \n59938  Not known                 UK  Open-ended/Permanent          Part-time   \n\n       Sex Academic year   Academic employment function  Number  \n59933  All       2020/21  Neither teaching nor research      15  \n59935  All       2020/21                  Teaching only    1560  \n59936  All       2020/21                  Research only     235  \n59937  All       2020/21     Both teaching and research     590  \n59938  All       2020/21  Neither teaching nor research      10  ",
      "text/html": "<div>\n<style scoped>\n    .dataframe tbody tr th:only-of-type {\n        vertical-align: middle;\n    }\n\n    .dataframe tbody tr th {\n        vertical-align: top;\n    }\n\n    .dataframe thead th {\n        text-align: right;\n    }\n</style>\n<table border=\"1\" class=\"dataframe\">\n  <thead>\n    <tr style=\"text-align: right;\">\n      <th></th>\n      <th>Ethnicity</th>\n      <th>Nationality marker</th>\n      <th>Terms of employment</th>\n      <th>Mode of employment</th>\n      <th>Sex</th>\n      <th>Academic year</th>\n      <th>Academic employment function</th>\n      <th>Number</th>\n    </tr>\n  </thead>\n  <tbody>\n    <tr>\n      <th>59933</th>\n      <td>Not known</td>\n      <td>UK</td>\n      <td>Fixed-term</td>\n      <td>Part-time</td>\n      <td>All</td>\n      <td>2020/21</td>\n      <td>Neither teaching nor research</td>\n      <td>15</td>\n    </tr>\n    <tr>\n      <th>59935</th>\n      <td>Not known</td>\n      <td>UK</td>\n      <td>Open-ended/Permanent</td>\n      <td>Part-time</td>\n      <td>All</td>\n      <td>2020/21</td>\n      <td>Teaching only</td>\n      <td>1560</td>\n    </tr>\n    <tr>\n      <th>59936</th>\n      <td>Not known</td>\n      <td>UK</td>\n      <td>Open-ended/Permanent</td>\n      <td>Part-time</td>\n      <td>All</td>\n      <td>2020/21</td>\n      <td>Research only</td>\n      <td>235</td>\n    </tr>\n    <tr>\n      <th>59937</th>\n      <td>Not known</td>\n      <td>UK</td>\n      <td>Open-ended/Permanent</td>\n      <td>Part-time</td>\n      <td>All</td>\n      <td>2020/21</td>\n      <td>Both teaching and research</td>\n      <td>590</td>\n    </tr>\n    <tr>\n      <th>59938</th>\n      <td>Not known</td>\n      <td>UK</td>\n      <td>Open-ended/Permanent</td>\n      <td>Part-time</td>\n      <td>All</td>\n      <td>2020/21</td>\n      <td>Neither teaching nor research</td>\n      <td>10</td>\n    </tr>\n  </tbody>\n</table>\n</div>"
     },
     "execution_count": 28,
     "metadata": {},
     "output_type": "execute_result"
    }
   ],
   "source": [
    "df_copy = df_copy[df_copy['Mode of employment'].str.contains(\"All\")==False]\n",
    "df_copy.tail()"
   ]
  },
  {
   "cell_type": "code",
   "execution_count": 29,
   "id": "78d3cba8-9fcb-47af-a900-0245b05363c3",
   "metadata": {
    "pycharm": {
     "name": "#%%\n"
    }
   },
   "outputs": [
    {
     "data": {
      "text/plain": "       Ethnicity Nationality marker   Terms of employment Mode of employment  \\\n58390  Not known                 UK  Open-ended/Permanent          Full-time   \n58392  Not known                 UK  Open-ended/Permanent          Full-time   \n58397  Not known     European Union  Open-ended/Permanent          Part-time   \n58400  Not known                 UK  Open-ended/Permanent          Part-time   \n58402  Not known                 UK  Open-ended/Permanent          Part-time   \n\n         Sex Academic year Academic employment function  Number  \n58390  Other       2020/21                Teaching only       5  \n58392  Other       2020/21   Both teaching and research      30  \n58397  Other       2020/21   Both teaching and research       5  \n58400  Other       2020/21                Teaching only      10  \n58402  Other       2020/21   Both teaching and research       5  ",
      "text/html": "<div>\n<style scoped>\n    .dataframe tbody tr th:only-of-type {\n        vertical-align: middle;\n    }\n\n    .dataframe tbody tr th {\n        vertical-align: top;\n    }\n\n    .dataframe thead th {\n        text-align: right;\n    }\n</style>\n<table border=\"1\" class=\"dataframe\">\n  <thead>\n    <tr style=\"text-align: right;\">\n      <th></th>\n      <th>Ethnicity</th>\n      <th>Nationality marker</th>\n      <th>Terms of employment</th>\n      <th>Mode of employment</th>\n      <th>Sex</th>\n      <th>Academic year</th>\n      <th>Academic employment function</th>\n      <th>Number</th>\n    </tr>\n  </thead>\n  <tbody>\n    <tr>\n      <th>58390</th>\n      <td>Not known</td>\n      <td>UK</td>\n      <td>Open-ended/Permanent</td>\n      <td>Full-time</td>\n      <td>Other</td>\n      <td>2020/21</td>\n      <td>Teaching only</td>\n      <td>5</td>\n    </tr>\n    <tr>\n      <th>58392</th>\n      <td>Not known</td>\n      <td>UK</td>\n      <td>Open-ended/Permanent</td>\n      <td>Full-time</td>\n      <td>Other</td>\n      <td>2020/21</td>\n      <td>Both teaching and research</td>\n      <td>30</td>\n    </tr>\n    <tr>\n      <th>58397</th>\n      <td>Not known</td>\n      <td>European Union</td>\n      <td>Open-ended/Permanent</td>\n      <td>Part-time</td>\n      <td>Other</td>\n      <td>2020/21</td>\n      <td>Both teaching and research</td>\n      <td>5</td>\n    </tr>\n    <tr>\n      <th>58400</th>\n      <td>Not known</td>\n      <td>UK</td>\n      <td>Open-ended/Permanent</td>\n      <td>Part-time</td>\n      <td>Other</td>\n      <td>2020/21</td>\n      <td>Teaching only</td>\n      <td>10</td>\n    </tr>\n    <tr>\n      <th>58402</th>\n      <td>Not known</td>\n      <td>UK</td>\n      <td>Open-ended/Permanent</td>\n      <td>Part-time</td>\n      <td>Other</td>\n      <td>2020/21</td>\n      <td>Both teaching and research</td>\n      <td>5</td>\n    </tr>\n  </tbody>\n</table>\n</div>"
     },
     "execution_count": 29,
     "metadata": {},
     "output_type": "execute_result"
    }
   ],
   "source": [
    "df_copy = df_copy[df_copy['Sex'].str.contains(\"All\")==False]\n",
    "df_copy.tail()"
   ]
  },
  {
   "cell_type": "code",
   "execution_count": 30,
   "id": "4d090b5d-da5c-405d-90da-e567014b4389",
   "metadata": {
    "pycharm": {
     "name": "#%%\n"
    }
   },
   "outputs": [
    {
     "name": "stdout",
     "output_type": "stream",
     "text": [
      "<class 'pandas.core.frame.DataFrame'>\n",
      "Int64Index: 5348 entries, 0 to 58402\n",
      "Data columns (total 8 columns):\n",
      " #   Column                        Non-Null Count  Dtype \n",
      "---  ------                        --------------  ----- \n",
      " 0   Ethnicity                     5348 non-null   object\n",
      " 1   Nationality marker            5348 non-null   object\n",
      " 2   Terms of employment           5348 non-null   object\n",
      " 3   Mode of employment            5348 non-null   object\n",
      " 4   Sex                           5348 non-null   object\n",
      " 5   Academic year                 5348 non-null   object\n",
      " 6   Academic employment function  5348 non-null   object\n",
      " 7   Number                        5348 non-null   int64 \n",
      "dtypes: int64(1), object(7)\n",
      "memory usage: 376.0+ KB\n"
     ]
    }
   ],
   "source": [
    "df_copy.info()"
   ]
  },
  {
   "cell_type": "code",
   "execution_count": 31,
   "id": "d0313988-cda2-4b30-bdde-e5bdc7194d07",
   "metadata": {
    "pycharm": {
     "name": "#%%\n"
    }
   },
   "outputs": [],
   "source": [
    "df_copy.to_csv('clean_table_4.csv',index=False)"
   ]
  },
  {
   "cell_type": "code",
   "execution_count": 31,
   "id": "43fc8f5a-edbc-46c2-aeae-6d6bd7b22d3e",
   "metadata": {
    "pycharm": {
     "name": "#%%\n"
    }
   },
   "outputs": [],
   "source": []
  }
 ],
 "metadata": {
  "kernelspec": {
   "display_name": "Python 3 (ipykernel)",
   "language": "python",
   "name": "python3"
  },
  "language_info": {
   "codemirror_mode": {
    "name": "ipython",
    "version": 3
   },
   "file_extension": ".py",
   "mimetype": "text/x-python",
   "name": "python",
   "nbconvert_exporter": "python",
   "pygments_lexer": "ipython3",
   "version": "3.9.12"
  }
 },
 "nbformat": 4,
 "nbformat_minor": 5
}