{
 "cells": [
  {
   "cell_type": "markdown",
   "id": "e8729f15-9bc3-4328-8084-a65418cfed4a",
   "metadata": {
    "pycharm": {
     "name": "#%% md\n"
    }
   },
   "source": [
    "## This is to clean table_27 csv file"
   ]
  },
  {
   "cell_type": "code",
   "execution_count": 19,
   "id": "36121747-1358-43fe-aff4-5bea692cef0b",
   "metadata": {
    "pycharm": {
     "name": "#%%\n"
    }
   },
   "outputs": [],
   "source": [
    "import pandas as pd\n",
    "import numpy as np"
   ]
  },
  {
   "cell_type": "code",
   "execution_count": 20,
   "id": "a10362f4-ed87-4a07-b1a4-f51aeb6bed96",
   "metadata": {
    "pycharm": {
     "name": "#%%\n"
    }
   },
   "outputs": [
    {
     "data": {
      "text/plain": "  Category Marker      Category Country of HE Provider  \\\n0       Age Group  25 and under                England   \n1       Age Group  25 and under                England   \n2       Age Group  25 and under                England   \n3       Age Group  25 and under                England   \n4       Age Group  25 and under                England   \n\n  Academic contract marker     Activity standard occupational classification  \\\n0        Academic contract          Managers, directors and senior officials   \n1        Academic contract                          Professional occupations   \n2        Academic contract  Associate professional and technical occupations   \n3        Academic contract                   Clerical and manual occupations   \n4        Academic contract                              Total academic staff   \n\n   Number Academic Year  \n0       0       2014/15  \n1    4245       2014/15  \n2      60       2014/15  \n3       0       2014/15  \n4    4305       2014/15  ",
      "text/html": "<div>\n<style scoped>\n    .dataframe tbody tr th:only-of-type {\n        vertical-align: middle;\n    }\n\n    .dataframe tbody tr th {\n        vertical-align: top;\n    }\n\n    .dataframe thead th {\n        text-align: right;\n    }\n</style>\n<table border=\"1\" class=\"dataframe\">\n  <thead>\n    <tr style=\"text-align: right;\">\n      <th></th>\n      <th>Category Marker</th>\n      <th>Category</th>\n      <th>Country of HE Provider</th>\n      <th>Academic contract marker</th>\n      <th>Activity standard occupational classification</th>\n      <th>Number</th>\n      <th>Academic Year</th>\n    </tr>\n  </thead>\n  <tbody>\n    <tr>\n      <th>0</th>\n      <td>Age Group</td>\n      <td>25 and under</td>\n      <td>England</td>\n      <td>Academic contract</td>\n      <td>Managers, directors and senior officials</td>\n      <td>0</td>\n      <td>2014/15</td>\n    </tr>\n    <tr>\n      <th>1</th>\n      <td>Age Group</td>\n      <td>25 and under</td>\n      <td>England</td>\n      <td>Academic contract</td>\n      <td>Professional occupations</td>\n      <td>4245</td>\n      <td>2014/15</td>\n    </tr>\n    <tr>\n      <th>2</th>\n      <td>Age Group</td>\n      <td>25 and under</td>\n      <td>England</td>\n      <td>Academic contract</td>\n      <td>Associate professional and technical occupations</td>\n      <td>60</td>\n      <td>2014/15</td>\n    </tr>\n    <tr>\n      <th>3</th>\n      <td>Age Group</td>\n      <td>25 and under</td>\n      <td>England</td>\n      <td>Academic contract</td>\n      <td>Clerical and manual occupations</td>\n      <td>0</td>\n      <td>2014/15</td>\n    </tr>\n    <tr>\n      <th>4</th>\n      <td>Age Group</td>\n      <td>25 and under</td>\n      <td>England</td>\n      <td>Academic contract</td>\n      <td>Total academic staff</td>\n      <td>4305</td>\n      <td>2014/15</td>\n    </tr>\n  </tbody>\n</table>\n</div>"
     },
     "execution_count": 20,
     "metadata": {},
     "output_type": "execute_result"
    }
   ],
   "source": [
    "df = pd.read_csv('table_27.csv', low_memory=False)\n",
    "df.head()"
   ]
  },
  {
   "cell_type": "code",
   "execution_count": 21,
   "id": "25e60071-2454-4e5d-b473-9d04cb269203",
   "metadata": {
    "pycharm": {
     "name": "#%%\n"
    }
   },
   "outputs": [],
   "source": [
    "df_copy =df.copy()"
   ]
  },
  {
   "cell_type": "code",
   "execution_count": 22,
   "id": "41bd0824-bdd5-46fe-b9c0-513332ea47bb",
   "metadata": {
    "pycharm": {
     "name": "#%%\n"
    }
   },
   "outputs": [
    {
     "data": {
      "text/plain": "      Category Marker Category Country of HE Provider  \\\n11290           Total    Total                    All   \n11291           Total    Total                    All   \n11292           Total    Total                    All   \n11293           Total    Total                    All   \n11294           Total    Total                    All   \n\n      Academic contract marker  Activity standard occupational classification  \\\n11290    Non-academic contract  Caring, leisure and other service occupations   \n11291    Non-academic contract         Sales and customer service occupations   \n11292    Non-academic contract          Process, plant and machine operatives   \n11293    Non-academic contract                         Elementary occupations   \n11294    Non-academic contract                       Total non-academic staff   \n\n       Number Academic Year  \n11290    6200       2020/21  \n11291    1665       2020/21  \n11292    1280       2020/21  \n11293   19745       2020/21  \n11294  191440       2020/21  ",
      "text/html": "<div>\n<style scoped>\n    .dataframe tbody tr th:only-of-type {\n        vertical-align: middle;\n    }\n\n    .dataframe tbody tr th {\n        vertical-align: top;\n    }\n\n    .dataframe thead th {\n        text-align: right;\n    }\n</style>\n<table border=\"1\" class=\"dataframe\">\n  <thead>\n    <tr style=\"text-align: right;\">\n      <th></th>\n      <th>Category Marker</th>\n      <th>Category</th>\n      <th>Country of HE Provider</th>\n      <th>Academic contract marker</th>\n      <th>Activity standard occupational classification</th>\n      <th>Number</th>\n      <th>Academic Year</th>\n    </tr>\n  </thead>\n  <tbody>\n    <tr>\n      <th>11290</th>\n      <td>Total</td>\n      <td>Total</td>\n      <td>All</td>\n      <td>Non-academic contract</td>\n      <td>Caring, leisure and other service occupations</td>\n      <td>6200</td>\n      <td>2020/21</td>\n    </tr>\n    <tr>\n      <th>11291</th>\n      <td>Total</td>\n      <td>Total</td>\n      <td>All</td>\n      <td>Non-academic contract</td>\n      <td>Sales and customer service occupations</td>\n      <td>1665</td>\n      <td>2020/21</td>\n    </tr>\n    <tr>\n      <th>11292</th>\n      <td>Total</td>\n      <td>Total</td>\n      <td>All</td>\n      <td>Non-academic contract</td>\n      <td>Process, plant and machine operatives</td>\n      <td>1280</td>\n      <td>2020/21</td>\n    </tr>\n    <tr>\n      <th>11293</th>\n      <td>Total</td>\n      <td>Total</td>\n      <td>All</td>\n      <td>Non-academic contract</td>\n      <td>Elementary occupations</td>\n      <td>19745</td>\n      <td>2020/21</td>\n    </tr>\n    <tr>\n      <th>11294</th>\n      <td>Total</td>\n      <td>Total</td>\n      <td>All</td>\n      <td>Non-academic contract</td>\n      <td>Total non-academic staff</td>\n      <td>191440</td>\n      <td>2020/21</td>\n    </tr>\n  </tbody>\n</table>\n</div>"
     },
     "execution_count": 22,
     "metadata": {},
     "output_type": "execute_result"
    }
   ],
   "source": [
    "df_copy.tail()"
   ]
  },
  {
   "cell_type": "code",
   "execution_count": 23,
   "id": "fd84f01a-3cdd-469c-a10c-912b3cc23673",
   "metadata": {
    "pycharm": {
     "name": "#%%\n"
    }
   },
   "outputs": [
    {
     "data": {
      "text/plain": "Category Marker                                  0\nCategory                                         0\nCountry of HE Provider                           0\nAcademic contract marker                         0\nActivity standard occupational classification    0\nNumber                                           0\nAcademic Year                                    0\ndtype: int64"
     },
     "execution_count": 23,
     "metadata": {},
     "output_type": "execute_result"
    }
   ],
   "source": [
    "df_copy.isnull().sum()"
   ]
  },
  {
   "cell_type": "code",
   "execution_count": 24,
   "id": "d331e4c6-97f1-476b-a988-7af950335586",
   "metadata": {
    "pycharm": {
     "name": "#%%\n"
    }
   },
   "outputs": [
    {
     "data": {
      "text/plain": "Category Marker                                  object\nCategory                                         object\nCountry of HE Provider                           object\nAcademic contract marker                         object\nActivity standard occupational classification    object\nNumber                                            int64\nAcademic Year                                    object\ndtype: object"
     },
     "execution_count": 24,
     "metadata": {},
     "output_type": "execute_result"
    }
   ],
   "source": [
    "df_copy.dtypes"
   ]
  },
  {
   "cell_type": "code",
   "execution_count": 25,
   "id": "8164aa53-538f-4140-82a4-6664e0f52cb3",
   "metadata": {
    "pycharm": {
     "name": "#%%\n"
    }
   },
   "outputs": [
    {
     "data": {
      "text/plain": "0"
     },
     "execution_count": 25,
     "metadata": {},
     "output_type": "execute_result"
    }
   ],
   "source": [
    "#check for duplicates\n",
    "df_copy.duplicated().sum()"
   ]
  },
  {
   "cell_type": "code",
   "execution_count": 26,
   "id": "f1cd91f7-9c5a-4f74-8fc2-967ae8c0ec12",
   "metadata": {
    "pycharm": {
     "name": "#%%\n"
    }
   },
   "outputs": [
    {
     "data": {
      "text/plain": "      Category Marker Category Country of HE Provider  \\\n11290           Total    Total                    All   \n11291           Total    Total                    All   \n11292           Total    Total                    All   \n11293           Total    Total                    All   \n11294           Total    Total                    All   \n\n      Academic contract marker  Activity standard occupational classification  \\\n11290    Non-academic contract  Caring, leisure and other service occupations   \n11291    Non-academic contract         Sales and customer service occupations   \n11292    Non-academic contract          Process, plant and machine operatives   \n11293    Non-academic contract                         Elementary occupations   \n11294    Non-academic contract                       Total non-academic staff   \n\n       Number Academic Year  \n11290    6200       2020/21  \n11291    1665       2020/21  \n11292    1280       2020/21  \n11293   19745       2020/21  \n11294  191440       2020/21  ",
      "text/html": "<div>\n<style scoped>\n    .dataframe tbody tr th:only-of-type {\n        vertical-align: middle;\n    }\n\n    .dataframe tbody tr th {\n        vertical-align: top;\n    }\n\n    .dataframe thead th {\n        text-align: right;\n    }\n</style>\n<table border=\"1\" class=\"dataframe\">\n  <thead>\n    <tr style=\"text-align: right;\">\n      <th></th>\n      <th>Category Marker</th>\n      <th>Category</th>\n      <th>Country of HE Provider</th>\n      <th>Academic contract marker</th>\n      <th>Activity standard occupational classification</th>\n      <th>Number</th>\n      <th>Academic Year</th>\n    </tr>\n  </thead>\n  <tbody>\n    <tr>\n      <th>11290</th>\n      <td>Total</td>\n      <td>Total</td>\n      <td>All</td>\n      <td>Non-academic contract</td>\n      <td>Caring, leisure and other service occupations</td>\n      <td>6200</td>\n      <td>2020/21</td>\n    </tr>\n    <tr>\n      <th>11291</th>\n      <td>Total</td>\n      <td>Total</td>\n      <td>All</td>\n      <td>Non-academic contract</td>\n      <td>Sales and customer service occupations</td>\n      <td>1665</td>\n      <td>2020/21</td>\n    </tr>\n    <tr>\n      <th>11292</th>\n      <td>Total</td>\n      <td>Total</td>\n      <td>All</td>\n      <td>Non-academic contract</td>\n      <td>Process, plant and machine operatives</td>\n      <td>1280</td>\n      <td>2020/21</td>\n    </tr>\n    <tr>\n      <th>11293</th>\n      <td>Total</td>\n      <td>Total</td>\n      <td>All</td>\n      <td>Non-academic contract</td>\n      <td>Elementary occupations</td>\n      <td>19745</td>\n      <td>2020/21</td>\n    </tr>\n    <tr>\n      <th>11294</th>\n      <td>Total</td>\n      <td>Total</td>\n      <td>All</td>\n      <td>Non-academic contract</td>\n      <td>Total non-academic staff</td>\n      <td>191440</td>\n      <td>2020/21</td>\n    </tr>\n  </tbody>\n</table>\n</div>"
     },
     "execution_count": 26,
     "metadata": {},
     "output_type": "execute_result"
    }
   ],
   "source": [
    "#remove rows that have zero\n",
    "df_copy = df_copy[df_copy.Number !=0]\n",
    "df_copy.tail()"
   ]
  },
  {
   "cell_type": "code",
   "execution_count": 27,
   "id": "8f41dd11-aae6-40ca-a5d9-6e4d22f4a816",
   "metadata": {
    "pycharm": {
     "name": "#%%\n"
    }
   },
   "outputs": [
    {
     "data": {
      "text/plain": "      Category Marker Category Country of HE Provider  \\\n10756             Sex    Other                    All   \n10759             Sex    Other                    All   \n10760             Sex    Other                    All   \n10761             Sex    Other                    All   \n10762             Sex    Other                    All   \n10763             Sex    Other                    All   \n10765             Sex    Other                    All   \n10768             Sex    Other                    All   \n10769             Sex    Other                    All   \n\n      Academic contract marker  \\\n10756        Academic contract   \n10759        Academic contract   \n10760    Non-academic contract   \n10761    Non-academic contract   \n10762    Non-academic contract   \n10763    Non-academic contract   \n10765    Non-academic contract   \n10768    Non-academic contract   \n10769    Non-academic contract   \n\n           Activity standard occupational classification  Number Academic Year  \n10756                           Professional occupations     390       2020/21  \n10759                               Total academic staff     390       2020/21  \n10760          Managers, directors and senior officials       10       2020/21  \n10761                          Professional occupations       80       2020/21  \n10762  Associate professional and technical occupations       70       2020/21  \n10763         Administrative and secretarial occupations     105       2020/21  \n10765      Caring, leisure and other service occupations       5       2020/21  \n10768                             Elementary occupations      15       2020/21  \n10769                           Total non-academic staff     290       2020/21  ",
      "text/html": "<div>\n<style scoped>\n    .dataframe tbody tr th:only-of-type {\n        vertical-align: middle;\n    }\n\n    .dataframe tbody tr th {\n        vertical-align: top;\n    }\n\n    .dataframe thead th {\n        text-align: right;\n    }\n</style>\n<table border=\"1\" class=\"dataframe\">\n  <thead>\n    <tr style=\"text-align: right;\">\n      <th></th>\n      <th>Category Marker</th>\n      <th>Category</th>\n      <th>Country of HE Provider</th>\n      <th>Academic contract marker</th>\n      <th>Activity standard occupational classification</th>\n      <th>Number</th>\n      <th>Academic Year</th>\n    </tr>\n  </thead>\n  <tbody>\n    <tr>\n      <th>10756</th>\n      <td>Sex</td>\n      <td>Other</td>\n      <td>All</td>\n      <td>Academic contract</td>\n      <td>Professional occupations</td>\n      <td>390</td>\n      <td>2020/21</td>\n    </tr>\n    <tr>\n      <th>10759</th>\n      <td>Sex</td>\n      <td>Other</td>\n      <td>All</td>\n      <td>Academic contract</td>\n      <td>Total academic staff</td>\n      <td>390</td>\n      <td>2020/21</td>\n    </tr>\n    <tr>\n      <th>10760</th>\n      <td>Sex</td>\n      <td>Other</td>\n      <td>All</td>\n      <td>Non-academic contract</td>\n      <td>Managers, directors and senior officials</td>\n      <td>10</td>\n      <td>2020/21</td>\n    </tr>\n    <tr>\n      <th>10761</th>\n      <td>Sex</td>\n      <td>Other</td>\n      <td>All</td>\n      <td>Non-academic contract</td>\n      <td>Professional occupations</td>\n      <td>80</td>\n      <td>2020/21</td>\n    </tr>\n    <tr>\n      <th>10762</th>\n      <td>Sex</td>\n      <td>Other</td>\n      <td>All</td>\n      <td>Non-academic contract</td>\n      <td>Associate professional and technical occupations</td>\n      <td>70</td>\n      <td>2020/21</td>\n    </tr>\n    <tr>\n      <th>10763</th>\n      <td>Sex</td>\n      <td>Other</td>\n      <td>All</td>\n      <td>Non-academic contract</td>\n      <td>Administrative and secretarial occupations</td>\n      <td>105</td>\n      <td>2020/21</td>\n    </tr>\n    <tr>\n      <th>10765</th>\n      <td>Sex</td>\n      <td>Other</td>\n      <td>All</td>\n      <td>Non-academic contract</td>\n      <td>Caring, leisure and other service occupations</td>\n      <td>5</td>\n      <td>2020/21</td>\n    </tr>\n    <tr>\n      <th>10768</th>\n      <td>Sex</td>\n      <td>Other</td>\n      <td>All</td>\n      <td>Non-academic contract</td>\n      <td>Elementary occupations</td>\n      <td>15</td>\n      <td>2020/21</td>\n    </tr>\n    <tr>\n      <th>10769</th>\n      <td>Sex</td>\n      <td>Other</td>\n      <td>All</td>\n      <td>Non-academic contract</td>\n      <td>Total non-academic staff</td>\n      <td>290</td>\n      <td>2020/21</td>\n    </tr>\n  </tbody>\n</table>\n</div>"
     },
     "execution_count": 27,
     "metadata": {},
     "output_type": "execute_result"
    }
   ],
   "source": [
    "#remove rows that have the string \"total\"\n",
    "df_copy = df_copy[df_copy['Category Marker'].str.contains(\"Total\")==False]\n",
    "df_copy.tail(9)"
   ]
  },
  {
   "cell_type": "code",
   "execution_count": 28,
   "id": "66b4d0d9-e63e-44d0-9175-54fa6a9a0bcf",
   "metadata": {
    "pycharm": {
     "name": "#%%\n"
    }
   },
   "outputs": [
    {
     "name": "stdout",
     "output_type": "stream",
     "text": [
      "<class 'pandas.core.frame.DataFrame'>\n",
      "Int64Index: 8864 entries, 1 to 10769\n",
      "Data columns (total 7 columns):\n",
      " #   Column                                         Non-Null Count  Dtype \n",
      "---  ------                                         --------------  ----- \n",
      " 0   Category Marker                                8864 non-null   object\n",
      " 1   Category                                       8864 non-null   object\n",
      " 2   Country of HE Provider                         8864 non-null   object\n",
      " 3   Academic contract marker                       8864 non-null   object\n",
      " 4   Activity standard occupational classification  8864 non-null   object\n",
      " 5   Number                                         8864 non-null   int64 \n",
      " 6   Academic Year                                  8864 non-null   object\n",
      "dtypes: int64(1), object(6)\n",
      "memory usage: 554.0+ KB\n"
     ]
    }
   ],
   "source": [
    "df_copy.info()"
   ]
  },
  {
   "cell_type": "code",
   "execution_count": 29,
   "id": "e072c897-aa6f-44b5-b780-e6adf3f4c629",
   "metadata": {
    "pycharm": {
     "name": "#%%\n"
    }
   },
   "outputs": [
    {
     "data": {
      "text/plain": "              Number\ncount    8864.000000\nmean     6631.892486\nstd     22550.727580\nmin         5.000000\n25%        45.000000\n50%       320.000000\n75%      2485.000000\nmax    213145.000000",
      "text/html": "<div>\n<style scoped>\n    .dataframe tbody tr th:only-of-type {\n        vertical-align: middle;\n    }\n\n    .dataframe tbody tr th {\n        vertical-align: top;\n    }\n\n    .dataframe thead th {\n        text-align: right;\n    }\n</style>\n<table border=\"1\" class=\"dataframe\">\n  <thead>\n    <tr style=\"text-align: right;\">\n      <th></th>\n      <th>Number</th>\n    </tr>\n  </thead>\n  <tbody>\n    <tr>\n      <th>count</th>\n      <td>8864.000000</td>\n    </tr>\n    <tr>\n      <th>mean</th>\n      <td>6631.892486</td>\n    </tr>\n    <tr>\n      <th>std</th>\n      <td>22550.727580</td>\n    </tr>\n    <tr>\n      <th>min</th>\n      <td>5.000000</td>\n    </tr>\n    <tr>\n      <th>25%</th>\n      <td>45.000000</td>\n    </tr>\n    <tr>\n      <th>50%</th>\n      <td>320.000000</td>\n    </tr>\n    <tr>\n      <th>75%</th>\n      <td>2485.000000</td>\n    </tr>\n    <tr>\n      <th>max</th>\n      <td>213145.000000</td>\n    </tr>\n  </tbody>\n</table>\n</div>"
     },
     "execution_count": 29,
     "metadata": {},
     "output_type": "execute_result"
    }
   ],
   "source": [
    "df_copy.describe()"
   ]
  },
  {
   "cell_type": "code",
   "execution_count": 30,
   "id": "87e110b8-8773-4fb0-91e0-d15f028622f0",
   "metadata": {
    "pycharm": {
     "name": "#%%\n"
    }
   },
   "outputs": [
    {
     "data": {
      "text/plain": "array(['Age Group', 'Disability status', 'Ethnicity', 'Nationality',\n       'Sex'], dtype=object)"
     },
     "execution_count": 30,
     "metadata": {},
     "output_type": "execute_result"
    }
   ],
   "source": [
    "#check for unique values in category marker column\n",
    "df_copy['Category Marker'].unique()"
   ]
  },
  {
   "cell_type": "code",
   "execution_count": 31,
   "id": "8d53d347-ae84-4f8d-9c39-1cbe60b88757",
   "metadata": {
    "pycharm": {
     "name": "#%%\n"
    }
   },
   "outputs": [
    {
     "data": {
      "text/plain": "array(['25 and under', '26-35', '36-45', '46-55', '56-65', '66 and over',\n       'Known to have a disability', 'No known disability', 'White',\n       'Black', 'Asian', 'Mixed', 'Other', 'Not known', 'UK',\n       'European Union', 'Non-European Union', 'Female', 'Male'],\n      dtype=object)"
     },
     "execution_count": 31,
     "metadata": {},
     "output_type": "execute_result"
    }
   ],
   "source": [
    "#check for unique values in category column\n",
    "df_copy['Category'].unique()"
   ]
  },
  {
   "cell_type": "code",
   "execution_count": 32,
   "id": "66c51112-496b-4d1e-a94b-60edb4e1e5c7",
   "metadata": {
    "pycharm": {
     "name": "#%%\n"
    }
   },
   "outputs": [
    {
     "data": {
      "text/plain": "array(['England', 'Northern Ireland', 'Scotland', 'Wales', 'All'],\n      dtype=object)"
     },
     "execution_count": 32,
     "metadata": {},
     "output_type": "execute_result"
    }
   ],
   "source": [
    "df_copy['Country of HE Provider'].unique()"
   ]
  },
  {
   "cell_type": "code",
   "execution_count": 33,
   "id": "50a524e0-1eab-4ebf-88ec-c76042702fe7",
   "metadata": {
    "pycharm": {
     "name": "#%%\n"
    }
   },
   "outputs": [
    {
     "data": {
      "text/plain": "array(['Academic contract', 'Non-academic contract'], dtype=object)"
     },
     "execution_count": 33,
     "metadata": {},
     "output_type": "execute_result"
    }
   ],
   "source": [
    "df_copy['Academic contract marker'].unique()"
   ]
  },
  {
   "cell_type": "code",
   "execution_count": 34,
   "id": "d0641eec-426b-4da4-9c84-9a7c67cb70ba",
   "metadata": {
    "pycharm": {
     "name": "#%%\n"
    }
   },
   "outputs": [
    {
     "data": {
      "text/plain": "array(['Professional occupations',\n       'Associate professional and technical occupations',\n       'Total academic staff',\n       'Managers, directors and senior officials ',\n       'Professional occupations ',\n       'Associate professional and technical occupations ',\n       'Administrative and secretarial occupations',\n       'Skilled trades occupations',\n       'Caring, leisure and other service occupations',\n       'Sales and customer service occupations',\n       'Process, plant and machine operatives', 'Elementary occupations',\n       'Total non-academic staff',\n       'Managers, directors and senior officials',\n       'Clerical and manual occupations'], dtype=object)"
     },
     "execution_count": 34,
     "metadata": {},
     "output_type": "execute_result"
    }
   ],
   "source": [
    "df_copy['Activity standard occupational classification'].unique()"
   ]
  },
  {
   "cell_type": "code",
   "execution_count": 35,
   "id": "3605e33a-4880-4906-82df-30811813359c",
   "metadata": {
    "pycharm": {
     "name": "#%%\n"
    }
   },
   "outputs": [],
   "source": [
    "#Delete rows that contain values \"Total academic staff\" and \"Total non-academic staff\"\n",
    "df_copy = df_copy[df_copy['Activity standard occupational classification'].str.contains(\"Total academic staff|Total non-academic staff\")==False]"
   ]
  },
  {
   "cell_type": "code",
   "execution_count": 36,
   "id": "906a200d-621d-4cc8-9d46-b79581b7848e",
   "metadata": {
    "pycharm": {
     "name": "#%%\n"
    }
   },
   "outputs": [
    {
     "data": {
      "text/plain": "array(['Professional occupations',\n       'Associate professional and technical occupations',\n       'Managers, directors and senior officials ',\n       'Professional occupations ',\n       'Associate professional and technical occupations ',\n       'Administrative and secretarial occupations',\n       'Skilled trades occupations',\n       'Caring, leisure and other service occupations',\n       'Sales and customer service occupations',\n       'Process, plant and machine operatives', 'Elementary occupations',\n       'Managers, directors and senior officials',\n       'Clerical and manual occupations'], dtype=object)"
     },
     "execution_count": 36,
     "metadata": {},
     "output_type": "execute_result"
    }
   ],
   "source": [
    "df_copy['Activity standard occupational classification'].unique()"
   ]
  },
  {
   "cell_type": "code",
   "execution_count": 37,
   "id": "a432c86f-0ab7-48a6-8989-07b5edca7d08",
   "metadata": {
    "pycharm": {
     "name": "#%%\n"
    }
   },
   "outputs": [],
   "source": [
    "#remove whitespace from every string in the dataframe\n",
    "def whitespace_remove(dataframe):\n",
    "    for i in dataframe.columns:\n",
    "        if dataframe[i].dtype == 'object':\n",
    "            dataframe[i] = dataframe[i].map(str.strip)\n",
    "        else:\n",
    "            pass"
   ]
  },
  {
   "cell_type": "code",
   "execution_count": 38,
   "id": "55ef8ef3-138d-403c-826b-027f077800a5",
   "metadata": {
    "pycharm": {
     "name": "#%%\n"
    }
   },
   "outputs": [],
   "source": [
    "whitespace_remove(df_copy)"
   ]
  },
  {
   "cell_type": "code",
   "execution_count": 39,
   "id": "6ffbe4e9-69cd-4a7e-83b9-d77b00bbf468",
   "metadata": {
    "pycharm": {
     "name": "#%%\n"
    }
   },
   "outputs": [
    {
     "data": {
      "text/plain": "array(['Professional occupations',\n       'Associate professional and technical occupations',\n       'Managers, directors and senior officials',\n       'Administrative and secretarial occupations',\n       'Skilled trades occupations',\n       'Caring, leisure and other service occupations',\n       'Sales and customer service occupations',\n       'Process, plant and machine operatives', 'Elementary occupations',\n       'Clerical and manual occupations'], dtype=object)"
     },
     "execution_count": 39,
     "metadata": {},
     "output_type": "execute_result"
    }
   ],
   "source": [
    "df_copy['Activity standard occupational classification'].unique()"
   ]
  },
  {
   "cell_type": "code",
   "execution_count": 40,
   "id": "6737eae1-a06d-429c-92b6-1b7b92086a0b",
   "metadata": {
    "pycharm": {
     "name": "#%%\n"
    }
   },
   "outputs": [
    {
     "data": {
      "text/plain": "  Category Marker      Category Country of HE Provider  \\\n1       Age Group  25 and under                England   \n2       Age Group  25 and under                England   \n5       Age Group  25 and under                England   \n6       Age Group  25 and under                England   \n7       Age Group  25 and under                England   \n\n  Academic contract marker     Activity standard occupational classification  \\\n1        Academic contract                          Professional occupations   \n2        Academic contract  Associate professional and technical occupations   \n5    Non-academic contract          Managers, directors and senior officials   \n6    Non-academic contract                          Professional occupations   \n7    Non-academic contract  Associate professional and technical occupations   \n\n   Number Academic Year  \n1    4245       2014/15  \n2      60       2014/15  \n5      45       2014/15  \n6    1160       2014/15  \n7    3560       2014/15  ",
      "text/html": "<div>\n<style scoped>\n    .dataframe tbody tr th:only-of-type {\n        vertical-align: middle;\n    }\n\n    .dataframe tbody tr th {\n        vertical-align: top;\n    }\n\n    .dataframe thead th {\n        text-align: right;\n    }\n</style>\n<table border=\"1\" class=\"dataframe\">\n  <thead>\n    <tr style=\"text-align: right;\">\n      <th></th>\n      <th>Category Marker</th>\n      <th>Category</th>\n      <th>Country of HE Provider</th>\n      <th>Academic contract marker</th>\n      <th>Activity standard occupational classification</th>\n      <th>Number</th>\n      <th>Academic Year</th>\n    </tr>\n  </thead>\n  <tbody>\n    <tr>\n      <th>1</th>\n      <td>Age Group</td>\n      <td>25 and under</td>\n      <td>England</td>\n      <td>Academic contract</td>\n      <td>Professional occupations</td>\n      <td>4245</td>\n      <td>2014/15</td>\n    </tr>\n    <tr>\n      <th>2</th>\n      <td>Age Group</td>\n      <td>25 and under</td>\n      <td>England</td>\n      <td>Academic contract</td>\n      <td>Associate professional and technical occupations</td>\n      <td>60</td>\n      <td>2014/15</td>\n    </tr>\n    <tr>\n      <th>5</th>\n      <td>Age Group</td>\n      <td>25 and under</td>\n      <td>England</td>\n      <td>Non-academic contract</td>\n      <td>Managers, directors and senior officials</td>\n      <td>45</td>\n      <td>2014/15</td>\n    </tr>\n    <tr>\n      <th>6</th>\n      <td>Age Group</td>\n      <td>25 and under</td>\n      <td>England</td>\n      <td>Non-academic contract</td>\n      <td>Professional occupations</td>\n      <td>1160</td>\n      <td>2014/15</td>\n    </tr>\n    <tr>\n      <th>7</th>\n      <td>Age Group</td>\n      <td>25 and under</td>\n      <td>England</td>\n      <td>Non-academic contract</td>\n      <td>Associate professional and technical occupations</td>\n      <td>3560</td>\n      <td>2014/15</td>\n    </tr>\n  </tbody>\n</table>\n</div>"
     },
     "execution_count": 40,
     "metadata": {},
     "output_type": "execute_result"
    }
   ],
   "source": [
    "df_copy.head()"
   ]
  },
  {
   "cell_type": "code",
   "execution_count": 41,
   "id": "046b570f-4efb-452f-91c0-088dfbb89c35",
   "metadata": {
    "pycharm": {
     "name": "#%%\n"
    }
   },
   "outputs": [
    {
     "data": {
      "text/plain": "      Category Marker Category Country of HE Provider  \\\n10761             Sex    Other                    All   \n10762             Sex    Other                    All   \n10763             Sex    Other                    All   \n10765             Sex    Other                    All   \n10768             Sex    Other                    All   \n\n      Academic contract marker  \\\n10761    Non-academic contract   \n10762    Non-academic contract   \n10763    Non-academic contract   \n10765    Non-academic contract   \n10768    Non-academic contract   \n\n          Activity standard occupational classification  Number Academic Year  \n10761                          Professional occupations      80       2020/21  \n10762  Associate professional and technical occupations      70       2020/21  \n10763        Administrative and secretarial occupations     105       2020/21  \n10765     Caring, leisure and other service occupations       5       2020/21  \n10768                            Elementary occupations      15       2020/21  ",
      "text/html": "<div>\n<style scoped>\n    .dataframe tbody tr th:only-of-type {\n        vertical-align: middle;\n    }\n\n    .dataframe tbody tr th {\n        vertical-align: top;\n    }\n\n    .dataframe thead th {\n        text-align: right;\n    }\n</style>\n<table border=\"1\" class=\"dataframe\">\n  <thead>\n    <tr style=\"text-align: right;\">\n      <th></th>\n      <th>Category Marker</th>\n      <th>Category</th>\n      <th>Country of HE Provider</th>\n      <th>Academic contract marker</th>\n      <th>Activity standard occupational classification</th>\n      <th>Number</th>\n      <th>Academic Year</th>\n    </tr>\n  </thead>\n  <tbody>\n    <tr>\n      <th>10761</th>\n      <td>Sex</td>\n      <td>Other</td>\n      <td>All</td>\n      <td>Non-academic contract</td>\n      <td>Professional occupations</td>\n      <td>80</td>\n      <td>2020/21</td>\n    </tr>\n    <tr>\n      <th>10762</th>\n      <td>Sex</td>\n      <td>Other</td>\n      <td>All</td>\n      <td>Non-academic contract</td>\n      <td>Associate professional and technical occupations</td>\n      <td>70</td>\n      <td>2020/21</td>\n    </tr>\n    <tr>\n      <th>10763</th>\n      <td>Sex</td>\n      <td>Other</td>\n      <td>All</td>\n      <td>Non-academic contract</td>\n      <td>Administrative and secretarial occupations</td>\n      <td>105</td>\n      <td>2020/21</td>\n    </tr>\n    <tr>\n      <th>10765</th>\n      <td>Sex</td>\n      <td>Other</td>\n      <td>All</td>\n      <td>Non-academic contract</td>\n      <td>Caring, leisure and other service occupations</td>\n      <td>5</td>\n      <td>2020/21</td>\n    </tr>\n    <tr>\n      <th>10768</th>\n      <td>Sex</td>\n      <td>Other</td>\n      <td>All</td>\n      <td>Non-academic contract</td>\n      <td>Elementary occupations</td>\n      <td>15</td>\n      <td>2020/21</td>\n    </tr>\n  </tbody>\n</table>\n</div>"
     },
     "execution_count": 41,
     "metadata": {},
     "output_type": "execute_result"
    }
   ],
   "source": [
    "df_copy.tail()"
   ]
  },
  {
   "cell_type": "code",
   "execution_count": 42,
   "id": "50f27886-464d-4495-96ed-8c612b6f9a9f",
   "metadata": {
    "pycharm": {
     "name": "#%%\n"
    }
   },
   "outputs": [
    {
     "data": {
      "text/plain": "      Category Marker Category Country of HE Provider  \\\n10641             Sex    Other                England   \n10642             Sex    Other                England   \n10643             Sex    Other                England   \n10645             Sex    Other                England   \n10648             Sex    Other                England   \n10658             Sex    Other       Northern Ireland   \n10666             Sex    Other               Scotland   \n10672             Sex    Other               Scotland   \n10681             Sex    Other                  Wales   \n\n      Academic contract marker  \\\n10641    Non-academic contract   \n10642    Non-academic contract   \n10643    Non-academic contract   \n10645    Non-academic contract   \n10648    Non-academic contract   \n10658    Non-academic contract   \n10666        Academic contract   \n10672    Non-academic contract   \n10681        Academic contract   \n\n          Activity standard occupational classification  Number Academic Year  \n10641                          Professional occupations      80       2020/21  \n10642  Associate professional and technical occupations      70       2020/21  \n10643        Administrative and secretarial occupations      95       2020/21  \n10645     Caring, leisure and other service occupations       5       2020/21  \n10648                            Elementary occupations      15       2020/21  \n10658        Administrative and secretarial occupations       5       2020/21  \n10666                          Professional occupations      10       2020/21  \n10672  Associate professional and technical occupations       5       2020/21  \n10681                          Professional occupations      15       2020/21  ",
      "text/html": "<div>\n<style scoped>\n    .dataframe tbody tr th:only-of-type {\n        vertical-align: middle;\n    }\n\n    .dataframe tbody tr th {\n        vertical-align: top;\n    }\n\n    .dataframe thead th {\n        text-align: right;\n    }\n</style>\n<table border=\"1\" class=\"dataframe\">\n  <thead>\n    <tr style=\"text-align: right;\">\n      <th></th>\n      <th>Category Marker</th>\n      <th>Category</th>\n      <th>Country of HE Provider</th>\n      <th>Academic contract marker</th>\n      <th>Activity standard occupational classification</th>\n      <th>Number</th>\n      <th>Academic Year</th>\n    </tr>\n  </thead>\n  <tbody>\n    <tr>\n      <th>10641</th>\n      <td>Sex</td>\n      <td>Other</td>\n      <td>England</td>\n      <td>Non-academic contract</td>\n      <td>Professional occupations</td>\n      <td>80</td>\n      <td>2020/21</td>\n    </tr>\n    <tr>\n      <th>10642</th>\n      <td>Sex</td>\n      <td>Other</td>\n      <td>England</td>\n      <td>Non-academic contract</td>\n      <td>Associate professional and technical occupations</td>\n      <td>70</td>\n      <td>2020/21</td>\n    </tr>\n    <tr>\n      <th>10643</th>\n      <td>Sex</td>\n      <td>Other</td>\n      <td>England</td>\n      <td>Non-academic contract</td>\n      <td>Administrative and secretarial occupations</td>\n      <td>95</td>\n      <td>2020/21</td>\n    </tr>\n    <tr>\n      <th>10645</th>\n      <td>Sex</td>\n      <td>Other</td>\n      <td>England</td>\n      <td>Non-academic contract</td>\n      <td>Caring, leisure and other service occupations</td>\n      <td>5</td>\n      <td>2020/21</td>\n    </tr>\n    <tr>\n      <th>10648</th>\n      <td>Sex</td>\n      <td>Other</td>\n      <td>England</td>\n      <td>Non-academic contract</td>\n      <td>Elementary occupations</td>\n      <td>15</td>\n      <td>2020/21</td>\n    </tr>\n    <tr>\n      <th>10658</th>\n      <td>Sex</td>\n      <td>Other</td>\n      <td>Northern Ireland</td>\n      <td>Non-academic contract</td>\n      <td>Administrative and secretarial occupations</td>\n      <td>5</td>\n      <td>2020/21</td>\n    </tr>\n    <tr>\n      <th>10666</th>\n      <td>Sex</td>\n      <td>Other</td>\n      <td>Scotland</td>\n      <td>Academic contract</td>\n      <td>Professional occupations</td>\n      <td>10</td>\n      <td>2020/21</td>\n    </tr>\n    <tr>\n      <th>10672</th>\n      <td>Sex</td>\n      <td>Other</td>\n      <td>Scotland</td>\n      <td>Non-academic contract</td>\n      <td>Associate professional and technical occupations</td>\n      <td>5</td>\n      <td>2020/21</td>\n    </tr>\n    <tr>\n      <th>10681</th>\n      <td>Sex</td>\n      <td>Other</td>\n      <td>Wales</td>\n      <td>Academic contract</td>\n      <td>Professional occupations</td>\n      <td>15</td>\n      <td>2020/21</td>\n    </tr>\n  </tbody>\n</table>\n</div>"
     },
     "execution_count": 42,
     "metadata": {},
     "output_type": "execute_result"
    }
   ],
   "source": [
    "#remove the value all in country of HE provider\n",
    "df_copy = df_copy[df_copy['Country of HE Provider'].str.contains(\"All\")==False]\n",
    "df_copy.tail(9)"
   ]
  },
  {
   "cell_type": "code",
   "execution_count": 43,
   "id": "c0065c5a-92f1-41de-afb9-b432d205f347",
   "metadata": {
    "pycharm": {
     "name": "#%%\n"
    }
   },
   "outputs": [],
   "source": [
    "#Convert it to csv file\n",
    "df_copy.to_csv('clean_table_27.csv',index=False)"
   ]
  },
  {
   "cell_type": "code",
   "execution_count": 43,
   "id": "570ab670-4c18-47aa-a35e-bc2c31628a1b",
   "metadata": {
    "pycharm": {
     "name": "#%%\n"
    }
   },
   "outputs": [],
   "source": []
  }
 ],
 "metadata": {
  "kernelspec": {
   "display_name": "Python 3 (ipykernel)",
   "language": "python",
   "name": "python3"
  },
  "language_info": {
   "codemirror_mode": {
    "name": "ipython",
    "version": 3
   },
   "file_extension": ".py",
   "mimetype": "text/x-python",
   "name": "python",
   "nbconvert_exporter": "python",
   "pygments_lexer": "ipython3",
   "version": "3.9.12"
  }
 },
 "nbformat": 4,
 "nbformat_minor": 5
}