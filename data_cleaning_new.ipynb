{
 "cells": [
  {
   "cell_type": "code",
   "execution_count": 1,
   "metadata": {
    "collapsed": true,
    "pycharm": {
     "name": "#%%\n"
    }
   },
   "outputs": [],
   "source": [
    "import pandas as pd\n",
    "import numpy as np\n"
   ]
  },
  {
   "cell_type": "code",
   "execution_count": 2,
   "outputs": [],
   "source": [
    "df_2014 =pd.read_csv('table-2-(2014-15).csv', low_memory=False)\n",
    "df_2015 =pd.read_csv('table-2-(2015-16).csv', low_memory=False)\n",
    "df_2016 =pd.read_csv('table-2-(2016-17).csv', low_memory=False)\n",
    "df_2017 =pd.read_csv('table-2-(2017-18).csv',low_memory=False)\n",
    "df_2018 =pd.read_csv('table-2-(2018-19).csv',low_memory=False)\n",
    "df_2019 =pd.read_csv('table-2-(2019-20).csv',low_memory=False)\n",
    "df_2020 =pd.read_csv('table-2-(2020-21).csv',low_memory=False)"
   ],
   "metadata": {
    "collapsed": false,
    "pycharm": {
     "name": "#%%\n"
    }
   }
  },
  {
   "cell_type": "code",
   "execution_count": 3,
   "outputs": [
    {
     "data": {
      "text/plain": "        UKPRN                 HE Provider Country of HE provider  \\\n0  10007783.0  The University of Aberdeen               Scotland   \n1  10007783.0  The University of Aberdeen               Scotland   \n2  10007783.0  The University of Aberdeen               Scotland   \n3  10007783.0  The University of Aberdeen               Scotland   \n4  10007783.0  The University of Aberdeen               Scotland   \n\n  Region of HE provider   Terms of employment       Contract levels  \\\n0              Scotland  Open-ended/Permanent  Other contract level   \n1              Scotland  Open-ended/Permanent  Other contract level   \n2              Scotland  Open-ended/Permanent  Other contract level   \n3              Scotland  Open-ended/Permanent  Other contract level   \n4              Scotland  Open-ended/Permanent  Other contract level   \n\n  Atypical marker Contract marker Academic Year Category Marker Category  \\\n0    Non-atypical        Academic       2014/15           Total    Total   \n1    Non-atypical        Academic       2014/15       Ethnicity    White   \n2    Non-atypical        Academic       2014/15       Ethnicity    Black   \n3    Non-atypical        Academic       2014/15       Ethnicity    Asian   \n4    Non-atypical        Academic       2014/15       Ethnicity    Mixed   \n\n   Number  \n0  1345.0  \n1  1095.0  \n2    25.0  \n3   130.0  \n4    20.0  ",
      "text/html": "<div>\n<style scoped>\n    .dataframe tbody tr th:only-of-type {\n        vertical-align: middle;\n    }\n\n    .dataframe tbody tr th {\n        vertical-align: top;\n    }\n\n    .dataframe thead th {\n        text-align: right;\n    }\n</style>\n<table border=\"1\" class=\"dataframe\">\n  <thead>\n    <tr style=\"text-align: right;\">\n      <th></th>\n      <th>UKPRN</th>\n      <th>HE Provider</th>\n      <th>Country of HE provider</th>\n      <th>Region of HE provider</th>\n      <th>Terms of employment</th>\n      <th>Contract levels</th>\n      <th>Atypical marker</th>\n      <th>Contract marker</th>\n      <th>Academic Year</th>\n      <th>Category Marker</th>\n      <th>Category</th>\n      <th>Number</th>\n    </tr>\n  </thead>\n  <tbody>\n    <tr>\n      <th>0</th>\n      <td>10007783.0</td>\n      <td>The University of Aberdeen</td>\n      <td>Scotland</td>\n      <td>Scotland</td>\n      <td>Open-ended/Permanent</td>\n      <td>Other contract level</td>\n      <td>Non-atypical</td>\n      <td>Academic</td>\n      <td>2014/15</td>\n      <td>Total</td>\n      <td>Total</td>\n      <td>1345.0</td>\n    </tr>\n    <tr>\n      <th>1</th>\n      <td>10007783.0</td>\n      <td>The University of Aberdeen</td>\n      <td>Scotland</td>\n      <td>Scotland</td>\n      <td>Open-ended/Permanent</td>\n      <td>Other contract level</td>\n      <td>Non-atypical</td>\n      <td>Academic</td>\n      <td>2014/15</td>\n      <td>Ethnicity</td>\n      <td>White</td>\n      <td>1095.0</td>\n    </tr>\n    <tr>\n      <th>2</th>\n      <td>10007783.0</td>\n      <td>The University of Aberdeen</td>\n      <td>Scotland</td>\n      <td>Scotland</td>\n      <td>Open-ended/Permanent</td>\n      <td>Other contract level</td>\n      <td>Non-atypical</td>\n      <td>Academic</td>\n      <td>2014/15</td>\n      <td>Ethnicity</td>\n      <td>Black</td>\n      <td>25.0</td>\n    </tr>\n    <tr>\n      <th>3</th>\n      <td>10007783.0</td>\n      <td>The University of Aberdeen</td>\n      <td>Scotland</td>\n      <td>Scotland</td>\n      <td>Open-ended/Permanent</td>\n      <td>Other contract level</td>\n      <td>Non-atypical</td>\n      <td>Academic</td>\n      <td>2014/15</td>\n      <td>Ethnicity</td>\n      <td>Asian</td>\n      <td>130.0</td>\n    </tr>\n    <tr>\n      <th>4</th>\n      <td>10007783.0</td>\n      <td>The University of Aberdeen</td>\n      <td>Scotland</td>\n      <td>Scotland</td>\n      <td>Open-ended/Permanent</td>\n      <td>Other contract level</td>\n      <td>Non-atypical</td>\n      <td>Academic</td>\n      <td>2014/15</td>\n      <td>Ethnicity</td>\n      <td>Mixed</td>\n      <td>20.0</td>\n    </tr>\n  </tbody>\n</table>\n</div>"
     },
     "execution_count": 3,
     "metadata": {},
     "output_type": "execute_result"
    }
   ],
   "source": [
    "df_2014.head()"
   ],
   "metadata": {
    "collapsed": false,
    "pycharm": {
     "name": "#%%\n"
    }
   }
  },
  {
   "cell_type": "code",
   "execution_count": 4,
   "outputs": [
    {
     "data": {
      "text/plain": "        UKPRN                 HE Provider Country of HE provider  \\\n0  10007783.0  The University of Aberdeen               Scotland   \n1  10007783.0  The University of Aberdeen               Scotland   \n2  10007783.0  The University of Aberdeen               Scotland   \n3  10007783.0  The University of Aberdeen               Scotland   \n4  10007783.0  The University of Aberdeen               Scotland   \n\n  Region of HE provider   Terms of employment       Contract levels  \\\n0              Scotland  Open-ended/Permanent  Other contract level   \n1              Scotland  Open-ended/Permanent  Other contract level   \n2              Scotland  Open-ended/Permanent  Other contract level   \n3              Scotland  Open-ended/Permanent  Other contract level   \n4              Scotland  Open-ended/Permanent  Other contract level   \n\n  Atypical marker Contract marker Academic Year Category Marker Category  \\\n0    Non-atypical        Academic       2015/16           Total    Total   \n1    Non-atypical        Academic       2015/16       Ethnicity    White   \n2    Non-atypical        Academic       2015/16       Ethnicity    Black   \n3    Non-atypical        Academic       2015/16       Ethnicity    Asian   \n4    Non-atypical        Academic       2015/16       Ethnicity    Mixed   \n\n   Number  \n0  1270.0  \n1  1010.0  \n2    25.0  \n3   130.0  \n4    20.0  ",
      "text/html": "<div>\n<style scoped>\n    .dataframe tbody tr th:only-of-type {\n        vertical-align: middle;\n    }\n\n    .dataframe tbody tr th {\n        vertical-align: top;\n    }\n\n    .dataframe thead th {\n        text-align: right;\n    }\n</style>\n<table border=\"1\" class=\"dataframe\">\n  <thead>\n    <tr style=\"text-align: right;\">\n      <th></th>\n      <th>UKPRN</th>\n      <th>HE Provider</th>\n      <th>Country of HE provider</th>\n      <th>Region of HE provider</th>\n      <th>Terms of employment</th>\n      <th>Contract levels</th>\n      <th>Atypical marker</th>\n      <th>Contract marker</th>\n      <th>Academic Year</th>\n      <th>Category Marker</th>\n      <th>Category</th>\n      <th>Number</th>\n    </tr>\n  </thead>\n  <tbody>\n    <tr>\n      <th>0</th>\n      <td>10007783.0</td>\n      <td>The University of Aberdeen</td>\n      <td>Scotland</td>\n      <td>Scotland</td>\n      <td>Open-ended/Permanent</td>\n      <td>Other contract level</td>\n      <td>Non-atypical</td>\n      <td>Academic</td>\n      <td>2015/16</td>\n      <td>Total</td>\n      <td>Total</td>\n      <td>1270.0</td>\n    </tr>\n    <tr>\n      <th>1</th>\n      <td>10007783.0</td>\n      <td>The University of Aberdeen</td>\n      <td>Scotland</td>\n      <td>Scotland</td>\n      <td>Open-ended/Permanent</td>\n      <td>Other contract level</td>\n      <td>Non-atypical</td>\n      <td>Academic</td>\n      <td>2015/16</td>\n      <td>Ethnicity</td>\n      <td>White</td>\n      <td>1010.0</td>\n    </tr>\n    <tr>\n      <th>2</th>\n      <td>10007783.0</td>\n      <td>The University of Aberdeen</td>\n      <td>Scotland</td>\n      <td>Scotland</td>\n      <td>Open-ended/Permanent</td>\n      <td>Other contract level</td>\n      <td>Non-atypical</td>\n      <td>Academic</td>\n      <td>2015/16</td>\n      <td>Ethnicity</td>\n      <td>Black</td>\n      <td>25.0</td>\n    </tr>\n    <tr>\n      <th>3</th>\n      <td>10007783.0</td>\n      <td>The University of Aberdeen</td>\n      <td>Scotland</td>\n      <td>Scotland</td>\n      <td>Open-ended/Permanent</td>\n      <td>Other contract level</td>\n      <td>Non-atypical</td>\n      <td>Academic</td>\n      <td>2015/16</td>\n      <td>Ethnicity</td>\n      <td>Asian</td>\n      <td>130.0</td>\n    </tr>\n    <tr>\n      <th>4</th>\n      <td>10007783.0</td>\n      <td>The University of Aberdeen</td>\n      <td>Scotland</td>\n      <td>Scotland</td>\n      <td>Open-ended/Permanent</td>\n      <td>Other contract level</td>\n      <td>Non-atypical</td>\n      <td>Academic</td>\n      <td>2015/16</td>\n      <td>Ethnicity</td>\n      <td>Mixed</td>\n      <td>20.0</td>\n    </tr>\n  </tbody>\n</table>\n</div>"
     },
     "execution_count": 4,
     "metadata": {},
     "output_type": "execute_result"
    }
   ],
   "source": [
    "df_2015.head()"
   ],
   "metadata": {
    "collapsed": false,
    "pycharm": {
     "name": "#%%\n"
    }
   }
  },
  {
   "cell_type": "code",
   "execution_count": 5,
   "outputs": [
    {
     "data": {
      "text/plain": "        UKPRN                 HE Provider Country of HE provider  \\\n0  10007783.0  The University of Aberdeen               Scotland   \n1  10007783.0  The University of Aberdeen               Scotland   \n2  10007783.0  The University of Aberdeen               Scotland   \n3  10007783.0  The University of Aberdeen               Scotland   \n4  10007783.0  The University of Aberdeen               Scotland   \n\n  Region of HE provider   Terms of employment       Contract levels  \\\n0              Scotland  Open-ended/Permanent  Other contract level   \n1              Scotland  Open-ended/Permanent  Other contract level   \n2              Scotland  Open-ended/Permanent  Other contract level   \n3              Scotland  Open-ended/Permanent  Other contract level   \n4              Scotland  Open-ended/Permanent  Other contract level   \n\n  Atypical marker Contract marker Academic Year Category Marker Category  \\\n0    Non-atypical        Academic       2016/17           Total    Total   \n1    Non-atypical        Academic       2016/17       Ethnicity    White   \n2    Non-atypical        Academic       2016/17       Ethnicity    Black   \n3    Non-atypical        Academic       2016/17       Ethnicity    Asian   \n4    Non-atypical        Academic       2016/17       Ethnicity    Mixed   \n\n   Number  \n0  1195.0  \n1   960.0  \n2    20.0  \n3   120.0  \n4    15.0  ",
      "text/html": "<div>\n<style scoped>\n    .dataframe tbody tr th:only-of-type {\n        vertical-align: middle;\n    }\n\n    .dataframe tbody tr th {\n        vertical-align: top;\n    }\n\n    .dataframe thead th {\n        text-align: right;\n    }\n</style>\n<table border=\"1\" class=\"dataframe\">\n  <thead>\n    <tr style=\"text-align: right;\">\n      <th></th>\n      <th>UKPRN</th>\n      <th>HE Provider</th>\n      <th>Country of HE provider</th>\n      <th>Region of HE provider</th>\n      <th>Terms of employment</th>\n      <th>Contract levels</th>\n      <th>Atypical marker</th>\n      <th>Contract marker</th>\n      <th>Academic Year</th>\n      <th>Category Marker</th>\n      <th>Category</th>\n      <th>Number</th>\n    </tr>\n  </thead>\n  <tbody>\n    <tr>\n      <th>0</th>\n      <td>10007783.0</td>\n      <td>The University of Aberdeen</td>\n      <td>Scotland</td>\n      <td>Scotland</td>\n      <td>Open-ended/Permanent</td>\n      <td>Other contract level</td>\n      <td>Non-atypical</td>\n      <td>Academic</td>\n      <td>2016/17</td>\n      <td>Total</td>\n      <td>Total</td>\n      <td>1195.0</td>\n    </tr>\n    <tr>\n      <th>1</th>\n      <td>10007783.0</td>\n      <td>The University of Aberdeen</td>\n      <td>Scotland</td>\n      <td>Scotland</td>\n      <td>Open-ended/Permanent</td>\n      <td>Other contract level</td>\n      <td>Non-atypical</td>\n      <td>Academic</td>\n      <td>2016/17</td>\n      <td>Ethnicity</td>\n      <td>White</td>\n      <td>960.0</td>\n    </tr>\n    <tr>\n      <th>2</th>\n      <td>10007783.0</td>\n      <td>The University of Aberdeen</td>\n      <td>Scotland</td>\n      <td>Scotland</td>\n      <td>Open-ended/Permanent</td>\n      <td>Other contract level</td>\n      <td>Non-atypical</td>\n      <td>Academic</td>\n      <td>2016/17</td>\n      <td>Ethnicity</td>\n      <td>Black</td>\n      <td>20.0</td>\n    </tr>\n    <tr>\n      <th>3</th>\n      <td>10007783.0</td>\n      <td>The University of Aberdeen</td>\n      <td>Scotland</td>\n      <td>Scotland</td>\n      <td>Open-ended/Permanent</td>\n      <td>Other contract level</td>\n      <td>Non-atypical</td>\n      <td>Academic</td>\n      <td>2016/17</td>\n      <td>Ethnicity</td>\n      <td>Asian</td>\n      <td>120.0</td>\n    </tr>\n    <tr>\n      <th>4</th>\n      <td>10007783.0</td>\n      <td>The University of Aberdeen</td>\n      <td>Scotland</td>\n      <td>Scotland</td>\n      <td>Open-ended/Permanent</td>\n      <td>Other contract level</td>\n      <td>Non-atypical</td>\n      <td>Academic</td>\n      <td>2016/17</td>\n      <td>Ethnicity</td>\n      <td>Mixed</td>\n      <td>15.0</td>\n    </tr>\n  </tbody>\n</table>\n</div>"
     },
     "execution_count": 5,
     "metadata": {},
     "output_type": "execute_result"
    }
   ],
   "source": [
    "df_2016.head()"
   ],
   "metadata": {
    "collapsed": false,
    "pycharm": {
     "name": "#%%\n"
    }
   }
  },
  {
   "cell_type": "code",
   "execution_count": 6,
   "outputs": [
    {
     "data": {
      "text/plain": "        UKPRN                 HE Provider Country of HE provider  \\\n0  10007783.0  The University of Aberdeen               Scotland   \n1  10007783.0  The University of Aberdeen               Scotland   \n2  10007783.0  The University of Aberdeen               Scotland   \n3  10007783.0  The University of Aberdeen               Scotland   \n4  10007783.0  The University of Aberdeen               Scotland   \n\n  Region of HE provider   Terms of employment       Contract levels  \\\n0              Scotland  Open-ended/Permanent  Other contract level   \n1              Scotland  Open-ended/Permanent  Other contract level   \n2              Scotland  Open-ended/Permanent  Other contract level   \n3              Scotland  Open-ended/Permanent  Other contract level   \n4              Scotland  Open-ended/Permanent  Other contract level   \n\n  Atypical marker Contract marker Academic Year Category Marker Category  \\\n0    Non-atypical        Academic       2017/18           Total    Total   \n1    Non-atypical        Academic       2017/18       Ethnicity    White   \n2    Non-atypical        Academic       2017/18       Ethnicity    Black   \n3    Non-atypical        Academic       2017/18       Ethnicity    Asian   \n4    Non-atypical        Academic       2017/18       Ethnicity    Mixed   \n\n   Number  \n0  1140.0  \n1   920.0  \n2    15.0  \n3   115.0  \n4    15.0  ",
      "text/html": "<div>\n<style scoped>\n    .dataframe tbody tr th:only-of-type {\n        vertical-align: middle;\n    }\n\n    .dataframe tbody tr th {\n        vertical-align: top;\n    }\n\n    .dataframe thead th {\n        text-align: right;\n    }\n</style>\n<table border=\"1\" class=\"dataframe\">\n  <thead>\n    <tr style=\"text-align: right;\">\n      <th></th>\n      <th>UKPRN</th>\n      <th>HE Provider</th>\n      <th>Country of HE provider</th>\n      <th>Region of HE provider</th>\n      <th>Terms of employment</th>\n      <th>Contract levels</th>\n      <th>Atypical marker</th>\n      <th>Contract marker</th>\n      <th>Academic Year</th>\n      <th>Category Marker</th>\n      <th>Category</th>\n      <th>Number</th>\n    </tr>\n  </thead>\n  <tbody>\n    <tr>\n      <th>0</th>\n      <td>10007783.0</td>\n      <td>The University of Aberdeen</td>\n      <td>Scotland</td>\n      <td>Scotland</td>\n      <td>Open-ended/Permanent</td>\n      <td>Other contract level</td>\n      <td>Non-atypical</td>\n      <td>Academic</td>\n      <td>2017/18</td>\n      <td>Total</td>\n      <td>Total</td>\n      <td>1140.0</td>\n    </tr>\n    <tr>\n      <th>1</th>\n      <td>10007783.0</td>\n      <td>The University of Aberdeen</td>\n      <td>Scotland</td>\n      <td>Scotland</td>\n      <td>Open-ended/Permanent</td>\n      <td>Other contract level</td>\n      <td>Non-atypical</td>\n      <td>Academic</td>\n      <td>2017/18</td>\n      <td>Ethnicity</td>\n      <td>White</td>\n      <td>920.0</td>\n    </tr>\n    <tr>\n      <th>2</th>\n      <td>10007783.0</td>\n      <td>The University of Aberdeen</td>\n      <td>Scotland</td>\n      <td>Scotland</td>\n      <td>Open-ended/Permanent</td>\n      <td>Other contract level</td>\n      <td>Non-atypical</td>\n      <td>Academic</td>\n      <td>2017/18</td>\n      <td>Ethnicity</td>\n      <td>Black</td>\n      <td>15.0</td>\n    </tr>\n    <tr>\n      <th>3</th>\n      <td>10007783.0</td>\n      <td>The University of Aberdeen</td>\n      <td>Scotland</td>\n      <td>Scotland</td>\n      <td>Open-ended/Permanent</td>\n      <td>Other contract level</td>\n      <td>Non-atypical</td>\n      <td>Academic</td>\n      <td>2017/18</td>\n      <td>Ethnicity</td>\n      <td>Asian</td>\n      <td>115.0</td>\n    </tr>\n    <tr>\n      <th>4</th>\n      <td>10007783.0</td>\n      <td>The University of Aberdeen</td>\n      <td>Scotland</td>\n      <td>Scotland</td>\n      <td>Open-ended/Permanent</td>\n      <td>Other contract level</td>\n      <td>Non-atypical</td>\n      <td>Academic</td>\n      <td>2017/18</td>\n      <td>Ethnicity</td>\n      <td>Mixed</td>\n      <td>15.0</td>\n    </tr>\n  </tbody>\n</table>\n</div>"
     },
     "execution_count": 6,
     "metadata": {},
     "output_type": "execute_result"
    }
   ],
   "source": [
    "df_2017.head()"
   ],
   "metadata": {
    "collapsed": false,
    "pycharm": {
     "name": "#%%\n"
    }
   }
  },
  {
   "cell_type": "code",
   "execution_count": 7,
   "outputs": [
    {
     "data": {
      "text/plain": "        UKPRN                 HE Provider Country of HE provider  \\\n0  10007783.0  The University of Aberdeen               Scotland   \n1  10007783.0  The University of Aberdeen               Scotland   \n2  10007783.0  The University of Aberdeen               Scotland   \n3  10007783.0  The University of Aberdeen               Scotland   \n4  10007783.0  The University of Aberdeen               Scotland   \n\n  Region of HE provider   Terms of employment       Contract levels  \\\n0              Scotland  Open-ended/Permanent  Other contract level   \n1              Scotland  Open-ended/Permanent  Other contract level   \n2              Scotland  Open-ended/Permanent  Other contract level   \n3              Scotland  Open-ended/Permanent  Other contract level   \n4              Scotland  Open-ended/Permanent  Other contract level   \n\n  Atypical marker Contract marker Academic Year Category Marker Category  \\\n0    Non-atypical        Academic       2018/19           Total    Total   \n1    Non-atypical        Academic       2018/19       Ethnicity    White   \n2    Non-atypical        Academic       2018/19       Ethnicity    Black   \n3    Non-atypical        Academic       2018/19       Ethnicity    Asian   \n4    Non-atypical        Academic       2018/19       Ethnicity    Mixed   \n\n   Number  \n0  1115.0  \n1   900.0  \n2    15.0  \n3   115.0  \n4    20.0  ",
      "text/html": "<div>\n<style scoped>\n    .dataframe tbody tr th:only-of-type {\n        vertical-align: middle;\n    }\n\n    .dataframe tbody tr th {\n        vertical-align: top;\n    }\n\n    .dataframe thead th {\n        text-align: right;\n    }\n</style>\n<table border=\"1\" class=\"dataframe\">\n  <thead>\n    <tr style=\"text-align: right;\">\n      <th></th>\n      <th>UKPRN</th>\n      <th>HE Provider</th>\n      <th>Country of HE provider</th>\n      <th>Region of HE provider</th>\n      <th>Terms of employment</th>\n      <th>Contract levels</th>\n      <th>Atypical marker</th>\n      <th>Contract marker</th>\n      <th>Academic Year</th>\n      <th>Category Marker</th>\n      <th>Category</th>\n      <th>Number</th>\n    </tr>\n  </thead>\n  <tbody>\n    <tr>\n      <th>0</th>\n      <td>10007783.0</td>\n      <td>The University of Aberdeen</td>\n      <td>Scotland</td>\n      <td>Scotland</td>\n      <td>Open-ended/Permanent</td>\n      <td>Other contract level</td>\n      <td>Non-atypical</td>\n      <td>Academic</td>\n      <td>2018/19</td>\n      <td>Total</td>\n      <td>Total</td>\n      <td>1115.0</td>\n    </tr>\n    <tr>\n      <th>1</th>\n      <td>10007783.0</td>\n      <td>The University of Aberdeen</td>\n      <td>Scotland</td>\n      <td>Scotland</td>\n      <td>Open-ended/Permanent</td>\n      <td>Other contract level</td>\n      <td>Non-atypical</td>\n      <td>Academic</td>\n      <td>2018/19</td>\n      <td>Ethnicity</td>\n      <td>White</td>\n      <td>900.0</td>\n    </tr>\n    <tr>\n      <th>2</th>\n      <td>10007783.0</td>\n      <td>The University of Aberdeen</td>\n      <td>Scotland</td>\n      <td>Scotland</td>\n      <td>Open-ended/Permanent</td>\n      <td>Other contract level</td>\n      <td>Non-atypical</td>\n      <td>Academic</td>\n      <td>2018/19</td>\n      <td>Ethnicity</td>\n      <td>Black</td>\n      <td>15.0</td>\n    </tr>\n    <tr>\n      <th>3</th>\n      <td>10007783.0</td>\n      <td>The University of Aberdeen</td>\n      <td>Scotland</td>\n      <td>Scotland</td>\n      <td>Open-ended/Permanent</td>\n      <td>Other contract level</td>\n      <td>Non-atypical</td>\n      <td>Academic</td>\n      <td>2018/19</td>\n      <td>Ethnicity</td>\n      <td>Asian</td>\n      <td>115.0</td>\n    </tr>\n    <tr>\n      <th>4</th>\n      <td>10007783.0</td>\n      <td>The University of Aberdeen</td>\n      <td>Scotland</td>\n      <td>Scotland</td>\n      <td>Open-ended/Permanent</td>\n      <td>Other contract level</td>\n      <td>Non-atypical</td>\n      <td>Academic</td>\n      <td>2018/19</td>\n      <td>Ethnicity</td>\n      <td>Mixed</td>\n      <td>20.0</td>\n    </tr>\n  </tbody>\n</table>\n</div>"
     },
     "execution_count": 7,
     "metadata": {},
     "output_type": "execute_result"
    }
   ],
   "source": [
    "df_2018.head()"
   ],
   "metadata": {
    "collapsed": false,
    "pycharm": {
     "name": "#%%\n"
    }
   }
  },
  {
   "cell_type": "code",
   "execution_count": 8,
   "outputs": [
    {
     "data": {
      "text/plain": "        UKPRN                 HE Provider Country of HE provider  \\\n0  10007783.0  The University of Aberdeen               Scotland   \n1  10007783.0  The University of Aberdeen               Scotland   \n2  10007783.0  The University of Aberdeen               Scotland   \n3  10007783.0  The University of Aberdeen               Scotland   \n4  10007783.0  The University of Aberdeen               Scotland   \n\n  Region of HE provider   Terms of employment       Contract levels  \\\n0              Scotland  Open-ended/Permanent  Other contract level   \n1              Scotland  Open-ended/Permanent  Other contract level   \n2              Scotland  Open-ended/Permanent  Other contract level   \n3              Scotland  Open-ended/Permanent  Other contract level   \n4              Scotland  Open-ended/Permanent  Other contract level   \n\n  Atypical marker Contract marker Academic Year Category Marker Category  \\\n0    Non-atypical        Academic       2019/20           Total    Total   \n1    Non-atypical        Academic       2019/20       Ethnicity    White   \n2    Non-atypical        Academic       2019/20       Ethnicity    Black   \n3    Non-atypical        Academic       2019/20       Ethnicity    Asian   \n4    Non-atypical        Academic       2019/20       Ethnicity    Mixed   \n\n   Number  \n0  1155.0  \n1   915.0  \n2    25.0  \n3   125.0  \n4    20.0  ",
      "text/html": "<div>\n<style scoped>\n    .dataframe tbody tr th:only-of-type {\n        vertical-align: middle;\n    }\n\n    .dataframe tbody tr th {\n        vertical-align: top;\n    }\n\n    .dataframe thead th {\n        text-align: right;\n    }\n</style>\n<table border=\"1\" class=\"dataframe\">\n  <thead>\n    <tr style=\"text-align: right;\">\n      <th></th>\n      <th>UKPRN</th>\n      <th>HE Provider</th>\n      <th>Country of HE provider</th>\n      <th>Region of HE provider</th>\n      <th>Terms of employment</th>\n      <th>Contract levels</th>\n      <th>Atypical marker</th>\n      <th>Contract marker</th>\n      <th>Academic Year</th>\n      <th>Category Marker</th>\n      <th>Category</th>\n      <th>Number</th>\n    </tr>\n  </thead>\n  <tbody>\n    <tr>\n      <th>0</th>\n      <td>10007783.0</td>\n      <td>The University of Aberdeen</td>\n      <td>Scotland</td>\n      <td>Scotland</td>\n      <td>Open-ended/Permanent</td>\n      <td>Other contract level</td>\n      <td>Non-atypical</td>\n      <td>Academic</td>\n      <td>2019/20</td>\n      <td>Total</td>\n      <td>Total</td>\n      <td>1155.0</td>\n    </tr>\n    <tr>\n      <th>1</th>\n      <td>10007783.0</td>\n      <td>The University of Aberdeen</td>\n      <td>Scotland</td>\n      <td>Scotland</td>\n      <td>Open-ended/Permanent</td>\n      <td>Other contract level</td>\n      <td>Non-atypical</td>\n      <td>Academic</td>\n      <td>2019/20</td>\n      <td>Ethnicity</td>\n      <td>White</td>\n      <td>915.0</td>\n    </tr>\n    <tr>\n      <th>2</th>\n      <td>10007783.0</td>\n      <td>The University of Aberdeen</td>\n      <td>Scotland</td>\n      <td>Scotland</td>\n      <td>Open-ended/Permanent</td>\n      <td>Other contract level</td>\n      <td>Non-atypical</td>\n      <td>Academic</td>\n      <td>2019/20</td>\n      <td>Ethnicity</td>\n      <td>Black</td>\n      <td>25.0</td>\n    </tr>\n    <tr>\n      <th>3</th>\n      <td>10007783.0</td>\n      <td>The University of Aberdeen</td>\n      <td>Scotland</td>\n      <td>Scotland</td>\n      <td>Open-ended/Permanent</td>\n      <td>Other contract level</td>\n      <td>Non-atypical</td>\n      <td>Academic</td>\n      <td>2019/20</td>\n      <td>Ethnicity</td>\n      <td>Asian</td>\n      <td>125.0</td>\n    </tr>\n    <tr>\n      <th>4</th>\n      <td>10007783.0</td>\n      <td>The University of Aberdeen</td>\n      <td>Scotland</td>\n      <td>Scotland</td>\n      <td>Open-ended/Permanent</td>\n      <td>Other contract level</td>\n      <td>Non-atypical</td>\n      <td>Academic</td>\n      <td>2019/20</td>\n      <td>Ethnicity</td>\n      <td>Mixed</td>\n      <td>20.0</td>\n    </tr>\n  </tbody>\n</table>\n</div>"
     },
     "execution_count": 8,
     "metadata": {},
     "output_type": "execute_result"
    }
   ],
   "source": [
    "df_2019.head()"
   ],
   "metadata": {
    "collapsed": false,
    "pycharm": {
     "name": "#%%\n"
    }
   }
  },
  {
   "cell_type": "code",
   "execution_count": 9,
   "outputs": [
    {
     "data": {
      "text/plain": "        UKPRN                 HE Provider Country of HE provider  \\\n0  10007783.0  The University of Aberdeen               Scotland   \n1  10007783.0  The University of Aberdeen               Scotland   \n2  10007783.0  The University of Aberdeen               Scotland   \n3  10007783.0  The University of Aberdeen               Scotland   \n4  10007783.0  The University of Aberdeen               Scotland   \n\n  Region of HE provider   Terms of employment       Contract levels  \\\n0              Scotland  Open-ended/Permanent  Other contract level   \n1              Scotland  Open-ended/Permanent  Other contract level   \n2              Scotland  Open-ended/Permanent  Other contract level   \n3              Scotland  Open-ended/Permanent  Other contract level   \n4              Scotland  Open-ended/Permanent  Other contract level   \n\n  Atypical marker Contract marker Academic Year Category Marker Category  \\\n0    Non-atypical        Academic       2020/21           Total    Total   \n1    Non-atypical        Academic       2020/21       Ethnicity    White   \n2    Non-atypical        Academic       2020/21       Ethnicity    Black   \n3    Non-atypical        Academic       2020/21       Ethnicity    Asian   \n4    Non-atypical        Academic       2020/21       Ethnicity    Mixed   \n\n   Number  \n0  1190.0  \n1   925.0  \n2    25.0  \n3   135.0  \n4    25.0  ",
      "text/html": "<div>\n<style scoped>\n    .dataframe tbody tr th:only-of-type {\n        vertical-align: middle;\n    }\n\n    .dataframe tbody tr th {\n        vertical-align: top;\n    }\n\n    .dataframe thead th {\n        text-align: right;\n    }\n</style>\n<table border=\"1\" class=\"dataframe\">\n  <thead>\n    <tr style=\"text-align: right;\">\n      <th></th>\n      <th>UKPRN</th>\n      <th>HE Provider</th>\n      <th>Country of HE provider</th>\n      <th>Region of HE provider</th>\n      <th>Terms of employment</th>\n      <th>Contract levels</th>\n      <th>Atypical marker</th>\n      <th>Contract marker</th>\n      <th>Academic Year</th>\n      <th>Category Marker</th>\n      <th>Category</th>\n      <th>Number</th>\n    </tr>\n  </thead>\n  <tbody>\n    <tr>\n      <th>0</th>\n      <td>10007783.0</td>\n      <td>The University of Aberdeen</td>\n      <td>Scotland</td>\n      <td>Scotland</td>\n      <td>Open-ended/Permanent</td>\n      <td>Other contract level</td>\n      <td>Non-atypical</td>\n      <td>Academic</td>\n      <td>2020/21</td>\n      <td>Total</td>\n      <td>Total</td>\n      <td>1190.0</td>\n    </tr>\n    <tr>\n      <th>1</th>\n      <td>10007783.0</td>\n      <td>The University of Aberdeen</td>\n      <td>Scotland</td>\n      <td>Scotland</td>\n      <td>Open-ended/Permanent</td>\n      <td>Other contract level</td>\n      <td>Non-atypical</td>\n      <td>Academic</td>\n      <td>2020/21</td>\n      <td>Ethnicity</td>\n      <td>White</td>\n      <td>925.0</td>\n    </tr>\n    <tr>\n      <th>2</th>\n      <td>10007783.0</td>\n      <td>The University of Aberdeen</td>\n      <td>Scotland</td>\n      <td>Scotland</td>\n      <td>Open-ended/Permanent</td>\n      <td>Other contract level</td>\n      <td>Non-atypical</td>\n      <td>Academic</td>\n      <td>2020/21</td>\n      <td>Ethnicity</td>\n      <td>Black</td>\n      <td>25.0</td>\n    </tr>\n    <tr>\n      <th>3</th>\n      <td>10007783.0</td>\n      <td>The University of Aberdeen</td>\n      <td>Scotland</td>\n      <td>Scotland</td>\n      <td>Open-ended/Permanent</td>\n      <td>Other contract level</td>\n      <td>Non-atypical</td>\n      <td>Academic</td>\n      <td>2020/21</td>\n      <td>Ethnicity</td>\n      <td>Asian</td>\n      <td>135.0</td>\n    </tr>\n    <tr>\n      <th>4</th>\n      <td>10007783.0</td>\n      <td>The University of Aberdeen</td>\n      <td>Scotland</td>\n      <td>Scotland</td>\n      <td>Open-ended/Permanent</td>\n      <td>Other contract level</td>\n      <td>Non-atypical</td>\n      <td>Academic</td>\n      <td>2020/21</td>\n      <td>Ethnicity</td>\n      <td>Mixed</td>\n      <td>25.0</td>\n    </tr>\n  </tbody>\n</table>\n</div>"
     },
     "execution_count": 9,
     "metadata": {},
     "output_type": "execute_result"
    }
   ],
   "source": [
    "df_2020.head()"
   ],
   "metadata": {
    "collapsed": false,
    "pycharm": {
     "name": "#%%\n"
    }
   }
  },
  {
   "cell_type": "code",
   "execution_count": 10,
   "outputs": [
    {
     "name": "stdout",
     "output_type": "stream",
     "text": [
      "<class 'pandas.core.frame.DataFrame'>\n",
      "RangeIndex: 551195 entries, 0 to 551194\n",
      "Data columns (total 12 columns):\n",
      " #   Column                  Non-Null Count   Dtype  \n",
      "---  ------                  --------------   -----  \n",
      " 0   UKPRN                   525228 non-null  float64\n",
      " 1   HE Provider             551195 non-null  object \n",
      " 2   Country of HE provider  551195 non-null  object \n",
      " 3   Region of HE provider   551195 non-null  object \n",
      " 4   Terms of employment     551195 non-null  object \n",
      " 5   Contract levels         551195 non-null  object \n",
      " 6   Atypical marker         551195 non-null  object \n",
      " 7   Contract marker         551195 non-null  object \n",
      " 8   Academic Year           551195 non-null  object \n",
      " 9   Category Marker         551195 non-null  object \n",
      " 10  Category                551195 non-null  object \n",
      " 11  Number                  537188 non-null  float64\n",
      "dtypes: float64(2), object(10)\n",
      "memory usage: 50.5+ MB\n"
     ]
    }
   ],
   "source": [
    "df_2014.info()"
   ],
   "metadata": {
    "collapsed": false,
    "pycharm": {
     "name": "#%%\n"
    }
   }
  },
  {
   "cell_type": "code",
   "execution_count": 11,
   "outputs": [],
   "source": [
    "df_all =pd.concat([df_2014,df_2015,df_2016,df_2017,df_2018,df_2019,df_2020], ignore_index = True)"
   ],
   "metadata": {
    "collapsed": false,
    "pycharm": {
     "name": "#%%\n"
    }
   }
  },
  {
   "cell_type": "code",
   "execution_count": 12,
   "outputs": [
    {
     "data": {
      "text/plain": "<bound method DataFrame.info of               UKPRN                 HE Provider Country of HE provider  \\\n0        10007783.0  The University of Aberdeen               Scotland   \n1        10007783.0  The University of Aberdeen               Scotland   \n2        10007783.0  The University of Aberdeen               Scotland   \n3        10007783.0  The University of Aberdeen               Scotland   \n4        10007783.0  The University of Aberdeen               Scotland   \n...             ...                         ...                    ...   \n4072490         NaN                       Total                England   \n4072491         NaN                       Total                England   \n4072492         NaN                       Total                England   \n4072493         NaN                       Total                England   \n4072494         NaN                       Total                England   \n\n            Region of HE provider   Terms of employment       Contract levels  \\\n0                        Scotland  Open-ended/Permanent  Other contract level   \n1                        Scotland  Open-ended/Permanent  Other contract level   \n2                        Scotland  Open-ended/Permanent  Other contract level   \n3                        Scotland  Open-ended/Permanent  Other contract level   \n4                        Scotland  Open-ended/Permanent  Other contract level   \n...                           ...                   ...                   ...   \n4072490  Yorkshire and The Humber  Open-ended/Permanent             Professor   \n4072491  Yorkshire and The Humber  Open-ended/Permanent             Professor   \n4072492  Yorkshire and The Humber  Open-ended/Permanent             Professor   \n4072493  Yorkshire and The Humber  Open-ended/Permanent             Professor   \n4072494  Yorkshire and The Humber  Open-ended/Permanent             Professor   \n\n        Atypical marker           Contract marker Academic Year  \\\n0          Non-atypical                  Academic       2014/15   \n1          Non-atypical                  Academic       2014/15   \n2          Non-atypical                  Academic       2014/15   \n3          Non-atypical                  Academic       2014/15   \n4          Non-atypical                  Academic       2014/15   \n...                 ...                       ...           ...   \n4072490    Non-atypical  All (excluding atypical)       2020/21   \n4072491    Non-atypical  All (excluding atypical)       2020/21   \n4072492    Non-atypical  All (excluding atypical)       2020/21   \n4072493    Non-atypical  All (excluding atypical)       2020/21   \n4072494    Non-atypical  All (excluding atypical)       2020/21   \n\n        Category Marker     Category  Number  \n0                 Total        Total  1345.0  \n1             Ethnicity        White  1095.0  \n2             Ethnicity        Black    25.0  \n3             Ethnicity        Asian   130.0  \n4             Ethnicity        Mixed    20.0  \n...                 ...          ...     ...  \n4072490       Age group  66 and over     NaN  \n4072491       Age group  Age Unknown     NaN  \n4072492             Sex       Female     NaN  \n4072493             Sex         Male     NaN  \n4072494             Sex        Other     NaN  \n\n[4072495 rows x 12 columns]>"
     },
     "execution_count": 12,
     "metadata": {},
     "output_type": "execute_result"
    }
   ],
   "source": [
    "df_all.info"
   ],
   "metadata": {
    "collapsed": false,
    "pycharm": {
     "name": "#%%\n"
    }
   }
  },
  {
   "cell_type": "code",
   "execution_count": 13,
   "outputs": [
    {
     "data": {
      "text/plain": "UKPRN                     191199\nHE Provider                    0\nCountry of HE provider         0\nRegion of HE provider          0\nTerms of employment            0\nContract levels                0\nAtypical marker                0\nContract marker                0\nAcademic Year                  0\nCategory Marker                0\nCategory                       0\nNumber                    360065\ndtype: int64"
     },
     "execution_count": 13,
     "metadata": {},
     "output_type": "execute_result"
    }
   ],
   "source": [
    "df_all.isna().sum()"
   ],
   "metadata": {
    "collapsed": false,
    "pycharm": {
     "name": "#%%\n"
    }
   }
  },
  {
   "cell_type": "code",
   "execution_count": 14,
   "outputs": [
    {
     "data": {
      "text/plain": "0"
     },
     "execution_count": 14,
     "metadata": {},
     "output_type": "execute_result"
    }
   ],
   "source": [
    "df_all.duplicated().sum()"
   ],
   "metadata": {
    "collapsed": false,
    "pycharm": {
     "name": "#%%\n"
    }
   }
  },
  {
   "cell_type": "code",
   "execution_count": 15,
   "outputs": [
    {
     "data": {
      "text/plain": "              UKPRN                 HE Provider Country of HE provider  \\\n0        10007783.0  The University of Aberdeen               Scotland   \n1        10007783.0  The University of Aberdeen               Scotland   \n2        10007783.0  The University of Aberdeen               Scotland   \n3        10007783.0  The University of Aberdeen               Scotland   \n4        10007783.0  The University of Aberdeen               Scotland   \n...             ...                         ...                    ...   \n4062485  10007167.0     The University of York*                England   \n4062486  10007167.0     The University of York*                England   \n4062487  10007167.0     The University of York*                England   \n4062488  10007167.0     The University of York*                England   \n4062489  10007167.0     The University of York*                England   \n\n            Region of HE provider   Terms of employment       Contract levels  \\\n0                        Scotland  Open-ended/Permanent  Other contract level   \n1                        Scotland  Open-ended/Permanent  Other contract level   \n2                        Scotland  Open-ended/Permanent  Other contract level   \n3                        Scotland  Open-ended/Permanent  Other contract level   \n4                        Scotland  Open-ended/Permanent  Other contract level   \n...                           ...                   ...                   ...   \n4062485  Yorkshire and The Humber                   All             Professor   \n4062486  Yorkshire and The Humber                   All             Professor   \n4062487  Yorkshire and The Humber                   All             Professor   \n4062488  Yorkshire and The Humber                   All             Professor   \n4062489  Yorkshire and The Humber                   All             Professor   \n\n        Atypical marker           Contract marker Academic Year  \\\n0          Non-atypical                  Academic       2014/15   \n1          Non-atypical                  Academic       2014/15   \n2          Non-atypical                  Academic       2014/15   \n3          Non-atypical                  Academic       2014/15   \n4          Non-atypical                  Academic       2014/15   \n...                 ...                       ...           ...   \n4062485    Non-atypical  All (excluding atypical)       2020/21   \n4062486    Non-atypical  All (excluding atypical)       2020/21   \n4062487    Non-atypical  All (excluding atypical)       2020/21   \n4062488    Non-atypical  All (excluding atypical)       2020/21   \n4062489    Non-atypical  All (excluding atypical)       2020/21   \n\n        Category Marker     Category  Number  \n0                 Total        Total  1345.0  \n1             Ethnicity        White  1095.0  \n2             Ethnicity        Black    25.0  \n3             Ethnicity        Asian   130.0  \n4             Ethnicity        Mixed    20.0  \n...                 ...          ...     ...  \n4062485       Age group  66 and over     NaN  \n4062486       Age group  Age Unknown     NaN  \n4062487             Sex       Female     NaN  \n4062488             Sex         Male     NaN  \n4062489             Sex        Other     NaN  \n\n[3881296 rows x 12 columns]",
      "text/html": "<div>\n<style scoped>\n    .dataframe tbody tr th:only-of-type {\n        vertical-align: middle;\n    }\n\n    .dataframe tbody tr th {\n        vertical-align: top;\n    }\n\n    .dataframe thead th {\n        text-align: right;\n    }\n</style>\n<table border=\"1\" class=\"dataframe\">\n  <thead>\n    <tr style=\"text-align: right;\">\n      <th></th>\n      <th>UKPRN</th>\n      <th>HE Provider</th>\n      <th>Country of HE provider</th>\n      <th>Region of HE provider</th>\n      <th>Terms of employment</th>\n      <th>Contract levels</th>\n      <th>Atypical marker</th>\n      <th>Contract marker</th>\n      <th>Academic Year</th>\n      <th>Category Marker</th>\n      <th>Category</th>\n      <th>Number</th>\n    </tr>\n  </thead>\n  <tbody>\n    <tr>\n      <th>0</th>\n      <td>10007783.0</td>\n      <td>The University of Aberdeen</td>\n      <td>Scotland</td>\n      <td>Scotland</td>\n      <td>Open-ended/Permanent</td>\n      <td>Other contract level</td>\n      <td>Non-atypical</td>\n      <td>Academic</td>\n      <td>2014/15</td>\n      <td>Total</td>\n      <td>Total</td>\n      <td>1345.0</td>\n    </tr>\n    <tr>\n      <th>1</th>\n      <td>10007783.0</td>\n      <td>The University of Aberdeen</td>\n      <td>Scotland</td>\n      <td>Scotland</td>\n      <td>Open-ended/Permanent</td>\n      <td>Other contract level</td>\n      <td>Non-atypical</td>\n      <td>Academic</td>\n      <td>2014/15</td>\n      <td>Ethnicity</td>\n      <td>White</td>\n      <td>1095.0</td>\n    </tr>\n    <tr>\n      <th>2</th>\n      <td>10007783.0</td>\n      <td>The University of Aberdeen</td>\n      <td>Scotland</td>\n      <td>Scotland</td>\n      <td>Open-ended/Permanent</td>\n      <td>Other contract level</td>\n      <td>Non-atypical</td>\n      <td>Academic</td>\n      <td>2014/15</td>\n      <td>Ethnicity</td>\n      <td>Black</td>\n      <td>25.0</td>\n    </tr>\n    <tr>\n      <th>3</th>\n      <td>10007783.0</td>\n      <td>The University of Aberdeen</td>\n      <td>Scotland</td>\n      <td>Scotland</td>\n      <td>Open-ended/Permanent</td>\n      <td>Other contract level</td>\n      <td>Non-atypical</td>\n      <td>Academic</td>\n      <td>2014/15</td>\n      <td>Ethnicity</td>\n      <td>Asian</td>\n      <td>130.0</td>\n    </tr>\n    <tr>\n      <th>4</th>\n      <td>10007783.0</td>\n      <td>The University of Aberdeen</td>\n      <td>Scotland</td>\n      <td>Scotland</td>\n      <td>Open-ended/Permanent</td>\n      <td>Other contract level</td>\n      <td>Non-atypical</td>\n      <td>Academic</td>\n      <td>2014/15</td>\n      <td>Ethnicity</td>\n      <td>Mixed</td>\n      <td>20.0</td>\n    </tr>\n    <tr>\n      <th>...</th>\n      <td>...</td>\n      <td>...</td>\n      <td>...</td>\n      <td>...</td>\n      <td>...</td>\n      <td>...</td>\n      <td>...</td>\n      <td>...</td>\n      <td>...</td>\n      <td>...</td>\n      <td>...</td>\n      <td>...</td>\n    </tr>\n    <tr>\n      <th>4062485</th>\n      <td>10007167.0</td>\n      <td>The University of York*</td>\n      <td>England</td>\n      <td>Yorkshire and The Humber</td>\n      <td>All</td>\n      <td>Professor</td>\n      <td>Non-atypical</td>\n      <td>All (excluding atypical)</td>\n      <td>2020/21</td>\n      <td>Age group</td>\n      <td>66 and over</td>\n      <td>NaN</td>\n    </tr>\n    <tr>\n      <th>4062486</th>\n      <td>10007167.0</td>\n      <td>The University of York*</td>\n      <td>England</td>\n      <td>Yorkshire and The Humber</td>\n      <td>All</td>\n      <td>Professor</td>\n      <td>Non-atypical</td>\n      <td>All (excluding atypical)</td>\n      <td>2020/21</td>\n      <td>Age group</td>\n      <td>Age Unknown</td>\n      <td>NaN</td>\n    </tr>\n    <tr>\n      <th>4062487</th>\n      <td>10007167.0</td>\n      <td>The University of York*</td>\n      <td>England</td>\n      <td>Yorkshire and The Humber</td>\n      <td>All</td>\n      <td>Professor</td>\n      <td>Non-atypical</td>\n      <td>All (excluding atypical)</td>\n      <td>2020/21</td>\n      <td>Sex</td>\n      <td>Female</td>\n      <td>NaN</td>\n    </tr>\n    <tr>\n      <th>4062488</th>\n      <td>10007167.0</td>\n      <td>The University of York*</td>\n      <td>England</td>\n      <td>Yorkshire and The Humber</td>\n      <td>All</td>\n      <td>Professor</td>\n      <td>Non-atypical</td>\n      <td>All (excluding atypical)</td>\n      <td>2020/21</td>\n      <td>Sex</td>\n      <td>Male</td>\n      <td>NaN</td>\n    </tr>\n    <tr>\n      <th>4062489</th>\n      <td>10007167.0</td>\n      <td>The University of York*</td>\n      <td>England</td>\n      <td>Yorkshire and The Humber</td>\n      <td>All</td>\n      <td>Professor</td>\n      <td>Non-atypical</td>\n      <td>All (excluding atypical)</td>\n      <td>2020/21</td>\n      <td>Sex</td>\n      <td>Other</td>\n      <td>NaN</td>\n    </tr>\n  </tbody>\n</table>\n<p>3881296 rows × 12 columns</p>\n</div>"
     },
     "execution_count": 15,
     "metadata": {},
     "output_type": "execute_result"
    }
   ],
   "source": [
    "#df_all.to_csv(\"table_2014_2021_clean.csv\")\n",
    "df_all.dropna(subset =['UKPRN'])"
   ],
   "metadata": {
    "collapsed": false,
    "pycharm": {
     "name": "#%%\n"
    }
   }
  },
  {
   "cell_type": "code",
   "execution_count": 16,
   "outputs": [
    {
     "data": {
      "text/plain": "<bound method DataFrame.info of               UKPRN                 HE Provider Country of HE provider  \\\n0        10007783.0  The University of Aberdeen               Scotland   \n1        10007783.0  The University of Aberdeen               Scotland   \n2        10007783.0  The University of Aberdeen               Scotland   \n3        10007783.0  The University of Aberdeen               Scotland   \n4        10007783.0  The University of Aberdeen               Scotland   \n...             ...                         ...                    ...   \n4072490         NaN                       Total                England   \n4072491         NaN                       Total                England   \n4072492         NaN                       Total                England   \n4072493         NaN                       Total                England   \n4072494         NaN                       Total                England   \n\n            Region of HE provider   Terms of employment       Contract levels  \\\n0                        Scotland  Open-ended/Permanent  Other contract level   \n1                        Scotland  Open-ended/Permanent  Other contract level   \n2                        Scotland  Open-ended/Permanent  Other contract level   \n3                        Scotland  Open-ended/Permanent  Other contract level   \n4                        Scotland  Open-ended/Permanent  Other contract level   \n...                           ...                   ...                   ...   \n4072490  Yorkshire and The Humber  Open-ended/Permanent             Professor   \n4072491  Yorkshire and The Humber  Open-ended/Permanent             Professor   \n4072492  Yorkshire and The Humber  Open-ended/Permanent             Professor   \n4072493  Yorkshire and The Humber  Open-ended/Permanent             Professor   \n4072494  Yorkshire and The Humber  Open-ended/Permanent             Professor   \n\n        Atypical marker           Contract marker Academic Year  \\\n0          Non-atypical                  Academic       2014/15   \n1          Non-atypical                  Academic       2014/15   \n2          Non-atypical                  Academic       2014/15   \n3          Non-atypical                  Academic       2014/15   \n4          Non-atypical                  Academic       2014/15   \n...                 ...                       ...           ...   \n4072490    Non-atypical  All (excluding atypical)       2020/21   \n4072491    Non-atypical  All (excluding atypical)       2020/21   \n4072492    Non-atypical  All (excluding atypical)       2020/21   \n4072493    Non-atypical  All (excluding atypical)       2020/21   \n4072494    Non-atypical  All (excluding atypical)       2020/21   \n\n        Category Marker     Category  Number  \n0                 Total        Total  1345.0  \n1             Ethnicity        White  1095.0  \n2             Ethnicity        Black    25.0  \n3             Ethnicity        Asian   130.0  \n4             Ethnicity        Mixed    20.0  \n...                 ...          ...     ...  \n4072490       Age group  66 and over     NaN  \n4072491       Age group  Age Unknown     NaN  \n4072492             Sex       Female     NaN  \n4072493             Sex         Male     NaN  \n4072494             Sex        Other     NaN  \n\n[4072495 rows x 12 columns]>"
     },
     "execution_count": 16,
     "metadata": {},
     "output_type": "execute_result"
    }
   ],
   "source": [
    "df_all.info"
   ],
   "metadata": {
    "collapsed": false,
    "pycharm": {
     "name": "#%%\n"
    }
   }
  },
  {
   "cell_type": "code",
   "execution_count": 17,
   "outputs": [
    {
     "data": {
      "text/plain": "191199"
     },
     "execution_count": 17,
     "metadata": {},
     "output_type": "execute_result"
    }
   ],
   "source": [
    "df_all.UKPRN.isnull().sum()"
   ],
   "metadata": {
    "collapsed": false,
    "pycharm": {
     "name": "#%%\n"
    }
   }
  },
  {
   "cell_type": "code",
   "execution_count": 18,
   "outputs": [],
   "source": [
    "df_all =df_all.dropna(subset =['UKPRN'])\n",
    "df_all =df_all.reset_index(drop=True)"
   ],
   "metadata": {
    "collapsed": false,
    "pycharm": {
     "name": "#%%\n"
    }
   }
  },
  {
   "cell_type": "code",
   "execution_count": 19,
   "outputs": [],
   "source": [
    "df_all['UKPRN'] =df_all['UKPRN'].astype(int)"
   ],
   "metadata": {
    "collapsed": false,
    "pycharm": {
     "name": "#%%\n"
    }
   }
  },
  {
   "cell_type": "code",
   "execution_count": 20,
   "outputs": [
    {
     "data": {
      "text/plain": "      UKPRN                 HE Provider Country of HE provider  \\\n0  10007783  The University of Aberdeen               Scotland   \n1  10007783  The University of Aberdeen               Scotland   \n\n  Region of HE provider   Terms of employment       Contract levels  \\\n0              Scotland  Open-ended/Permanent  Other contract level   \n1              Scotland  Open-ended/Permanent  Other contract level   \n\n  Atypical marker Contract marker Academic Year Category Marker Category  \\\n0    Non-atypical        Academic       2014/15           Total    Total   \n1    Non-atypical        Academic       2014/15       Ethnicity    White   \n\n   Number  \n0  1345.0  \n1  1095.0  ",
      "text/html": "<div>\n<style scoped>\n    .dataframe tbody tr th:only-of-type {\n        vertical-align: middle;\n    }\n\n    .dataframe tbody tr th {\n        vertical-align: top;\n    }\n\n    .dataframe thead th {\n        text-align: right;\n    }\n</style>\n<table border=\"1\" class=\"dataframe\">\n  <thead>\n    <tr style=\"text-align: right;\">\n      <th></th>\n      <th>UKPRN</th>\n      <th>HE Provider</th>\n      <th>Country of HE provider</th>\n      <th>Region of HE provider</th>\n      <th>Terms of employment</th>\n      <th>Contract levels</th>\n      <th>Atypical marker</th>\n      <th>Contract marker</th>\n      <th>Academic Year</th>\n      <th>Category Marker</th>\n      <th>Category</th>\n      <th>Number</th>\n    </tr>\n  </thead>\n  <tbody>\n    <tr>\n      <th>0</th>\n      <td>10007783</td>\n      <td>The University of Aberdeen</td>\n      <td>Scotland</td>\n      <td>Scotland</td>\n      <td>Open-ended/Permanent</td>\n      <td>Other contract level</td>\n      <td>Non-atypical</td>\n      <td>Academic</td>\n      <td>2014/15</td>\n      <td>Total</td>\n      <td>Total</td>\n      <td>1345.0</td>\n    </tr>\n    <tr>\n      <th>1</th>\n      <td>10007783</td>\n      <td>The University of Aberdeen</td>\n      <td>Scotland</td>\n      <td>Scotland</td>\n      <td>Open-ended/Permanent</td>\n      <td>Other contract level</td>\n      <td>Non-atypical</td>\n      <td>Academic</td>\n      <td>2014/15</td>\n      <td>Ethnicity</td>\n      <td>White</td>\n      <td>1095.0</td>\n    </tr>\n  </tbody>\n</table>\n</div>"
     },
     "execution_count": 20,
     "metadata": {},
     "output_type": "execute_result"
    }
   ],
   "source": [
    "df_all.head(2)"
   ],
   "metadata": {
    "collapsed": false,
    "pycharm": {
     "name": "#%%\n"
    }
   }
  },
  {
   "cell_type": "code",
   "execution_count": 21,
   "outputs": [],
   "source": [
    "df_all =df_all.dropna(subset =['Number'])\n",
    "df_all =df_all.reset_index(drop=True)"
   ],
   "metadata": {
    "collapsed": false,
    "pycharm": {
     "name": "#%%\n"
    }
   }
  },
  {
   "cell_type": "code",
   "execution_count": 22,
   "outputs": [],
   "source": [
    "df_all['Number'] =df_all['Number'].astype(int)"
   ],
   "metadata": {
    "collapsed": false,
    "pycharm": {
     "name": "#%%\n"
    }
   }
  },
  {
   "cell_type": "code",
   "execution_count": 23,
   "outputs": [
    {
     "data": {
      "text/plain": "      UKPRN                 HE Provider Country of HE provider  \\\n0  10007783  The University of Aberdeen               Scotland   \n1  10007783  The University of Aberdeen               Scotland   \n\n  Region of HE provider   Terms of employment       Contract levels  \\\n0              Scotland  Open-ended/Permanent  Other contract level   \n1              Scotland  Open-ended/Permanent  Other contract level   \n\n  Atypical marker Contract marker Academic Year Category Marker Category  \\\n0    Non-atypical        Academic       2014/15           Total    Total   \n1    Non-atypical        Academic       2014/15       Ethnicity    White   \n\n   Number  \n0    1345  \n1    1095  ",
      "text/html": "<div>\n<style scoped>\n    .dataframe tbody tr th:only-of-type {\n        vertical-align: middle;\n    }\n\n    .dataframe tbody tr th {\n        vertical-align: top;\n    }\n\n    .dataframe thead th {\n        text-align: right;\n    }\n</style>\n<table border=\"1\" class=\"dataframe\">\n  <thead>\n    <tr style=\"text-align: right;\">\n      <th></th>\n      <th>UKPRN</th>\n      <th>HE Provider</th>\n      <th>Country of HE provider</th>\n      <th>Region of HE provider</th>\n      <th>Terms of employment</th>\n      <th>Contract levels</th>\n      <th>Atypical marker</th>\n      <th>Contract marker</th>\n      <th>Academic Year</th>\n      <th>Category Marker</th>\n      <th>Category</th>\n      <th>Number</th>\n    </tr>\n  </thead>\n  <tbody>\n    <tr>\n      <th>0</th>\n      <td>10007783</td>\n      <td>The University of Aberdeen</td>\n      <td>Scotland</td>\n      <td>Scotland</td>\n      <td>Open-ended/Permanent</td>\n      <td>Other contract level</td>\n      <td>Non-atypical</td>\n      <td>Academic</td>\n      <td>2014/15</td>\n      <td>Total</td>\n      <td>Total</td>\n      <td>1345</td>\n    </tr>\n    <tr>\n      <th>1</th>\n      <td>10007783</td>\n      <td>The University of Aberdeen</td>\n      <td>Scotland</td>\n      <td>Scotland</td>\n      <td>Open-ended/Permanent</td>\n      <td>Other contract level</td>\n      <td>Non-atypical</td>\n      <td>Academic</td>\n      <td>2014/15</td>\n      <td>Ethnicity</td>\n      <td>White</td>\n      <td>1095</td>\n    </tr>\n  </tbody>\n</table>\n</div>"
     },
     "execution_count": 23,
     "metadata": {},
     "output_type": "execute_result"
    }
   ],
   "source": [
    "df_all.head(2)"
   ],
   "metadata": {
    "collapsed": false,
    "pycharm": {
     "name": "#%%\n"
    }
   }
  },
  {
   "cell_type": "code",
   "execution_count": 24,
   "outputs": [],
   "source": [
    "df_all = df_all[df_all.Number !=0]"
   ],
   "metadata": {
    "collapsed": false,
    "pycharm": {
     "name": "#%%\n"
    }
   }
  },
  {
   "cell_type": "code",
   "execution_count": 25,
   "outputs": [
    {
     "data": {
      "text/plain": "(2376303, 12)"
     },
     "execution_count": 25,
     "metadata": {},
     "output_type": "execute_result"
    }
   ],
   "source": [
    "df_all.shape"
   ],
   "metadata": {
    "collapsed": false,
    "pycharm": {
     "name": "#%%\n"
    }
   }
  },
  {
   "cell_type": "code",
   "execution_count": 26,
   "outputs": [],
   "source": [
    "#df_all.drop(df_all[df_all['HE Provider']!=df_all['Country of HE provider']].index, inplace=True)"
   ],
   "metadata": {
    "collapsed": false,
    "pycharm": {
     "name": "#%%\n"
    }
   }
  },
  {
   "cell_type": "code",
   "execution_count": 27,
   "outputs": [],
   "source": [
    "#df_all"
   ],
   "metadata": {
    "collapsed": false,
    "pycharm": {
     "name": "#%%\n"
    }
   }
  },
  {
   "cell_type": "code",
   "execution_count": 28,
   "outputs": [
    {
     "data": {
      "text/plain": "      UKPRN                 HE Provider Country of HE provider  \\\n0  10007783  The University of Aberdeen               Scotland   \n1  10007783  The University of Aberdeen               Scotland   \n2  10007783  The University of Aberdeen               Scotland   \n3  10007783  The University of Aberdeen               Scotland   \n4  10007783  The University of Aberdeen               Scotland   \n\n  Region of HE provider   Terms of employment       Contract levels  \\\n0              Scotland  Open-ended/Permanent  Other contract level   \n1              Scotland  Open-ended/Permanent  Other contract level   \n2              Scotland  Open-ended/Permanent  Other contract level   \n3              Scotland  Open-ended/Permanent  Other contract level   \n4              Scotland  Open-ended/Permanent  Other contract level   \n\n  Atypical marker Contract marker Academic Year Category Marker Category  \\\n0    Non-atypical        Academic       2014/15           Total    Total   \n1    Non-atypical        Academic       2014/15       Ethnicity    White   \n2    Non-atypical        Academic       2014/15       Ethnicity    Black   \n3    Non-atypical        Academic       2014/15       Ethnicity    Asian   \n4    Non-atypical        Academic       2014/15       Ethnicity    Mixed   \n\n   Number  \n0    1345  \n1    1095  \n2      25  \n3     130  \n4      20  ",
      "text/html": "<div>\n<style scoped>\n    .dataframe tbody tr th:only-of-type {\n        vertical-align: middle;\n    }\n\n    .dataframe tbody tr th {\n        vertical-align: top;\n    }\n\n    .dataframe thead th {\n        text-align: right;\n    }\n</style>\n<table border=\"1\" class=\"dataframe\">\n  <thead>\n    <tr style=\"text-align: right;\">\n      <th></th>\n      <th>UKPRN</th>\n      <th>HE Provider</th>\n      <th>Country of HE provider</th>\n      <th>Region of HE provider</th>\n      <th>Terms of employment</th>\n      <th>Contract levels</th>\n      <th>Atypical marker</th>\n      <th>Contract marker</th>\n      <th>Academic Year</th>\n      <th>Category Marker</th>\n      <th>Category</th>\n      <th>Number</th>\n    </tr>\n  </thead>\n  <tbody>\n    <tr>\n      <th>0</th>\n      <td>10007783</td>\n      <td>The University of Aberdeen</td>\n      <td>Scotland</td>\n      <td>Scotland</td>\n      <td>Open-ended/Permanent</td>\n      <td>Other contract level</td>\n      <td>Non-atypical</td>\n      <td>Academic</td>\n      <td>2014/15</td>\n      <td>Total</td>\n      <td>Total</td>\n      <td>1345</td>\n    </tr>\n    <tr>\n      <th>1</th>\n      <td>10007783</td>\n      <td>The University of Aberdeen</td>\n      <td>Scotland</td>\n      <td>Scotland</td>\n      <td>Open-ended/Permanent</td>\n      <td>Other contract level</td>\n      <td>Non-atypical</td>\n      <td>Academic</td>\n      <td>2014/15</td>\n      <td>Ethnicity</td>\n      <td>White</td>\n      <td>1095</td>\n    </tr>\n    <tr>\n      <th>2</th>\n      <td>10007783</td>\n      <td>The University of Aberdeen</td>\n      <td>Scotland</td>\n      <td>Scotland</td>\n      <td>Open-ended/Permanent</td>\n      <td>Other contract level</td>\n      <td>Non-atypical</td>\n      <td>Academic</td>\n      <td>2014/15</td>\n      <td>Ethnicity</td>\n      <td>Black</td>\n      <td>25</td>\n    </tr>\n    <tr>\n      <th>3</th>\n      <td>10007783</td>\n      <td>The University of Aberdeen</td>\n      <td>Scotland</td>\n      <td>Scotland</td>\n      <td>Open-ended/Permanent</td>\n      <td>Other contract level</td>\n      <td>Non-atypical</td>\n      <td>Academic</td>\n      <td>2014/15</td>\n      <td>Ethnicity</td>\n      <td>Asian</td>\n      <td>130</td>\n    </tr>\n    <tr>\n      <th>4</th>\n      <td>10007783</td>\n      <td>The University of Aberdeen</td>\n      <td>Scotland</td>\n      <td>Scotland</td>\n      <td>Open-ended/Permanent</td>\n      <td>Other contract level</td>\n      <td>Non-atypical</td>\n      <td>Academic</td>\n      <td>2014/15</td>\n      <td>Ethnicity</td>\n      <td>Mixed</td>\n      <td>20</td>\n    </tr>\n  </tbody>\n</table>\n</div>"
     },
     "execution_count": 28,
     "metadata": {},
     "output_type": "execute_result"
    }
   ],
   "source": [
    "df_all.head(5)\n"
   ],
   "metadata": {
    "collapsed": false,
    "pycharm": {
     "name": "#%%\n"
    }
   }
  },
  {
   "cell_type": "code",
   "execution_count": 29,
   "outputs": [],
   "source": [
    "df_all.drop(df_all[df_all['Country of HE provider'] == ('All')].index,inplace=True)"
   ],
   "metadata": {
    "collapsed": false,
    "pycharm": {
     "name": "#%%\n"
    }
   }
  },
  {
   "cell_type": "code",
   "execution_count": 30,
   "outputs": [],
   "source": [
    "df_all.drop(df_all[df_all['Region of HE provider'] == ('All')].index,inplace=True)"
   ],
   "metadata": {
    "collapsed": false,
    "pycharm": {
     "name": "#%%\n"
    }
   }
  },
  {
   "cell_type": "code",
   "execution_count": 31,
   "outputs": [],
   "source": [
    "df_all.drop(df_all[df_all['Terms of employment'] == ('All')].index,inplace=True)"
   ],
   "metadata": {
    "collapsed": false,
    "pycharm": {
     "name": "#%%\n"
    }
   }
  },
  {
   "cell_type": "code",
   "execution_count": 32,
   "outputs": [],
   "source": [
    "df_all.drop(df_all[df_all['Contract levels'] == ('All')].index,inplace=True)"
   ],
   "metadata": {
    "collapsed": false,
    "pycharm": {
     "name": "#%%\n"
    }
   }
  },
  {
   "cell_type": "code",
   "execution_count": 33,
   "outputs": [],
   "source": [
    "df_eth = df_all[df_all['Category Marker'].str.contains(\"Ethnicity\")==True]"
   ],
   "metadata": {
    "collapsed": false,
    "pycharm": {
     "name": "#%%\n"
    }
   }
  },
  {
   "cell_type": "code",
   "execution_count": 34,
   "outputs": [],
   "source": [
    "df_eth = df_eth.reset_index(drop=True)\n",
    "df_eth.drop('Category Marker', axis = 1,inplace = True)"
   ],
   "metadata": {
    "collapsed": false,
    "pycharm": {
     "name": "#%%\n"
    }
   }
  },
  {
   "cell_type": "code",
   "execution_count": 35,
   "outputs": [
    {
     "data": {
      "text/plain": "          UKPRN                 HE Provider Country of HE provider  \\\n0      10007783  The University of Aberdeen               Scotland   \n1      10007783  The University of Aberdeen               Scotland   \n2      10007783  The University of Aberdeen               Scotland   \n3      10007783  The University of Aberdeen               Scotland   \n4      10007783  The University of Aberdeen               Scotland   \n...         ...                         ...                    ...   \n53098  10007713     York St John University                England   \n53099  10007713     York St John University                England   \n53100  10007713     York St John University                England   \n53101  10007713     York St John University                England   \n53102  10007713     York St John University                England   \n\n          Region of HE provider   Terms of employment       Contract levels  \\\n0                      Scotland  Open-ended/Permanent  Other contract level   \n1                      Scotland  Open-ended/Permanent  Other contract level   \n2                      Scotland  Open-ended/Permanent  Other contract level   \n3                      Scotland  Open-ended/Permanent  Other contract level   \n4                      Scotland  Open-ended/Permanent  Other contract level   \n...                         ...                   ...                   ...   \n53098  Yorkshire and The Humber            Fixed-term          Non-academic   \n53099  Yorkshire and The Humber            Fixed-term  Other contract level   \n53100  Yorkshire and The Humber            Fixed-term  Other contract level   \n53101  Yorkshire and The Humber            Fixed-term  Other contract level   \n53102  Yorkshire and The Humber            Fixed-term  Other contract level   \n\n      Atypical marker           Contract marker Academic Year  Ethnicity  \\\n0        Non-atypical                  Academic       2014/15      White   \n1        Non-atypical                  Academic       2014/15      Black   \n2        Non-atypical                  Academic       2014/15      Asian   \n3        Non-atypical                  Academic       2014/15      Mixed   \n4        Non-atypical                  Academic       2014/15     Other    \n...               ...                       ...           ...        ...   \n53098    Non-atypical  All (excluding atypical)       2020/21      White   \n53099    Non-atypical  All (excluding atypical)       2020/21      White   \n53100    Non-atypical  All (excluding atypical)       2020/21      Asian   \n53101    Non-atypical  All (excluding atypical)       2020/21      Mixed   \n53102    Non-atypical  All (excluding atypical)       2020/21  Not known   \n\n       Number  \n0        1095  \n1          25  \n2         130  \n3          20  \n4          25  \n...       ...  \n53098      55  \n53099      80  \n53100       5  \n53101       5  \n53102       5  \n\n[53103 rows x 11 columns]",
      "text/html": "<div>\n<style scoped>\n    .dataframe tbody tr th:only-of-type {\n        vertical-align: middle;\n    }\n\n    .dataframe tbody tr th {\n        vertical-align: top;\n    }\n\n    .dataframe thead th {\n        text-align: right;\n    }\n</style>\n<table border=\"1\" class=\"dataframe\">\n  <thead>\n    <tr style=\"text-align: right;\">\n      <th></th>\n      <th>UKPRN</th>\n      <th>HE Provider</th>\n      <th>Country of HE provider</th>\n      <th>Region of HE provider</th>\n      <th>Terms of employment</th>\n      <th>Contract levels</th>\n      <th>Atypical marker</th>\n      <th>Contract marker</th>\n      <th>Academic Year</th>\n      <th>Ethnicity</th>\n      <th>Number</th>\n    </tr>\n  </thead>\n  <tbody>\n    <tr>\n      <th>0</th>\n      <td>10007783</td>\n      <td>The University of Aberdeen</td>\n      <td>Scotland</td>\n      <td>Scotland</td>\n      <td>Open-ended/Permanent</td>\n      <td>Other contract level</td>\n      <td>Non-atypical</td>\n      <td>Academic</td>\n      <td>2014/15</td>\n      <td>White</td>\n      <td>1095</td>\n    </tr>\n    <tr>\n      <th>1</th>\n      <td>10007783</td>\n      <td>The University of Aberdeen</td>\n      <td>Scotland</td>\n      <td>Scotland</td>\n      <td>Open-ended/Permanent</td>\n      <td>Other contract level</td>\n      <td>Non-atypical</td>\n      <td>Academic</td>\n      <td>2014/15</td>\n      <td>Black</td>\n      <td>25</td>\n    </tr>\n    <tr>\n      <th>2</th>\n      <td>10007783</td>\n      <td>The University of Aberdeen</td>\n      <td>Scotland</td>\n      <td>Scotland</td>\n      <td>Open-ended/Permanent</td>\n      <td>Other contract level</td>\n      <td>Non-atypical</td>\n      <td>Academic</td>\n      <td>2014/15</td>\n      <td>Asian</td>\n      <td>130</td>\n    </tr>\n    <tr>\n      <th>3</th>\n      <td>10007783</td>\n      <td>The University of Aberdeen</td>\n      <td>Scotland</td>\n      <td>Scotland</td>\n      <td>Open-ended/Permanent</td>\n      <td>Other contract level</td>\n      <td>Non-atypical</td>\n      <td>Academic</td>\n      <td>2014/15</td>\n      <td>Mixed</td>\n      <td>20</td>\n    </tr>\n    <tr>\n      <th>4</th>\n      <td>10007783</td>\n      <td>The University of Aberdeen</td>\n      <td>Scotland</td>\n      <td>Scotland</td>\n      <td>Open-ended/Permanent</td>\n      <td>Other contract level</td>\n      <td>Non-atypical</td>\n      <td>Academic</td>\n      <td>2014/15</td>\n      <td>Other</td>\n      <td>25</td>\n    </tr>\n    <tr>\n      <th>...</th>\n      <td>...</td>\n      <td>...</td>\n      <td>...</td>\n      <td>...</td>\n      <td>...</td>\n      <td>...</td>\n      <td>...</td>\n      <td>...</td>\n      <td>...</td>\n      <td>...</td>\n      <td>...</td>\n    </tr>\n    <tr>\n      <th>53098</th>\n      <td>10007713</td>\n      <td>York St John University</td>\n      <td>England</td>\n      <td>Yorkshire and The Humber</td>\n      <td>Fixed-term</td>\n      <td>Non-academic</td>\n      <td>Non-atypical</td>\n      <td>All (excluding atypical)</td>\n      <td>2020/21</td>\n      <td>White</td>\n      <td>55</td>\n    </tr>\n    <tr>\n      <th>53099</th>\n      <td>10007713</td>\n      <td>York St John University</td>\n      <td>England</td>\n      <td>Yorkshire and The Humber</td>\n      <td>Fixed-term</td>\n      <td>Other contract level</td>\n      <td>Non-atypical</td>\n      <td>All (excluding atypical)</td>\n      <td>2020/21</td>\n      <td>White</td>\n      <td>80</td>\n    </tr>\n    <tr>\n      <th>53100</th>\n      <td>10007713</td>\n      <td>York St John University</td>\n      <td>England</td>\n      <td>Yorkshire and The Humber</td>\n      <td>Fixed-term</td>\n      <td>Other contract level</td>\n      <td>Non-atypical</td>\n      <td>All (excluding atypical)</td>\n      <td>2020/21</td>\n      <td>Asian</td>\n      <td>5</td>\n    </tr>\n    <tr>\n      <th>53101</th>\n      <td>10007713</td>\n      <td>York St John University</td>\n      <td>England</td>\n      <td>Yorkshire and The Humber</td>\n      <td>Fixed-term</td>\n      <td>Other contract level</td>\n      <td>Non-atypical</td>\n      <td>All (excluding atypical)</td>\n      <td>2020/21</td>\n      <td>Mixed</td>\n      <td>5</td>\n    </tr>\n    <tr>\n      <th>53102</th>\n      <td>10007713</td>\n      <td>York St John University</td>\n      <td>England</td>\n      <td>Yorkshire and The Humber</td>\n      <td>Fixed-term</td>\n      <td>Other contract level</td>\n      <td>Non-atypical</td>\n      <td>All (excluding atypical)</td>\n      <td>2020/21</td>\n      <td>Not known</td>\n      <td>5</td>\n    </tr>\n  </tbody>\n</table>\n<p>53103 rows × 11 columns</p>\n</div>"
     },
     "execution_count": 35,
     "metadata": {},
     "output_type": "execute_result"
    }
   ],
   "source": [
    "df_eth.rename(columns = {'Category' :'Ethnicity'})"
   ],
   "metadata": {
    "collapsed": false,
    "pycharm": {
     "name": "#%%\n"
    }
   }
  },
  {
   "cell_type": "code",
   "execution_count": 36,
   "outputs": [
    {
     "data": {
      "text/plain": "          UKPRN                 HE Provider Country of HE provider  \\\n0      10007783  The University of Aberdeen               Scotland   \n1      10007783  The University of Aberdeen               Scotland   \n2      10007783  The University of Aberdeen               Scotland   \n3      10007783  The University of Aberdeen               Scotland   \n4      10007783  The University of Aberdeen               Scotland   \n...         ...                         ...                    ...   \n53098  10007713     York St John University                England   \n53099  10007713     York St John University                England   \n53100  10007713     York St John University                England   \n53101  10007713     York St John University                England   \n53102  10007713     York St John University                England   \n\n          Region of HE provider   Terms of employment       Contract levels  \\\n0                      Scotland  Open-ended/Permanent  Other contract level   \n1                      Scotland  Open-ended/Permanent  Other contract level   \n2                      Scotland  Open-ended/Permanent  Other contract level   \n3                      Scotland  Open-ended/Permanent  Other contract level   \n4                      Scotland  Open-ended/Permanent  Other contract level   \n...                         ...                   ...                   ...   \n53098  Yorkshire and The Humber            Fixed-term          Non-academic   \n53099  Yorkshire and The Humber            Fixed-term  Other contract level   \n53100  Yorkshire and The Humber            Fixed-term  Other contract level   \n53101  Yorkshire and The Humber            Fixed-term  Other contract level   \n53102  Yorkshire and The Humber            Fixed-term  Other contract level   \n\n      Atypical marker           Contract marker Academic Year   Category  \\\n0        Non-atypical                  Academic       2014/15      White   \n1        Non-atypical                  Academic       2014/15      Black   \n2        Non-atypical                  Academic       2014/15      Asian   \n3        Non-atypical                  Academic       2014/15      Mixed   \n4        Non-atypical                  Academic       2014/15     Other    \n...               ...                       ...           ...        ...   \n53098    Non-atypical  All (excluding atypical)       2020/21      White   \n53099    Non-atypical  All (excluding atypical)       2020/21      White   \n53100    Non-atypical  All (excluding atypical)       2020/21      Asian   \n53101    Non-atypical  All (excluding atypical)       2020/21      Mixed   \n53102    Non-atypical  All (excluding atypical)       2020/21  Not known   \n\n       Number  \n0        1095  \n1          25  \n2         130  \n3          20  \n4          25  \n...       ...  \n53098      55  \n53099      80  \n53100       5  \n53101       5  \n53102       5  \n\n[53103 rows x 11 columns]",
      "text/html": "<div>\n<style scoped>\n    .dataframe tbody tr th:only-of-type {\n        vertical-align: middle;\n    }\n\n    .dataframe tbody tr th {\n        vertical-align: top;\n    }\n\n    .dataframe thead th {\n        text-align: right;\n    }\n</style>\n<table border=\"1\" class=\"dataframe\">\n  <thead>\n    <tr style=\"text-align: right;\">\n      <th></th>\n      <th>UKPRN</th>\n      <th>HE Provider</th>\n      <th>Country of HE provider</th>\n      <th>Region of HE provider</th>\n      <th>Terms of employment</th>\n      <th>Contract levels</th>\n      <th>Atypical marker</th>\n      <th>Contract marker</th>\n      <th>Academic Year</th>\n      <th>Category</th>\n      <th>Number</th>\n    </tr>\n  </thead>\n  <tbody>\n    <tr>\n      <th>0</th>\n      <td>10007783</td>\n      <td>The University of Aberdeen</td>\n      <td>Scotland</td>\n      <td>Scotland</td>\n      <td>Open-ended/Permanent</td>\n      <td>Other contract level</td>\n      <td>Non-atypical</td>\n      <td>Academic</td>\n      <td>2014/15</td>\n      <td>White</td>\n      <td>1095</td>\n    </tr>\n    <tr>\n      <th>1</th>\n      <td>10007783</td>\n      <td>The University of Aberdeen</td>\n      <td>Scotland</td>\n      <td>Scotland</td>\n      <td>Open-ended/Permanent</td>\n      <td>Other contract level</td>\n      <td>Non-atypical</td>\n      <td>Academic</td>\n      <td>2014/15</td>\n      <td>Black</td>\n      <td>25</td>\n    </tr>\n    <tr>\n      <th>2</th>\n      <td>10007783</td>\n      <td>The University of Aberdeen</td>\n      <td>Scotland</td>\n      <td>Scotland</td>\n      <td>Open-ended/Permanent</td>\n      <td>Other contract level</td>\n      <td>Non-atypical</td>\n      <td>Academic</td>\n      <td>2014/15</td>\n      <td>Asian</td>\n      <td>130</td>\n    </tr>\n    <tr>\n      <th>3</th>\n      <td>10007783</td>\n      <td>The University of Aberdeen</td>\n      <td>Scotland</td>\n      <td>Scotland</td>\n      <td>Open-ended/Permanent</td>\n      <td>Other contract level</td>\n      <td>Non-atypical</td>\n      <td>Academic</td>\n      <td>2014/15</td>\n      <td>Mixed</td>\n      <td>20</td>\n    </tr>\n    <tr>\n      <th>4</th>\n      <td>10007783</td>\n      <td>The University of Aberdeen</td>\n      <td>Scotland</td>\n      <td>Scotland</td>\n      <td>Open-ended/Permanent</td>\n      <td>Other contract level</td>\n      <td>Non-atypical</td>\n      <td>Academic</td>\n      <td>2014/15</td>\n      <td>Other</td>\n      <td>25</td>\n    </tr>\n    <tr>\n      <th>...</th>\n      <td>...</td>\n      <td>...</td>\n      <td>...</td>\n      <td>...</td>\n      <td>...</td>\n      <td>...</td>\n      <td>...</td>\n      <td>...</td>\n      <td>...</td>\n      <td>...</td>\n      <td>...</td>\n    </tr>\n    <tr>\n      <th>53098</th>\n      <td>10007713</td>\n      <td>York St John University</td>\n      <td>England</td>\n      <td>Yorkshire and The Humber</td>\n      <td>Fixed-term</td>\n      <td>Non-academic</td>\n      <td>Non-atypical</td>\n      <td>All (excluding atypical)</td>\n      <td>2020/21</td>\n      <td>White</td>\n      <td>55</td>\n    </tr>\n    <tr>\n      <th>53099</th>\n      <td>10007713</td>\n      <td>York St John University</td>\n      <td>England</td>\n      <td>Yorkshire and The Humber</td>\n      <td>Fixed-term</td>\n      <td>Other contract level</td>\n      <td>Non-atypical</td>\n      <td>All (excluding atypical)</td>\n      <td>2020/21</td>\n      <td>White</td>\n      <td>80</td>\n    </tr>\n    <tr>\n      <th>53100</th>\n      <td>10007713</td>\n      <td>York St John University</td>\n      <td>England</td>\n      <td>Yorkshire and The Humber</td>\n      <td>Fixed-term</td>\n      <td>Other contract level</td>\n      <td>Non-atypical</td>\n      <td>All (excluding atypical)</td>\n      <td>2020/21</td>\n      <td>Asian</td>\n      <td>5</td>\n    </tr>\n    <tr>\n      <th>53101</th>\n      <td>10007713</td>\n      <td>York St John University</td>\n      <td>England</td>\n      <td>Yorkshire and The Humber</td>\n      <td>Fixed-term</td>\n      <td>Other contract level</td>\n      <td>Non-atypical</td>\n      <td>All (excluding atypical)</td>\n      <td>2020/21</td>\n      <td>Mixed</td>\n      <td>5</td>\n    </tr>\n    <tr>\n      <th>53102</th>\n      <td>10007713</td>\n      <td>York St John University</td>\n      <td>England</td>\n      <td>Yorkshire and The Humber</td>\n      <td>Fixed-term</td>\n      <td>Other contract level</td>\n      <td>Non-atypical</td>\n      <td>All (excluding atypical)</td>\n      <td>2020/21</td>\n      <td>Not known</td>\n      <td>5</td>\n    </tr>\n  </tbody>\n</table>\n<p>53103 rows × 11 columns</p>\n</div>"
     },
     "execution_count": 36,
     "metadata": {},
     "output_type": "execute_result"
    }
   ],
   "source": [
    "df_eth"
   ],
   "metadata": {
    "collapsed": false,
    "pycharm": {
     "name": "#%%\n"
    }
   }
  },
  {
   "cell_type": "code",
   "execution_count": 37,
   "outputs": [],
   "source": [
    "df_sex = df_all[df_all['Category Marker'].str.contains(\"Sex\")==True]"
   ],
   "metadata": {
    "collapsed": false,
    "pycharm": {
     "name": "#%%\n"
    }
   }
  },
  {
   "cell_type": "code",
   "execution_count": 38,
   "outputs": [],
   "source": [
    "df_sex = df_sex.reset_index(drop=True)\n",
    "df_sex.drop('Category Marker', axis = 1,inplace = True)"
   ],
   "metadata": {
    "collapsed": false,
    "pycharm": {
     "name": "#%%\n"
    }
   }
  },
  {
   "cell_type": "code",
   "execution_count": 39,
   "outputs": [
    {
     "data": {
      "text/plain": "          UKPRN                 HE Provider Country of HE provider  \\\n0      10007783  The University of Aberdeen               Scotland   \n1      10007783  The University of Aberdeen               Scotland   \n2      10007783  The University of Aberdeen               Scotland   \n3      10007783  The University of Aberdeen               Scotland   \n4      10007783  The University of Aberdeen               Scotland   \n...         ...                         ...                    ...   \n29431  10007713     York St John University                England   \n29432  10007713     York St John University                England   \n29433  10007713     York St John University                England   \n29434  10007713     York St John University                England   \n29435  10007713     York St John University                England   \n\n          Region of HE provider   Terms of employment        Contract levels  \\\n0                      Scotland  Open-ended/Permanent   Other contract level   \n1                      Scotland  Open-ended/Permanent   Other contract level   \n2                      Scotland  Open-ended/Permanent  Other senior academic   \n3                      Scotland  Open-ended/Permanent  Other senior academic   \n4                      Scotland  Open-ended/Permanent              Professor   \n...                         ...                   ...                    ...   \n29431  Yorkshire and The Humber  Open-ended/Permanent              Professor   \n29432  Yorkshire and The Humber            Fixed-term           Non-academic   \n29433  Yorkshire and The Humber            Fixed-term           Non-academic   \n29434  Yorkshire and The Humber            Fixed-term   Other contract level   \n29435  Yorkshire and The Humber            Fixed-term   Other contract level   \n\n      Atypical marker           Contract marker Academic Year     Sex  Number  \n0        Non-atypical                  Academic       2014/15  Female     650  \n1        Non-atypical                  Academic       2014/15    Male     695  \n2        Non-atypical                  Academic       2014/15  Female      10  \n3        Non-atypical                  Academic       2014/15    Male      15  \n4        Non-atypical                  Academic       2014/15  Female      55  \n...               ...                       ...           ...     ...     ...  \n29431    Non-atypical  All (excluding atypical)       2020/21    Male      10  \n29432    Non-atypical  All (excluding atypical)       2020/21  Female      40  \n29433    Non-atypical  All (excluding atypical)       2020/21    Male      20  \n29434    Non-atypical  All (excluding atypical)       2020/21  Female      45  \n29435    Non-atypical  All (excluding atypical)       2020/21    Male      50  \n\n[29436 rows x 11 columns]",
      "text/html": "<div>\n<style scoped>\n    .dataframe tbody tr th:only-of-type {\n        vertical-align: middle;\n    }\n\n    .dataframe tbody tr th {\n        vertical-align: top;\n    }\n\n    .dataframe thead th {\n        text-align: right;\n    }\n</style>\n<table border=\"1\" class=\"dataframe\">\n  <thead>\n    <tr style=\"text-align: right;\">\n      <th></th>\n      <th>UKPRN</th>\n      <th>HE Provider</th>\n      <th>Country of HE provider</th>\n      <th>Region of HE provider</th>\n      <th>Terms of employment</th>\n      <th>Contract levels</th>\n      <th>Atypical marker</th>\n      <th>Contract marker</th>\n      <th>Academic Year</th>\n      <th>Sex</th>\n      <th>Number</th>\n    </tr>\n  </thead>\n  <tbody>\n    <tr>\n      <th>0</th>\n      <td>10007783</td>\n      <td>The University of Aberdeen</td>\n      <td>Scotland</td>\n      <td>Scotland</td>\n      <td>Open-ended/Permanent</td>\n      <td>Other contract level</td>\n      <td>Non-atypical</td>\n      <td>Academic</td>\n      <td>2014/15</td>\n      <td>Female</td>\n      <td>650</td>\n    </tr>\n    <tr>\n      <th>1</th>\n      <td>10007783</td>\n      <td>The University of Aberdeen</td>\n      <td>Scotland</td>\n      <td>Scotland</td>\n      <td>Open-ended/Permanent</td>\n      <td>Other contract level</td>\n      <td>Non-atypical</td>\n      <td>Academic</td>\n      <td>2014/15</td>\n      <td>Male</td>\n      <td>695</td>\n    </tr>\n    <tr>\n      <th>2</th>\n      <td>10007783</td>\n      <td>The University of Aberdeen</td>\n      <td>Scotland</td>\n      <td>Scotland</td>\n      <td>Open-ended/Permanent</td>\n      <td>Other senior academic</td>\n      <td>Non-atypical</td>\n      <td>Academic</td>\n      <td>2014/15</td>\n      <td>Female</td>\n      <td>10</td>\n    </tr>\n    <tr>\n      <th>3</th>\n      <td>10007783</td>\n      <td>The University of Aberdeen</td>\n      <td>Scotland</td>\n      <td>Scotland</td>\n      <td>Open-ended/Permanent</td>\n      <td>Other senior academic</td>\n      <td>Non-atypical</td>\n      <td>Academic</td>\n      <td>2014/15</td>\n      <td>Male</td>\n      <td>15</td>\n    </tr>\n    <tr>\n      <th>4</th>\n      <td>10007783</td>\n      <td>The University of Aberdeen</td>\n      <td>Scotland</td>\n      <td>Scotland</td>\n      <td>Open-ended/Permanent</td>\n      <td>Professor</td>\n      <td>Non-atypical</td>\n      <td>Academic</td>\n      <td>2014/15</td>\n      <td>Female</td>\n      <td>55</td>\n    </tr>\n    <tr>\n      <th>...</th>\n      <td>...</td>\n      <td>...</td>\n      <td>...</td>\n      <td>...</td>\n      <td>...</td>\n      <td>...</td>\n      <td>...</td>\n      <td>...</td>\n      <td>...</td>\n      <td>...</td>\n      <td>...</td>\n    </tr>\n    <tr>\n      <th>29431</th>\n      <td>10007713</td>\n      <td>York St John University</td>\n      <td>England</td>\n      <td>Yorkshire and The Humber</td>\n      <td>Open-ended/Permanent</td>\n      <td>Professor</td>\n      <td>Non-atypical</td>\n      <td>All (excluding atypical)</td>\n      <td>2020/21</td>\n      <td>Male</td>\n      <td>10</td>\n    </tr>\n    <tr>\n      <th>29432</th>\n      <td>10007713</td>\n      <td>York St John University</td>\n      <td>England</td>\n      <td>Yorkshire and The Humber</td>\n      <td>Fixed-term</td>\n      <td>Non-academic</td>\n      <td>Non-atypical</td>\n      <td>All (excluding atypical)</td>\n      <td>2020/21</td>\n      <td>Female</td>\n      <td>40</td>\n    </tr>\n    <tr>\n      <th>29433</th>\n      <td>10007713</td>\n      <td>York St John University</td>\n      <td>England</td>\n      <td>Yorkshire and The Humber</td>\n      <td>Fixed-term</td>\n      <td>Non-academic</td>\n      <td>Non-atypical</td>\n      <td>All (excluding atypical)</td>\n      <td>2020/21</td>\n      <td>Male</td>\n      <td>20</td>\n    </tr>\n    <tr>\n      <th>29434</th>\n      <td>10007713</td>\n      <td>York St John University</td>\n      <td>England</td>\n      <td>Yorkshire and The Humber</td>\n      <td>Fixed-term</td>\n      <td>Other contract level</td>\n      <td>Non-atypical</td>\n      <td>All (excluding atypical)</td>\n      <td>2020/21</td>\n      <td>Female</td>\n      <td>45</td>\n    </tr>\n    <tr>\n      <th>29435</th>\n      <td>10007713</td>\n      <td>York St John University</td>\n      <td>England</td>\n      <td>Yorkshire and The Humber</td>\n      <td>Fixed-term</td>\n      <td>Other contract level</td>\n      <td>Non-atypical</td>\n      <td>All (excluding atypical)</td>\n      <td>2020/21</td>\n      <td>Male</td>\n      <td>50</td>\n    </tr>\n  </tbody>\n</table>\n<p>29436 rows × 11 columns</p>\n</div>"
     },
     "execution_count": 39,
     "metadata": {},
     "output_type": "execute_result"
    }
   ],
   "source": [
    "df_sex.rename(columns = {'Category' :'Sex'})"
   ],
   "metadata": {
    "collapsed": false,
    "pycharm": {
     "name": "#%%\n"
    }
   }
  },
  {
   "cell_type": "code",
   "execution_count": 40,
   "outputs": [
    {
     "data": {
      "text/plain": "          UKPRN                 HE Provider Country of HE provider  \\\n0      10007783  The University of Aberdeen               Scotland   \n1      10007783  The University of Aberdeen               Scotland   \n2      10007783  The University of Aberdeen               Scotland   \n3      10007783  The University of Aberdeen               Scotland   \n4      10007783  The University of Aberdeen               Scotland   \n...         ...                         ...                    ...   \n29431  10007713     York St John University                England   \n29432  10007713     York St John University                England   \n29433  10007713     York St John University                England   \n29434  10007713     York St John University                England   \n29435  10007713     York St John University                England   \n\n          Region of HE provider   Terms of employment        Contract levels  \\\n0                      Scotland  Open-ended/Permanent   Other contract level   \n1                      Scotland  Open-ended/Permanent   Other contract level   \n2                      Scotland  Open-ended/Permanent  Other senior academic   \n3                      Scotland  Open-ended/Permanent  Other senior academic   \n4                      Scotland  Open-ended/Permanent              Professor   \n...                         ...                   ...                    ...   \n29431  Yorkshire and The Humber  Open-ended/Permanent              Professor   \n29432  Yorkshire and The Humber            Fixed-term           Non-academic   \n29433  Yorkshire and The Humber            Fixed-term           Non-academic   \n29434  Yorkshire and The Humber            Fixed-term   Other contract level   \n29435  Yorkshire and The Humber            Fixed-term   Other contract level   \n\n      Atypical marker           Contract marker Academic Year Category  Number  \n0        Non-atypical                  Academic       2014/15   Female     650  \n1        Non-atypical                  Academic       2014/15     Male     695  \n2        Non-atypical                  Academic       2014/15   Female      10  \n3        Non-atypical                  Academic       2014/15     Male      15  \n4        Non-atypical                  Academic       2014/15   Female      55  \n...               ...                       ...           ...      ...     ...  \n29431    Non-atypical  All (excluding atypical)       2020/21     Male      10  \n29432    Non-atypical  All (excluding atypical)       2020/21   Female      40  \n29433    Non-atypical  All (excluding atypical)       2020/21     Male      20  \n29434    Non-atypical  All (excluding atypical)       2020/21   Female      45  \n29435    Non-atypical  All (excluding atypical)       2020/21     Male      50  \n\n[29436 rows x 11 columns]",
      "text/html": "<div>\n<style scoped>\n    .dataframe tbody tr th:only-of-type {\n        vertical-align: middle;\n    }\n\n    .dataframe tbody tr th {\n        vertical-align: top;\n    }\n\n    .dataframe thead th {\n        text-align: right;\n    }\n</style>\n<table border=\"1\" class=\"dataframe\">\n  <thead>\n    <tr style=\"text-align: right;\">\n      <th></th>\n      <th>UKPRN</th>\n      <th>HE Provider</th>\n      <th>Country of HE provider</th>\n      <th>Region of HE provider</th>\n      <th>Terms of employment</th>\n      <th>Contract levels</th>\n      <th>Atypical marker</th>\n      <th>Contract marker</th>\n      <th>Academic Year</th>\n      <th>Category</th>\n      <th>Number</th>\n    </tr>\n  </thead>\n  <tbody>\n    <tr>\n      <th>0</th>\n      <td>10007783</td>\n      <td>The University of Aberdeen</td>\n      <td>Scotland</td>\n      <td>Scotland</td>\n      <td>Open-ended/Permanent</td>\n      <td>Other contract level</td>\n      <td>Non-atypical</td>\n      <td>Academic</td>\n      <td>2014/15</td>\n      <td>Female</td>\n      <td>650</td>\n    </tr>\n    <tr>\n      <th>1</th>\n      <td>10007783</td>\n      <td>The University of Aberdeen</td>\n      <td>Scotland</td>\n      <td>Scotland</td>\n      <td>Open-ended/Permanent</td>\n      <td>Other contract level</td>\n      <td>Non-atypical</td>\n      <td>Academic</td>\n      <td>2014/15</td>\n      <td>Male</td>\n      <td>695</td>\n    </tr>\n    <tr>\n      <th>2</th>\n      <td>10007783</td>\n      <td>The University of Aberdeen</td>\n      <td>Scotland</td>\n      <td>Scotland</td>\n      <td>Open-ended/Permanent</td>\n      <td>Other senior academic</td>\n      <td>Non-atypical</td>\n      <td>Academic</td>\n      <td>2014/15</td>\n      <td>Female</td>\n      <td>10</td>\n    </tr>\n    <tr>\n      <th>3</th>\n      <td>10007783</td>\n      <td>The University of Aberdeen</td>\n      <td>Scotland</td>\n      <td>Scotland</td>\n      <td>Open-ended/Permanent</td>\n      <td>Other senior academic</td>\n      <td>Non-atypical</td>\n      <td>Academic</td>\n      <td>2014/15</td>\n      <td>Male</td>\n      <td>15</td>\n    </tr>\n    <tr>\n      <th>4</th>\n      <td>10007783</td>\n      <td>The University of Aberdeen</td>\n      <td>Scotland</td>\n      <td>Scotland</td>\n      <td>Open-ended/Permanent</td>\n      <td>Professor</td>\n      <td>Non-atypical</td>\n      <td>Academic</td>\n      <td>2014/15</td>\n      <td>Female</td>\n      <td>55</td>\n    </tr>\n    <tr>\n      <th>...</th>\n      <td>...</td>\n      <td>...</td>\n      <td>...</td>\n      <td>...</td>\n      <td>...</td>\n      <td>...</td>\n      <td>...</td>\n      <td>...</td>\n      <td>...</td>\n      <td>...</td>\n      <td>...</td>\n    </tr>\n    <tr>\n      <th>29431</th>\n      <td>10007713</td>\n      <td>York St John University</td>\n      <td>England</td>\n      <td>Yorkshire and The Humber</td>\n      <td>Open-ended/Permanent</td>\n      <td>Professor</td>\n      <td>Non-atypical</td>\n      <td>All (excluding atypical)</td>\n      <td>2020/21</td>\n      <td>Male</td>\n      <td>10</td>\n    </tr>\n    <tr>\n      <th>29432</th>\n      <td>10007713</td>\n      <td>York St John University</td>\n      <td>England</td>\n      <td>Yorkshire and The Humber</td>\n      <td>Fixed-term</td>\n      <td>Non-academic</td>\n      <td>Non-atypical</td>\n      <td>All (excluding atypical)</td>\n      <td>2020/21</td>\n      <td>Female</td>\n      <td>40</td>\n    </tr>\n    <tr>\n      <th>29433</th>\n      <td>10007713</td>\n      <td>York St John University</td>\n      <td>England</td>\n      <td>Yorkshire and The Humber</td>\n      <td>Fixed-term</td>\n      <td>Non-academic</td>\n      <td>Non-atypical</td>\n      <td>All (excluding atypical)</td>\n      <td>2020/21</td>\n      <td>Male</td>\n      <td>20</td>\n    </tr>\n    <tr>\n      <th>29434</th>\n      <td>10007713</td>\n      <td>York St John University</td>\n      <td>England</td>\n      <td>Yorkshire and The Humber</td>\n      <td>Fixed-term</td>\n      <td>Other contract level</td>\n      <td>Non-atypical</td>\n      <td>All (excluding atypical)</td>\n      <td>2020/21</td>\n      <td>Female</td>\n      <td>45</td>\n    </tr>\n    <tr>\n      <th>29435</th>\n      <td>10007713</td>\n      <td>York St John University</td>\n      <td>England</td>\n      <td>Yorkshire and The Humber</td>\n      <td>Fixed-term</td>\n      <td>Other contract level</td>\n      <td>Non-atypical</td>\n      <td>All (excluding atypical)</td>\n      <td>2020/21</td>\n      <td>Male</td>\n      <td>50</td>\n    </tr>\n  </tbody>\n</table>\n<p>29436 rows × 11 columns</p>\n</div>"
     },
     "execution_count": 40,
     "metadata": {},
     "output_type": "execute_result"
    }
   ],
   "source": [
    "df_sex"
   ],
   "metadata": {
    "collapsed": false,
    "pycharm": {
     "name": "#%%\n"
    }
   }
  },
  {
   "cell_type": "code",
   "execution_count": 41,
   "outputs": [],
   "source": [
    "df_agegrp = df_all[df_all['Category Marker'].str.contains(\"Age group\")==True]"
   ],
   "metadata": {
    "collapsed": false,
    "pycharm": {
     "name": "#%%\n"
    }
   }
  },
  {
   "cell_type": "code",
   "execution_count": 42,
   "outputs": [],
   "source": [
    "df_agegrp = df_agegrp.reset_index(drop=True)\n",
    "df_agegrp.drop('Category Marker', axis = 1,inplace = True)"
   ],
   "metadata": {
    "collapsed": false,
    "pycharm": {
     "name": "#%%\n"
    }
   }
  },
  {
   "cell_type": "code",
   "execution_count": 43,
   "outputs": [
    {
     "data": {
      "text/plain": "           UKPRN                 HE Provider Country of HE provider  \\\n0       10007783  The University of Aberdeen               Scotland   \n1       10007783  The University of Aberdeen               Scotland   \n2       10007783  The University of Aberdeen               Scotland   \n3       10007783  The University of Aberdeen               Scotland   \n4       10007783  The University of Aberdeen               Scotland   \n...          ...                         ...                    ...   \n102438  10007713     York St John University                England   \n102439  10007713     York St John University                England   \n102440  10007713     York St John University                England   \n102441  10007713     York St John University                England   \n102442  10007713     York St John University                England   \n\n           Region of HE provider   Terms of employment       Contract levels  \\\n0                       Scotland  Open-ended/Permanent  Other contract level   \n1                       Scotland  Open-ended/Permanent  Other contract level   \n2                       Scotland  Open-ended/Permanent  Other contract level   \n3                       Scotland  Open-ended/Permanent  Other contract level   \n4                       Scotland  Open-ended/Permanent  Other contract level   \n...                          ...                   ...                   ...   \n102438  Yorkshire and The Humber            Fixed-term  Other contract level   \n102439  Yorkshire and The Humber            Fixed-term  Other contract level   \n102440  Yorkshire and The Humber            Fixed-term  Other contract level   \n102441  Yorkshire and The Humber            Fixed-term  Other contract level   \n102442  Yorkshire and The Humber            Fixed-term  Other contract level   \n\n       Atypical marker           Contract marker Academic Year     Age group  \\\n0         Non-atypical                  Academic       2014/15  25 and under   \n1         Non-atypical                  Academic       2014/15       26 - 30   \n2         Non-atypical                  Academic       2014/15         31-35   \n3         Non-atypical                  Academic       2014/15         36-40   \n4         Non-atypical                  Academic       2014/15         41-45   \n...                ...                       ...           ...           ...   \n102438    Non-atypical  All (excluding atypical)       2020/21         46-50   \n102439    Non-atypical  All (excluding atypical)       2020/21         51-55   \n102440    Non-atypical  All (excluding atypical)       2020/21         56-60   \n102441    Non-atypical  All (excluding atypical)       2020/21         61-65   \n102442    Non-atypical  All (excluding atypical)       2020/21   66 and over   \n\n        Number  \n0           30  \n1          165  \n2          250  \n3          230  \n4          220  \n...        ...  \n102438       5  \n102439       5  \n102440       5  \n102441       5  \n102442       5  \n\n[102443 rows x 11 columns]",
      "text/html": "<div>\n<style scoped>\n    .dataframe tbody tr th:only-of-type {\n        vertical-align: middle;\n    }\n\n    .dataframe tbody tr th {\n        vertical-align: top;\n    }\n\n    .dataframe thead th {\n        text-align: right;\n    }\n</style>\n<table border=\"1\" class=\"dataframe\">\n  <thead>\n    <tr style=\"text-align: right;\">\n      <th></th>\n      <th>UKPRN</th>\n      <th>HE Provider</th>\n      <th>Country of HE provider</th>\n      <th>Region of HE provider</th>\n      <th>Terms of employment</th>\n      <th>Contract levels</th>\n      <th>Atypical marker</th>\n      <th>Contract marker</th>\n      <th>Academic Year</th>\n      <th>Age group</th>\n      <th>Number</th>\n    </tr>\n  </thead>\n  <tbody>\n    <tr>\n      <th>0</th>\n      <td>10007783</td>\n      <td>The University of Aberdeen</td>\n      <td>Scotland</td>\n      <td>Scotland</td>\n      <td>Open-ended/Permanent</td>\n      <td>Other contract level</td>\n      <td>Non-atypical</td>\n      <td>Academic</td>\n      <td>2014/15</td>\n      <td>25 and under</td>\n      <td>30</td>\n    </tr>\n    <tr>\n      <th>1</th>\n      <td>10007783</td>\n      <td>The University of Aberdeen</td>\n      <td>Scotland</td>\n      <td>Scotland</td>\n      <td>Open-ended/Permanent</td>\n      <td>Other contract level</td>\n      <td>Non-atypical</td>\n      <td>Academic</td>\n      <td>2014/15</td>\n      <td>26 - 30</td>\n      <td>165</td>\n    </tr>\n    <tr>\n      <th>2</th>\n      <td>10007783</td>\n      <td>The University of Aberdeen</td>\n      <td>Scotland</td>\n      <td>Scotland</td>\n      <td>Open-ended/Permanent</td>\n      <td>Other contract level</td>\n      <td>Non-atypical</td>\n      <td>Academic</td>\n      <td>2014/15</td>\n      <td>31-35</td>\n      <td>250</td>\n    </tr>\n    <tr>\n      <th>3</th>\n      <td>10007783</td>\n      <td>The University of Aberdeen</td>\n      <td>Scotland</td>\n      <td>Scotland</td>\n      <td>Open-ended/Permanent</td>\n      <td>Other contract level</td>\n      <td>Non-atypical</td>\n      <td>Academic</td>\n      <td>2014/15</td>\n      <td>36-40</td>\n      <td>230</td>\n    </tr>\n    <tr>\n      <th>4</th>\n      <td>10007783</td>\n      <td>The University of Aberdeen</td>\n      <td>Scotland</td>\n      <td>Scotland</td>\n      <td>Open-ended/Permanent</td>\n      <td>Other contract level</td>\n      <td>Non-atypical</td>\n      <td>Academic</td>\n      <td>2014/15</td>\n      <td>41-45</td>\n      <td>220</td>\n    </tr>\n    <tr>\n      <th>...</th>\n      <td>...</td>\n      <td>...</td>\n      <td>...</td>\n      <td>...</td>\n      <td>...</td>\n      <td>...</td>\n      <td>...</td>\n      <td>...</td>\n      <td>...</td>\n      <td>...</td>\n      <td>...</td>\n    </tr>\n    <tr>\n      <th>102438</th>\n      <td>10007713</td>\n      <td>York St John University</td>\n      <td>England</td>\n      <td>Yorkshire and The Humber</td>\n      <td>Fixed-term</td>\n      <td>Other contract level</td>\n      <td>Non-atypical</td>\n      <td>All (excluding atypical)</td>\n      <td>2020/21</td>\n      <td>46-50</td>\n      <td>5</td>\n    </tr>\n    <tr>\n      <th>102439</th>\n      <td>10007713</td>\n      <td>York St John University</td>\n      <td>England</td>\n      <td>Yorkshire and The Humber</td>\n      <td>Fixed-term</td>\n      <td>Other contract level</td>\n      <td>Non-atypical</td>\n      <td>All (excluding atypical)</td>\n      <td>2020/21</td>\n      <td>51-55</td>\n      <td>5</td>\n    </tr>\n    <tr>\n      <th>102440</th>\n      <td>10007713</td>\n      <td>York St John University</td>\n      <td>England</td>\n      <td>Yorkshire and The Humber</td>\n      <td>Fixed-term</td>\n      <td>Other contract level</td>\n      <td>Non-atypical</td>\n      <td>All (excluding atypical)</td>\n      <td>2020/21</td>\n      <td>56-60</td>\n      <td>5</td>\n    </tr>\n    <tr>\n      <th>102441</th>\n      <td>10007713</td>\n      <td>York St John University</td>\n      <td>England</td>\n      <td>Yorkshire and The Humber</td>\n      <td>Fixed-term</td>\n      <td>Other contract level</td>\n      <td>Non-atypical</td>\n      <td>All (excluding atypical)</td>\n      <td>2020/21</td>\n      <td>61-65</td>\n      <td>5</td>\n    </tr>\n    <tr>\n      <th>102442</th>\n      <td>10007713</td>\n      <td>York St John University</td>\n      <td>England</td>\n      <td>Yorkshire and The Humber</td>\n      <td>Fixed-term</td>\n      <td>Other contract level</td>\n      <td>Non-atypical</td>\n      <td>All (excluding atypical)</td>\n      <td>2020/21</td>\n      <td>66 and over</td>\n      <td>5</td>\n    </tr>\n  </tbody>\n</table>\n<p>102443 rows × 11 columns</p>\n</div>"
     },
     "execution_count": 43,
     "metadata": {},
     "output_type": "execute_result"
    }
   ],
   "source": [
    "df_agegrp.rename(columns = {'Category' :'Age group'})"
   ],
   "metadata": {
    "collapsed": false,
    "pycharm": {
     "name": "#%%\n"
    }
   }
  },
  {
   "cell_type": "code",
   "execution_count": 44,
   "outputs": [
    {
     "data": {
      "text/plain": "           UKPRN                 HE Provider Country of HE provider  \\\n0       10007783  The University of Aberdeen               Scotland   \n1       10007783  The University of Aberdeen               Scotland   \n2       10007783  The University of Aberdeen               Scotland   \n3       10007783  The University of Aberdeen               Scotland   \n4       10007783  The University of Aberdeen               Scotland   \n...          ...                         ...                    ...   \n102438  10007713     York St John University                England   \n102439  10007713     York St John University                England   \n102440  10007713     York St John University                England   \n102441  10007713     York St John University                England   \n102442  10007713     York St John University                England   \n\n           Region of HE provider   Terms of employment       Contract levels  \\\n0                       Scotland  Open-ended/Permanent  Other contract level   \n1                       Scotland  Open-ended/Permanent  Other contract level   \n2                       Scotland  Open-ended/Permanent  Other contract level   \n3                       Scotland  Open-ended/Permanent  Other contract level   \n4                       Scotland  Open-ended/Permanent  Other contract level   \n...                          ...                   ...                   ...   \n102438  Yorkshire and The Humber            Fixed-term  Other contract level   \n102439  Yorkshire and The Humber            Fixed-term  Other contract level   \n102440  Yorkshire and The Humber            Fixed-term  Other contract level   \n102441  Yorkshire and The Humber            Fixed-term  Other contract level   \n102442  Yorkshire and The Humber            Fixed-term  Other contract level   \n\n       Atypical marker           Contract marker Academic Year      Category  \\\n0         Non-atypical                  Academic       2014/15  25 and under   \n1         Non-atypical                  Academic       2014/15       26 - 30   \n2         Non-atypical                  Academic       2014/15         31-35   \n3         Non-atypical                  Academic       2014/15         36-40   \n4         Non-atypical                  Academic       2014/15         41-45   \n...                ...                       ...           ...           ...   \n102438    Non-atypical  All (excluding atypical)       2020/21         46-50   \n102439    Non-atypical  All (excluding atypical)       2020/21         51-55   \n102440    Non-atypical  All (excluding atypical)       2020/21         56-60   \n102441    Non-atypical  All (excluding atypical)       2020/21         61-65   \n102442    Non-atypical  All (excluding atypical)       2020/21   66 and over   \n\n        Number  \n0           30  \n1          165  \n2          250  \n3          230  \n4          220  \n...        ...  \n102438       5  \n102439       5  \n102440       5  \n102441       5  \n102442       5  \n\n[102443 rows x 11 columns]",
      "text/html": "<div>\n<style scoped>\n    .dataframe tbody tr th:only-of-type {\n        vertical-align: middle;\n    }\n\n    .dataframe tbody tr th {\n        vertical-align: top;\n    }\n\n    .dataframe thead th {\n        text-align: right;\n    }\n</style>\n<table border=\"1\" class=\"dataframe\">\n  <thead>\n    <tr style=\"text-align: right;\">\n      <th></th>\n      <th>UKPRN</th>\n      <th>HE Provider</th>\n      <th>Country of HE provider</th>\n      <th>Region of HE provider</th>\n      <th>Terms of employment</th>\n      <th>Contract levels</th>\n      <th>Atypical marker</th>\n      <th>Contract marker</th>\n      <th>Academic Year</th>\n      <th>Category</th>\n      <th>Number</th>\n    </tr>\n  </thead>\n  <tbody>\n    <tr>\n      <th>0</th>\n      <td>10007783</td>\n      <td>The University of Aberdeen</td>\n      <td>Scotland</td>\n      <td>Scotland</td>\n      <td>Open-ended/Permanent</td>\n      <td>Other contract level</td>\n      <td>Non-atypical</td>\n      <td>Academic</td>\n      <td>2014/15</td>\n      <td>25 and under</td>\n      <td>30</td>\n    </tr>\n    <tr>\n      <th>1</th>\n      <td>10007783</td>\n      <td>The University of Aberdeen</td>\n      <td>Scotland</td>\n      <td>Scotland</td>\n      <td>Open-ended/Permanent</td>\n      <td>Other contract level</td>\n      <td>Non-atypical</td>\n      <td>Academic</td>\n      <td>2014/15</td>\n      <td>26 - 30</td>\n      <td>165</td>\n    </tr>\n    <tr>\n      <th>2</th>\n      <td>10007783</td>\n      <td>The University of Aberdeen</td>\n      <td>Scotland</td>\n      <td>Scotland</td>\n      <td>Open-ended/Permanent</td>\n      <td>Other contract level</td>\n      <td>Non-atypical</td>\n      <td>Academic</td>\n      <td>2014/15</td>\n      <td>31-35</td>\n      <td>250</td>\n    </tr>\n    <tr>\n      <th>3</th>\n      <td>10007783</td>\n      <td>The University of Aberdeen</td>\n      <td>Scotland</td>\n      <td>Scotland</td>\n      <td>Open-ended/Permanent</td>\n      <td>Other contract level</td>\n      <td>Non-atypical</td>\n      <td>Academic</td>\n      <td>2014/15</td>\n      <td>36-40</td>\n      <td>230</td>\n    </tr>\n    <tr>\n      <th>4</th>\n      <td>10007783</td>\n      <td>The University of Aberdeen</td>\n      <td>Scotland</td>\n      <td>Scotland</td>\n      <td>Open-ended/Permanent</td>\n      <td>Other contract level</td>\n      <td>Non-atypical</td>\n      <td>Academic</td>\n      <td>2014/15</td>\n      <td>41-45</td>\n      <td>220</td>\n    </tr>\n    <tr>\n      <th>...</th>\n      <td>...</td>\n      <td>...</td>\n      <td>...</td>\n      <td>...</td>\n      <td>...</td>\n      <td>...</td>\n      <td>...</td>\n      <td>...</td>\n      <td>...</td>\n      <td>...</td>\n      <td>...</td>\n    </tr>\n    <tr>\n      <th>102438</th>\n      <td>10007713</td>\n      <td>York St John University</td>\n      <td>England</td>\n      <td>Yorkshire and The Humber</td>\n      <td>Fixed-term</td>\n      <td>Other contract level</td>\n      <td>Non-atypical</td>\n      <td>All (excluding atypical)</td>\n      <td>2020/21</td>\n      <td>46-50</td>\n      <td>5</td>\n    </tr>\n    <tr>\n      <th>102439</th>\n      <td>10007713</td>\n      <td>York St John University</td>\n      <td>England</td>\n      <td>Yorkshire and The Humber</td>\n      <td>Fixed-term</td>\n      <td>Other contract level</td>\n      <td>Non-atypical</td>\n      <td>All (excluding atypical)</td>\n      <td>2020/21</td>\n      <td>51-55</td>\n      <td>5</td>\n    </tr>\n    <tr>\n      <th>102440</th>\n      <td>10007713</td>\n      <td>York St John University</td>\n      <td>England</td>\n      <td>Yorkshire and The Humber</td>\n      <td>Fixed-term</td>\n      <td>Other contract level</td>\n      <td>Non-atypical</td>\n      <td>All (excluding atypical)</td>\n      <td>2020/21</td>\n      <td>56-60</td>\n      <td>5</td>\n    </tr>\n    <tr>\n      <th>102441</th>\n      <td>10007713</td>\n      <td>York St John University</td>\n      <td>England</td>\n      <td>Yorkshire and The Humber</td>\n      <td>Fixed-term</td>\n      <td>Other contract level</td>\n      <td>Non-atypical</td>\n      <td>All (excluding atypical)</td>\n      <td>2020/21</td>\n      <td>61-65</td>\n      <td>5</td>\n    </tr>\n    <tr>\n      <th>102442</th>\n      <td>10007713</td>\n      <td>York St John University</td>\n      <td>England</td>\n      <td>Yorkshire and The Humber</td>\n      <td>Fixed-term</td>\n      <td>Other contract level</td>\n      <td>Non-atypical</td>\n      <td>All (excluding atypical)</td>\n      <td>2020/21</td>\n      <td>66 and over</td>\n      <td>5</td>\n    </tr>\n  </tbody>\n</table>\n<p>102443 rows × 11 columns</p>\n</div>"
     },
     "execution_count": 44,
     "metadata": {},
     "output_type": "execute_result"
    }
   ],
   "source": [
    "df_agegrp"
   ],
   "metadata": {
    "collapsed": false,
    "pycharm": {
     "name": "#%%\n"
    }
   }
  },
  {
   "cell_type": "code",
   "execution_count": 45,
   "outputs": [],
   "source": [
    "df_disa = df_all[df_all['Category Marker'].str.contains(\"Disability\")==True]"
   ],
   "metadata": {
    "collapsed": false,
    "pycharm": {
     "name": "#%%\n"
    }
   }
  },
  {
   "cell_type": "code",
   "execution_count": 46,
   "outputs": [],
   "source": [
    "df_disa = df_disa.reset_index(drop=True)\n",
    "df_disa.drop('Category Marker', axis = 1,inplace = True)"
   ],
   "metadata": {
    "collapsed": false,
    "pycharm": {
     "name": "#%%\n"
    }
   }
  },
  {
   "cell_type": "code",
   "execution_count": 47,
   "outputs": [
    {
     "data": {
      "text/plain": "          UKPRN                 HE Provider Country of HE provider  \\\n0      10007783  The University of Aberdeen               Scotland   \n1      10007783  The University of Aberdeen               Scotland   \n2      10007783  The University of Aberdeen               Scotland   \n3      10007783  The University of Aberdeen               Scotland   \n4      10007783  The University of Aberdeen               Scotland   \n...         ...                         ...                    ...   \n24916  10007713     York St John University                England   \n24917  10007713     York St John University                England   \n24918  10007713     York St John University                England   \n24919  10007713     York St John University                England   \n24920  10007713     York St John University                England   \n\n          Region of HE provider   Terms of employment        Contract levels  \\\n0                      Scotland  Open-ended/Permanent   Other contract level   \n1                      Scotland  Open-ended/Permanent   Other contract level   \n2                      Scotland  Open-ended/Permanent  Other senior academic   \n3                      Scotland  Open-ended/Permanent              Professor   \n4                      Scotland  Open-ended/Permanent              Professor   \n...                         ...                   ...                    ...   \n24916  Yorkshire and The Humber  Open-ended/Permanent              Professor   \n24917  Yorkshire and The Humber            Fixed-term           Non-academic   \n24918  Yorkshire and The Humber            Fixed-term           Non-academic   \n24919  Yorkshire and The Humber            Fixed-term   Other contract level   \n24920  Yorkshire and The Humber            Fixed-term   Other contract level   \n\n      Atypical marker           Contract marker Academic Year  \\\n0        Non-atypical                  Academic       2014/15   \n1        Non-atypical                  Academic       2014/15   \n2        Non-atypical                  Academic       2014/15   \n3        Non-atypical                  Academic       2014/15   \n4        Non-atypical                  Academic       2014/15   \n...               ...                       ...           ...   \n24916    Non-atypical  All (excluding atypical)       2020/21   \n24917    Non-atypical  All (excluding atypical)       2020/21   \n24918    Non-atypical  All (excluding atypical)       2020/21   \n24919    Non-atypical  All (excluding atypical)       2020/21   \n24920    Non-atypical  All (excluding atypical)       2020/21   \n\n                 Disability  Number  \n0      Known to be disabled      25  \n1       No known disability    1320  \n2       No known disability      25  \n3      Known to be disabled       5  \n4       No known disability     250  \n...                     ...     ...  \n24916   No known disability      10  \n24917  Known to be disabled      10  \n24918   No known disability      50  \n24919  Known to be disabled      10  \n24920   No known disability      85  \n\n[24921 rows x 11 columns]",
      "text/html": "<div>\n<style scoped>\n    .dataframe tbody tr th:only-of-type {\n        vertical-align: middle;\n    }\n\n    .dataframe tbody tr th {\n        vertical-align: top;\n    }\n\n    .dataframe thead th {\n        text-align: right;\n    }\n</style>\n<table border=\"1\" class=\"dataframe\">\n  <thead>\n    <tr style=\"text-align: right;\">\n      <th></th>\n      <th>UKPRN</th>\n      <th>HE Provider</th>\n      <th>Country of HE provider</th>\n      <th>Region of HE provider</th>\n      <th>Terms of employment</th>\n      <th>Contract levels</th>\n      <th>Atypical marker</th>\n      <th>Contract marker</th>\n      <th>Academic Year</th>\n      <th>Disability</th>\n      <th>Number</th>\n    </tr>\n  </thead>\n  <tbody>\n    <tr>\n      <th>0</th>\n      <td>10007783</td>\n      <td>The University of Aberdeen</td>\n      <td>Scotland</td>\n      <td>Scotland</td>\n      <td>Open-ended/Permanent</td>\n      <td>Other contract level</td>\n      <td>Non-atypical</td>\n      <td>Academic</td>\n      <td>2014/15</td>\n      <td>Known to be disabled</td>\n      <td>25</td>\n    </tr>\n    <tr>\n      <th>1</th>\n      <td>10007783</td>\n      <td>The University of Aberdeen</td>\n      <td>Scotland</td>\n      <td>Scotland</td>\n      <td>Open-ended/Permanent</td>\n      <td>Other contract level</td>\n      <td>Non-atypical</td>\n      <td>Academic</td>\n      <td>2014/15</td>\n      <td>No known disability</td>\n      <td>1320</td>\n    </tr>\n    <tr>\n      <th>2</th>\n      <td>10007783</td>\n      <td>The University of Aberdeen</td>\n      <td>Scotland</td>\n      <td>Scotland</td>\n      <td>Open-ended/Permanent</td>\n      <td>Other senior academic</td>\n      <td>Non-atypical</td>\n      <td>Academic</td>\n      <td>2014/15</td>\n      <td>No known disability</td>\n      <td>25</td>\n    </tr>\n    <tr>\n      <th>3</th>\n      <td>10007783</td>\n      <td>The University of Aberdeen</td>\n      <td>Scotland</td>\n      <td>Scotland</td>\n      <td>Open-ended/Permanent</td>\n      <td>Professor</td>\n      <td>Non-atypical</td>\n      <td>Academic</td>\n      <td>2014/15</td>\n      <td>Known to be disabled</td>\n      <td>5</td>\n    </tr>\n    <tr>\n      <th>4</th>\n      <td>10007783</td>\n      <td>The University of Aberdeen</td>\n      <td>Scotland</td>\n      <td>Scotland</td>\n      <td>Open-ended/Permanent</td>\n      <td>Professor</td>\n      <td>Non-atypical</td>\n      <td>Academic</td>\n      <td>2014/15</td>\n      <td>No known disability</td>\n      <td>250</td>\n    </tr>\n    <tr>\n      <th>...</th>\n      <td>...</td>\n      <td>...</td>\n      <td>...</td>\n      <td>...</td>\n      <td>...</td>\n      <td>...</td>\n      <td>...</td>\n      <td>...</td>\n      <td>...</td>\n      <td>...</td>\n      <td>...</td>\n    </tr>\n    <tr>\n      <th>24916</th>\n      <td>10007713</td>\n      <td>York St John University</td>\n      <td>England</td>\n      <td>Yorkshire and The Humber</td>\n      <td>Open-ended/Permanent</td>\n      <td>Professor</td>\n      <td>Non-atypical</td>\n      <td>All (excluding atypical)</td>\n      <td>2020/21</td>\n      <td>No known disability</td>\n      <td>10</td>\n    </tr>\n    <tr>\n      <th>24917</th>\n      <td>10007713</td>\n      <td>York St John University</td>\n      <td>England</td>\n      <td>Yorkshire and The Humber</td>\n      <td>Fixed-term</td>\n      <td>Non-academic</td>\n      <td>Non-atypical</td>\n      <td>All (excluding atypical)</td>\n      <td>2020/21</td>\n      <td>Known to be disabled</td>\n      <td>10</td>\n    </tr>\n    <tr>\n      <th>24918</th>\n      <td>10007713</td>\n      <td>York St John University</td>\n      <td>England</td>\n      <td>Yorkshire and The Humber</td>\n      <td>Fixed-term</td>\n      <td>Non-academic</td>\n      <td>Non-atypical</td>\n      <td>All (excluding atypical)</td>\n      <td>2020/21</td>\n      <td>No known disability</td>\n      <td>50</td>\n    </tr>\n    <tr>\n      <th>24919</th>\n      <td>10007713</td>\n      <td>York St John University</td>\n      <td>England</td>\n      <td>Yorkshire and The Humber</td>\n      <td>Fixed-term</td>\n      <td>Other contract level</td>\n      <td>Non-atypical</td>\n      <td>All (excluding atypical)</td>\n      <td>2020/21</td>\n      <td>Known to be disabled</td>\n      <td>10</td>\n    </tr>\n    <tr>\n      <th>24920</th>\n      <td>10007713</td>\n      <td>York St John University</td>\n      <td>England</td>\n      <td>Yorkshire and The Humber</td>\n      <td>Fixed-term</td>\n      <td>Other contract level</td>\n      <td>Non-atypical</td>\n      <td>All (excluding atypical)</td>\n      <td>2020/21</td>\n      <td>No known disability</td>\n      <td>85</td>\n    </tr>\n  </tbody>\n</table>\n<p>24921 rows × 11 columns</p>\n</div>"
     },
     "execution_count": 47,
     "metadata": {},
     "output_type": "execute_result"
    }
   ],
   "source": [
    "df_disa.rename(columns = {'Category' :'Disability'})"
   ],
   "metadata": {
    "collapsed": false,
    "pycharm": {
     "name": "#%%\n"
    }
   }
  },
  {
   "cell_type": "code",
   "execution_count": 48,
   "outputs": [],
   "source": [
    "df_eth.to_csv(\"UE_by Ethnicity.csv\")\n",
    "df_sex.to_csv(\"UE_by Sex.csv\")\n",
    "df_agegrp.to_csv(\"UE_by Age group.csv\")\n",
    "df_disa.to_csv(\"UE_by Disability.csv\")"
   ],
   "metadata": {
    "collapsed": false,
    "pycharm": {
     "name": "#%%\n"
    }
   }
  },
  {
   "cell_type": "code",
   "execution_count": 48,
   "outputs": [],
   "source": [],
   "metadata": {
    "collapsed": false,
    "pycharm": {
     "name": "#%%\n"
    }
   }
  }
 ],
 "metadata": {
  "kernelspec": {
   "display_name": "Python 3",
   "language": "python",
   "name": "python3"
  },
  "language_info": {
   "codemirror_mode": {
    "name": "ipython",
    "version": 2
   },
   "file_extension": ".py",
   "mimetype": "text/x-python",
   "name": "python",
   "nbconvert_exporter": "python",
   "pygments_lexer": "ipython2",
   "version": "2.7.6"
  }
 },
 "nbformat": 4,
 "nbformat_minor": 0
}