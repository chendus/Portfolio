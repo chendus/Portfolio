{
 "cells": [
  {
   "cell_type": "markdown",
   "id": "035f9363-86cc-4284-8ac7-7d84dde26ae5",
   "metadata": {
    "pycharm": {
     "name": "#%% md\n"
    }
   },
   "source": [
    "### Clean the table uk diversity data"
   ]
  },
  {
   "cell_type": "code",
   "execution_count": 1,
   "id": "024eb6c2-f4b0-4898-adce-6c1192fafe7c",
   "metadata": {
    "pycharm": {
     "name": "#%%\n"
    }
   },
   "outputs": [],
   "source": [
    "import pandas as pd\n",
    "import numpy as np"
   ]
  },
  {
   "cell_type": "code",
   "execution_count": 2,
   "id": "f67155dc-d6b9-4e6d-81a0-03093184670d",
   "metadata": {
    "pycharm": {
     "name": "#%%\n"
    }
   },
   "outputs": [],
   "source": [
    "df_2014 =pd.read_csv('table_2014_15_clean.csv',low_memory=False)\n",
    "df_2015 =pd.read_csv('table_2015_16_clean.csv',low_memory=False)\n",
    "df_2016 =pd.read_csv('table_2016_17_clean.csv',low_memory=False)\n",
    "df_2017 =pd.read_csv('table_2017_18_clean.csv',low_memory=False)\n",
    "df_2018 =pd.read_csv('table_2018_19_clean.csv',low_memory=False)\n",
    "df_2019 =pd.read_csv('table_2019_20_clean.csv',low_memory=False)\n",
    "df_2020 =pd.read_csv('table_2020_21_clean.csv',low_memory=False)"
   ]
  },
  {
   "cell_type": "markdown",
   "id": "dc0e8d05-5f30-4581-aa09-afffb067d4b2",
   "metadata": {
    "pycharm": {
     "name": "#%% md\n"
    }
   },
   "source": [
    "# Assess"
   ]
  },
  {
   "cell_type": "code",
   "execution_count": 3,
   "id": "9f8c8107-f5c4-4ad2-8464-0f27d5dc010b",
   "metadata": {
    "pycharm": {
     "name": "#%%\n"
    }
   },
   "outputs": [
    {
     "data": {
      "text/plain": "   Unnamed: 0     UKPRN                 HE Provider Country of HE provider  \\\n0           1  10007783  The University of Aberdeen               Scotland   \n1           2  10007783  The University of Aberdeen               Scotland   \n2           3  10007783  The University of Aberdeen               Scotland   \n3           4  10007783  The University of Aberdeen               Scotland   \n4           5  10007783  The University of Aberdeen               Scotland   \n\n  Region of HE provider   Terms of employment       Contract levels  \\\n0              Scotland  Open-ended/Permanent  Other contract level   \n1              Scotland  Open-ended/Permanent  Other contract level   \n2              Scotland  Open-ended/Permanent  Other contract level   \n3              Scotland  Open-ended/Permanent  Other contract level   \n4              Scotland  Open-ended/Permanent  Other contract level   \n\n  Atypical marker Contract marker Academic Year Category Marker Category  \\\n0    Non-atypical        Academic       2014/15       Ethnicity    White   \n1    Non-atypical        Academic       2014/15       Ethnicity    Black   \n2    Non-atypical        Academic       2014/15       Ethnicity    Asian   \n3    Non-atypical        Academic       2014/15       Ethnicity    Mixed   \n4    Non-atypical        Academic       2014/15       Ethnicity   Other    \n\n   Number  \n0    1095  \n1      25  \n2     130  \n3      20  \n4      25  ",
      "text/html": "<div>\n<style scoped>\n    .dataframe tbody tr th:only-of-type {\n        vertical-align: middle;\n    }\n\n    .dataframe tbody tr th {\n        vertical-align: top;\n    }\n\n    .dataframe thead th {\n        text-align: right;\n    }\n</style>\n<table border=\"1\" class=\"dataframe\">\n  <thead>\n    <tr style=\"text-align: right;\">\n      <th></th>\n      <th>Unnamed: 0</th>\n      <th>UKPRN</th>\n      <th>HE Provider</th>\n      <th>Country of HE provider</th>\n      <th>Region of HE provider</th>\n      <th>Terms of employment</th>\n      <th>Contract levels</th>\n      <th>Atypical marker</th>\n      <th>Contract marker</th>\n      <th>Academic Year</th>\n      <th>Category Marker</th>\n      <th>Category</th>\n      <th>Number</th>\n    </tr>\n  </thead>\n  <tbody>\n    <tr>\n      <th>0</th>\n      <td>1</td>\n      <td>10007783</td>\n      <td>The University of Aberdeen</td>\n      <td>Scotland</td>\n      <td>Scotland</td>\n      <td>Open-ended/Permanent</td>\n      <td>Other contract level</td>\n      <td>Non-atypical</td>\n      <td>Academic</td>\n      <td>2014/15</td>\n      <td>Ethnicity</td>\n      <td>White</td>\n      <td>1095</td>\n    </tr>\n    <tr>\n      <th>1</th>\n      <td>2</td>\n      <td>10007783</td>\n      <td>The University of Aberdeen</td>\n      <td>Scotland</td>\n      <td>Scotland</td>\n      <td>Open-ended/Permanent</td>\n      <td>Other contract level</td>\n      <td>Non-atypical</td>\n      <td>Academic</td>\n      <td>2014/15</td>\n      <td>Ethnicity</td>\n      <td>Black</td>\n      <td>25</td>\n    </tr>\n    <tr>\n      <th>2</th>\n      <td>3</td>\n      <td>10007783</td>\n      <td>The University of Aberdeen</td>\n      <td>Scotland</td>\n      <td>Scotland</td>\n      <td>Open-ended/Permanent</td>\n      <td>Other contract level</td>\n      <td>Non-atypical</td>\n      <td>Academic</td>\n      <td>2014/15</td>\n      <td>Ethnicity</td>\n      <td>Asian</td>\n      <td>130</td>\n    </tr>\n    <tr>\n      <th>3</th>\n      <td>4</td>\n      <td>10007783</td>\n      <td>The University of Aberdeen</td>\n      <td>Scotland</td>\n      <td>Scotland</td>\n      <td>Open-ended/Permanent</td>\n      <td>Other contract level</td>\n      <td>Non-atypical</td>\n      <td>Academic</td>\n      <td>2014/15</td>\n      <td>Ethnicity</td>\n      <td>Mixed</td>\n      <td>20</td>\n    </tr>\n    <tr>\n      <th>4</th>\n      <td>5</td>\n      <td>10007783</td>\n      <td>The University of Aberdeen</td>\n      <td>Scotland</td>\n      <td>Scotland</td>\n      <td>Open-ended/Permanent</td>\n      <td>Other contract level</td>\n      <td>Non-atypical</td>\n      <td>Academic</td>\n      <td>2014/15</td>\n      <td>Ethnicity</td>\n      <td>Other</td>\n      <td>25</td>\n    </tr>\n  </tbody>\n</table>\n</div>"
     },
     "execution_count": 3,
     "metadata": {},
     "output_type": "execute_result"
    }
   ],
   "source": [
    "df_2014.head()"
   ]
  },
  {
   "cell_type": "code",
   "execution_count": 4,
   "id": "2d107c0f-ec6d-43f4-8693-ab1d399bb5f7",
   "metadata": {
    "pycharm": {
     "name": "#%%\n"
    }
   },
   "outputs": [
    {
     "data": {
      "text/plain": "   Unnamed: 0     UKPRN                 HE Provider Country of HE provider  \\\n0           1  10007783  The University of Aberdeen               Scotland   \n1           2  10007783  The University of Aberdeen               Scotland   \n2           3  10007783  The University of Aberdeen               Scotland   \n3           4  10007783  The University of Aberdeen               Scotland   \n4           5  10007783  The University of Aberdeen               Scotland   \n\n  Region of HE provider   Terms of employment       Contract levels  \\\n0              Scotland  Open-ended/Permanent  Other contract level   \n1              Scotland  Open-ended/Permanent  Other contract level   \n2              Scotland  Open-ended/Permanent  Other contract level   \n3              Scotland  Open-ended/Permanent  Other contract level   \n4              Scotland  Open-ended/Permanent  Other contract level   \n\n  Atypical marker Contract marker Academic Year Category Marker Category  \\\n0    Non-atypical        Academic       2015/16       Ethnicity    White   \n1    Non-atypical        Academic       2015/16       Ethnicity    Black   \n2    Non-atypical        Academic       2015/16       Ethnicity    Asian   \n3    Non-atypical        Academic       2015/16       Ethnicity    Mixed   \n4    Non-atypical        Academic       2015/16       Ethnicity   Other    \n\n   Number  \n0    1010  \n1      25  \n2     130  \n3      20  \n4      25  ",
      "text/html": "<div>\n<style scoped>\n    .dataframe tbody tr th:only-of-type {\n        vertical-align: middle;\n    }\n\n    .dataframe tbody tr th {\n        vertical-align: top;\n    }\n\n    .dataframe thead th {\n        text-align: right;\n    }\n</style>\n<table border=\"1\" class=\"dataframe\">\n  <thead>\n    <tr style=\"text-align: right;\">\n      <th></th>\n      <th>Unnamed: 0</th>\n      <th>UKPRN</th>\n      <th>HE Provider</th>\n      <th>Country of HE provider</th>\n      <th>Region of HE provider</th>\n      <th>Terms of employment</th>\n      <th>Contract levels</th>\n      <th>Atypical marker</th>\n      <th>Contract marker</th>\n      <th>Academic Year</th>\n      <th>Category Marker</th>\n      <th>Category</th>\n      <th>Number</th>\n    </tr>\n  </thead>\n  <tbody>\n    <tr>\n      <th>0</th>\n      <td>1</td>\n      <td>10007783</td>\n      <td>The University of Aberdeen</td>\n      <td>Scotland</td>\n      <td>Scotland</td>\n      <td>Open-ended/Permanent</td>\n      <td>Other contract level</td>\n      <td>Non-atypical</td>\n      <td>Academic</td>\n      <td>2015/16</td>\n      <td>Ethnicity</td>\n      <td>White</td>\n      <td>1010</td>\n    </tr>\n    <tr>\n      <th>1</th>\n      <td>2</td>\n      <td>10007783</td>\n      <td>The University of Aberdeen</td>\n      <td>Scotland</td>\n      <td>Scotland</td>\n      <td>Open-ended/Permanent</td>\n      <td>Other contract level</td>\n      <td>Non-atypical</td>\n      <td>Academic</td>\n      <td>2015/16</td>\n      <td>Ethnicity</td>\n      <td>Black</td>\n      <td>25</td>\n    </tr>\n    <tr>\n      <th>2</th>\n      <td>3</td>\n      <td>10007783</td>\n      <td>The University of Aberdeen</td>\n      <td>Scotland</td>\n      <td>Scotland</td>\n      <td>Open-ended/Permanent</td>\n      <td>Other contract level</td>\n      <td>Non-atypical</td>\n      <td>Academic</td>\n      <td>2015/16</td>\n      <td>Ethnicity</td>\n      <td>Asian</td>\n      <td>130</td>\n    </tr>\n    <tr>\n      <th>3</th>\n      <td>4</td>\n      <td>10007783</td>\n      <td>The University of Aberdeen</td>\n      <td>Scotland</td>\n      <td>Scotland</td>\n      <td>Open-ended/Permanent</td>\n      <td>Other contract level</td>\n      <td>Non-atypical</td>\n      <td>Academic</td>\n      <td>2015/16</td>\n      <td>Ethnicity</td>\n      <td>Mixed</td>\n      <td>20</td>\n    </tr>\n    <tr>\n      <th>4</th>\n      <td>5</td>\n      <td>10007783</td>\n      <td>The University of Aberdeen</td>\n      <td>Scotland</td>\n      <td>Scotland</td>\n      <td>Open-ended/Permanent</td>\n      <td>Other contract level</td>\n      <td>Non-atypical</td>\n      <td>Academic</td>\n      <td>2015/16</td>\n      <td>Ethnicity</td>\n      <td>Other</td>\n      <td>25</td>\n    </tr>\n  </tbody>\n</table>\n</div>"
     },
     "execution_count": 4,
     "metadata": {},
     "output_type": "execute_result"
    }
   ],
   "source": [
    "df_2015.head()"
   ]
  },
  {
   "cell_type": "code",
   "execution_count": 5,
   "id": "feb9cd02-a854-4691-b70f-6bc1754e9eb5",
   "metadata": {
    "pycharm": {
     "name": "#%%\n"
    }
   },
   "outputs": [
    {
     "data": {
      "text/plain": "   Unnamed: 0     UKPRN                 HE Provider Country of HE provider  \\\n0           1  10007783  The University of Aberdeen               Scotland   \n1           2  10007783  The University of Aberdeen               Scotland   \n2           3  10007783  The University of Aberdeen               Scotland   \n3           4  10007783  The University of Aberdeen               Scotland   \n4           5  10007783  The University of Aberdeen               Scotland   \n\n  Region of HE provider   Terms of employment       Contract levels  \\\n0              Scotland  Open-ended/Permanent  Other contract level   \n1              Scotland  Open-ended/Permanent  Other contract level   \n2              Scotland  Open-ended/Permanent  Other contract level   \n3              Scotland  Open-ended/Permanent  Other contract level   \n4              Scotland  Open-ended/Permanent  Other contract level   \n\n  Atypical marker Contract marker Academic Year Category Marker Category  \\\n0    Non-atypical        Academic       2016/17       Ethnicity    White   \n1    Non-atypical        Academic       2016/17       Ethnicity    Black   \n2    Non-atypical        Academic       2016/17       Ethnicity    Asian   \n3    Non-atypical        Academic       2016/17       Ethnicity    Mixed   \n4    Non-atypical        Academic       2016/17       Ethnicity   Other    \n\n   Number  \n0     960  \n1      20  \n2     120  \n3      15  \n4      25  ",
      "text/html": "<div>\n<style scoped>\n    .dataframe tbody tr th:only-of-type {\n        vertical-align: middle;\n    }\n\n    .dataframe tbody tr th {\n        vertical-align: top;\n    }\n\n    .dataframe thead th {\n        text-align: right;\n    }\n</style>\n<table border=\"1\" class=\"dataframe\">\n  <thead>\n    <tr style=\"text-align: right;\">\n      <th></th>\n      <th>Unnamed: 0</th>\n      <th>UKPRN</th>\n      <th>HE Provider</th>\n      <th>Country of HE provider</th>\n      <th>Region of HE provider</th>\n      <th>Terms of employment</th>\n      <th>Contract levels</th>\n      <th>Atypical marker</th>\n      <th>Contract marker</th>\n      <th>Academic Year</th>\n      <th>Category Marker</th>\n      <th>Category</th>\n      <th>Number</th>\n    </tr>\n  </thead>\n  <tbody>\n    <tr>\n      <th>0</th>\n      <td>1</td>\n      <td>10007783</td>\n      <td>The University of Aberdeen</td>\n      <td>Scotland</td>\n      <td>Scotland</td>\n      <td>Open-ended/Permanent</td>\n      <td>Other contract level</td>\n      <td>Non-atypical</td>\n      <td>Academic</td>\n      <td>2016/17</td>\n      <td>Ethnicity</td>\n      <td>White</td>\n      <td>960</td>\n    </tr>\n    <tr>\n      <th>1</th>\n      <td>2</td>\n      <td>10007783</td>\n      <td>The University of Aberdeen</td>\n      <td>Scotland</td>\n      <td>Scotland</td>\n      <td>Open-ended/Permanent</td>\n      <td>Other contract level</td>\n      <td>Non-atypical</td>\n      <td>Academic</td>\n      <td>2016/17</td>\n      <td>Ethnicity</td>\n      <td>Black</td>\n      <td>20</td>\n    </tr>\n    <tr>\n      <th>2</th>\n      <td>3</td>\n      <td>10007783</td>\n      <td>The University of Aberdeen</td>\n      <td>Scotland</td>\n      <td>Scotland</td>\n      <td>Open-ended/Permanent</td>\n      <td>Other contract level</td>\n      <td>Non-atypical</td>\n      <td>Academic</td>\n      <td>2016/17</td>\n      <td>Ethnicity</td>\n      <td>Asian</td>\n      <td>120</td>\n    </tr>\n    <tr>\n      <th>3</th>\n      <td>4</td>\n      <td>10007783</td>\n      <td>The University of Aberdeen</td>\n      <td>Scotland</td>\n      <td>Scotland</td>\n      <td>Open-ended/Permanent</td>\n      <td>Other contract level</td>\n      <td>Non-atypical</td>\n      <td>Academic</td>\n      <td>2016/17</td>\n      <td>Ethnicity</td>\n      <td>Mixed</td>\n      <td>15</td>\n    </tr>\n    <tr>\n      <th>4</th>\n      <td>5</td>\n      <td>10007783</td>\n      <td>The University of Aberdeen</td>\n      <td>Scotland</td>\n      <td>Scotland</td>\n      <td>Open-ended/Permanent</td>\n      <td>Other contract level</td>\n      <td>Non-atypical</td>\n      <td>Academic</td>\n      <td>2016/17</td>\n      <td>Ethnicity</td>\n      <td>Other</td>\n      <td>25</td>\n    </tr>\n  </tbody>\n</table>\n</div>"
     },
     "execution_count": 5,
     "metadata": {},
     "output_type": "execute_result"
    }
   ],
   "source": [
    "df_2016.head()"
   ]
  },
  {
   "cell_type": "code",
   "execution_count": 6,
   "id": "efe3d07b-516d-4147-bcf6-f4f687992573",
   "metadata": {
    "pycharm": {
     "name": "#%%\n"
    }
   },
   "outputs": [
    {
     "data": {
      "text/plain": "   Unnamed: 0     UKPRN                 HE Provider Country of HE provider  \\\n0           1  10007783  The University of Aberdeen               Scotland   \n1           2  10007783  The University of Aberdeen               Scotland   \n2           3  10007783  The University of Aberdeen               Scotland   \n3           4  10007783  The University of Aberdeen               Scotland   \n4           5  10007783  The University of Aberdeen               Scotland   \n\n  Region of HE provider   Terms of employment       Contract levels  \\\n0              Scotland  Open-ended/Permanent  Other contract level   \n1              Scotland  Open-ended/Permanent  Other contract level   \n2              Scotland  Open-ended/Permanent  Other contract level   \n3              Scotland  Open-ended/Permanent  Other contract level   \n4              Scotland  Open-ended/Permanent  Other contract level   \n\n  Atypical marker Contract marker Academic Year Category Marker Category  \\\n0    Non-atypical        Academic       2017/18       Ethnicity    White   \n1    Non-atypical        Academic       2017/18       Ethnicity    Black   \n2    Non-atypical        Academic       2017/18       Ethnicity    Asian   \n3    Non-atypical        Academic       2017/18       Ethnicity    Mixed   \n4    Non-atypical        Academic       2017/18       Ethnicity   Other    \n\n   Number  \n0     920  \n1      15  \n2     115  \n3      15  \n4      20  ",
      "text/html": "<div>\n<style scoped>\n    .dataframe tbody tr th:only-of-type {\n        vertical-align: middle;\n    }\n\n    .dataframe tbody tr th {\n        vertical-align: top;\n    }\n\n    .dataframe thead th {\n        text-align: right;\n    }\n</style>\n<table border=\"1\" class=\"dataframe\">\n  <thead>\n    <tr style=\"text-align: right;\">\n      <th></th>\n      <th>Unnamed: 0</th>\n      <th>UKPRN</th>\n      <th>HE Provider</th>\n      <th>Country of HE provider</th>\n      <th>Region of HE provider</th>\n      <th>Terms of employment</th>\n      <th>Contract levels</th>\n      <th>Atypical marker</th>\n      <th>Contract marker</th>\n      <th>Academic Year</th>\n      <th>Category Marker</th>\n      <th>Category</th>\n      <th>Number</th>\n    </tr>\n  </thead>\n  <tbody>\n    <tr>\n      <th>0</th>\n      <td>1</td>\n      <td>10007783</td>\n      <td>The University of Aberdeen</td>\n      <td>Scotland</td>\n      <td>Scotland</td>\n      <td>Open-ended/Permanent</td>\n      <td>Other contract level</td>\n      <td>Non-atypical</td>\n      <td>Academic</td>\n      <td>2017/18</td>\n      <td>Ethnicity</td>\n      <td>White</td>\n      <td>920</td>\n    </tr>\n    <tr>\n      <th>1</th>\n      <td>2</td>\n      <td>10007783</td>\n      <td>The University of Aberdeen</td>\n      <td>Scotland</td>\n      <td>Scotland</td>\n      <td>Open-ended/Permanent</td>\n      <td>Other contract level</td>\n      <td>Non-atypical</td>\n      <td>Academic</td>\n      <td>2017/18</td>\n      <td>Ethnicity</td>\n      <td>Black</td>\n      <td>15</td>\n    </tr>\n    <tr>\n      <th>2</th>\n      <td>3</td>\n      <td>10007783</td>\n      <td>The University of Aberdeen</td>\n      <td>Scotland</td>\n      <td>Scotland</td>\n      <td>Open-ended/Permanent</td>\n      <td>Other contract level</td>\n      <td>Non-atypical</td>\n      <td>Academic</td>\n      <td>2017/18</td>\n      <td>Ethnicity</td>\n      <td>Asian</td>\n      <td>115</td>\n    </tr>\n    <tr>\n      <th>3</th>\n      <td>4</td>\n      <td>10007783</td>\n      <td>The University of Aberdeen</td>\n      <td>Scotland</td>\n      <td>Scotland</td>\n      <td>Open-ended/Permanent</td>\n      <td>Other contract level</td>\n      <td>Non-atypical</td>\n      <td>Academic</td>\n      <td>2017/18</td>\n      <td>Ethnicity</td>\n      <td>Mixed</td>\n      <td>15</td>\n    </tr>\n    <tr>\n      <th>4</th>\n      <td>5</td>\n      <td>10007783</td>\n      <td>The University of Aberdeen</td>\n      <td>Scotland</td>\n      <td>Scotland</td>\n      <td>Open-ended/Permanent</td>\n      <td>Other contract level</td>\n      <td>Non-atypical</td>\n      <td>Academic</td>\n      <td>2017/18</td>\n      <td>Ethnicity</td>\n      <td>Other</td>\n      <td>20</td>\n    </tr>\n  </tbody>\n</table>\n</div>"
     },
     "execution_count": 6,
     "metadata": {},
     "output_type": "execute_result"
    }
   ],
   "source": [
    "df_2017.head()"
   ]
  },
  {
   "cell_type": "code",
   "execution_count": 7,
   "id": "e2b7a887-2b51-4b5d-8493-cdff7ba860ac",
   "metadata": {
    "pycharm": {
     "name": "#%%\n"
    }
   },
   "outputs": [
    {
     "data": {
      "text/plain": "   Unnamed: 0     UKPRN                 HE Provider Country of HE provider  \\\n0           1  10007783  The University of Aberdeen               Scotland   \n1           2  10007783  The University of Aberdeen               Scotland   \n2           3  10007783  The University of Aberdeen               Scotland   \n3           4  10007783  The University of Aberdeen               Scotland   \n4           5  10007783  The University of Aberdeen               Scotland   \n\n  Region of HE provider   Terms of employment       Contract levels  \\\n0              Scotland  Open-ended/Permanent  Other contract level   \n1              Scotland  Open-ended/Permanent  Other contract level   \n2              Scotland  Open-ended/Permanent  Other contract level   \n3              Scotland  Open-ended/Permanent  Other contract level   \n4              Scotland  Open-ended/Permanent  Other contract level   \n\n  Atypical marker Contract marker Academic Year Category Marker Category  \\\n0    Non-atypical        Academic       2018/19       Ethnicity    White   \n1    Non-atypical        Academic       2018/19       Ethnicity    Black   \n2    Non-atypical        Academic       2018/19       Ethnicity    Asian   \n3    Non-atypical        Academic       2018/19       Ethnicity    Mixed   \n4    Non-atypical        Academic       2018/19       Ethnicity   Other    \n\n   Number  \n0     900  \n1      15  \n2     115  \n3      20  \n4      20  ",
      "text/html": "<div>\n<style scoped>\n    .dataframe tbody tr th:only-of-type {\n        vertical-align: middle;\n    }\n\n    .dataframe tbody tr th {\n        vertical-align: top;\n    }\n\n    .dataframe thead th {\n        text-align: right;\n    }\n</style>\n<table border=\"1\" class=\"dataframe\">\n  <thead>\n    <tr style=\"text-align: right;\">\n      <th></th>\n      <th>Unnamed: 0</th>\n      <th>UKPRN</th>\n      <th>HE Provider</th>\n      <th>Country of HE provider</th>\n      <th>Region of HE provider</th>\n      <th>Terms of employment</th>\n      <th>Contract levels</th>\n      <th>Atypical marker</th>\n      <th>Contract marker</th>\n      <th>Academic Year</th>\n      <th>Category Marker</th>\n      <th>Category</th>\n      <th>Number</th>\n    </tr>\n  </thead>\n  <tbody>\n    <tr>\n      <th>0</th>\n      <td>1</td>\n      <td>10007783</td>\n      <td>The University of Aberdeen</td>\n      <td>Scotland</td>\n      <td>Scotland</td>\n      <td>Open-ended/Permanent</td>\n      <td>Other contract level</td>\n      <td>Non-atypical</td>\n      <td>Academic</td>\n      <td>2018/19</td>\n      <td>Ethnicity</td>\n      <td>White</td>\n      <td>900</td>\n    </tr>\n    <tr>\n      <th>1</th>\n      <td>2</td>\n      <td>10007783</td>\n      <td>The University of Aberdeen</td>\n      <td>Scotland</td>\n      <td>Scotland</td>\n      <td>Open-ended/Permanent</td>\n      <td>Other contract level</td>\n      <td>Non-atypical</td>\n      <td>Academic</td>\n      <td>2018/19</td>\n      <td>Ethnicity</td>\n      <td>Black</td>\n      <td>15</td>\n    </tr>\n    <tr>\n      <th>2</th>\n      <td>3</td>\n      <td>10007783</td>\n      <td>The University of Aberdeen</td>\n      <td>Scotland</td>\n      <td>Scotland</td>\n      <td>Open-ended/Permanent</td>\n      <td>Other contract level</td>\n      <td>Non-atypical</td>\n      <td>Academic</td>\n      <td>2018/19</td>\n      <td>Ethnicity</td>\n      <td>Asian</td>\n      <td>115</td>\n    </tr>\n    <tr>\n      <th>3</th>\n      <td>4</td>\n      <td>10007783</td>\n      <td>The University of Aberdeen</td>\n      <td>Scotland</td>\n      <td>Scotland</td>\n      <td>Open-ended/Permanent</td>\n      <td>Other contract level</td>\n      <td>Non-atypical</td>\n      <td>Academic</td>\n      <td>2018/19</td>\n      <td>Ethnicity</td>\n      <td>Mixed</td>\n      <td>20</td>\n    </tr>\n    <tr>\n      <th>4</th>\n      <td>5</td>\n      <td>10007783</td>\n      <td>The University of Aberdeen</td>\n      <td>Scotland</td>\n      <td>Scotland</td>\n      <td>Open-ended/Permanent</td>\n      <td>Other contract level</td>\n      <td>Non-atypical</td>\n      <td>Academic</td>\n      <td>2018/19</td>\n      <td>Ethnicity</td>\n      <td>Other</td>\n      <td>20</td>\n    </tr>\n  </tbody>\n</table>\n</div>"
     },
     "execution_count": 7,
     "metadata": {},
     "output_type": "execute_result"
    }
   ],
   "source": [
    "df_2018.head()"
   ]
  },
  {
   "cell_type": "code",
   "execution_count": 8,
   "id": "91088131-9b5d-4dbc-8129-a396caaa844b",
   "metadata": {
    "pycharm": {
     "name": "#%%\n"
    }
   },
   "outputs": [
    {
     "data": {
      "text/plain": "   Unnamed: 0     UKPRN                 HE Provider Country of HE provider  \\\n0           1  10007783  The University of Aberdeen               Scotland   \n1           2  10007783  The University of Aberdeen               Scotland   \n2           3  10007783  The University of Aberdeen               Scotland   \n3           4  10007783  The University of Aberdeen               Scotland   \n4           5  10007783  The University of Aberdeen               Scotland   \n\n  Region of HE provider   Terms of employment       Contract levels  \\\n0              Scotland  Open-ended/Permanent  Other contract level   \n1              Scotland  Open-ended/Permanent  Other contract level   \n2              Scotland  Open-ended/Permanent  Other contract level   \n3              Scotland  Open-ended/Permanent  Other contract level   \n4              Scotland  Open-ended/Permanent  Other contract level   \n\n  Atypical marker Contract marker Academic Year Category Marker Category  \\\n0    Non-atypical        Academic       2019/20       Ethnicity    White   \n1    Non-atypical        Academic       2019/20       Ethnicity    Black   \n2    Non-atypical        Academic       2019/20       Ethnicity    Asian   \n3    Non-atypical        Academic       2019/20       Ethnicity    Mixed   \n4    Non-atypical        Academic       2019/20       Ethnicity   Other    \n\n   Number  \n0     915  \n1      25  \n2     125  \n3      20  \n4      20  ",
      "text/html": "<div>\n<style scoped>\n    .dataframe tbody tr th:only-of-type {\n        vertical-align: middle;\n    }\n\n    .dataframe tbody tr th {\n        vertical-align: top;\n    }\n\n    .dataframe thead th {\n        text-align: right;\n    }\n</style>\n<table border=\"1\" class=\"dataframe\">\n  <thead>\n    <tr style=\"text-align: right;\">\n      <th></th>\n      <th>Unnamed: 0</th>\n      <th>UKPRN</th>\n      <th>HE Provider</th>\n      <th>Country of HE provider</th>\n      <th>Region of HE provider</th>\n      <th>Terms of employment</th>\n      <th>Contract levels</th>\n      <th>Atypical marker</th>\n      <th>Contract marker</th>\n      <th>Academic Year</th>\n      <th>Category Marker</th>\n      <th>Category</th>\n      <th>Number</th>\n    </tr>\n  </thead>\n  <tbody>\n    <tr>\n      <th>0</th>\n      <td>1</td>\n      <td>10007783</td>\n      <td>The University of Aberdeen</td>\n      <td>Scotland</td>\n      <td>Scotland</td>\n      <td>Open-ended/Permanent</td>\n      <td>Other contract level</td>\n      <td>Non-atypical</td>\n      <td>Academic</td>\n      <td>2019/20</td>\n      <td>Ethnicity</td>\n      <td>White</td>\n      <td>915</td>\n    </tr>\n    <tr>\n      <th>1</th>\n      <td>2</td>\n      <td>10007783</td>\n      <td>The University of Aberdeen</td>\n      <td>Scotland</td>\n      <td>Scotland</td>\n      <td>Open-ended/Permanent</td>\n      <td>Other contract level</td>\n      <td>Non-atypical</td>\n      <td>Academic</td>\n      <td>2019/20</td>\n      <td>Ethnicity</td>\n      <td>Black</td>\n      <td>25</td>\n    </tr>\n    <tr>\n      <th>2</th>\n      <td>3</td>\n      <td>10007783</td>\n      <td>The University of Aberdeen</td>\n      <td>Scotland</td>\n      <td>Scotland</td>\n      <td>Open-ended/Permanent</td>\n      <td>Other contract level</td>\n      <td>Non-atypical</td>\n      <td>Academic</td>\n      <td>2019/20</td>\n      <td>Ethnicity</td>\n      <td>Asian</td>\n      <td>125</td>\n    </tr>\n    <tr>\n      <th>3</th>\n      <td>4</td>\n      <td>10007783</td>\n      <td>The University of Aberdeen</td>\n      <td>Scotland</td>\n      <td>Scotland</td>\n      <td>Open-ended/Permanent</td>\n      <td>Other contract level</td>\n      <td>Non-atypical</td>\n      <td>Academic</td>\n      <td>2019/20</td>\n      <td>Ethnicity</td>\n      <td>Mixed</td>\n      <td>20</td>\n    </tr>\n    <tr>\n      <th>4</th>\n      <td>5</td>\n      <td>10007783</td>\n      <td>The University of Aberdeen</td>\n      <td>Scotland</td>\n      <td>Scotland</td>\n      <td>Open-ended/Permanent</td>\n      <td>Other contract level</td>\n      <td>Non-atypical</td>\n      <td>Academic</td>\n      <td>2019/20</td>\n      <td>Ethnicity</td>\n      <td>Other</td>\n      <td>20</td>\n    </tr>\n  </tbody>\n</table>\n</div>"
     },
     "execution_count": 8,
     "metadata": {},
     "output_type": "execute_result"
    }
   ],
   "source": [
    "df_2019.head()"
   ]
  },
  {
   "cell_type": "code",
   "execution_count": 9,
   "id": "8b828962-a064-42b6-9420-09e333452539",
   "metadata": {
    "pycharm": {
     "name": "#%%\n"
    }
   },
   "outputs": [
    {
     "data": {
      "text/plain": "   Unnamed: 0     UKPRN                 HE Provider Country of HE provider  \\\n0           1  10007783  The University of Aberdeen               Scotland   \n1           2  10007783  The University of Aberdeen               Scotland   \n2           3  10007783  The University of Aberdeen               Scotland   \n3           4  10007783  The University of Aberdeen               Scotland   \n4           5  10007783  The University of Aberdeen               Scotland   \n\n  Region of HE provider   Terms of employment       Contract levels  \\\n0              Scotland  Open-ended/Permanent  Other contract level   \n1              Scotland  Open-ended/Permanent  Other contract level   \n2              Scotland  Open-ended/Permanent  Other contract level   \n3              Scotland  Open-ended/Permanent  Other contract level   \n4              Scotland  Open-ended/Permanent  Other contract level   \n\n  Atypical marker Contract marker Academic Year Category Marker Category  \\\n0    Non-atypical        Academic       2020/21       Ethnicity    White   \n1    Non-atypical        Academic       2020/21       Ethnicity    Black   \n2    Non-atypical        Academic       2020/21       Ethnicity    Asian   \n3    Non-atypical        Academic       2020/21       Ethnicity    Mixed   \n4    Non-atypical        Academic       2020/21       Ethnicity   Other    \n\n   Number  \n0     925  \n1      25  \n2     135  \n3      25  \n4      25  ",
      "text/html": "<div>\n<style scoped>\n    .dataframe tbody tr th:only-of-type {\n        vertical-align: middle;\n    }\n\n    .dataframe tbody tr th {\n        vertical-align: top;\n    }\n\n    .dataframe thead th {\n        text-align: right;\n    }\n</style>\n<table border=\"1\" class=\"dataframe\">\n  <thead>\n    <tr style=\"text-align: right;\">\n      <th></th>\n      <th>Unnamed: 0</th>\n      <th>UKPRN</th>\n      <th>HE Provider</th>\n      <th>Country of HE provider</th>\n      <th>Region of HE provider</th>\n      <th>Terms of employment</th>\n      <th>Contract levels</th>\n      <th>Atypical marker</th>\n      <th>Contract marker</th>\n      <th>Academic Year</th>\n      <th>Category Marker</th>\n      <th>Category</th>\n      <th>Number</th>\n    </tr>\n  </thead>\n  <tbody>\n    <tr>\n      <th>0</th>\n      <td>1</td>\n      <td>10007783</td>\n      <td>The University of Aberdeen</td>\n      <td>Scotland</td>\n      <td>Scotland</td>\n      <td>Open-ended/Permanent</td>\n      <td>Other contract level</td>\n      <td>Non-atypical</td>\n      <td>Academic</td>\n      <td>2020/21</td>\n      <td>Ethnicity</td>\n      <td>White</td>\n      <td>925</td>\n    </tr>\n    <tr>\n      <th>1</th>\n      <td>2</td>\n      <td>10007783</td>\n      <td>The University of Aberdeen</td>\n      <td>Scotland</td>\n      <td>Scotland</td>\n      <td>Open-ended/Permanent</td>\n      <td>Other contract level</td>\n      <td>Non-atypical</td>\n      <td>Academic</td>\n      <td>2020/21</td>\n      <td>Ethnicity</td>\n      <td>Black</td>\n      <td>25</td>\n    </tr>\n    <tr>\n      <th>2</th>\n      <td>3</td>\n      <td>10007783</td>\n      <td>The University of Aberdeen</td>\n      <td>Scotland</td>\n      <td>Scotland</td>\n      <td>Open-ended/Permanent</td>\n      <td>Other contract level</td>\n      <td>Non-atypical</td>\n      <td>Academic</td>\n      <td>2020/21</td>\n      <td>Ethnicity</td>\n      <td>Asian</td>\n      <td>135</td>\n    </tr>\n    <tr>\n      <th>3</th>\n      <td>4</td>\n      <td>10007783</td>\n      <td>The University of Aberdeen</td>\n      <td>Scotland</td>\n      <td>Scotland</td>\n      <td>Open-ended/Permanent</td>\n      <td>Other contract level</td>\n      <td>Non-atypical</td>\n      <td>Academic</td>\n      <td>2020/21</td>\n      <td>Ethnicity</td>\n      <td>Mixed</td>\n      <td>25</td>\n    </tr>\n    <tr>\n      <th>4</th>\n      <td>5</td>\n      <td>10007783</td>\n      <td>The University of Aberdeen</td>\n      <td>Scotland</td>\n      <td>Scotland</td>\n      <td>Open-ended/Permanent</td>\n      <td>Other contract level</td>\n      <td>Non-atypical</td>\n      <td>Academic</td>\n      <td>2020/21</td>\n      <td>Ethnicity</td>\n      <td>Other</td>\n      <td>25</td>\n    </tr>\n  </tbody>\n</table>\n</div>"
     },
     "execution_count": 9,
     "metadata": {},
     "output_type": "execute_result"
    }
   ],
   "source": [
    "df_2020.head()\n"
   ]
  },
  {
   "cell_type": "code",
   "execution_count": 10,
   "id": "37c8f482-9a94-4301-b9e2-cef0a98484a5",
   "metadata": {
    "pycharm": {
     "name": "#%%\n"
    }
   },
   "outputs": [
    {
     "name": "stdout",
     "output_type": "stream",
     "text": [
      "<class 'pandas.core.frame.DataFrame'>\n",
      "RangeIndex: 322074 entries, 0 to 322073\n",
      "Data columns (total 13 columns):\n",
      " #   Column                  Non-Null Count   Dtype \n",
      "---  ------                  --------------   ----- \n",
      " 0   Unnamed: 0              322074 non-null  int64 \n",
      " 1   UKPRN                   322074 non-null  int64 \n",
      " 2   HE Provider             322074 non-null  object\n",
      " 3   Country of HE provider  322074 non-null  object\n",
      " 4   Region of HE provider   322074 non-null  object\n",
      " 5   Terms of employment     322074 non-null  object\n",
      " 6   Contract levels         322074 non-null  object\n",
      " 7   Atypical marker         322074 non-null  object\n",
      " 8   Contract marker         322074 non-null  object\n",
      " 9   Academic Year           322074 non-null  object\n",
      " 10  Category Marker         322074 non-null  object\n",
      " 11  Category                322074 non-null  object\n",
      " 12  Number                  322074 non-null  int64 \n",
      "dtypes: int64(3), object(10)\n",
      "memory usage: 31.9+ MB\n"
     ]
    }
   ],
   "source": [
    "df_2014.info()"
   ]
  },
  {
   "cell_type": "markdown",
   "id": "397ac5c0-0df3-4e37-9777-407a35afd284",
   "metadata": {
    "pycharm": {
     "name": "#%% md\n"
    }
   },
   "source": [
    "## Copy the dataframes before starting to clean"
   ]
  },
  {
   "cell_type": "code",
   "execution_count": 11,
   "id": "78fb04da-7975-4015-a847-da722dcda880",
   "metadata": {
    "pycharm": {
     "name": "#%%\n"
    }
   },
   "outputs": [],
   "source": [
    "df_14 =df_2014.copy()\n",
    "df_15 =df_2015.copy()\n",
    "df_16 =df_2016.copy()\n",
    "df_17 =df_2017.copy()\n",
    "df_18 =df_2018.copy()\n",
    "df_19 =df_2019.copy()\n",
    "df_20 =df_2020.copy()"
   ]
  },
  {
   "cell_type": "code",
   "execution_count": 12,
   "id": "4358f0c3-7023-4734-a355-234f36a168b0",
   "metadata": {
    "pycharm": {
     "name": "#%%\n"
    }
   },
   "outputs": [
    {
     "data": {
      "text/plain": "        Unnamed: 0     UKPRN             HE Provider Country of HE provider  \\\n322054      525198  10007167  The University of York                England   \n322055      525199  10007167  The University of York                England   \n322056      525202  10007167  The University of York                England   \n322057      525203  10007167  The University of York                England   \n322058      525206  10007167  The University of York                England   \n322059      525208  10007167  The University of York                England   \n322060      525209  10007167  The University of York                England   \n322061      525210  10007167  The University of York                England   \n322062      525211  10007167  The University of York                England   \n322063      525212  10007167  The University of York                England   \n322064      525213  10007167  The University of York                England   \n322065      525217  10007167  The University of York                England   \n322066      525218  10007167  The University of York                England   \n322067      525219  10007167  The University of York                England   \n322068      525220  10007167  The University of York                England   \n322069      525221  10007167  The University of York                England   \n322070      525222  10007167  The University of York                England   \n322071      525223  10007167  The University of York                England   \n322072      525225  10007167  The University of York                England   \n322073      525226  10007167  The University of York                England   \n\n           Region of HE provider Terms of employment        Contract levels  \\\n322054  Yorkshire and The Humber                 All  Other senior academic   \n322055  Yorkshire and The Humber                 All  Other senior academic   \n322056  Yorkshire and The Humber                 All  Other senior academic   \n322057  Yorkshire and The Humber                 All  Other senior academic   \n322058  Yorkshire and The Humber                 All              Professor   \n322059  Yorkshire and The Humber                 All              Professor   \n322060  Yorkshire and The Humber                 All              Professor   \n322061  Yorkshire and The Humber                 All              Professor   \n322062  Yorkshire and The Humber                 All              Professor   \n322063  Yorkshire and The Humber                 All              Professor   \n322064  Yorkshire and The Humber                 All              Professor   \n322065  Yorkshire and The Humber                 All              Professor   \n322066  Yorkshire and The Humber                 All              Professor   \n322067  Yorkshire and The Humber                 All              Professor   \n322068  Yorkshire and The Humber                 All              Professor   \n322069  Yorkshire and The Humber                 All              Professor   \n322070  Yorkshire and The Humber                 All              Professor   \n322071  Yorkshire and The Humber                 All              Professor   \n322072  Yorkshire and The Humber                 All              Professor   \n322073  Yorkshire and The Humber                 All              Professor   \n\n       Atypical marker           Contract marker Academic Year  \\\n322054    Non-atypical  All (excluding atypical)       2014/15   \n322055    Non-atypical  All (excluding atypical)       2014/15   \n322056    Non-atypical  All (excluding atypical)       2014/15   \n322057    Non-atypical  All (excluding atypical)       2014/15   \n322058    Non-atypical  All (excluding atypical)       2014/15   \n322059    Non-atypical  All (excluding atypical)       2014/15   \n322060    Non-atypical  All (excluding atypical)       2014/15   \n322061    Non-atypical  All (excluding atypical)       2014/15   \n322062    Non-atypical  All (excluding atypical)       2014/15   \n322063    Non-atypical  All (excluding atypical)       2014/15   \n322064    Non-atypical  All (excluding atypical)       2014/15   \n322065    Non-atypical  All (excluding atypical)       2014/15   \n322066    Non-atypical  All (excluding atypical)       2014/15   \n322067    Non-atypical  All (excluding atypical)       2014/15   \n322068    Non-atypical  All (excluding atypical)       2014/15   \n322069    Non-atypical  All (excluding atypical)       2014/15   \n322070    Non-atypical  All (excluding atypical)       2014/15   \n322071    Non-atypical  All (excluding atypical)       2014/15   \n322072    Non-atypical  All (excluding atypical)       2014/15   \n322073    Non-atypical  All (excluding atypical)       2014/15   \n\n       Category Marker              Category  Number  \n322054       Age group                 56-60      10  \n322055       Age group                 61-65       5  \n322056             Sex                Female      10  \n322057             Sex                  Male      20  \n322058       Ethnicity                 White     245  \n322059       Ethnicity                 Asian      10  \n322060       Ethnicity                 Mixed       5  \n322061       Ethnicity                Other        5  \n322062       Ethnicity             Not known      30  \n322063      Disability  Known to be disabled       5  \n322064      Disability   No known disability     285  \n322065       Age group                 36-40       5  \n322066       Age group                 41-45      40  \n322067       Age group                 46-50      80  \n322068       Age group                 51-55      45  \n322069       Age group                 56-60      45  \n322070       Age group                 61-65      40  \n322071       Age group           66 and over      30  \n322072             Sex                Female      65  \n322073             Sex                  Male     225  ",
      "text/html": "<div>\n<style scoped>\n    .dataframe tbody tr th:only-of-type {\n        vertical-align: middle;\n    }\n\n    .dataframe tbody tr th {\n        vertical-align: top;\n    }\n\n    .dataframe thead th {\n        text-align: right;\n    }\n</style>\n<table border=\"1\" class=\"dataframe\">\n  <thead>\n    <tr style=\"text-align: right;\">\n      <th></th>\n      <th>Unnamed: 0</th>\n      <th>UKPRN</th>\n      <th>HE Provider</th>\n      <th>Country of HE provider</th>\n      <th>Region of HE provider</th>\n      <th>Terms of employment</th>\n      <th>Contract levels</th>\n      <th>Atypical marker</th>\n      <th>Contract marker</th>\n      <th>Academic Year</th>\n      <th>Category Marker</th>\n      <th>Category</th>\n      <th>Number</th>\n    </tr>\n  </thead>\n  <tbody>\n    <tr>\n      <th>322054</th>\n      <td>525198</td>\n      <td>10007167</td>\n      <td>The University of York</td>\n      <td>England</td>\n      <td>Yorkshire and The Humber</td>\n      <td>All</td>\n      <td>Other senior academic</td>\n      <td>Non-atypical</td>\n      <td>All (excluding atypical)</td>\n      <td>2014/15</td>\n      <td>Age group</td>\n      <td>56-60</td>\n      <td>10</td>\n    </tr>\n    <tr>\n      <th>322055</th>\n      <td>525199</td>\n      <td>10007167</td>\n      <td>The University of York</td>\n      <td>England</td>\n      <td>Yorkshire and The Humber</td>\n      <td>All</td>\n      <td>Other senior academic</td>\n      <td>Non-atypical</td>\n      <td>All (excluding atypical)</td>\n      <td>2014/15</td>\n      <td>Age group</td>\n      <td>61-65</td>\n      <td>5</td>\n    </tr>\n    <tr>\n      <th>322056</th>\n      <td>525202</td>\n      <td>10007167</td>\n      <td>The University of York</td>\n      <td>England</td>\n      <td>Yorkshire and The Humber</td>\n      <td>All</td>\n      <td>Other senior academic</td>\n      <td>Non-atypical</td>\n      <td>All (excluding atypical)</td>\n      <td>2014/15</td>\n      <td>Sex</td>\n      <td>Female</td>\n      <td>10</td>\n    </tr>\n    <tr>\n      <th>322057</th>\n      <td>525203</td>\n      <td>10007167</td>\n      <td>The University of York</td>\n      <td>England</td>\n      <td>Yorkshire and The Humber</td>\n      <td>All</td>\n      <td>Other senior academic</td>\n      <td>Non-atypical</td>\n      <td>All (excluding atypical)</td>\n      <td>2014/15</td>\n      <td>Sex</td>\n      <td>Male</td>\n      <td>20</td>\n    </tr>\n    <tr>\n      <th>322058</th>\n      <td>525206</td>\n      <td>10007167</td>\n      <td>The University of York</td>\n      <td>England</td>\n      <td>Yorkshire and The Humber</td>\n      <td>All</td>\n      <td>Professor</td>\n      <td>Non-atypical</td>\n      <td>All (excluding atypical)</td>\n      <td>2014/15</td>\n      <td>Ethnicity</td>\n      <td>White</td>\n      <td>245</td>\n    </tr>\n    <tr>\n      <th>322059</th>\n      <td>525208</td>\n      <td>10007167</td>\n      <td>The University of York</td>\n      <td>England</td>\n      <td>Yorkshire and The Humber</td>\n      <td>All</td>\n      <td>Professor</td>\n      <td>Non-atypical</td>\n      <td>All (excluding atypical)</td>\n      <td>2014/15</td>\n      <td>Ethnicity</td>\n      <td>Asian</td>\n      <td>10</td>\n    </tr>\n    <tr>\n      <th>322060</th>\n      <td>525209</td>\n      <td>10007167</td>\n      <td>The University of York</td>\n      <td>England</td>\n      <td>Yorkshire and The Humber</td>\n      <td>All</td>\n      <td>Professor</td>\n      <td>Non-atypical</td>\n      <td>All (excluding atypical)</td>\n      <td>2014/15</td>\n      <td>Ethnicity</td>\n      <td>Mixed</td>\n      <td>5</td>\n    </tr>\n    <tr>\n      <th>322061</th>\n      <td>525210</td>\n      <td>10007167</td>\n      <td>The University of York</td>\n      <td>England</td>\n      <td>Yorkshire and The Humber</td>\n      <td>All</td>\n      <td>Professor</td>\n      <td>Non-atypical</td>\n      <td>All (excluding atypical)</td>\n      <td>2014/15</td>\n      <td>Ethnicity</td>\n      <td>Other</td>\n      <td>5</td>\n    </tr>\n    <tr>\n      <th>322062</th>\n      <td>525211</td>\n      <td>10007167</td>\n      <td>The University of York</td>\n      <td>England</td>\n      <td>Yorkshire and The Humber</td>\n      <td>All</td>\n      <td>Professor</td>\n      <td>Non-atypical</td>\n      <td>All (excluding atypical)</td>\n      <td>2014/15</td>\n      <td>Ethnicity</td>\n      <td>Not known</td>\n      <td>30</td>\n    </tr>\n    <tr>\n      <th>322063</th>\n      <td>525212</td>\n      <td>10007167</td>\n      <td>The University of York</td>\n      <td>England</td>\n      <td>Yorkshire and The Humber</td>\n      <td>All</td>\n      <td>Professor</td>\n      <td>Non-atypical</td>\n      <td>All (excluding atypical)</td>\n      <td>2014/15</td>\n      <td>Disability</td>\n      <td>Known to be disabled</td>\n      <td>5</td>\n    </tr>\n    <tr>\n      <th>322064</th>\n      <td>525213</td>\n      <td>10007167</td>\n      <td>The University of York</td>\n      <td>England</td>\n      <td>Yorkshire and The Humber</td>\n      <td>All</td>\n      <td>Professor</td>\n      <td>Non-atypical</td>\n      <td>All (excluding atypical)</td>\n      <td>2014/15</td>\n      <td>Disability</td>\n      <td>No known disability</td>\n      <td>285</td>\n    </tr>\n    <tr>\n      <th>322065</th>\n      <td>525217</td>\n      <td>10007167</td>\n      <td>The University of York</td>\n      <td>England</td>\n      <td>Yorkshire and The Humber</td>\n      <td>All</td>\n      <td>Professor</td>\n      <td>Non-atypical</td>\n      <td>All (excluding atypical)</td>\n      <td>2014/15</td>\n      <td>Age group</td>\n      <td>36-40</td>\n      <td>5</td>\n    </tr>\n    <tr>\n      <th>322066</th>\n      <td>525218</td>\n      <td>10007167</td>\n      <td>The University of York</td>\n      <td>England</td>\n      <td>Yorkshire and The Humber</td>\n      <td>All</td>\n      <td>Professor</td>\n      <td>Non-atypical</td>\n      <td>All (excluding atypical)</td>\n      <td>2014/15</td>\n      <td>Age group</td>\n      <td>41-45</td>\n      <td>40</td>\n    </tr>\n    <tr>\n      <th>322067</th>\n      <td>525219</td>\n      <td>10007167</td>\n      <td>The University of York</td>\n      <td>England</td>\n      <td>Yorkshire and The Humber</td>\n      <td>All</td>\n      <td>Professor</td>\n      <td>Non-atypical</td>\n      <td>All (excluding atypical)</td>\n      <td>2014/15</td>\n      <td>Age group</td>\n      <td>46-50</td>\n      <td>80</td>\n    </tr>\n    <tr>\n      <th>322068</th>\n      <td>525220</td>\n      <td>10007167</td>\n      <td>The University of York</td>\n      <td>England</td>\n      <td>Yorkshire and The Humber</td>\n      <td>All</td>\n      <td>Professor</td>\n      <td>Non-atypical</td>\n      <td>All (excluding atypical)</td>\n      <td>2014/15</td>\n      <td>Age group</td>\n      <td>51-55</td>\n      <td>45</td>\n    </tr>\n    <tr>\n      <th>322069</th>\n      <td>525221</td>\n      <td>10007167</td>\n      <td>The University of York</td>\n      <td>England</td>\n      <td>Yorkshire and The Humber</td>\n      <td>All</td>\n      <td>Professor</td>\n      <td>Non-atypical</td>\n      <td>All (excluding atypical)</td>\n      <td>2014/15</td>\n      <td>Age group</td>\n      <td>56-60</td>\n      <td>45</td>\n    </tr>\n    <tr>\n      <th>322070</th>\n      <td>525222</td>\n      <td>10007167</td>\n      <td>The University of York</td>\n      <td>England</td>\n      <td>Yorkshire and The Humber</td>\n      <td>All</td>\n      <td>Professor</td>\n      <td>Non-atypical</td>\n      <td>All (excluding atypical)</td>\n      <td>2014/15</td>\n      <td>Age group</td>\n      <td>61-65</td>\n      <td>40</td>\n    </tr>\n    <tr>\n      <th>322071</th>\n      <td>525223</td>\n      <td>10007167</td>\n      <td>The University of York</td>\n      <td>England</td>\n      <td>Yorkshire and The Humber</td>\n      <td>All</td>\n      <td>Professor</td>\n      <td>Non-atypical</td>\n      <td>All (excluding atypical)</td>\n      <td>2014/15</td>\n      <td>Age group</td>\n      <td>66 and over</td>\n      <td>30</td>\n    </tr>\n    <tr>\n      <th>322072</th>\n      <td>525225</td>\n      <td>10007167</td>\n      <td>The University of York</td>\n      <td>England</td>\n      <td>Yorkshire and The Humber</td>\n      <td>All</td>\n      <td>Professor</td>\n      <td>Non-atypical</td>\n      <td>All (excluding atypical)</td>\n      <td>2014/15</td>\n      <td>Sex</td>\n      <td>Female</td>\n      <td>65</td>\n    </tr>\n    <tr>\n      <th>322073</th>\n      <td>525226</td>\n      <td>10007167</td>\n      <td>The University of York</td>\n      <td>England</td>\n      <td>Yorkshire and The Humber</td>\n      <td>All</td>\n      <td>Professor</td>\n      <td>Non-atypical</td>\n      <td>All (excluding atypical)</td>\n      <td>2014/15</td>\n      <td>Sex</td>\n      <td>Male</td>\n      <td>225</td>\n    </tr>\n  </tbody>\n</table>\n</div>"
     },
     "execution_count": 12,
     "metadata": {},
     "output_type": "execute_result"
    }
   ],
   "source": [
    "df_14.tail(20)"
   ]
  },
  {
   "cell_type": "markdown",
   "id": "acbb7fc1-e7b2-486f-bd50-7555ad09df48",
   "metadata": {
    "pycharm": {
     "name": "#%% md\n"
    }
   },
   "source": [
    "## Quality Issues"
   ]
  },
  {
   "cell_type": "markdown",
   "id": "ba49a702-0a3c-4c66-a00b-d3e00c51acc4",
   "metadata": {
    "pycharm": {
     "name": "#%% md\n"
    }
   },
   "source": [
    "* Null values on the number column and ukprn column\n",
    "* datatypes in the above column is wrong should be string and int respectively\n",
    "* total values in the column HE provide, Category and Category maker\n",
    "\n",
    "## Tidiness issues\n",
    "* Data on the dataframes can be merged after cleaning\n",
    "*\n"
   ]
  },
  {
   "cell_type": "markdown",
   "id": "e8c3f3cf-b537-42a8-a9f1-11561bd7d11c",
   "metadata": {
    "pycharm": {
     "name": "#%% md\n"
    }
   },
   "source": [
    "# Clean"
   ]
  },
  {
   "cell_type": "markdown",
   "id": "27f5a438-b7a7-4e65-b8bd-958b5fcb37f7",
   "metadata": {
    "pycharm": {
     "name": "#%% md\n"
    }
   },
   "source": [
    "### Define\n",
    "* Remove rows with null values on UKPRN column"
   ]
  },
  {
   "cell_type": "code",
   "execution_count": 13,
   "id": "af1b3c62-2246-4f21-992d-e218754b057f",
   "metadata": {
    "pycharm": {
     "name": "#%%\n"
    }
   },
   "outputs": [],
   "source": [
    "df_14 =df_14.dropna(subset =['UKPRN'])\n",
    "df_14 =df_14.reset_index(drop=True)\n",
    "df_15 =df_15.dropna(subset =['UKPRN'])\n",
    "df_15 =df_15.reset_index(drop=True)\n",
    "df_16 =df_16.dropna(subset =['UKPRN'])\n",
    "df_16 =df_16.reset_index(drop=True)\n",
    "df_17 =df_17.dropna(subset =['UKPRN'])\n",
    "df_17 =df_17.reset_index(drop=True)\n",
    "df_18 =df_18.dropna(subset =['UKPRN'])\n",
    "df_18 =df_18.reset_index(drop=True)\n",
    "df_19 =df_19.dropna(subset =['UKPRN'])\n",
    "df_19 =df_19.reset_index(drop=True)\n",
    "df_20 =df_20.dropna(subset =['UKPRN'])\n",
    "df_20 =df_20.reset_index(drop=True)"
   ]
  },
  {
   "cell_type": "markdown",
   "id": "6dd0f087-3fbf-4615-b26d-25e99862b13e",
   "metadata": {
    "pycharm": {
     "name": "#%% md\n"
    }
   },
   "source": [
    "### TEst"
   ]
  },
  {
   "cell_type": "code",
   "execution_count": 14,
   "id": "7f011992-4e93-4fb3-9c14-178eec977edc",
   "metadata": {
    "pycharm": {
     "name": "#%%\n"
    }
   },
   "outputs": [
    {
     "data": {
      "text/plain": "0"
     },
     "execution_count": 14,
     "metadata": {},
     "output_type": "execute_result"
    }
   ],
   "source": [
    "df_14.UKPRN.isnull().sum()"
   ]
  },
  {
   "cell_type": "code",
   "execution_count": 15,
   "id": "5b9aa7cc-aa66-44f9-921f-b97ef2bdd79d",
   "metadata": {
    "pycharm": {
     "name": "#%%\n"
    }
   },
   "outputs": [
    {
     "data": {
      "text/plain": "0"
     },
     "execution_count": 15,
     "metadata": {},
     "output_type": "execute_result"
    }
   ],
   "source": [
    "df_15.UKPRN.isnull().sum()"
   ]
  },
  {
   "cell_type": "code",
   "execution_count": 16,
   "id": "9da686a7-f0f8-4f4a-b46e-e44f2e8738b5",
   "metadata": {
    "pycharm": {
     "name": "#%%\n"
    }
   },
   "outputs": [
    {
     "data": {
      "text/plain": "0"
     },
     "execution_count": 16,
     "metadata": {},
     "output_type": "execute_result"
    }
   ],
   "source": [
    "df_16.UKPRN.isnull().sum()"
   ]
  },
  {
   "cell_type": "code",
   "execution_count": 17,
   "id": "eb3d0bd6-3819-4c4e-81e8-310095ea60ae",
   "metadata": {
    "pycharm": {
     "name": "#%%\n"
    }
   },
   "outputs": [
    {
     "data": {
      "text/plain": "0"
     },
     "execution_count": 17,
     "metadata": {},
     "output_type": "execute_result"
    }
   ],
   "source": [
    "df_17.UKPRN.isnull().sum()"
   ]
  },
  {
   "cell_type": "code",
   "execution_count": 18,
   "id": "fcd61a7f-a16b-4203-b336-3a41d3b270ac",
   "metadata": {
    "pycharm": {
     "name": "#%%\n"
    }
   },
   "outputs": [
    {
     "data": {
      "text/plain": "0"
     },
     "execution_count": 18,
     "metadata": {},
     "output_type": "execute_result"
    }
   ],
   "source": [
    "df_18.UKPRN.isnull().sum()"
   ]
  },
  {
   "cell_type": "code",
   "execution_count": 19,
   "id": "77e19dd3-268a-43d5-b89c-307a1ac30d36",
   "metadata": {
    "pycharm": {
     "name": "#%%\n"
    }
   },
   "outputs": [
    {
     "data": {
      "text/plain": "0"
     },
     "execution_count": 19,
     "metadata": {},
     "output_type": "execute_result"
    }
   ],
   "source": [
    "df_19.UKPRN.isnull().sum()"
   ]
  },
  {
   "cell_type": "code",
   "execution_count": 20,
   "id": "702ace86-a046-4a09-9216-88cc6ccf19cf",
   "metadata": {
    "pycharm": {
     "name": "#%%\n"
    }
   },
   "outputs": [
    {
     "data": {
      "text/plain": "0"
     },
     "execution_count": 20,
     "metadata": {},
     "output_type": "execute_result"
    }
   ],
   "source": [
    "df_20.UKPRN.isnull().sum()"
   ]
  },
  {
   "cell_type": "markdown",
   "id": "90d4fa30-39be-45e8-a4ee-9c2dd5baff65",
   "metadata": {
    "pycharm": {
     "name": "#%% md\n"
    }
   },
   "source": [
    "## Define\n",
    "* Convert the UKPRN column in each dataframe from float to int then string"
   ]
  },
  {
   "cell_type": "markdown",
   "id": "c9fb81b0-8720-4836-bb7a-8b7f15d4eefe",
   "metadata": {
    "pycharm": {
     "name": "#%% md\n"
    }
   },
   "source": [
    "### Code"
   ]
  },
  {
   "cell_type": "code",
   "execution_count": 21,
   "id": "632f6cc1-51cb-4f6b-bb30-b102cefd6c8b",
   "metadata": {
    "pycharm": {
     "name": "#%%\n"
    }
   },
   "outputs": [],
   "source": [
    "df_14['UKPRN'] =df_14['UKPRN'].astype(int)"
   ]
  },
  {
   "cell_type": "markdown",
   "id": "a713ae24-326f-44bf-a167-9eb6539807b9",
   "metadata": {
    "pycharm": {
     "name": "#%% md\n"
    }
   },
   "source": [
    "### Test"
   ]
  },
  {
   "cell_type": "code",
   "execution_count": 22,
   "id": "d26f2036-7966-4161-b563-ecfea3771a36",
   "metadata": {
    "pycharm": {
     "name": "#%%\n"
    }
   },
   "outputs": [
    {
     "data": {
      "text/plain": "   Unnamed: 0     UKPRN                 HE Provider Country of HE provider  \\\n0           1  10007783  The University of Aberdeen               Scotland   \n1           2  10007783  The University of Aberdeen               Scotland   \n\n  Region of HE provider   Terms of employment       Contract levels  \\\n0              Scotland  Open-ended/Permanent  Other contract level   \n1              Scotland  Open-ended/Permanent  Other contract level   \n\n  Atypical marker Contract marker Academic Year Category Marker Category  \\\n0    Non-atypical        Academic       2014/15       Ethnicity    White   \n1    Non-atypical        Academic       2014/15       Ethnicity    Black   \n\n   Number  \n0    1095  \n1      25  ",
      "text/html": "<div>\n<style scoped>\n    .dataframe tbody tr th:only-of-type {\n        vertical-align: middle;\n    }\n\n    .dataframe tbody tr th {\n        vertical-align: top;\n    }\n\n    .dataframe thead th {\n        text-align: right;\n    }\n</style>\n<table border=\"1\" class=\"dataframe\">\n  <thead>\n    <tr style=\"text-align: right;\">\n      <th></th>\n      <th>Unnamed: 0</th>\n      <th>UKPRN</th>\n      <th>HE Provider</th>\n      <th>Country of HE provider</th>\n      <th>Region of HE provider</th>\n      <th>Terms of employment</th>\n      <th>Contract levels</th>\n      <th>Atypical marker</th>\n      <th>Contract marker</th>\n      <th>Academic Year</th>\n      <th>Category Marker</th>\n      <th>Category</th>\n      <th>Number</th>\n    </tr>\n  </thead>\n  <tbody>\n    <tr>\n      <th>0</th>\n      <td>1</td>\n      <td>10007783</td>\n      <td>The University of Aberdeen</td>\n      <td>Scotland</td>\n      <td>Scotland</td>\n      <td>Open-ended/Permanent</td>\n      <td>Other contract level</td>\n      <td>Non-atypical</td>\n      <td>Academic</td>\n      <td>2014/15</td>\n      <td>Ethnicity</td>\n      <td>White</td>\n      <td>1095</td>\n    </tr>\n    <tr>\n      <th>1</th>\n      <td>2</td>\n      <td>10007783</td>\n      <td>The University of Aberdeen</td>\n      <td>Scotland</td>\n      <td>Scotland</td>\n      <td>Open-ended/Permanent</td>\n      <td>Other contract level</td>\n      <td>Non-atypical</td>\n      <td>Academic</td>\n      <td>2014/15</td>\n      <td>Ethnicity</td>\n      <td>Black</td>\n      <td>25</td>\n    </tr>\n  </tbody>\n</table>\n</div>"
     },
     "execution_count": 22,
     "metadata": {},
     "output_type": "execute_result"
    }
   ],
   "source": [
    "df_14.head(2)"
   ]
  },
  {
   "cell_type": "code",
   "execution_count": 23,
   "id": "6b46baca-feca-4fcc-bce0-7ef707f1488b",
   "metadata": {
    "pycharm": {
     "name": "#%%\n"
    }
   },
   "outputs": [],
   "source": [
    "df_15['UKPRN'] =df_15['UKPRN'].astype(int)\n",
    "df_16['UKPRN'] =df_16['UKPRN'].astype(int)\n",
    "df_17['UKPRN'] =df_17['UKPRN'].astype(int)\n",
    "df_18['UKPRN'] =df_18['UKPRN'].astype(int)\n",
    "df_19['UKPRN'] =df_19['UKPRN'].astype(int)\n",
    "df_20['UKPRN'] =df_20['UKPRN'].astype(int)"
   ]
  },
  {
   "cell_type": "markdown",
   "id": "29540a5a-3c9d-4edc-97bc-0311c984be0f",
   "metadata": {
    "pycharm": {
     "name": "#%% md\n"
    }
   },
   "source": [
    "### Define\n",
    "* Converting column Number from float to int"
   ]
  },
  {
   "cell_type": "code",
   "execution_count": 24,
   "id": "63e7cf48-3bd4-4cc6-b2c3-03279fd70736",
   "metadata": {
    "pycharm": {
     "name": "#%%\n"
    }
   },
   "outputs": [],
   "source": [
    "df_14 =df_14.dropna(subset =['Number'])\n",
    "df_14 =df_14.reset_index(drop=True)\n",
    "df_15 =df_15.dropna(subset =['Number'])\n",
    "df_15 =df_15.reset_index(drop=True)\n",
    "df_16 =df_16.dropna(subset =['Number'])\n",
    "df_16 =df_16.reset_index(drop=True)\n",
    "df_17 =df_17.dropna(subset =['Number'])\n",
    "df_17 =df_17.reset_index(drop=True)\n",
    "df_18 =df_18.dropna(subset =['Number'])\n",
    "df_18 =df_18.reset_index(drop=True)\n",
    "df_19 =df_19.dropna(subset =['Number'])\n",
    "df_19 =df_19.reset_index(drop=True)\n",
    "df_20 =df_20.dropna(subset =['Number'])\n",
    "df_20 =df_20.reset_index(drop=True)"
   ]
  },
  {
   "cell_type": "code",
   "execution_count": 25,
   "id": "c604cee0-5487-4dd1-8e46-6219f2b1b818",
   "metadata": {
    "pycharm": {
     "name": "#%%\n"
    }
   },
   "outputs": [],
   "source": [
    "df_14['Number'] =df_14['Number'].astype(int)\n",
    "df_15['Number'] =df_15['Number'].astype(int)\n",
    "df_16['Number'] =df_16['Number'].astype(int)\n",
    "df_17['Number'] =df_17['Number'].astype(int)\n",
    "df_18['Number'] =df_18['Number'].astype(int)\n",
    "df_19['Number'] =df_19['Number'].astype(int)\n",
    "df_20['Number'] =df_20['Number'].astype(int)"
   ]
  },
  {
   "cell_type": "code",
   "execution_count": 26,
   "id": "5f8f34ed-cb08-435b-9066-f43946243501",
   "metadata": {
    "pycharm": {
     "name": "#%%\n"
    }
   },
   "outputs": [
    {
     "data": {
      "text/plain": "0"
     },
     "execution_count": 26,
     "metadata": {},
     "output_type": "execute_result"
    }
   ],
   "source": [
    "df_14.Number.isnull().sum()"
   ]
  },
  {
   "cell_type": "code",
   "execution_count": 27,
   "id": "cda1b4d7-768f-401e-8eb8-d8b9c9b9f079",
   "metadata": {
    "pycharm": {
     "name": "#%%\n"
    }
   },
   "outputs": [
    {
     "data": {
      "text/plain": "   Unnamed: 0     UKPRN                 HE Provider Country of HE provider  \\\n0           1  10007783  The University of Aberdeen               Scotland   \n1           2  10007783  The University of Aberdeen               Scotland   \n2           3  10007783  The University of Aberdeen               Scotland   \n3           4  10007783  The University of Aberdeen               Scotland   \n4           5  10007783  The University of Aberdeen               Scotland   \n\n  Region of HE provider   Terms of employment       Contract levels  \\\n0              Scotland  Open-ended/Permanent  Other contract level   \n1              Scotland  Open-ended/Permanent  Other contract level   \n2              Scotland  Open-ended/Permanent  Other contract level   \n3              Scotland  Open-ended/Permanent  Other contract level   \n4              Scotland  Open-ended/Permanent  Other contract level   \n\n  Atypical marker Contract marker Academic Year Category Marker Category  \\\n0    Non-atypical        Academic       2014/15       Ethnicity    White   \n1    Non-atypical        Academic       2014/15       Ethnicity    Black   \n2    Non-atypical        Academic       2014/15       Ethnicity    Asian   \n3    Non-atypical        Academic       2014/15       Ethnicity    Mixed   \n4    Non-atypical        Academic       2014/15       Ethnicity   Other    \n\n   Number  \n0    1095  \n1      25  \n2     130  \n3      20  \n4      25  ",
      "text/html": "<div>\n<style scoped>\n    .dataframe tbody tr th:only-of-type {\n        vertical-align: middle;\n    }\n\n    .dataframe tbody tr th {\n        vertical-align: top;\n    }\n\n    .dataframe thead th {\n        text-align: right;\n    }\n</style>\n<table border=\"1\" class=\"dataframe\">\n  <thead>\n    <tr style=\"text-align: right;\">\n      <th></th>\n      <th>Unnamed: 0</th>\n      <th>UKPRN</th>\n      <th>HE Provider</th>\n      <th>Country of HE provider</th>\n      <th>Region of HE provider</th>\n      <th>Terms of employment</th>\n      <th>Contract levels</th>\n      <th>Atypical marker</th>\n      <th>Contract marker</th>\n      <th>Academic Year</th>\n      <th>Category Marker</th>\n      <th>Category</th>\n      <th>Number</th>\n    </tr>\n  </thead>\n  <tbody>\n    <tr>\n      <th>0</th>\n      <td>1</td>\n      <td>10007783</td>\n      <td>The University of Aberdeen</td>\n      <td>Scotland</td>\n      <td>Scotland</td>\n      <td>Open-ended/Permanent</td>\n      <td>Other contract level</td>\n      <td>Non-atypical</td>\n      <td>Academic</td>\n      <td>2014/15</td>\n      <td>Ethnicity</td>\n      <td>White</td>\n      <td>1095</td>\n    </tr>\n    <tr>\n      <th>1</th>\n      <td>2</td>\n      <td>10007783</td>\n      <td>The University of Aberdeen</td>\n      <td>Scotland</td>\n      <td>Scotland</td>\n      <td>Open-ended/Permanent</td>\n      <td>Other contract level</td>\n      <td>Non-atypical</td>\n      <td>Academic</td>\n      <td>2014/15</td>\n      <td>Ethnicity</td>\n      <td>Black</td>\n      <td>25</td>\n    </tr>\n    <tr>\n      <th>2</th>\n      <td>3</td>\n      <td>10007783</td>\n      <td>The University of Aberdeen</td>\n      <td>Scotland</td>\n      <td>Scotland</td>\n      <td>Open-ended/Permanent</td>\n      <td>Other contract level</td>\n      <td>Non-atypical</td>\n      <td>Academic</td>\n      <td>2014/15</td>\n      <td>Ethnicity</td>\n      <td>Asian</td>\n      <td>130</td>\n    </tr>\n    <tr>\n      <th>3</th>\n      <td>4</td>\n      <td>10007783</td>\n      <td>The University of Aberdeen</td>\n      <td>Scotland</td>\n      <td>Scotland</td>\n      <td>Open-ended/Permanent</td>\n      <td>Other contract level</td>\n      <td>Non-atypical</td>\n      <td>Academic</td>\n      <td>2014/15</td>\n      <td>Ethnicity</td>\n      <td>Mixed</td>\n      <td>20</td>\n    </tr>\n    <tr>\n      <th>4</th>\n      <td>5</td>\n      <td>10007783</td>\n      <td>The University of Aberdeen</td>\n      <td>Scotland</td>\n      <td>Scotland</td>\n      <td>Open-ended/Permanent</td>\n      <td>Other contract level</td>\n      <td>Non-atypical</td>\n      <td>Academic</td>\n      <td>2014/15</td>\n      <td>Ethnicity</td>\n      <td>Other</td>\n      <td>25</td>\n    </tr>\n  </tbody>\n</table>\n</div>"
     },
     "execution_count": 27,
     "metadata": {},
     "output_type": "execute_result"
    }
   ],
   "source": [
    "df_14.head()"
   ]
  },
  {
   "cell_type": "code",
   "execution_count": 28,
   "id": "87c88e76-abe6-41e0-ac68-c64fd0fa897a",
   "metadata": {
    "pycharm": {
     "name": "#%%\n"
    }
   },
   "outputs": [
    {
     "data": {
      "text/plain": "        Unnamed: 0     UKPRN             HE Provider Country of HE provider  \\\n322054      525198  10007167  The University of York                England   \n322055      525199  10007167  The University of York                England   \n322056      525202  10007167  The University of York                England   \n322057      525203  10007167  The University of York                England   \n322058      525206  10007167  The University of York                England   \n322059      525208  10007167  The University of York                England   \n322060      525209  10007167  The University of York                England   \n322061      525210  10007167  The University of York                England   \n322062      525211  10007167  The University of York                England   \n322063      525212  10007167  The University of York                England   \n322064      525213  10007167  The University of York                England   \n322065      525217  10007167  The University of York                England   \n322066      525218  10007167  The University of York                England   \n322067      525219  10007167  The University of York                England   \n322068      525220  10007167  The University of York                England   \n322069      525221  10007167  The University of York                England   \n322070      525222  10007167  The University of York                England   \n322071      525223  10007167  The University of York                England   \n322072      525225  10007167  The University of York                England   \n322073      525226  10007167  The University of York                England   \n\n           Region of HE provider Terms of employment        Contract levels  \\\n322054  Yorkshire and The Humber                 All  Other senior academic   \n322055  Yorkshire and The Humber                 All  Other senior academic   \n322056  Yorkshire and The Humber                 All  Other senior academic   \n322057  Yorkshire and The Humber                 All  Other senior academic   \n322058  Yorkshire and The Humber                 All              Professor   \n322059  Yorkshire and The Humber                 All              Professor   \n322060  Yorkshire and The Humber                 All              Professor   \n322061  Yorkshire and The Humber                 All              Professor   \n322062  Yorkshire and The Humber                 All              Professor   \n322063  Yorkshire and The Humber                 All              Professor   \n322064  Yorkshire and The Humber                 All              Professor   \n322065  Yorkshire and The Humber                 All              Professor   \n322066  Yorkshire and The Humber                 All              Professor   \n322067  Yorkshire and The Humber                 All              Professor   \n322068  Yorkshire and The Humber                 All              Professor   \n322069  Yorkshire and The Humber                 All              Professor   \n322070  Yorkshire and The Humber                 All              Professor   \n322071  Yorkshire and The Humber                 All              Professor   \n322072  Yorkshire and The Humber                 All              Professor   \n322073  Yorkshire and The Humber                 All              Professor   \n\n       Atypical marker           Contract marker Academic Year  \\\n322054    Non-atypical  All (excluding atypical)       2014/15   \n322055    Non-atypical  All (excluding atypical)       2014/15   \n322056    Non-atypical  All (excluding atypical)       2014/15   \n322057    Non-atypical  All (excluding atypical)       2014/15   \n322058    Non-atypical  All (excluding atypical)       2014/15   \n322059    Non-atypical  All (excluding atypical)       2014/15   \n322060    Non-atypical  All (excluding atypical)       2014/15   \n322061    Non-atypical  All (excluding atypical)       2014/15   \n322062    Non-atypical  All (excluding atypical)       2014/15   \n322063    Non-atypical  All (excluding atypical)       2014/15   \n322064    Non-atypical  All (excluding atypical)       2014/15   \n322065    Non-atypical  All (excluding atypical)       2014/15   \n322066    Non-atypical  All (excluding atypical)       2014/15   \n322067    Non-atypical  All (excluding atypical)       2014/15   \n322068    Non-atypical  All (excluding atypical)       2014/15   \n322069    Non-atypical  All (excluding atypical)       2014/15   \n322070    Non-atypical  All (excluding atypical)       2014/15   \n322071    Non-atypical  All (excluding atypical)       2014/15   \n322072    Non-atypical  All (excluding atypical)       2014/15   \n322073    Non-atypical  All (excluding atypical)       2014/15   \n\n       Category Marker              Category  Number  \n322054       Age group                 56-60      10  \n322055       Age group                 61-65       5  \n322056             Sex                Female      10  \n322057             Sex                  Male      20  \n322058       Ethnicity                 White     245  \n322059       Ethnicity                 Asian      10  \n322060       Ethnicity                 Mixed       5  \n322061       Ethnicity                Other        5  \n322062       Ethnicity             Not known      30  \n322063      Disability  Known to be disabled       5  \n322064      Disability   No known disability     285  \n322065       Age group                 36-40       5  \n322066       Age group                 41-45      40  \n322067       Age group                 46-50      80  \n322068       Age group                 51-55      45  \n322069       Age group                 56-60      45  \n322070       Age group                 61-65      40  \n322071       Age group           66 and over      30  \n322072             Sex                Female      65  \n322073             Sex                  Male     225  ",
      "text/html": "<div>\n<style scoped>\n    .dataframe tbody tr th:only-of-type {\n        vertical-align: middle;\n    }\n\n    .dataframe tbody tr th {\n        vertical-align: top;\n    }\n\n    .dataframe thead th {\n        text-align: right;\n    }\n</style>\n<table border=\"1\" class=\"dataframe\">\n  <thead>\n    <tr style=\"text-align: right;\">\n      <th></th>\n      <th>Unnamed: 0</th>\n      <th>UKPRN</th>\n      <th>HE Provider</th>\n      <th>Country of HE provider</th>\n      <th>Region of HE provider</th>\n      <th>Terms of employment</th>\n      <th>Contract levels</th>\n      <th>Atypical marker</th>\n      <th>Contract marker</th>\n      <th>Academic Year</th>\n      <th>Category Marker</th>\n      <th>Category</th>\n      <th>Number</th>\n    </tr>\n  </thead>\n  <tbody>\n    <tr>\n      <th>322054</th>\n      <td>525198</td>\n      <td>10007167</td>\n      <td>The University of York</td>\n      <td>England</td>\n      <td>Yorkshire and The Humber</td>\n      <td>All</td>\n      <td>Other senior academic</td>\n      <td>Non-atypical</td>\n      <td>All (excluding atypical)</td>\n      <td>2014/15</td>\n      <td>Age group</td>\n      <td>56-60</td>\n      <td>10</td>\n    </tr>\n    <tr>\n      <th>322055</th>\n      <td>525199</td>\n      <td>10007167</td>\n      <td>The University of York</td>\n      <td>England</td>\n      <td>Yorkshire and The Humber</td>\n      <td>All</td>\n      <td>Other senior academic</td>\n      <td>Non-atypical</td>\n      <td>All (excluding atypical)</td>\n      <td>2014/15</td>\n      <td>Age group</td>\n      <td>61-65</td>\n      <td>5</td>\n    </tr>\n    <tr>\n      <th>322056</th>\n      <td>525202</td>\n      <td>10007167</td>\n      <td>The University of York</td>\n      <td>England</td>\n      <td>Yorkshire and The Humber</td>\n      <td>All</td>\n      <td>Other senior academic</td>\n      <td>Non-atypical</td>\n      <td>All (excluding atypical)</td>\n      <td>2014/15</td>\n      <td>Sex</td>\n      <td>Female</td>\n      <td>10</td>\n    </tr>\n    <tr>\n      <th>322057</th>\n      <td>525203</td>\n      <td>10007167</td>\n      <td>The University of York</td>\n      <td>England</td>\n      <td>Yorkshire and The Humber</td>\n      <td>All</td>\n      <td>Other senior academic</td>\n      <td>Non-atypical</td>\n      <td>All (excluding atypical)</td>\n      <td>2014/15</td>\n      <td>Sex</td>\n      <td>Male</td>\n      <td>20</td>\n    </tr>\n    <tr>\n      <th>322058</th>\n      <td>525206</td>\n      <td>10007167</td>\n      <td>The University of York</td>\n      <td>England</td>\n      <td>Yorkshire and The Humber</td>\n      <td>All</td>\n      <td>Professor</td>\n      <td>Non-atypical</td>\n      <td>All (excluding atypical)</td>\n      <td>2014/15</td>\n      <td>Ethnicity</td>\n      <td>White</td>\n      <td>245</td>\n    </tr>\n    <tr>\n      <th>322059</th>\n      <td>525208</td>\n      <td>10007167</td>\n      <td>The University of York</td>\n      <td>England</td>\n      <td>Yorkshire and The Humber</td>\n      <td>All</td>\n      <td>Professor</td>\n      <td>Non-atypical</td>\n      <td>All (excluding atypical)</td>\n      <td>2014/15</td>\n      <td>Ethnicity</td>\n      <td>Asian</td>\n      <td>10</td>\n    </tr>\n    <tr>\n      <th>322060</th>\n      <td>525209</td>\n      <td>10007167</td>\n      <td>The University of York</td>\n      <td>England</td>\n      <td>Yorkshire and The Humber</td>\n      <td>All</td>\n      <td>Professor</td>\n      <td>Non-atypical</td>\n      <td>All (excluding atypical)</td>\n      <td>2014/15</td>\n      <td>Ethnicity</td>\n      <td>Mixed</td>\n      <td>5</td>\n    </tr>\n    <tr>\n      <th>322061</th>\n      <td>525210</td>\n      <td>10007167</td>\n      <td>The University of York</td>\n      <td>England</td>\n      <td>Yorkshire and The Humber</td>\n      <td>All</td>\n      <td>Professor</td>\n      <td>Non-atypical</td>\n      <td>All (excluding atypical)</td>\n      <td>2014/15</td>\n      <td>Ethnicity</td>\n      <td>Other</td>\n      <td>5</td>\n    </tr>\n    <tr>\n      <th>322062</th>\n      <td>525211</td>\n      <td>10007167</td>\n      <td>The University of York</td>\n      <td>England</td>\n      <td>Yorkshire and The Humber</td>\n      <td>All</td>\n      <td>Professor</td>\n      <td>Non-atypical</td>\n      <td>All (excluding atypical)</td>\n      <td>2014/15</td>\n      <td>Ethnicity</td>\n      <td>Not known</td>\n      <td>30</td>\n    </tr>\n    <tr>\n      <th>322063</th>\n      <td>525212</td>\n      <td>10007167</td>\n      <td>The University of York</td>\n      <td>England</td>\n      <td>Yorkshire and The Humber</td>\n      <td>All</td>\n      <td>Professor</td>\n      <td>Non-atypical</td>\n      <td>All (excluding atypical)</td>\n      <td>2014/15</td>\n      <td>Disability</td>\n      <td>Known to be disabled</td>\n      <td>5</td>\n    </tr>\n    <tr>\n      <th>322064</th>\n      <td>525213</td>\n      <td>10007167</td>\n      <td>The University of York</td>\n      <td>England</td>\n      <td>Yorkshire and The Humber</td>\n      <td>All</td>\n      <td>Professor</td>\n      <td>Non-atypical</td>\n      <td>All (excluding atypical)</td>\n      <td>2014/15</td>\n      <td>Disability</td>\n      <td>No known disability</td>\n      <td>285</td>\n    </tr>\n    <tr>\n      <th>322065</th>\n      <td>525217</td>\n      <td>10007167</td>\n      <td>The University of York</td>\n      <td>England</td>\n      <td>Yorkshire and The Humber</td>\n      <td>All</td>\n      <td>Professor</td>\n      <td>Non-atypical</td>\n      <td>All (excluding atypical)</td>\n      <td>2014/15</td>\n      <td>Age group</td>\n      <td>36-40</td>\n      <td>5</td>\n    </tr>\n    <tr>\n      <th>322066</th>\n      <td>525218</td>\n      <td>10007167</td>\n      <td>The University of York</td>\n      <td>England</td>\n      <td>Yorkshire and The Humber</td>\n      <td>All</td>\n      <td>Professor</td>\n      <td>Non-atypical</td>\n      <td>All (excluding atypical)</td>\n      <td>2014/15</td>\n      <td>Age group</td>\n      <td>41-45</td>\n      <td>40</td>\n    </tr>\n    <tr>\n      <th>322067</th>\n      <td>525219</td>\n      <td>10007167</td>\n      <td>The University of York</td>\n      <td>England</td>\n      <td>Yorkshire and The Humber</td>\n      <td>All</td>\n      <td>Professor</td>\n      <td>Non-atypical</td>\n      <td>All (excluding atypical)</td>\n      <td>2014/15</td>\n      <td>Age group</td>\n      <td>46-50</td>\n      <td>80</td>\n    </tr>\n    <tr>\n      <th>322068</th>\n      <td>525220</td>\n      <td>10007167</td>\n      <td>The University of York</td>\n      <td>England</td>\n      <td>Yorkshire and The Humber</td>\n      <td>All</td>\n      <td>Professor</td>\n      <td>Non-atypical</td>\n      <td>All (excluding atypical)</td>\n      <td>2014/15</td>\n      <td>Age group</td>\n      <td>51-55</td>\n      <td>45</td>\n    </tr>\n    <tr>\n      <th>322069</th>\n      <td>525221</td>\n      <td>10007167</td>\n      <td>The University of York</td>\n      <td>England</td>\n      <td>Yorkshire and The Humber</td>\n      <td>All</td>\n      <td>Professor</td>\n      <td>Non-atypical</td>\n      <td>All (excluding atypical)</td>\n      <td>2014/15</td>\n      <td>Age group</td>\n      <td>56-60</td>\n      <td>45</td>\n    </tr>\n    <tr>\n      <th>322070</th>\n      <td>525222</td>\n      <td>10007167</td>\n      <td>The University of York</td>\n      <td>England</td>\n      <td>Yorkshire and The Humber</td>\n      <td>All</td>\n      <td>Professor</td>\n      <td>Non-atypical</td>\n      <td>All (excluding atypical)</td>\n      <td>2014/15</td>\n      <td>Age group</td>\n      <td>61-65</td>\n      <td>40</td>\n    </tr>\n    <tr>\n      <th>322071</th>\n      <td>525223</td>\n      <td>10007167</td>\n      <td>The University of York</td>\n      <td>England</td>\n      <td>Yorkshire and The Humber</td>\n      <td>All</td>\n      <td>Professor</td>\n      <td>Non-atypical</td>\n      <td>All (excluding atypical)</td>\n      <td>2014/15</td>\n      <td>Age group</td>\n      <td>66 and over</td>\n      <td>30</td>\n    </tr>\n    <tr>\n      <th>322072</th>\n      <td>525225</td>\n      <td>10007167</td>\n      <td>The University of York</td>\n      <td>England</td>\n      <td>Yorkshire and The Humber</td>\n      <td>All</td>\n      <td>Professor</td>\n      <td>Non-atypical</td>\n      <td>All (excluding atypical)</td>\n      <td>2014/15</td>\n      <td>Sex</td>\n      <td>Female</td>\n      <td>65</td>\n    </tr>\n    <tr>\n      <th>322073</th>\n      <td>525226</td>\n      <td>10007167</td>\n      <td>The University of York</td>\n      <td>England</td>\n      <td>Yorkshire and The Humber</td>\n      <td>All</td>\n      <td>Professor</td>\n      <td>Non-atypical</td>\n      <td>All (excluding atypical)</td>\n      <td>2014/15</td>\n      <td>Sex</td>\n      <td>Male</td>\n      <td>225</td>\n    </tr>\n  </tbody>\n</table>\n</div>"
     },
     "execution_count": 28,
     "metadata": {},
     "output_type": "execute_result"
    }
   ],
   "source": [
    "df_14.tail(20)"
   ]
  },
  {
   "cell_type": "markdown",
   "id": "f258845c-c495-4652-8453-5263ad88e539",
   "metadata": {
    "pycharm": {
     "name": "#%% md\n"
    }
   },
   "source": [
    "### Define\n",
    "* Remove rows that have 0 as values in Number column"
   ]
  },
  {
   "cell_type": "code",
   "execution_count": 29,
   "id": "39103789-bad5-4061-ae84-00df13ec1d21",
   "metadata": {
    "pycharm": {
     "name": "#%%\n"
    }
   },
   "outputs": [
    {
     "data": {
      "text/plain": "        Unnamed: 0     UKPRN             HE Provider Country of HE provider  \\\n322054      525198  10007167  The University of York                England   \n322055      525199  10007167  The University of York                England   \n322056      525202  10007167  The University of York                England   \n322057      525203  10007167  The University of York                England   \n322058      525206  10007167  The University of York                England   \n322059      525208  10007167  The University of York                England   \n322060      525209  10007167  The University of York                England   \n322061      525210  10007167  The University of York                England   \n322062      525211  10007167  The University of York                England   \n322063      525212  10007167  The University of York                England   \n322064      525213  10007167  The University of York                England   \n322065      525217  10007167  The University of York                England   \n322066      525218  10007167  The University of York                England   \n322067      525219  10007167  The University of York                England   \n322068      525220  10007167  The University of York                England   \n322069      525221  10007167  The University of York                England   \n322070      525222  10007167  The University of York                England   \n322071      525223  10007167  The University of York                England   \n322072      525225  10007167  The University of York                England   \n322073      525226  10007167  The University of York                England   \n\n           Region of HE provider Terms of employment        Contract levels  \\\n322054  Yorkshire and The Humber                 All  Other senior academic   \n322055  Yorkshire and The Humber                 All  Other senior academic   \n322056  Yorkshire and The Humber                 All  Other senior academic   \n322057  Yorkshire and The Humber                 All  Other senior academic   \n322058  Yorkshire and The Humber                 All              Professor   \n322059  Yorkshire and The Humber                 All              Professor   \n322060  Yorkshire and The Humber                 All              Professor   \n322061  Yorkshire and The Humber                 All              Professor   \n322062  Yorkshire and The Humber                 All              Professor   \n322063  Yorkshire and The Humber                 All              Professor   \n322064  Yorkshire and The Humber                 All              Professor   \n322065  Yorkshire and The Humber                 All              Professor   \n322066  Yorkshire and The Humber                 All              Professor   \n322067  Yorkshire and The Humber                 All              Professor   \n322068  Yorkshire and The Humber                 All              Professor   \n322069  Yorkshire and The Humber                 All              Professor   \n322070  Yorkshire and The Humber                 All              Professor   \n322071  Yorkshire and The Humber                 All              Professor   \n322072  Yorkshire and The Humber                 All              Professor   \n322073  Yorkshire and The Humber                 All              Professor   \n\n       Atypical marker           Contract marker Academic Year  \\\n322054    Non-atypical  All (excluding atypical)       2014/15   \n322055    Non-atypical  All (excluding atypical)       2014/15   \n322056    Non-atypical  All (excluding atypical)       2014/15   \n322057    Non-atypical  All (excluding atypical)       2014/15   \n322058    Non-atypical  All (excluding atypical)       2014/15   \n322059    Non-atypical  All (excluding atypical)       2014/15   \n322060    Non-atypical  All (excluding atypical)       2014/15   \n322061    Non-atypical  All (excluding atypical)       2014/15   \n322062    Non-atypical  All (excluding atypical)       2014/15   \n322063    Non-atypical  All (excluding atypical)       2014/15   \n322064    Non-atypical  All (excluding atypical)       2014/15   \n322065    Non-atypical  All (excluding atypical)       2014/15   \n322066    Non-atypical  All (excluding atypical)       2014/15   \n322067    Non-atypical  All (excluding atypical)       2014/15   \n322068    Non-atypical  All (excluding atypical)       2014/15   \n322069    Non-atypical  All (excluding atypical)       2014/15   \n322070    Non-atypical  All (excluding atypical)       2014/15   \n322071    Non-atypical  All (excluding atypical)       2014/15   \n322072    Non-atypical  All (excluding atypical)       2014/15   \n322073    Non-atypical  All (excluding atypical)       2014/15   \n\n       Category Marker              Category  Number  \n322054       Age group                 56-60      10  \n322055       Age group                 61-65       5  \n322056             Sex                Female      10  \n322057             Sex                  Male      20  \n322058       Ethnicity                 White     245  \n322059       Ethnicity                 Asian      10  \n322060       Ethnicity                 Mixed       5  \n322061       Ethnicity                Other        5  \n322062       Ethnicity             Not known      30  \n322063      Disability  Known to be disabled       5  \n322064      Disability   No known disability     285  \n322065       Age group                 36-40       5  \n322066       Age group                 41-45      40  \n322067       Age group                 46-50      80  \n322068       Age group                 51-55      45  \n322069       Age group                 56-60      45  \n322070       Age group                 61-65      40  \n322071       Age group           66 and over      30  \n322072             Sex                Female      65  \n322073             Sex                  Male     225  ",
      "text/html": "<div>\n<style scoped>\n    .dataframe tbody tr th:only-of-type {\n        vertical-align: middle;\n    }\n\n    .dataframe tbody tr th {\n        vertical-align: top;\n    }\n\n    .dataframe thead th {\n        text-align: right;\n    }\n</style>\n<table border=\"1\" class=\"dataframe\">\n  <thead>\n    <tr style=\"text-align: right;\">\n      <th></th>\n      <th>Unnamed: 0</th>\n      <th>UKPRN</th>\n      <th>HE Provider</th>\n      <th>Country of HE provider</th>\n      <th>Region of HE provider</th>\n      <th>Terms of employment</th>\n      <th>Contract levels</th>\n      <th>Atypical marker</th>\n      <th>Contract marker</th>\n      <th>Academic Year</th>\n      <th>Category Marker</th>\n      <th>Category</th>\n      <th>Number</th>\n    </tr>\n  </thead>\n  <tbody>\n    <tr>\n      <th>322054</th>\n      <td>525198</td>\n      <td>10007167</td>\n      <td>The University of York</td>\n      <td>England</td>\n      <td>Yorkshire and The Humber</td>\n      <td>All</td>\n      <td>Other senior academic</td>\n      <td>Non-atypical</td>\n      <td>All (excluding atypical)</td>\n      <td>2014/15</td>\n      <td>Age group</td>\n      <td>56-60</td>\n      <td>10</td>\n    </tr>\n    <tr>\n      <th>322055</th>\n      <td>525199</td>\n      <td>10007167</td>\n      <td>The University of York</td>\n      <td>England</td>\n      <td>Yorkshire and The Humber</td>\n      <td>All</td>\n      <td>Other senior academic</td>\n      <td>Non-atypical</td>\n      <td>All (excluding atypical)</td>\n      <td>2014/15</td>\n      <td>Age group</td>\n      <td>61-65</td>\n      <td>5</td>\n    </tr>\n    <tr>\n      <th>322056</th>\n      <td>525202</td>\n      <td>10007167</td>\n      <td>The University of York</td>\n      <td>England</td>\n      <td>Yorkshire and The Humber</td>\n      <td>All</td>\n      <td>Other senior academic</td>\n      <td>Non-atypical</td>\n      <td>All (excluding atypical)</td>\n      <td>2014/15</td>\n      <td>Sex</td>\n      <td>Female</td>\n      <td>10</td>\n    </tr>\n    <tr>\n      <th>322057</th>\n      <td>525203</td>\n      <td>10007167</td>\n      <td>The University of York</td>\n      <td>England</td>\n      <td>Yorkshire and The Humber</td>\n      <td>All</td>\n      <td>Other senior academic</td>\n      <td>Non-atypical</td>\n      <td>All (excluding atypical)</td>\n      <td>2014/15</td>\n      <td>Sex</td>\n      <td>Male</td>\n      <td>20</td>\n    </tr>\n    <tr>\n      <th>322058</th>\n      <td>525206</td>\n      <td>10007167</td>\n      <td>The University of York</td>\n      <td>England</td>\n      <td>Yorkshire and The Humber</td>\n      <td>All</td>\n      <td>Professor</td>\n      <td>Non-atypical</td>\n      <td>All (excluding atypical)</td>\n      <td>2014/15</td>\n      <td>Ethnicity</td>\n      <td>White</td>\n      <td>245</td>\n    </tr>\n    <tr>\n      <th>322059</th>\n      <td>525208</td>\n      <td>10007167</td>\n      <td>The University of York</td>\n      <td>England</td>\n      <td>Yorkshire and The Humber</td>\n      <td>All</td>\n      <td>Professor</td>\n      <td>Non-atypical</td>\n      <td>All (excluding atypical)</td>\n      <td>2014/15</td>\n      <td>Ethnicity</td>\n      <td>Asian</td>\n      <td>10</td>\n    </tr>\n    <tr>\n      <th>322060</th>\n      <td>525209</td>\n      <td>10007167</td>\n      <td>The University of York</td>\n      <td>England</td>\n      <td>Yorkshire and The Humber</td>\n      <td>All</td>\n      <td>Professor</td>\n      <td>Non-atypical</td>\n      <td>All (excluding atypical)</td>\n      <td>2014/15</td>\n      <td>Ethnicity</td>\n      <td>Mixed</td>\n      <td>5</td>\n    </tr>\n    <tr>\n      <th>322061</th>\n      <td>525210</td>\n      <td>10007167</td>\n      <td>The University of York</td>\n      <td>England</td>\n      <td>Yorkshire and The Humber</td>\n      <td>All</td>\n      <td>Professor</td>\n      <td>Non-atypical</td>\n      <td>All (excluding atypical)</td>\n      <td>2014/15</td>\n      <td>Ethnicity</td>\n      <td>Other</td>\n      <td>5</td>\n    </tr>\n    <tr>\n      <th>322062</th>\n      <td>525211</td>\n      <td>10007167</td>\n      <td>The University of York</td>\n      <td>England</td>\n      <td>Yorkshire and The Humber</td>\n      <td>All</td>\n      <td>Professor</td>\n      <td>Non-atypical</td>\n      <td>All (excluding atypical)</td>\n      <td>2014/15</td>\n      <td>Ethnicity</td>\n      <td>Not known</td>\n      <td>30</td>\n    </tr>\n    <tr>\n      <th>322063</th>\n      <td>525212</td>\n      <td>10007167</td>\n      <td>The University of York</td>\n      <td>England</td>\n      <td>Yorkshire and The Humber</td>\n      <td>All</td>\n      <td>Professor</td>\n      <td>Non-atypical</td>\n      <td>All (excluding atypical)</td>\n      <td>2014/15</td>\n      <td>Disability</td>\n      <td>Known to be disabled</td>\n      <td>5</td>\n    </tr>\n    <tr>\n      <th>322064</th>\n      <td>525213</td>\n      <td>10007167</td>\n      <td>The University of York</td>\n      <td>England</td>\n      <td>Yorkshire and The Humber</td>\n      <td>All</td>\n      <td>Professor</td>\n      <td>Non-atypical</td>\n      <td>All (excluding atypical)</td>\n      <td>2014/15</td>\n      <td>Disability</td>\n      <td>No known disability</td>\n      <td>285</td>\n    </tr>\n    <tr>\n      <th>322065</th>\n      <td>525217</td>\n      <td>10007167</td>\n      <td>The University of York</td>\n      <td>England</td>\n      <td>Yorkshire and The Humber</td>\n      <td>All</td>\n      <td>Professor</td>\n      <td>Non-atypical</td>\n      <td>All (excluding atypical)</td>\n      <td>2014/15</td>\n      <td>Age group</td>\n      <td>36-40</td>\n      <td>5</td>\n    </tr>\n    <tr>\n      <th>322066</th>\n      <td>525218</td>\n      <td>10007167</td>\n      <td>The University of York</td>\n      <td>England</td>\n      <td>Yorkshire and The Humber</td>\n      <td>All</td>\n      <td>Professor</td>\n      <td>Non-atypical</td>\n      <td>All (excluding atypical)</td>\n      <td>2014/15</td>\n      <td>Age group</td>\n      <td>41-45</td>\n      <td>40</td>\n    </tr>\n    <tr>\n      <th>322067</th>\n      <td>525219</td>\n      <td>10007167</td>\n      <td>The University of York</td>\n      <td>England</td>\n      <td>Yorkshire and The Humber</td>\n      <td>All</td>\n      <td>Professor</td>\n      <td>Non-atypical</td>\n      <td>All (excluding atypical)</td>\n      <td>2014/15</td>\n      <td>Age group</td>\n      <td>46-50</td>\n      <td>80</td>\n    </tr>\n    <tr>\n      <th>322068</th>\n      <td>525220</td>\n      <td>10007167</td>\n      <td>The University of York</td>\n      <td>England</td>\n      <td>Yorkshire and The Humber</td>\n      <td>All</td>\n      <td>Professor</td>\n      <td>Non-atypical</td>\n      <td>All (excluding atypical)</td>\n      <td>2014/15</td>\n      <td>Age group</td>\n      <td>51-55</td>\n      <td>45</td>\n    </tr>\n    <tr>\n      <th>322069</th>\n      <td>525221</td>\n      <td>10007167</td>\n      <td>The University of York</td>\n      <td>England</td>\n      <td>Yorkshire and The Humber</td>\n      <td>All</td>\n      <td>Professor</td>\n      <td>Non-atypical</td>\n      <td>All (excluding atypical)</td>\n      <td>2014/15</td>\n      <td>Age group</td>\n      <td>56-60</td>\n      <td>45</td>\n    </tr>\n    <tr>\n      <th>322070</th>\n      <td>525222</td>\n      <td>10007167</td>\n      <td>The University of York</td>\n      <td>England</td>\n      <td>Yorkshire and The Humber</td>\n      <td>All</td>\n      <td>Professor</td>\n      <td>Non-atypical</td>\n      <td>All (excluding atypical)</td>\n      <td>2014/15</td>\n      <td>Age group</td>\n      <td>61-65</td>\n      <td>40</td>\n    </tr>\n    <tr>\n      <th>322071</th>\n      <td>525223</td>\n      <td>10007167</td>\n      <td>The University of York</td>\n      <td>England</td>\n      <td>Yorkshire and The Humber</td>\n      <td>All</td>\n      <td>Professor</td>\n      <td>Non-atypical</td>\n      <td>All (excluding atypical)</td>\n      <td>2014/15</td>\n      <td>Age group</td>\n      <td>66 and over</td>\n      <td>30</td>\n    </tr>\n    <tr>\n      <th>322072</th>\n      <td>525225</td>\n      <td>10007167</td>\n      <td>The University of York</td>\n      <td>England</td>\n      <td>Yorkshire and The Humber</td>\n      <td>All</td>\n      <td>Professor</td>\n      <td>Non-atypical</td>\n      <td>All (excluding atypical)</td>\n      <td>2014/15</td>\n      <td>Sex</td>\n      <td>Female</td>\n      <td>65</td>\n    </tr>\n    <tr>\n      <th>322073</th>\n      <td>525226</td>\n      <td>10007167</td>\n      <td>The University of York</td>\n      <td>England</td>\n      <td>Yorkshire and The Humber</td>\n      <td>All</td>\n      <td>Professor</td>\n      <td>Non-atypical</td>\n      <td>All (excluding atypical)</td>\n      <td>2014/15</td>\n      <td>Sex</td>\n      <td>Male</td>\n      <td>225</td>\n    </tr>\n  </tbody>\n</table>\n</div>"
     },
     "execution_count": 29,
     "metadata": {},
     "output_type": "execute_result"
    }
   ],
   "source": [
    "df_14 = df_14[df_14.Number !=0]\n",
    "df_14.tail(20)"
   ]
  },
  {
   "cell_type": "code",
   "execution_count": 30,
   "id": "cf4bf82f-875c-40f0-871d-d2fe687f8af0",
   "metadata": {
    "pycharm": {
     "name": "#%%\n"
    }
   },
   "outputs": [],
   "source": [
    "df_15 = df_15[df_15.Number !=0]\n",
    "df_16 = df_16[df_16.Number !=0]\n",
    "df_17 = df_17[df_17.Number !=0]\n",
    "df_18 = df_18[df_18.Number !=0]\n",
    "df_19 = df_19[df_19.Number !=0]\n",
    "df_20 = df_20[df_20.Number !=0]"
   ]
  },
  {
   "cell_type": "code",
   "execution_count": 31,
   "id": "6741ba49-1db8-4b42-b9f3-deb4ed666767",
   "metadata": {
    "pycharm": {
     "name": "#%%\n"
    }
   },
   "outputs": [
    {
     "data": {
      "text/plain": "   Unnamed: 0     UKPRN                 HE Provider Country of HE provider  \\\n0           1  10007783  The University of Aberdeen               Scotland   \n1           2  10007783  The University of Aberdeen               Scotland   \n2           3  10007783  The University of Aberdeen               Scotland   \n3           4  10007783  The University of Aberdeen               Scotland   \n4           5  10007783  The University of Aberdeen               Scotland   \n\n  Region of HE provider   Terms of employment       Contract levels  \\\n0              Scotland  Open-ended/Permanent  Other contract level   \n1              Scotland  Open-ended/Permanent  Other contract level   \n2              Scotland  Open-ended/Permanent  Other contract level   \n3              Scotland  Open-ended/Permanent  Other contract level   \n4              Scotland  Open-ended/Permanent  Other contract level   \n\n  Atypical marker Contract marker Academic Year Category Marker Category  \\\n0    Non-atypical        Academic       2015/16       Ethnicity    White   \n1    Non-atypical        Academic       2015/16       Ethnicity    Black   \n2    Non-atypical        Academic       2015/16       Ethnicity    Asian   \n3    Non-atypical        Academic       2015/16       Ethnicity    Mixed   \n4    Non-atypical        Academic       2015/16       Ethnicity   Other    \n\n   Number  \n0    1010  \n1      25  \n2     130  \n3      20  \n4      25  ",
      "text/html": "<div>\n<style scoped>\n    .dataframe tbody tr th:only-of-type {\n        vertical-align: middle;\n    }\n\n    .dataframe tbody tr th {\n        vertical-align: top;\n    }\n\n    .dataframe thead th {\n        text-align: right;\n    }\n</style>\n<table border=\"1\" class=\"dataframe\">\n  <thead>\n    <tr style=\"text-align: right;\">\n      <th></th>\n      <th>Unnamed: 0</th>\n      <th>UKPRN</th>\n      <th>HE Provider</th>\n      <th>Country of HE provider</th>\n      <th>Region of HE provider</th>\n      <th>Terms of employment</th>\n      <th>Contract levels</th>\n      <th>Atypical marker</th>\n      <th>Contract marker</th>\n      <th>Academic Year</th>\n      <th>Category Marker</th>\n      <th>Category</th>\n      <th>Number</th>\n    </tr>\n  </thead>\n  <tbody>\n    <tr>\n      <th>0</th>\n      <td>1</td>\n      <td>10007783</td>\n      <td>The University of Aberdeen</td>\n      <td>Scotland</td>\n      <td>Scotland</td>\n      <td>Open-ended/Permanent</td>\n      <td>Other contract level</td>\n      <td>Non-atypical</td>\n      <td>Academic</td>\n      <td>2015/16</td>\n      <td>Ethnicity</td>\n      <td>White</td>\n      <td>1010</td>\n    </tr>\n    <tr>\n      <th>1</th>\n      <td>2</td>\n      <td>10007783</td>\n      <td>The University of Aberdeen</td>\n      <td>Scotland</td>\n      <td>Scotland</td>\n      <td>Open-ended/Permanent</td>\n      <td>Other contract level</td>\n      <td>Non-atypical</td>\n      <td>Academic</td>\n      <td>2015/16</td>\n      <td>Ethnicity</td>\n      <td>Black</td>\n      <td>25</td>\n    </tr>\n    <tr>\n      <th>2</th>\n      <td>3</td>\n      <td>10007783</td>\n      <td>The University of Aberdeen</td>\n      <td>Scotland</td>\n      <td>Scotland</td>\n      <td>Open-ended/Permanent</td>\n      <td>Other contract level</td>\n      <td>Non-atypical</td>\n      <td>Academic</td>\n      <td>2015/16</td>\n      <td>Ethnicity</td>\n      <td>Asian</td>\n      <td>130</td>\n    </tr>\n    <tr>\n      <th>3</th>\n      <td>4</td>\n      <td>10007783</td>\n      <td>The University of Aberdeen</td>\n      <td>Scotland</td>\n      <td>Scotland</td>\n      <td>Open-ended/Permanent</td>\n      <td>Other contract level</td>\n      <td>Non-atypical</td>\n      <td>Academic</td>\n      <td>2015/16</td>\n      <td>Ethnicity</td>\n      <td>Mixed</td>\n      <td>20</td>\n    </tr>\n    <tr>\n      <th>4</th>\n      <td>5</td>\n      <td>10007783</td>\n      <td>The University of Aberdeen</td>\n      <td>Scotland</td>\n      <td>Scotland</td>\n      <td>Open-ended/Permanent</td>\n      <td>Other contract level</td>\n      <td>Non-atypical</td>\n      <td>Academic</td>\n      <td>2015/16</td>\n      <td>Ethnicity</td>\n      <td>Other</td>\n      <td>25</td>\n    </tr>\n  </tbody>\n</table>\n</div>"
     },
     "execution_count": 31,
     "metadata": {},
     "output_type": "execute_result"
    }
   ],
   "source": [
    "df_15.head()"
   ]
  },
  {
   "cell_type": "markdown",
   "id": "ee583827-6986-4201-8b70-4dd25a7f5c5d",
   "metadata": {
    "pycharm": {
     "name": "#%% md\n"
    }
   },
   "source": [
    "## Define\n",
    "* Delete rows that have \"total\" in the category annd the 'category marker' column"
   ]
  },
  {
   "cell_type": "code",
   "execution_count": 32,
   "id": "df198b16-a27b-4f01-a925-2b7065149759",
   "metadata": {
    "pycharm": {
     "name": "#%%\n"
    }
   },
   "outputs": [
    {
     "data": {
      "text/plain": "   Unnamed: 0     UKPRN                 HE Provider Country of HE provider  \\\n0           1  10007783  The University of Aberdeen               Scotland   \n1           2  10007783  The University of Aberdeen               Scotland   \n2           3  10007783  The University of Aberdeen               Scotland   \n3           4  10007783  The University of Aberdeen               Scotland   \n4           5  10007783  The University of Aberdeen               Scotland   \n\n  Region of HE provider   Terms of employment       Contract levels  \\\n0              Scotland  Open-ended/Permanent  Other contract level   \n1              Scotland  Open-ended/Permanent  Other contract level   \n2              Scotland  Open-ended/Permanent  Other contract level   \n3              Scotland  Open-ended/Permanent  Other contract level   \n4              Scotland  Open-ended/Permanent  Other contract level   \n\n  Atypical marker Contract marker Academic Year Category Marker Category  \\\n0    Non-atypical        Academic       2015/16       Ethnicity    White   \n1    Non-atypical        Academic       2015/16       Ethnicity    Black   \n2    Non-atypical        Academic       2015/16       Ethnicity    Asian   \n3    Non-atypical        Academic       2015/16       Ethnicity    Mixed   \n4    Non-atypical        Academic       2015/16       Ethnicity   Other    \n\n   Number  \n0    1010  \n1      25  \n2     130  \n3      20  \n4      25  ",
      "text/html": "<div>\n<style scoped>\n    .dataframe tbody tr th:only-of-type {\n        vertical-align: middle;\n    }\n\n    .dataframe tbody tr th {\n        vertical-align: top;\n    }\n\n    .dataframe thead th {\n        text-align: right;\n    }\n</style>\n<table border=\"1\" class=\"dataframe\">\n  <thead>\n    <tr style=\"text-align: right;\">\n      <th></th>\n      <th>Unnamed: 0</th>\n      <th>UKPRN</th>\n      <th>HE Provider</th>\n      <th>Country of HE provider</th>\n      <th>Region of HE provider</th>\n      <th>Terms of employment</th>\n      <th>Contract levels</th>\n      <th>Atypical marker</th>\n      <th>Contract marker</th>\n      <th>Academic Year</th>\n      <th>Category Marker</th>\n      <th>Category</th>\n      <th>Number</th>\n    </tr>\n  </thead>\n  <tbody>\n    <tr>\n      <th>0</th>\n      <td>1</td>\n      <td>10007783</td>\n      <td>The University of Aberdeen</td>\n      <td>Scotland</td>\n      <td>Scotland</td>\n      <td>Open-ended/Permanent</td>\n      <td>Other contract level</td>\n      <td>Non-atypical</td>\n      <td>Academic</td>\n      <td>2015/16</td>\n      <td>Ethnicity</td>\n      <td>White</td>\n      <td>1010</td>\n    </tr>\n    <tr>\n      <th>1</th>\n      <td>2</td>\n      <td>10007783</td>\n      <td>The University of Aberdeen</td>\n      <td>Scotland</td>\n      <td>Scotland</td>\n      <td>Open-ended/Permanent</td>\n      <td>Other contract level</td>\n      <td>Non-atypical</td>\n      <td>Academic</td>\n      <td>2015/16</td>\n      <td>Ethnicity</td>\n      <td>Black</td>\n      <td>25</td>\n    </tr>\n    <tr>\n      <th>2</th>\n      <td>3</td>\n      <td>10007783</td>\n      <td>The University of Aberdeen</td>\n      <td>Scotland</td>\n      <td>Scotland</td>\n      <td>Open-ended/Permanent</td>\n      <td>Other contract level</td>\n      <td>Non-atypical</td>\n      <td>Academic</td>\n      <td>2015/16</td>\n      <td>Ethnicity</td>\n      <td>Asian</td>\n      <td>130</td>\n    </tr>\n    <tr>\n      <th>3</th>\n      <td>4</td>\n      <td>10007783</td>\n      <td>The University of Aberdeen</td>\n      <td>Scotland</td>\n      <td>Scotland</td>\n      <td>Open-ended/Permanent</td>\n      <td>Other contract level</td>\n      <td>Non-atypical</td>\n      <td>Academic</td>\n      <td>2015/16</td>\n      <td>Ethnicity</td>\n      <td>Mixed</td>\n      <td>20</td>\n    </tr>\n    <tr>\n      <th>4</th>\n      <td>5</td>\n      <td>10007783</td>\n      <td>The University of Aberdeen</td>\n      <td>Scotland</td>\n      <td>Scotland</td>\n      <td>Open-ended/Permanent</td>\n      <td>Other contract level</td>\n      <td>Non-atypical</td>\n      <td>Academic</td>\n      <td>2015/16</td>\n      <td>Ethnicity</td>\n      <td>Other</td>\n      <td>25</td>\n    </tr>\n  </tbody>\n</table>\n</div>"
     },
     "execution_count": 32,
     "metadata": {},
     "output_type": "execute_result"
    }
   ],
   "source": [
    "df_15 = df_15[df_15['Category Marker'].str.contains(\"Total\")==False]\n",
    "df_15.head()"
   ]
  },
  {
   "cell_type": "markdown",
   "id": "3ba691e5-4d11-4f37-b241-cdf245cdc71d",
   "metadata": {
    "pycharm": {
     "name": "#%% md\n"
    }
   },
   "source": [
    "**Apply to the other dataframes**"
   ]
  },
  {
   "cell_type": "code",
   "execution_count": 33,
   "id": "5adbcc1a-a4af-4677-953b-b35f13d4b3ce",
   "metadata": {
    "pycharm": {
     "name": "#%%\n"
    }
   },
   "outputs": [],
   "source": [
    "df_14 = df_14[df_14['Category Marker'].str.contains(\"Total\")==False]\n",
    "df_16 = df_16[df_16['Category Marker'].str.contains(\"Total\")==False]\n",
    "df_17 = df_17[df_17['Category Marker'].str.contains(\"Total\")==False]\n",
    "df_18 = df_18[df_18['Category Marker'].str.contains(\"Total\")==False]\n",
    "df_19 = df_19[df_19['Category Marker'].str.contains(\"Total\")==False]\n",
    "df_20 = df_20[df_20['Category Marker'].str.contains(\"Total\")==False]"
   ]
  },
  {
   "cell_type": "markdown",
   "id": "66c2fb83-4ede-4c1d-923a-334ffc27c6c9",
   "metadata": {
    "pycharm": {
     "name": "#%% md\n"
    }
   },
   "source": [
    "**Check for Duplicate rows**"
   ]
  },
  {
   "cell_type": "code",
   "execution_count": 34,
   "id": "98b3da92-f2b5-4bc9-b4d7-a6290df6dcd0",
   "metadata": {
    "pycharm": {
     "name": "#%%\n"
    }
   },
   "outputs": [
    {
     "data": {
      "text/plain": "0"
     },
     "execution_count": 34,
     "metadata": {},
     "output_type": "execute_result"
    }
   ],
   "source": [
    "df_14.duplicated().sum()"
   ]
  },
  {
   "cell_type": "code",
   "execution_count": 35,
   "id": "bbd7086c-0fa8-47d3-9e16-3e3093d77eb6",
   "metadata": {
    "pycharm": {
     "name": "#%%\n"
    }
   },
   "outputs": [
    {
     "data": {
      "text/plain": "0"
     },
     "execution_count": 35,
     "metadata": {},
     "output_type": "execute_result"
    }
   ],
   "source": [
    "df_15.duplicated().sum()"
   ]
  },
  {
   "cell_type": "code",
   "execution_count": 36,
   "id": "3bfbeb59-b5a1-4f18-9b34-21b9797c624e",
   "metadata": {
    "pycharm": {
     "name": "#%%\n"
    }
   },
   "outputs": [
    {
     "data": {
      "text/plain": "0"
     },
     "execution_count": 36,
     "metadata": {},
     "output_type": "execute_result"
    }
   ],
   "source": [
    "df_16.duplicated().sum()"
   ]
  },
  {
   "cell_type": "code",
   "execution_count": 37,
   "id": "d62a4bab-7347-4f1d-826e-0ca55fcb4442",
   "metadata": {
    "pycharm": {
     "name": "#%%\n"
    }
   },
   "outputs": [
    {
     "data": {
      "text/plain": "0"
     },
     "execution_count": 37,
     "metadata": {},
     "output_type": "execute_result"
    }
   ],
   "source": [
    "df_17.duplicated().sum()\n"
   ]
  },
  {
   "cell_type": "code",
   "execution_count": 38,
   "id": "654c3381-ad01-4058-b273-fd600a80e328",
   "metadata": {
    "pycharm": {
     "name": "#%%\n"
    }
   },
   "outputs": [
    {
     "data": {
      "text/plain": "0"
     },
     "execution_count": 38,
     "metadata": {},
     "output_type": "execute_result"
    }
   ],
   "source": [
    "df_18.duplicated().sum()"
   ]
  },
  {
   "cell_type": "code",
   "execution_count": 39,
   "id": "7677178f-59a4-488b-abde-6ea84048bd03",
   "metadata": {
    "pycharm": {
     "name": "#%%\n"
    }
   },
   "outputs": [
    {
     "data": {
      "text/plain": "0"
     },
     "execution_count": 39,
     "metadata": {},
     "output_type": "execute_result"
    }
   ],
   "source": [
    "df_19.duplicated().sum()\n"
   ]
  },
  {
   "cell_type": "code",
   "execution_count": 40,
   "id": "c733fbe0-00ce-4280-90c5-c21df8ec23c9",
   "metadata": {
    "pycharm": {
     "name": "#%%\n"
    }
   },
   "outputs": [
    {
     "data": {
      "text/plain": "0"
     },
     "execution_count": 40,
     "metadata": {},
     "output_type": "execute_result"
    }
   ],
   "source": [
    "df_18.duplicated().sum()"
   ]
  },
  {
   "cell_type": "code",
   "execution_count": 41,
   "id": "94312c46-ad36-44db-a324-c29ff5d85dd7",
   "metadata": {
    "pycharm": {
     "name": "#%%\n"
    }
   },
   "outputs": [
    {
     "data": {
      "text/plain": "array(['Non-atypical', 'Academic atypical'], dtype=object)"
     },
     "execution_count": 41,
     "metadata": {},
     "output_type": "execute_result"
    }
   ],
   "source": [
    "#Check for unique values in Atypical marker column\n",
    "df_14['Atypical marker'].unique()"
   ]
  },
  {
   "cell_type": "code",
   "execution_count": 42,
   "id": "985ac614-8470-4aad-9292-2de236c71f5b",
   "metadata": {
    "pycharm": {
     "name": "#%%\n"
    }
   },
   "outputs": [
    {
     "data": {
      "text/plain": "array(['Other contract level', 'Other senior academic', 'Professor',\n       'All', 'Non-academic'], dtype=object)"
     },
     "execution_count": 42,
     "metadata": {},
     "output_type": "execute_result"
    }
   ],
   "source": [
    "df_14['Contract levels'].unique()"
   ]
  },
  {
   "cell_type": "code",
   "execution_count": 43,
   "id": "83dd090f-3ad9-4ad5-aa16-cd16c30d0b34",
   "metadata": {
    "pycharm": {
     "name": "#%%\n"
    }
   },
   "outputs": [
    {
     "data": {
      "text/plain": "Unnamed: 0                0\nUKPRN                     0\nHE Provider               0\nCountry of HE provider    0\nRegion of HE provider     0\nTerms of employment       0\nContract levels           0\nAtypical marker           0\nContract marker           0\nAcademic Year             0\nCategory Marker           0\nCategory                  0\nNumber                    0\ndtype: int64"
     },
     "execution_count": 43,
     "metadata": {},
     "output_type": "execute_result"
    }
   ],
   "source": [
    "df_14.isnull().sum()"
   ]
  },
  {
   "cell_type": "code",
   "execution_count": 44,
   "id": "c7090cc0-11e8-4bf1-8bb4-1834a9880438",
   "metadata": {
    "pycharm": {
     "name": "#%%\n"
    }
   },
   "outputs": [
    {
     "data": {
      "text/plain": "array(['Academic', 'Non-academic', 'All (excluding atypical)'],\n      dtype=object)"
     },
     "execution_count": 44,
     "metadata": {},
     "output_type": "execute_result"
    }
   ],
   "source": [
    "df_14['Contract marker'].unique()"
   ]
  },
  {
   "cell_type": "code",
   "execution_count": 45,
   "id": "17174264-3f13-4218-8b5a-fb7155d74f37",
   "metadata": {
    "pycharm": {
     "name": "#%%\n"
    }
   },
   "outputs": [
    {
     "data": {
      "text/plain": "   Unnamed: 0     UKPRN                 HE Provider Country of HE provider  \\\n0           1  10007783  The University of Aberdeen               Scotland   \n1           2  10007783  The University of Aberdeen               Scotland   \n2           3  10007783  The University of Aberdeen               Scotland   \n3           4  10007783  The University of Aberdeen               Scotland   \n4           5  10007783  The University of Aberdeen               Scotland   \n\n  Region of HE provider   Terms of employment       Contract levels  \\\n0              Scotland  Open-ended/Permanent  Other contract level   \n1              Scotland  Open-ended/Permanent  Other contract level   \n2              Scotland  Open-ended/Permanent  Other contract level   \n3              Scotland  Open-ended/Permanent  Other contract level   \n4              Scotland  Open-ended/Permanent  Other contract level   \n\n  Atypical marker Contract marker Academic Year Category Marker Category  \\\n0    Non-atypical        Academic       2014/15       Ethnicity    White   \n1    Non-atypical        Academic       2014/15       Ethnicity    Black   \n2    Non-atypical        Academic       2014/15       Ethnicity    Asian   \n3    Non-atypical        Academic       2014/15       Ethnicity    Mixed   \n4    Non-atypical        Academic       2014/15       Ethnicity   Other    \n\n   Number  \n0    1095  \n1      25  \n2     130  \n3      20  \n4      25  ",
      "text/html": "<div>\n<style scoped>\n    .dataframe tbody tr th:only-of-type {\n        vertical-align: middle;\n    }\n\n    .dataframe tbody tr th {\n        vertical-align: top;\n    }\n\n    .dataframe thead th {\n        text-align: right;\n    }\n</style>\n<table border=\"1\" class=\"dataframe\">\n  <thead>\n    <tr style=\"text-align: right;\">\n      <th></th>\n      <th>Unnamed: 0</th>\n      <th>UKPRN</th>\n      <th>HE Provider</th>\n      <th>Country of HE provider</th>\n      <th>Region of HE provider</th>\n      <th>Terms of employment</th>\n      <th>Contract levels</th>\n      <th>Atypical marker</th>\n      <th>Contract marker</th>\n      <th>Academic Year</th>\n      <th>Category Marker</th>\n      <th>Category</th>\n      <th>Number</th>\n    </tr>\n  </thead>\n  <tbody>\n    <tr>\n      <th>0</th>\n      <td>1</td>\n      <td>10007783</td>\n      <td>The University of Aberdeen</td>\n      <td>Scotland</td>\n      <td>Scotland</td>\n      <td>Open-ended/Permanent</td>\n      <td>Other contract level</td>\n      <td>Non-atypical</td>\n      <td>Academic</td>\n      <td>2014/15</td>\n      <td>Ethnicity</td>\n      <td>White</td>\n      <td>1095</td>\n    </tr>\n    <tr>\n      <th>1</th>\n      <td>2</td>\n      <td>10007783</td>\n      <td>The University of Aberdeen</td>\n      <td>Scotland</td>\n      <td>Scotland</td>\n      <td>Open-ended/Permanent</td>\n      <td>Other contract level</td>\n      <td>Non-atypical</td>\n      <td>Academic</td>\n      <td>2014/15</td>\n      <td>Ethnicity</td>\n      <td>Black</td>\n      <td>25</td>\n    </tr>\n    <tr>\n      <th>2</th>\n      <td>3</td>\n      <td>10007783</td>\n      <td>The University of Aberdeen</td>\n      <td>Scotland</td>\n      <td>Scotland</td>\n      <td>Open-ended/Permanent</td>\n      <td>Other contract level</td>\n      <td>Non-atypical</td>\n      <td>Academic</td>\n      <td>2014/15</td>\n      <td>Ethnicity</td>\n      <td>Asian</td>\n      <td>130</td>\n    </tr>\n    <tr>\n      <th>3</th>\n      <td>4</td>\n      <td>10007783</td>\n      <td>The University of Aberdeen</td>\n      <td>Scotland</td>\n      <td>Scotland</td>\n      <td>Open-ended/Permanent</td>\n      <td>Other contract level</td>\n      <td>Non-atypical</td>\n      <td>Academic</td>\n      <td>2014/15</td>\n      <td>Ethnicity</td>\n      <td>Mixed</td>\n      <td>20</td>\n    </tr>\n    <tr>\n      <th>4</th>\n      <td>5</td>\n      <td>10007783</td>\n      <td>The University of Aberdeen</td>\n      <td>Scotland</td>\n      <td>Scotland</td>\n      <td>Open-ended/Permanent</td>\n      <td>Other contract level</td>\n      <td>Non-atypical</td>\n      <td>Academic</td>\n      <td>2014/15</td>\n      <td>Ethnicity</td>\n      <td>Other</td>\n      <td>25</td>\n    </tr>\n  </tbody>\n</table>\n</div>"
     },
     "execution_count": 45,
     "metadata": {},
     "output_type": "execute_result"
    }
   ],
   "source": [
    "#concat the 7 dataframes\n",
    "df_all =pd.concat([df_14,df_15,df_16,df_17,df_18,df_19,df_20], ignore_index = True)\n",
    "df_all.head()"
   ]
  },
  {
   "cell_type": "code",
   "execution_count": 46,
   "id": "699374d1-6905-4f79-96ff-dc7961fe8f48",
   "metadata": {
    "pycharm": {
     "name": "#%%\n"
    }
   },
   "outputs": [
    {
     "data": {
      "text/plain": "         Unnamed: 0     UKPRN              HE Provider Country of HE provider  \\\n2226918      495398  10007713  York St John University                England   \n2226919      495405  10007713  York St John University                England   \n2226920      495415  10007713  York St John University                England   \n2226921      495417  10007713  York St John University                England   \n2226922      495418  10007713  York St John University                England   \n\n            Region of HE provider Terms of employment Contract levels  \\\n2226918  Yorkshire and The Humber                 All       Professor   \n2226919  Yorkshire and The Humber                 All       Professor   \n2226920  Yorkshire and The Humber                 All       Professor   \n2226921  Yorkshire and The Humber                 All       Professor   \n2226922  Yorkshire and The Humber                 All       Professor   \n\n        Atypical marker           Contract marker Academic Year  \\\n2226918    Non-atypical  All (excluding atypical)       2020/21   \n2226919    Non-atypical  All (excluding atypical)       2020/21   \n2226920    Non-atypical  All (excluding atypical)       2020/21   \n2226921    Non-atypical  All (excluding atypical)       2020/21   \n2226922    Non-atypical  All (excluding atypical)       2020/21   \n\n        Category Marker             Category  Number  \n2226918       Ethnicity                White      10  \n2226919      Disability  No known disability      10  \n2226920       Age group          66 and over       5  \n2226921             Sex               Female       5  \n2226922             Sex                 Male      10  ",
      "text/html": "<div>\n<style scoped>\n    .dataframe tbody tr th:only-of-type {\n        vertical-align: middle;\n    }\n\n    .dataframe tbody tr th {\n        vertical-align: top;\n    }\n\n    .dataframe thead th {\n        text-align: right;\n    }\n</style>\n<table border=\"1\" class=\"dataframe\">\n  <thead>\n    <tr style=\"text-align: right;\">\n      <th></th>\n      <th>Unnamed: 0</th>\n      <th>UKPRN</th>\n      <th>HE Provider</th>\n      <th>Country of HE provider</th>\n      <th>Region of HE provider</th>\n      <th>Terms of employment</th>\n      <th>Contract levels</th>\n      <th>Atypical marker</th>\n      <th>Contract marker</th>\n      <th>Academic Year</th>\n      <th>Category Marker</th>\n      <th>Category</th>\n      <th>Number</th>\n    </tr>\n  </thead>\n  <tbody>\n    <tr>\n      <th>2226918</th>\n      <td>495398</td>\n      <td>10007713</td>\n      <td>York St John University</td>\n      <td>England</td>\n      <td>Yorkshire and The Humber</td>\n      <td>All</td>\n      <td>Professor</td>\n      <td>Non-atypical</td>\n      <td>All (excluding atypical)</td>\n      <td>2020/21</td>\n      <td>Ethnicity</td>\n      <td>White</td>\n      <td>10</td>\n    </tr>\n    <tr>\n      <th>2226919</th>\n      <td>495405</td>\n      <td>10007713</td>\n      <td>York St John University</td>\n      <td>England</td>\n      <td>Yorkshire and The Humber</td>\n      <td>All</td>\n      <td>Professor</td>\n      <td>Non-atypical</td>\n      <td>All (excluding atypical)</td>\n      <td>2020/21</td>\n      <td>Disability</td>\n      <td>No known disability</td>\n      <td>10</td>\n    </tr>\n    <tr>\n      <th>2226920</th>\n      <td>495415</td>\n      <td>10007713</td>\n      <td>York St John University</td>\n      <td>England</td>\n      <td>Yorkshire and The Humber</td>\n      <td>All</td>\n      <td>Professor</td>\n      <td>Non-atypical</td>\n      <td>All (excluding atypical)</td>\n      <td>2020/21</td>\n      <td>Age group</td>\n      <td>66 and over</td>\n      <td>5</td>\n    </tr>\n    <tr>\n      <th>2226921</th>\n      <td>495417</td>\n      <td>10007713</td>\n      <td>York St John University</td>\n      <td>England</td>\n      <td>Yorkshire and The Humber</td>\n      <td>All</td>\n      <td>Professor</td>\n      <td>Non-atypical</td>\n      <td>All (excluding atypical)</td>\n      <td>2020/21</td>\n      <td>Sex</td>\n      <td>Female</td>\n      <td>5</td>\n    </tr>\n    <tr>\n      <th>2226922</th>\n      <td>495418</td>\n      <td>10007713</td>\n      <td>York St John University</td>\n      <td>England</td>\n      <td>Yorkshire and The Humber</td>\n      <td>All</td>\n      <td>Professor</td>\n      <td>Non-atypical</td>\n      <td>All (excluding atypical)</td>\n      <td>2020/21</td>\n      <td>Sex</td>\n      <td>Male</td>\n      <td>10</td>\n    </tr>\n  </tbody>\n</table>\n</div>"
     },
     "execution_count": 46,
     "metadata": {},
     "output_type": "execute_result"
    }
   ],
   "source": [
    "df_all.tail()"
   ]
  },
  {
   "cell_type": "code",
   "execution_count": 47,
   "id": "fa48fcad-1a44-4016-882f-033d572b92df",
   "metadata": {
    "pycharm": {
     "name": "#%%\n"
    }
   },
   "outputs": [
    {
     "name": "stdout",
     "output_type": "stream",
     "text": [
      "<class 'pandas.core.frame.DataFrame'>\n",
      "RangeIndex: 2226923 entries, 0 to 2226922\n",
      "Data columns (total 13 columns):\n",
      " #   Column                  Dtype \n",
      "---  ------                  ----- \n",
      " 0   Unnamed: 0              int64 \n",
      " 1   UKPRN                   int64 \n",
      " 2   HE Provider             object\n",
      " 3   Country of HE provider  object\n",
      " 4   Region of HE provider   object\n",
      " 5   Terms of employment     object\n",
      " 6   Contract levels         object\n",
      " 7   Atypical marker         object\n",
      " 8   Contract marker         object\n",
      " 9   Academic Year           object\n",
      " 10  Category Marker         object\n",
      " 11  Category                object\n",
      " 12  Number                  int64 \n",
      "dtypes: int64(3), object(10)\n",
      "memory usage: 220.9+ MB\n"
     ]
    }
   ],
   "source": [
    "df_all.info()\n"
   ]
  },
  {
   "cell_type": "code",
   "execution_count": 48,
   "id": "56b70675-f780-4718-9da9-1813ea41af3e",
   "metadata": {
    "pycharm": {
     "name": "#%%\n"
    }
   },
   "outputs": [
    {
     "data": {
      "text/plain": "         Unnamed: 0         UKPRN        Number\ncount  2.226923e+06  2.226923e+06  2.226923e+06\nmean   2.633162e+05  1.000692e+07  1.808254e+02\nstd    1.460289e+05  5.407011e+03  4.711257e+02\nmin    1.000000e+00  1.000016e+07  5.000000e+00\n25%    1.450300e+05  1.000539e+07  1.000000e+01\n50%    2.601510e+05  1.000716e+07  4.000000e+01\n75%    3.870670e+05  1.000780e+07  1.400000e+02\nmax    5.320340e+05  1.008274e+07  1.464000e+04",
      "text/html": "<div>\n<style scoped>\n    .dataframe tbody tr th:only-of-type {\n        vertical-align: middle;\n    }\n\n    .dataframe tbody tr th {\n        vertical-align: top;\n    }\n\n    .dataframe thead th {\n        text-align: right;\n    }\n</style>\n<table border=\"1\" class=\"dataframe\">\n  <thead>\n    <tr style=\"text-align: right;\">\n      <th></th>\n      <th>Unnamed: 0</th>\n      <th>UKPRN</th>\n      <th>Number</th>\n    </tr>\n  </thead>\n  <tbody>\n    <tr>\n      <th>count</th>\n      <td>2.226923e+06</td>\n      <td>2.226923e+06</td>\n      <td>2.226923e+06</td>\n    </tr>\n    <tr>\n      <th>mean</th>\n      <td>2.633162e+05</td>\n      <td>1.000692e+07</td>\n      <td>1.808254e+02</td>\n    </tr>\n    <tr>\n      <th>std</th>\n      <td>1.460289e+05</td>\n      <td>5.407011e+03</td>\n      <td>4.711257e+02</td>\n    </tr>\n    <tr>\n      <th>min</th>\n      <td>1.000000e+00</td>\n      <td>1.000016e+07</td>\n      <td>5.000000e+00</td>\n    </tr>\n    <tr>\n      <th>25%</th>\n      <td>1.450300e+05</td>\n      <td>1.000539e+07</td>\n      <td>1.000000e+01</td>\n    </tr>\n    <tr>\n      <th>50%</th>\n      <td>2.601510e+05</td>\n      <td>1.000716e+07</td>\n      <td>4.000000e+01</td>\n    </tr>\n    <tr>\n      <th>75%</th>\n      <td>3.870670e+05</td>\n      <td>1.000780e+07</td>\n      <td>1.400000e+02</td>\n    </tr>\n    <tr>\n      <th>max</th>\n      <td>5.320340e+05</td>\n      <td>1.008274e+07</td>\n      <td>1.464000e+04</td>\n    </tr>\n  </tbody>\n</table>\n</div>"
     },
     "execution_count": 48,
     "metadata": {},
     "output_type": "execute_result"
    }
   ],
   "source": [
    "df_all.describe()"
   ]
  },
  {
   "cell_type": "code",
   "execution_count": 49,
   "id": "0c746287-9b27-4b1a-97ab-f673e0c2f5e4",
   "metadata": {
    "pycharm": {
     "name": "#%%\n"
    }
   },
   "outputs": [
    {
     "ename": "KeyboardInterrupt",
     "evalue": "",
     "output_type": "error",
     "traceback": [
      "\u001B[0;31m---------------------------------------------------------------------------\u001B[0m",
      "\u001B[0;31mKeyboardInterrupt\u001B[0m                         Traceback (most recent call last)",
      "\u001B[0;32m/var/folders/c_/0bbsdc813v1024stkjm4628h0000gn/T/ipykernel_71767/749276205.py\u001B[0m in \u001B[0;36m<module>\u001B[0;34m\u001B[0m\n\u001B[1;32m      7\u001B[0m \u001B[0mdf_19\u001B[0m\u001B[0;34m.\u001B[0m\u001B[0mto_csv\u001B[0m\u001B[0;34m(\u001B[0m\u001B[0;34m\"table_2019_20_clean.csv\"\u001B[0m\u001B[0;34m)\u001B[0m\u001B[0;34m\u001B[0m\u001B[0;34m\u001B[0m\u001B[0m\n\u001B[1;32m      8\u001B[0m \u001B[0mdf_20\u001B[0m\u001B[0;34m.\u001B[0m\u001B[0mto_csv\u001B[0m\u001B[0;34m(\u001B[0m\u001B[0;34m\"table_2020_21_clean.csv\"\u001B[0m\u001B[0;34m)\u001B[0m\u001B[0;34m\u001B[0m\u001B[0;34m\u001B[0m\u001B[0m\n\u001B[0;32m----> 9\u001B[0;31m \u001B[0mdf_all\u001B[0m\u001B[0;34m.\u001B[0m\u001B[0mto_csv\u001B[0m\u001B[0;34m(\u001B[0m\u001B[0;34m\"table_2014_2021_clean.csv\"\u001B[0m\u001B[0;34m)\u001B[0m\u001B[0;34m\u001B[0m\u001B[0;34m\u001B[0m\u001B[0m\n\u001B[0m",
      "\u001B[0;32m~/opt/anaconda3/lib/python3.9/site-packages/pandas/core/generic.py\u001B[0m in \u001B[0;36mto_csv\u001B[0;34m(self, path_or_buf, sep, na_rep, float_format, columns, header, index, index_label, mode, encoding, compression, quoting, quotechar, line_terminator, chunksize, date_format, doublequote, escapechar, decimal, errors, storage_options)\u001B[0m\n\u001B[1;32m   3464\u001B[0m         )\n\u001B[1;32m   3465\u001B[0m \u001B[0;34m\u001B[0m\u001B[0m\n\u001B[0;32m-> 3466\u001B[0;31m         return DataFrameRenderer(formatter).to_csv(\n\u001B[0m\u001B[1;32m   3467\u001B[0m             \u001B[0mpath_or_buf\u001B[0m\u001B[0;34m,\u001B[0m\u001B[0;34m\u001B[0m\u001B[0;34m\u001B[0m\u001B[0m\n\u001B[1;32m   3468\u001B[0m             \u001B[0mline_terminator\u001B[0m\u001B[0;34m=\u001B[0m\u001B[0mline_terminator\u001B[0m\u001B[0;34m,\u001B[0m\u001B[0;34m\u001B[0m\u001B[0;34m\u001B[0m\u001B[0m\n",
      "\u001B[0;32m~/opt/anaconda3/lib/python3.9/site-packages/pandas/io/formats/format.py\u001B[0m in \u001B[0;36mto_csv\u001B[0;34m(self, path_or_buf, encoding, sep, columns, index_label, mode, compression, quoting, quotechar, line_terminator, chunksize, date_format, doublequote, escapechar, errors, storage_options)\u001B[0m\n\u001B[1;32m   1103\u001B[0m             \u001B[0mformatter\u001B[0m\u001B[0;34m=\u001B[0m\u001B[0mself\u001B[0m\u001B[0;34m.\u001B[0m\u001B[0mfmt\u001B[0m\u001B[0;34m,\u001B[0m\u001B[0;34m\u001B[0m\u001B[0;34m\u001B[0m\u001B[0m\n\u001B[1;32m   1104\u001B[0m         )\n\u001B[0;32m-> 1105\u001B[0;31m         \u001B[0mcsv_formatter\u001B[0m\u001B[0;34m.\u001B[0m\u001B[0msave\u001B[0m\u001B[0;34m(\u001B[0m\u001B[0;34m)\u001B[0m\u001B[0;34m\u001B[0m\u001B[0;34m\u001B[0m\u001B[0m\n\u001B[0m\u001B[1;32m   1106\u001B[0m \u001B[0;34m\u001B[0m\u001B[0m\n\u001B[1;32m   1107\u001B[0m         \u001B[0;32mif\u001B[0m \u001B[0mcreated_buffer\u001B[0m\u001B[0;34m:\u001B[0m\u001B[0;34m\u001B[0m\u001B[0;34m\u001B[0m\u001B[0m\n",
      "\u001B[0;32m~/opt/anaconda3/lib/python3.9/site-packages/pandas/io/formats/csvs.py\u001B[0m in \u001B[0;36msave\u001B[0;34m(self)\u001B[0m\n\u001B[1;32m    255\u001B[0m             )\n\u001B[1;32m    256\u001B[0m \u001B[0;34m\u001B[0m\u001B[0m\n\u001B[0;32m--> 257\u001B[0;31m             \u001B[0mself\u001B[0m\u001B[0;34m.\u001B[0m\u001B[0m_save\u001B[0m\u001B[0;34m(\u001B[0m\u001B[0;34m)\u001B[0m\u001B[0;34m\u001B[0m\u001B[0;34m\u001B[0m\u001B[0m\n\u001B[0m\u001B[1;32m    258\u001B[0m \u001B[0;34m\u001B[0m\u001B[0m\n\u001B[1;32m    259\u001B[0m     \u001B[0;32mdef\u001B[0m \u001B[0m_save\u001B[0m\u001B[0;34m(\u001B[0m\u001B[0mself\u001B[0m\u001B[0;34m)\u001B[0m \u001B[0;34m->\u001B[0m \u001B[0;32mNone\u001B[0m\u001B[0;34m:\u001B[0m\u001B[0;34m\u001B[0m\u001B[0;34m\u001B[0m\u001B[0m\n",
      "\u001B[0;32m~/opt/anaconda3/lib/python3.9/site-packages/pandas/io/formats/csvs.py\u001B[0m in \u001B[0;36m_save\u001B[0;34m(self)\u001B[0m\n\u001B[1;32m    260\u001B[0m         \u001B[0;32mif\u001B[0m \u001B[0mself\u001B[0m\u001B[0;34m.\u001B[0m\u001B[0m_need_to_save_header\u001B[0m\u001B[0;34m:\u001B[0m\u001B[0;34m\u001B[0m\u001B[0;34m\u001B[0m\u001B[0m\n\u001B[1;32m    261\u001B[0m             \u001B[0mself\u001B[0m\u001B[0;34m.\u001B[0m\u001B[0m_save_header\u001B[0m\u001B[0;34m(\u001B[0m\u001B[0;34m)\u001B[0m\u001B[0;34m\u001B[0m\u001B[0;34m\u001B[0m\u001B[0m\n\u001B[0;32m--> 262\u001B[0;31m         \u001B[0mself\u001B[0m\u001B[0;34m.\u001B[0m\u001B[0m_save_body\u001B[0m\u001B[0;34m(\u001B[0m\u001B[0;34m)\u001B[0m\u001B[0;34m\u001B[0m\u001B[0;34m\u001B[0m\u001B[0m\n\u001B[0m\u001B[1;32m    263\u001B[0m \u001B[0;34m\u001B[0m\u001B[0m\n\u001B[1;32m    264\u001B[0m     \u001B[0;32mdef\u001B[0m \u001B[0m_save_header\u001B[0m\u001B[0;34m(\u001B[0m\u001B[0mself\u001B[0m\u001B[0;34m)\u001B[0m \u001B[0;34m->\u001B[0m \u001B[0;32mNone\u001B[0m\u001B[0;34m:\u001B[0m\u001B[0;34m\u001B[0m\u001B[0;34m\u001B[0m\u001B[0m\n",
      "\u001B[0;32m~/opt/anaconda3/lib/python3.9/site-packages/pandas/io/formats/csvs.py\u001B[0m in \u001B[0;36m_save_body\u001B[0;34m(self)\u001B[0m\n\u001B[1;32m    298\u001B[0m             \u001B[0;32mif\u001B[0m \u001B[0mstart_i\u001B[0m \u001B[0;34m>=\u001B[0m \u001B[0mend_i\u001B[0m\u001B[0;34m:\u001B[0m\u001B[0;34m\u001B[0m\u001B[0;34m\u001B[0m\u001B[0m\n\u001B[1;32m    299\u001B[0m                 \u001B[0;32mbreak\u001B[0m\u001B[0;34m\u001B[0m\u001B[0;34m\u001B[0m\u001B[0m\n\u001B[0;32m--> 300\u001B[0;31m             \u001B[0mself\u001B[0m\u001B[0;34m.\u001B[0m\u001B[0m_save_chunk\u001B[0m\u001B[0;34m(\u001B[0m\u001B[0mstart_i\u001B[0m\u001B[0;34m,\u001B[0m \u001B[0mend_i\u001B[0m\u001B[0;34m)\u001B[0m\u001B[0;34m\u001B[0m\u001B[0;34m\u001B[0m\u001B[0m\n\u001B[0m\u001B[1;32m    301\u001B[0m \u001B[0;34m\u001B[0m\u001B[0m\n\u001B[1;32m    302\u001B[0m     \u001B[0;32mdef\u001B[0m \u001B[0m_save_chunk\u001B[0m\u001B[0;34m(\u001B[0m\u001B[0mself\u001B[0m\u001B[0;34m,\u001B[0m \u001B[0mstart_i\u001B[0m\u001B[0;34m:\u001B[0m \u001B[0mint\u001B[0m\u001B[0;34m,\u001B[0m \u001B[0mend_i\u001B[0m\u001B[0;34m:\u001B[0m \u001B[0mint\u001B[0m\u001B[0;34m)\u001B[0m \u001B[0;34m->\u001B[0m \u001B[0;32mNone\u001B[0m\u001B[0;34m:\u001B[0m\u001B[0;34m\u001B[0m\u001B[0;34m\u001B[0m\u001B[0m\n",
      "\u001B[0;32m~/opt/anaconda3/lib/python3.9/site-packages/pandas/io/formats/csvs.py\u001B[0m in \u001B[0;36m_save_chunk\u001B[0;34m(self, start_i, end_i)\u001B[0m\n\u001B[1;32m    309\u001B[0m \u001B[0;34m\u001B[0m\u001B[0m\n\u001B[1;32m    310\u001B[0m         \u001B[0mix\u001B[0m \u001B[0;34m=\u001B[0m \u001B[0mself\u001B[0m\u001B[0;34m.\u001B[0m\u001B[0mdata_index\u001B[0m\u001B[0;34m[\u001B[0m\u001B[0mslicer\u001B[0m\u001B[0;34m]\u001B[0m\u001B[0;34m.\u001B[0m\u001B[0m_format_native_types\u001B[0m\u001B[0;34m(\u001B[0m\u001B[0;34m**\u001B[0m\u001B[0mself\u001B[0m\u001B[0;34m.\u001B[0m\u001B[0m_number_format\u001B[0m\u001B[0;34m)\u001B[0m\u001B[0;34m\u001B[0m\u001B[0;34m\u001B[0m\u001B[0m\n\u001B[0;32m--> 311\u001B[0;31m         libwriters.write_csv_rows(\n\u001B[0m\u001B[1;32m    312\u001B[0m             \u001B[0mdata\u001B[0m\u001B[0;34m,\u001B[0m\u001B[0;34m\u001B[0m\u001B[0;34m\u001B[0m\u001B[0m\n\u001B[1;32m    313\u001B[0m             \u001B[0mix\u001B[0m\u001B[0;34m,\u001B[0m\u001B[0;34m\u001B[0m\u001B[0;34m\u001B[0m\u001B[0m\n",
      "\u001B[0;32m~/opt/anaconda3/lib/python3.9/site-packages/pandas/_libs/writers.pyx\u001B[0m in \u001B[0;36mpandas._libs.writers.write_csv_rows\u001B[0;34m()\u001B[0m\n",
      "\u001B[0;31mKeyboardInterrupt\u001B[0m: "
     ]
    }
   ],
   "source": [
    "#Convert all the dataframes to csv\n",
    "df_14.to_csv(\"table_2014_15_clean.csv\")\n",
    "df_15.to_csv(\"table_2015_16_clean.csv\")\n",
    "df_16.to_csv(\"table_2016_17_clean.csv\")\n",
    "df_17.to_csv(\"table_2017_18_clean.csv\")\n",
    "df_18.to_csv(\"table_2018_19_clean.csv\")\n",
    "df_19.to_csv(\"table_2019_20_clean.csv\")\n",
    "df_20.to_csv(\"table_2020_21_clean.csv\")\n",
    "df_all.to_csv(\"table_2014_2021_clean.csv\")"
   ]
  },
  {
   "cell_type": "code",
   "execution_count": null,
   "id": "a87f9a48-aedb-4c8c-9f09-09e980d61f9e",
   "metadata": {
    "pycharm": {
     "name": "#%%\n"
    }
   },
   "outputs": [],
   "source": []
  }
 ],
 "metadata": {
  "kernelspec": {
   "display_name": "Python 3 (ipykernel)",
   "language": "python",
   "name": "python3"
  },
  "language_info": {
   "codemirror_mode": {
    "name": "ipython",
    "version": 3
   },
   "file_extension": ".py",
   "mimetype": "text/x-python",
   "name": "python",
   "nbconvert_exporter": "python",
   "pygments_lexer": "ipython3",
   "version": "3.9.12"
  }
 },
 "nbformat": 4,
 "nbformat_minor": 5
}