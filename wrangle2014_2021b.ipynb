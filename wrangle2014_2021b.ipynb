{
 "cells": [
  {
   "cell_type": "code",
   "execution_count": 1,
   "id": "32ba9b72-cac4-49f9-a9cc-22d612f3a66a",
   "metadata": {
    "pycharm": {
     "name": "#%%\n"
    }
   },
   "outputs": [],
   "source": [
    "#removing the all factor from the concated csv\n",
    "import pandas as pd\n",
    "import numpy as np"
   ]
  },
  {
   "cell_type": "code",
   "execution_count": 2,
   "id": "8e22f04f-0305-41d7-81be-9012c74bf312",
   "metadata": {
    "pycharm": {
     "name": "#%%\n"
    }
   },
   "outputs": [
    {
     "data": {
      "text/plain": "   Unnamed: 0     UKPRN                 HE Provider Country of HE provider  \\\n0           0  10007783  The University of Aberdeen               Scotland   \n1           1  10007783  The University of Aberdeen               Scotland   \n2           2  10007783  The University of Aberdeen               Scotland   \n3           3  10007783  The University of Aberdeen               Scotland   \n4           4  10007783  The University of Aberdeen               Scotland   \n\n  Region of HE provider   Terms of employment       Contract levels  \\\n0              Scotland  Open-ended/Permanent  Other contract level   \n1              Scotland  Open-ended/Permanent  Other contract level   \n2              Scotland  Open-ended/Permanent  Other contract level   \n3              Scotland  Open-ended/Permanent  Other contract level   \n4              Scotland  Open-ended/Permanent  Other contract level   \n\n  Atypical marker Contract marker Academic Year Category Marker Category  \\\n0    Non-atypical        Academic       2014/15       Ethnicity    White   \n1    Non-atypical        Academic       2014/15       Ethnicity    Black   \n2    Non-atypical        Academic       2014/15       Ethnicity    Asian   \n3    Non-atypical        Academic       2014/15       Ethnicity    Mixed   \n4    Non-atypical        Academic       2014/15       Ethnicity   Other    \n\n   Number  \n0    1095  \n1      25  \n2     130  \n3      20  \n4      25  ",
      "text/html": "<div>\n<style scoped>\n    .dataframe tbody tr th:only-of-type {\n        vertical-align: middle;\n    }\n\n    .dataframe tbody tr th {\n        vertical-align: top;\n    }\n\n    .dataframe thead th {\n        text-align: right;\n    }\n</style>\n<table border=\"1\" class=\"dataframe\">\n  <thead>\n    <tr style=\"text-align: right;\">\n      <th></th>\n      <th>Unnamed: 0</th>\n      <th>UKPRN</th>\n      <th>HE Provider</th>\n      <th>Country of HE provider</th>\n      <th>Region of HE provider</th>\n      <th>Terms of employment</th>\n      <th>Contract levels</th>\n      <th>Atypical marker</th>\n      <th>Contract marker</th>\n      <th>Academic Year</th>\n      <th>Category Marker</th>\n      <th>Category</th>\n      <th>Number</th>\n    </tr>\n  </thead>\n  <tbody>\n    <tr>\n      <th>0</th>\n      <td>0</td>\n      <td>10007783</td>\n      <td>The University of Aberdeen</td>\n      <td>Scotland</td>\n      <td>Scotland</td>\n      <td>Open-ended/Permanent</td>\n      <td>Other contract level</td>\n      <td>Non-atypical</td>\n      <td>Academic</td>\n      <td>2014/15</td>\n      <td>Ethnicity</td>\n      <td>White</td>\n      <td>1095</td>\n    </tr>\n    <tr>\n      <th>1</th>\n      <td>1</td>\n      <td>10007783</td>\n      <td>The University of Aberdeen</td>\n      <td>Scotland</td>\n      <td>Scotland</td>\n      <td>Open-ended/Permanent</td>\n      <td>Other contract level</td>\n      <td>Non-atypical</td>\n      <td>Academic</td>\n      <td>2014/15</td>\n      <td>Ethnicity</td>\n      <td>Black</td>\n      <td>25</td>\n    </tr>\n    <tr>\n      <th>2</th>\n      <td>2</td>\n      <td>10007783</td>\n      <td>The University of Aberdeen</td>\n      <td>Scotland</td>\n      <td>Scotland</td>\n      <td>Open-ended/Permanent</td>\n      <td>Other contract level</td>\n      <td>Non-atypical</td>\n      <td>Academic</td>\n      <td>2014/15</td>\n      <td>Ethnicity</td>\n      <td>Asian</td>\n      <td>130</td>\n    </tr>\n    <tr>\n      <th>3</th>\n      <td>3</td>\n      <td>10007783</td>\n      <td>The University of Aberdeen</td>\n      <td>Scotland</td>\n      <td>Scotland</td>\n      <td>Open-ended/Permanent</td>\n      <td>Other contract level</td>\n      <td>Non-atypical</td>\n      <td>Academic</td>\n      <td>2014/15</td>\n      <td>Ethnicity</td>\n      <td>Mixed</td>\n      <td>20</td>\n    </tr>\n    <tr>\n      <th>4</th>\n      <td>4</td>\n      <td>10007783</td>\n      <td>The University of Aberdeen</td>\n      <td>Scotland</td>\n      <td>Scotland</td>\n      <td>Open-ended/Permanent</td>\n      <td>Other contract level</td>\n      <td>Non-atypical</td>\n      <td>Academic</td>\n      <td>2014/15</td>\n      <td>Ethnicity</td>\n      <td>Other</td>\n      <td>25</td>\n    </tr>\n  </tbody>\n</table>\n</div>"
     },
     "execution_count": 2,
     "metadata": {},
     "output_type": "execute_result"
    }
   ],
   "source": [
    "df = pd.read_csv('table_2014_2021_clean.csv',skipinitialspace = True)\n",
    "df.head()\n"
   ]
  },
  {
   "cell_type": "code",
   "execution_count": 3,
   "id": "754cf3a0-8b72-4510-9bd4-633e16924747",
   "metadata": {
    "pycharm": {
     "name": "#%%\n"
    }
   },
   "outputs": [],
   "source": [
    "df_copy =df.copy()"
   ]
  },
  {
   "cell_type": "code",
   "execution_count": 4,
   "id": "64f6d953-93f2-444a-9129-30eef00f9f16",
   "metadata": {
    "pycharm": {
     "name": "#%%\n"
    }
   },
   "outputs": [
    {
     "name": "stdout",
     "output_type": "stream",
     "text": [
      "<class 'pandas.core.frame.DataFrame'>\n",
      "RangeIndex: 2226923 entries, 0 to 2226922\n",
      "Data columns (total 13 columns):\n",
      " #   Column                  Dtype \n",
      "---  ------                  ----- \n",
      " 0   Unnamed: 0              int64 \n",
      " 1   UKPRN                   int64 \n",
      " 2   HE Provider             object\n",
      " 3   Country of HE provider  object\n",
      " 4   Region of HE provider   object\n",
      " 5   Terms of employment     object\n",
      " 6   Contract levels         object\n",
      " 7   Atypical marker         object\n",
      " 8   Contract marker         object\n",
      " 9   Academic Year           object\n",
      " 10  Category Marker         object\n",
      " 11  Category                object\n",
      " 12  Number                  int64 \n",
      "dtypes: int64(3), object(10)\n",
      "memory usage: 220.9+ MB\n"
     ]
    }
   ],
   "source": [
    "df_copy.info()"
   ]
  },
  {
   "cell_type": "code",
   "execution_count": 5,
   "id": "ad76c5b1-0380-449d-8d0b-14b9e8dc54ac",
   "metadata": {
    "pycharm": {
     "name": "#%%\n"
    }
   },
   "outputs": [],
   "source": [
    "#remove unamed column from the dataframe\n",
    "df_copy =df_copy.drop(\"Unnamed: 0\", axis=1)"
   ]
  },
  {
   "cell_type": "code",
   "execution_count": 6,
   "id": "ff2896c3-399a-45d0-9d6c-d069dc7d3e85",
   "metadata": {
    "pycharm": {
     "name": "#%%\n"
    }
   },
   "outputs": [
    {
     "data": {
      "text/plain": "      UKPRN                 HE Provider Country of HE provider  \\\n0  10007783  The University of Aberdeen               Scotland   \n1  10007783  The University of Aberdeen               Scotland   \n2  10007783  The University of Aberdeen               Scotland   \n3  10007783  The University of Aberdeen               Scotland   \n4  10007783  The University of Aberdeen               Scotland   \n\n  Region of HE provider   Terms of employment       Contract levels  \\\n0              Scotland  Open-ended/Permanent  Other contract level   \n1              Scotland  Open-ended/Permanent  Other contract level   \n2              Scotland  Open-ended/Permanent  Other contract level   \n3              Scotland  Open-ended/Permanent  Other contract level   \n4              Scotland  Open-ended/Permanent  Other contract level   \n\n  Atypical marker Contract marker Academic Year Category Marker Category  \\\n0    Non-atypical        Academic       2014/15       Ethnicity    White   \n1    Non-atypical        Academic       2014/15       Ethnicity    Black   \n2    Non-atypical        Academic       2014/15       Ethnicity    Asian   \n3    Non-atypical        Academic       2014/15       Ethnicity    Mixed   \n4    Non-atypical        Academic       2014/15       Ethnicity   Other    \n\n   Number  \n0    1095  \n1      25  \n2     130  \n3      20  \n4      25  ",
      "text/html": "<div>\n<style scoped>\n    .dataframe tbody tr th:only-of-type {\n        vertical-align: middle;\n    }\n\n    .dataframe tbody tr th {\n        vertical-align: top;\n    }\n\n    .dataframe thead th {\n        text-align: right;\n    }\n</style>\n<table border=\"1\" class=\"dataframe\">\n  <thead>\n    <tr style=\"text-align: right;\">\n      <th></th>\n      <th>UKPRN</th>\n      <th>HE Provider</th>\n      <th>Country of HE provider</th>\n      <th>Region of HE provider</th>\n      <th>Terms of employment</th>\n      <th>Contract levels</th>\n      <th>Atypical marker</th>\n      <th>Contract marker</th>\n      <th>Academic Year</th>\n      <th>Category Marker</th>\n      <th>Category</th>\n      <th>Number</th>\n    </tr>\n  </thead>\n  <tbody>\n    <tr>\n      <th>0</th>\n      <td>10007783</td>\n      <td>The University of Aberdeen</td>\n      <td>Scotland</td>\n      <td>Scotland</td>\n      <td>Open-ended/Permanent</td>\n      <td>Other contract level</td>\n      <td>Non-atypical</td>\n      <td>Academic</td>\n      <td>2014/15</td>\n      <td>Ethnicity</td>\n      <td>White</td>\n      <td>1095</td>\n    </tr>\n    <tr>\n      <th>1</th>\n      <td>10007783</td>\n      <td>The University of Aberdeen</td>\n      <td>Scotland</td>\n      <td>Scotland</td>\n      <td>Open-ended/Permanent</td>\n      <td>Other contract level</td>\n      <td>Non-atypical</td>\n      <td>Academic</td>\n      <td>2014/15</td>\n      <td>Ethnicity</td>\n      <td>Black</td>\n      <td>25</td>\n    </tr>\n    <tr>\n      <th>2</th>\n      <td>10007783</td>\n      <td>The University of Aberdeen</td>\n      <td>Scotland</td>\n      <td>Scotland</td>\n      <td>Open-ended/Permanent</td>\n      <td>Other contract level</td>\n      <td>Non-atypical</td>\n      <td>Academic</td>\n      <td>2014/15</td>\n      <td>Ethnicity</td>\n      <td>Asian</td>\n      <td>130</td>\n    </tr>\n    <tr>\n      <th>3</th>\n      <td>10007783</td>\n      <td>The University of Aberdeen</td>\n      <td>Scotland</td>\n      <td>Scotland</td>\n      <td>Open-ended/Permanent</td>\n      <td>Other contract level</td>\n      <td>Non-atypical</td>\n      <td>Academic</td>\n      <td>2014/15</td>\n      <td>Ethnicity</td>\n      <td>Mixed</td>\n      <td>20</td>\n    </tr>\n    <tr>\n      <th>4</th>\n      <td>10007783</td>\n      <td>The University of Aberdeen</td>\n      <td>Scotland</td>\n      <td>Scotland</td>\n      <td>Open-ended/Permanent</td>\n      <td>Other contract level</td>\n      <td>Non-atypical</td>\n      <td>Academic</td>\n      <td>2014/15</td>\n      <td>Ethnicity</td>\n      <td>Other</td>\n      <td>25</td>\n    </tr>\n  </tbody>\n</table>\n</div>"
     },
     "execution_count": 6,
     "metadata": {},
     "output_type": "execute_result"
    }
   ],
   "source": [
    "df_copy.head()"
   ]
  },
  {
   "cell_type": "code",
   "execution_count": 7,
   "id": "8d9ef8cf-1a6c-4a5c-8136-be3a771b0023",
   "metadata": {
    "pycharm": {
     "name": "#%%\n"
    }
   },
   "outputs": [
    {
     "data": {
      "text/plain": "array(['The University of Aberdeen', 'University of Abertay Dundee',\n       'Aberystwyth University', 'Anglia Ruskin University',\n       'Aston University', 'Bangor University', 'Bath Spa University',\n       'The University of Bath', 'University of Bedfordshire',\n       \"The Queen's University of Belfast\", 'Birkbeck College',\n       'Birmingham City University', 'The University of Birmingham',\n       'University College Birmingham', 'Bishop Grosseteste University',\n       'The University of Bolton', 'The Arts University Bournemouth',\n       'Bournemouth University', 'The University of Bradford',\n       'The University of Brighton', 'The University of Bristol',\n       'Brunel University London', 'Buckinghamshire New University',\n       'The University of Buckingham', 'The University of Cambridge',\n       'The Institute of Cancer Research',\n       'Canterbury Christ Church University', 'Cardiff University',\n       'Cardiff Metropolitan University',\n       'The University of Central Lancashire', 'University of Chester',\n       'The University of Chichester', 'The City University',\n       'Conservatoire for Dance and Drama', 'Courtauld Institute of Art',\n       'Coventry University', 'Cranfield University',\n       'University for the Creative Arts', 'University of Cumbria',\n       'De Montfort University', 'University of Derby',\n       'The University of Dundee', 'University of Durham',\n       'The University of East Anglia', 'The University of East London',\n       'Edge Hill University', 'Edinburgh Napier University',\n       'The University of Edinburgh', 'The University of Essex',\n       'The University of Exeter', 'Falmouth University',\n       'Glasgow Caledonian University', 'Glasgow School of Art',\n       'The University of Glasgow', 'University of Gloucestershire',\n       'Glyndŵr University ', 'Goldsmiths College',\n       'The University of Greenwich',\n       'Guildhall School of Music and Drama', 'Harper Adams University',\n       'Heriot-Watt University', 'University of Hertfordshire',\n       'Heythrop College', 'The University of Huddersfield',\n       'The University of Hull',\n       'Imperial College of Science, Technology and Medicine',\n       'Institute of Education', 'The University of Keele',\n       'The University of Kent', \"King's College London\",\n       'Kingston University', 'The University of Lancaster',\n       'Leeds College of Art', 'Leeds Beckett University',\n       'The University of Leeds', 'Leeds Trinity University',\n       'The University of Leicester', 'The University of Lincoln',\n       'Liverpool Hope University', 'Liverpool John Moores University',\n       'The Liverpool Institute for Performing Arts',\n       'The University of Liverpool',\n       'Liverpool School of Tropical Medicine',\n       'University of the Arts, London', 'London Business School',\n       'University of London (Institutes and activities)',\n       'London Metropolitan University', 'London South Bank University',\n       'London School of Economics and Political Science',\n       'London School of Hygiene and Tropical Medicine',\n       'Loughborough University',\n       'The Manchester Metropolitan University',\n       'The University of Manchester', 'Middlesex University',\n       'University of Newcastle-upon-Tyne', 'Newman University',\n       'The University of Northampton',\n       'University of Northumbria at Newcastle',\n       'Norwich University of the Arts', 'University of Nottingham',\n       'The Nottingham Trent University', 'The Open University',\n       'Oxford Brookes University', 'The University of Oxford',\n       'Plymouth College of Art', 'University of Plymouth',\n       'The University of Portsmouth',\n       'Queen Margaret University, Edinburgh',\n       'Queen Mary University of London',\n       'Ravensbourne University London', 'The University of Reading',\n       'The Robert Gordon University', 'Roehampton University',\n       'Rose Bruford College', 'Royal Academy of Music',\n       'Royal Agricultural University', 'Royal College of Art',\n       'Royal College of Music', 'Royal Conservatoire of Scotland',\n       'The Royal Central School of Speech and Drama',\n       'Royal Holloway and Bedford New College',\n       'Royal Northern College of Music', 'The Royal Veterinary College',\n       'The University of St Andrews',\n       \"St George's Hospital Medical School\",\n       \"St Mary's University College\", \"St Mary's University, Twickenham\",\n       'The University of Salford',\n       'The School of Oriental and African Studies', 'SRUC',\n       'Sheffield Hallam University', 'The University of Sheffield',\n       'Solent University', 'The University of Southampton',\n       'Staffordshire University', 'The University of Stirling',\n       'University of St Mark and St John',\n       'Stranmillis University College', 'The University of Strathclyde',\n       'University Campus Suffolk', 'The University of Sunderland',\n       'The University of Surrey', 'The University of Sussex',\n       'Swansea University', 'Teesside University',\n       'Trinity Laban Conservatoire of Music and Dance',\n       'University of Wales Trinity Saint David',\n       'University of the Highlands and Islands', 'University of Ulster',\n       'University College London', 'University of South Wales',\n       'The University of Wales (central functions)',\n       'The University of Warwick',\n       'University of the West of England, Bristol',\n       'The University of the West of Scotland',\n       'The University of West London', 'The University of Westminster',\n       'The University of Winchester', 'The University of Wolverhampton',\n       'University of Worcester', 'Writtle College',\n       'York St John University', 'The University of York',\n       'The National Film and Television School',\n       \"Queen's University Belfast\", 'Ulster University',\n       'The British School of Osteopathy', 'AECC University College',\n       'The University College of Osteopathy', 'Leeds Arts University',\n       'SOAS University of London', 'City, University of London',\n       'Glyndŵr University', 'Hartpury University', 'Keele University',\n       'Leeds College of Music', 'Newcastle University',\n       'Rose Bruford College of Theatre and Performance',\n       \"St George's, University of London\", 'University of Suffolk',\n       'Writtle University College', 'Abertay University',\n       'ACM Guildford Limited*', 'AECC University College*',\n       'Arden University*', 'BIMM Limited*',\n       'Birmingham City University*', 'The University of Birmingham*',\n       'The University of Bolton*',\n       'The University College of Osteopathy*',\n       'Buckinghamshire New University*', 'The University of Buckingham*',\n       'The University of Chichester*', 'Chicken Shed Theatre Company*',\n       'Cliff College*', 'Conservatoire for Dance and Drama*',\n       'Courtauld Institute of Art*',\n       'Court Theatre Training Company Ltd*', 'Cranfield University*',\n       'University for the Creative Arts*',\n       \"The Queen's Foundation for Ecumenical Theological Education*\",\n       'University College of Estate Management*', 'Falmouth University*',\n       'The National Film and Television School*', 'Futureworks*',\n       'University of Gloucestershire*', 'Harper Adams University*',\n       'The University of Huddersfield*',\n       'Institute of Contemporary Music Performance*', 'LAMDA Limited',\n       'Leeds Conservatoire', 'Liverpool Hope University*',\n       'The Liverpool Institute for Performing Arts*',\n       'London Business School*',\n       'University of London (Institutes and activities)*',\n       'London Film School Limited*', 'London South Bank University*',\n       'London School of Management Education*',\n       'London School of Theology*',\n       'The London Institute of Banking & Finance*',\n       'Luther King House Educational Trust*', 'St Mellitus College*',\n       'The Metanoia Institute*',\n       'Mont Rose College of Management and Sciences*',\n       'Moorlands College*', 'Nazarene Theological College*',\n       'Nelson College London Ltd', 'New College of the Humanities*',\n       'Norwich University of the Arts*', 'University of Nottingham*',\n       'The Nottingham Trent University*', 'The Open University*',\n       'Pearson College*', 'Plymouth College of Art*',\n       'Royal Academy of Dramatic Art*', 'Robert Gordon University',\n       'Rose Bruford College of Theatre and Performance*',\n       'Royal Academy of Music*', 'Royal Agricultural University*',\n       'Royal College of Music*', 'SAE Education Limited*',\n       \"Spurgeon's College*\", 'Stranmillis University College*',\n       'Trinity Laban Conservatoire of Music and Dance*',\n       'Ulster University*', 'The University of Law*',\n       'The University of West London*', 'Writtle University College*',\n       'The University of York*', 'British Academy of Jewellery Limited*',\n       'Backstage Academy (Training) Ltd*', 'Bloomsbury Institute*',\n       'Central Film School London*',\n       'ICON College of Technology and Management*',\n       'Institute of Art - London Limited*',\n       'Kaplan International Colleges U.K. Limited*',\n       'Kaplan Open Learning*', 'Liverpool John Moores University*',\n       'The London School of Architecture*',\n       'The London Interdisciplinary School Ltd*',\n       'New Model Institute for Technology and Engineering (NMITE)*',\n       'University of Plymouth*', 'Point Blank Music School*',\n       'Regent College*', 'The University of St. Andrews',\n       'ThinkSpace Education Limited*', 'University Academy 92 Limited*',\n       'Waverley Abbey College*'], dtype=object)"
     },
     "execution_count": 7,
     "metadata": {},
     "output_type": "execute_result"
    }
   ],
   "source": [
    "#find unique values in each column\n",
    "df_copy['HE Provider'].unique()"
   ]
  },
  {
   "cell_type": "code",
   "execution_count": 8,
   "id": "f659b267-64ed-4d15-bf19-4f179b27d14d",
   "metadata": {
    "pycharm": {
     "name": "#%%\n"
    }
   },
   "outputs": [
    {
     "data": {
      "text/plain": "array(['Scotland', 'All', 'Wales', 'England', 'Northern Ireland'],\n      dtype=object)"
     },
     "execution_count": 8,
     "metadata": {},
     "output_type": "execute_result"
    }
   ],
   "source": [
    "df_copy['Country of HE provider'].unique()"
   ]
  },
  {
   "cell_type": "code",
   "execution_count": 9,
   "id": "bf6b8eb6-3130-4953-9547-80cd3ec1bc3f",
   "metadata": {
    "pycharm": {
     "name": "#%%\n"
    }
   },
   "outputs": [
    {
     "data": {
      "text/plain": "array(['Scotland', 'Wales', 'England', 'Northern Ireland'], dtype=object)"
     },
     "execution_count": 9,
     "metadata": {},
     "output_type": "execute_result"
    }
   ],
   "source": [
    "#remove all rows that have all \n",
    "df_copy = df_copy[df_copy['Country of HE provider'].str.contains(\"All\")==False]\n",
    "df_copy['Country of HE provider'].unique()"
   ]
  },
  {
   "cell_type": "code",
   "execution_count": 10,
   "id": "8ffa7ed6-b3e4-4106-b6db-f3523d62e092",
   "metadata": {
    "pycharm": {
     "name": "#%%\n"
    }
   },
   "outputs": [
    {
     "data": {
      "text/plain": "array(['Scotland', 'All', 'Wales', 'East of England', 'West Midlands',\n       'South West', 'Northern Ireland', 'London', 'East Midlands',\n       'North West', 'Yorkshire and The Humber', 'South East',\n       'North East'], dtype=object)"
     },
     "execution_count": 10,
     "metadata": {},
     "output_type": "execute_result"
    }
   ],
   "source": [
    "df_copy['Region of HE provider'].unique()"
   ]
  },
  {
   "cell_type": "code",
   "execution_count": 11,
   "id": "e7ff253d-6ac1-4612-bcaf-7c45adc95f00",
   "metadata": {
    "pycharm": {
     "name": "#%%\n"
    }
   },
   "outputs": [
    {
     "data": {
      "text/plain": "array(['Scotland', 'Wales', 'East of England', 'West Midlands',\n       'South West', 'Northern Ireland', 'London', 'East Midlands',\n       'North West', 'Yorkshire and The Humber', 'South East',\n       'North East'], dtype=object)"
     },
     "execution_count": 11,
     "metadata": {},
     "output_type": "execute_result"
    }
   ],
   "source": [
    "#remove all rows that have all \n",
    "df_copy = df_copy[df_copy['Region of HE provider'].str.contains(\"All\")==False]\n",
    "df_copy['Region of HE provider'].unique()"
   ]
  },
  {
   "cell_type": "code",
   "execution_count": 12,
   "id": "423f0d13-76d2-4b32-8b4d-a73fd90f88b8",
   "metadata": {
    "pycharm": {
     "name": "#%%\n"
    }
   },
   "outputs": [
    {
     "data": {
      "text/plain": "array(['Open-ended/Permanent', 'Fixed-term', 'All', 'Atypical'],\n      dtype=object)"
     },
     "execution_count": 12,
     "metadata": {},
     "output_type": "execute_result"
    }
   ],
   "source": [
    "df_copy['Terms of employment'].unique()"
   ]
  },
  {
   "cell_type": "code",
   "execution_count": 13,
   "id": "5250bd5f-b252-469d-8055-25aae4413535",
   "metadata": {
    "pycharm": {
     "name": "#%%\n"
    }
   },
   "outputs": [
    {
     "data": {
      "text/plain": "array(['Open-ended/Permanent', 'Fixed-term', 'Atypical'], dtype=object)"
     },
     "execution_count": 13,
     "metadata": {},
     "output_type": "execute_result"
    }
   ],
   "source": [
    "#remove all rows that have all \n",
    "df_copy = df_copy[df_copy['Terms of employment'].str.contains(\"All\")==False]\n",
    "df_copy['Terms of employment'].unique()"
   ]
  },
  {
   "cell_type": "code",
   "execution_count": 14,
   "id": "c6423ce9-c1d4-4fac-9a46-b56c07d26783",
   "metadata": {
    "pycharm": {
     "name": "#%%\n"
    }
   },
   "outputs": [
    {
     "data": {
      "text/plain": "array(['Other contract level', 'Other senior academic', 'Professor',\n       'All', 'Non-academic'], dtype=object)"
     },
     "execution_count": 14,
     "metadata": {},
     "output_type": "execute_result"
    }
   ],
   "source": [
    "df_copy['Contract levels'].unique()"
   ]
  },
  {
   "cell_type": "code",
   "execution_count": 15,
   "id": "96a68e73-75c1-40c3-ab36-1c6443df308e",
   "metadata": {
    "pycharm": {
     "name": "#%%\n"
    }
   },
   "outputs": [
    {
     "data": {
      "text/plain": "array(['Other contract level', 'Other senior academic', 'Professor',\n       'Non-academic'], dtype=object)"
     },
     "execution_count": 15,
     "metadata": {},
     "output_type": "execute_result"
    }
   ],
   "source": [
    "#remove all rows that have all \n",
    "df_copy = df_copy[df_copy['Contract levels'].str.contains(\"All\")==False]\n",
    "df_copy['Contract levels'].unique()"
   ]
  },
  {
   "cell_type": "code",
   "execution_count": 16,
   "id": "51b324a7-e894-4676-a05a-65fea5702228",
   "metadata": {
    "pycharm": {
     "name": "#%%\n"
    }
   },
   "outputs": [
    {
     "data": {
      "text/plain": "array(['Non-atypical', 'Academic atypical'], dtype=object)"
     },
     "execution_count": 16,
     "metadata": {},
     "output_type": "execute_result"
    }
   ],
   "source": [
    "df_copy['Atypical marker'].unique()"
   ]
  },
  {
   "cell_type": "code",
   "execution_count": 17,
   "id": "4f8db08b-ebac-48bc-8a96-0081a8494944",
   "metadata": {
    "pycharm": {
     "name": "#%%\n"
    }
   },
   "outputs": [
    {
     "data": {
      "text/plain": "array(['2014/15', '2015/16', '2016/17', '2017/18', '2018/19', '2019/20',\n       '2020/21'], dtype=object)"
     },
     "execution_count": 17,
     "metadata": {},
     "output_type": "execute_result"
    }
   ],
   "source": [
    "df_copy['Academic Year'].unique()"
   ]
  },
  {
   "cell_type": "code",
   "execution_count": 18,
   "id": "3442b0d6-8ca3-4329-9084-05827799e610",
   "metadata": {
    "pycharm": {
     "name": "#%%\n"
    }
   },
   "outputs": [
    {
     "data": {
      "text/plain": "array(['Ethnicity', 'Disability', 'Age group', 'Sex'], dtype=object)"
     },
     "execution_count": 18,
     "metadata": {},
     "output_type": "execute_result"
    }
   ],
   "source": [
    "df_copy['Category Marker'].unique()"
   ]
  },
  {
   "cell_type": "code",
   "execution_count": 19,
   "id": "5125dcc3-a3e1-4009-abe5-99c9a82711fa",
   "metadata": {
    "pycharm": {
     "name": "#%%\n"
    }
   },
   "outputs": [
    {
     "data": {
      "text/plain": "array(['White', 'Black', 'Asian', 'Mixed', 'Other ', 'Not known',\n       'Known to be disabled', 'No known disability', '25 and under',\n       '26 - 30', '31-35', '36-40', '41-45', '46-50', '51-55', '56-60',\n       '61-65', '66 and over', 'Female', 'Male', 'Age Unknown', 'Other'],\n      dtype=object)"
     },
     "execution_count": 19,
     "metadata": {},
     "output_type": "execute_result"
    }
   ],
   "source": [
    "df_copy['Category'].unique()"
   ]
  },
  {
   "cell_type": "code",
   "execution_count": 20,
   "id": "7079ce80-ea1e-4dcf-8b8b-9924933a2500",
   "metadata": {
    "pycharm": {
     "name": "#%%\n"
    }
   },
   "outputs": [],
   "source": [
    "df_copy.to_csv('clean_all_tablescombo.csv',index= False)"
   ]
  },
  {
   "cell_type": "code",
   "execution_count": 20,
   "id": "69fc438a-c562-48df-8044-ac0920401380",
   "metadata": {
    "pycharm": {
     "name": "#%%\n"
    }
   },
   "outputs": [],
   "source": []
  }
 ],
 "metadata": {
  "kernelspec": {
   "display_name": "Python 3 (ipykernel)",
   "language": "python",
   "name": "python3"
  },
  "language_info": {
   "codemirror_mode": {
    "name": "ipython",
    "version": 3
   },
   "file_extension": ".py",
   "mimetype": "text/x-python",
   "name": "python",
   "nbconvert_exporter": "python",
   "pygments_lexer": "ipython3",
   "version": "3.9.12"
  }
 },
 "nbformat": 4,
 "nbformat_minor": 5
}