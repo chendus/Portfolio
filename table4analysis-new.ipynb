{
 "cells": [
  {
   "cell_type": "code",
   "execution_count": 1,
   "id": "7fe478c3-0424-453c-85d7-652bc521725b",
   "metadata": {
    "pycharm": {
     "name": "#%%\n"
    }
   },
   "outputs": [],
   "source": [
    "import pandas as pd \n",
    "import numpy as np\n",
    "import matplotlib.pyplot as plt\n",
    "import seaborn as sns\n",
    "import matplotlib.ticker as mtick\n",
    "%matplotlib inline"
   ]
  },
  {
   "cell_type": "code",
   "execution_count": 2,
   "id": "9d95707a-8d3a-4894-9a82-561f2e5e0b86",
   "metadata": {
    "pycharm": {
     "name": "#%%\n"
    }
   },
   "outputs": [
    {
     "data": {
      "text/html": [
       "<div>\n",
       "<style scoped>\n",
       "    .dataframe tbody tr th:only-of-type {\n",
       "        vertical-align: middle;\n",
       "    }\n",
       "\n",
       "    .dataframe tbody tr th {\n",
       "        vertical-align: top;\n",
       "    }\n",
       "\n",
       "    .dataframe thead th {\n",
       "        text-align: right;\n",
       "    }\n",
       "</style>\n",
       "<table border=\"1\" class=\"dataframe\">\n",
       "  <thead>\n",
       "    <tr style=\"text-align: right;\">\n",
       "      <th></th>\n",
       "      <th>Ethnicity</th>\n",
       "      <th>Nationality marker</th>\n",
       "      <th>Terms of employment</th>\n",
       "      <th>Mode of employment</th>\n",
       "      <th>Sex</th>\n",
       "      <th>Academic year</th>\n",
       "      <th>Academic employment function</th>\n",
       "      <th>Number</th>\n",
       "    </tr>\n",
       "  </thead>\n",
       "  <tbody>\n",
       "    <tr>\n",
       "      <th>0</th>\n",
       "      <td>White</td>\n",
       "      <td>European Union</td>\n",
       "      <td>Fixed-term</td>\n",
       "      <td>Full-time</td>\n",
       "      <td>Female</td>\n",
       "      <td>2014/15</td>\n",
       "      <td>Teaching only</td>\n",
       "      <td>205</td>\n",
       "    </tr>\n",
       "    <tr>\n",
       "      <th>1</th>\n",
       "      <td>White</td>\n",
       "      <td>European Union</td>\n",
       "      <td>Fixed-term</td>\n",
       "      <td>Full-time</td>\n",
       "      <td>Female</td>\n",
       "      <td>2014/15</td>\n",
       "      <td>Research only</td>\n",
       "      <td>3020</td>\n",
       "    </tr>\n",
       "    <tr>\n",
       "      <th>2</th>\n",
       "      <td>White</td>\n",
       "      <td>European Union</td>\n",
       "      <td>Fixed-term</td>\n",
       "      <td>Full-time</td>\n",
       "      <td>Female</td>\n",
       "      <td>2014/15</td>\n",
       "      <td>Both teaching and research</td>\n",
       "      <td>360</td>\n",
       "    </tr>\n",
       "    <tr>\n",
       "      <th>3</th>\n",
       "      <td>White</td>\n",
       "      <td>European Union</td>\n",
       "      <td>Fixed-term</td>\n",
       "      <td>Full-time</td>\n",
       "      <td>Female</td>\n",
       "      <td>2014/15</td>\n",
       "      <td>Neither teaching nor research</td>\n",
       "      <td>10</td>\n",
       "    </tr>\n",
       "    <tr>\n",
       "      <th>4</th>\n",
       "      <td>White</td>\n",
       "      <td>Non-European Union</td>\n",
       "      <td>Fixed-term</td>\n",
       "      <td>Full-time</td>\n",
       "      <td>Female</td>\n",
       "      <td>2014/15</td>\n",
       "      <td>Teaching only</td>\n",
       "      <td>50</td>\n",
       "    </tr>\n",
       "  </tbody>\n",
       "</table>\n",
       "</div>"
      ],
      "text/plain": [
       "  Ethnicity  Nationality marker Terms of employment Mode of employment  \\\n",
       "0     White      European Union          Fixed-term          Full-time   \n",
       "1     White      European Union          Fixed-term          Full-time   \n",
       "2     White      European Union          Fixed-term          Full-time   \n",
       "3     White      European Union          Fixed-term          Full-time   \n",
       "4     White  Non-European Union          Fixed-term          Full-time   \n",
       "\n",
       "      Sex Academic year   Academic employment function  Number  \n",
       "0  Female       2014/15                  Teaching only     205  \n",
       "1  Female       2014/15                  Research only    3020  \n",
       "2  Female       2014/15     Both teaching and research     360  \n",
       "3  Female       2014/15  Neither teaching nor research      10  \n",
       "4  Female       2014/15                  Teaching only      50  "
      ]
     },
     "execution_count": 2,
     "metadata": {},
     "output_type": "execute_result"
    }
   ],
   "source": [
    "#read clean_table 4\n",
    "df =pd.read_csv('table-4.csv')\n",
    "df.head()"
   ]
  },
  {
   "cell_type": "code",
   "execution_count": 3,
   "id": "f0bbf774-3010-4f0d-997e-6a58c1633a10",
   "metadata": {
    "pycharm": {
     "name": "#%%\n"
    }
   },
   "outputs": [],
   "source": [
    "df_copy =df.copy()"
   ]
  },
  {
   "cell_type": "code",
   "execution_count": 4,
   "id": "d0cc580a-732c-4424-877b-1b36663cbb90",
   "metadata": {
    "pycharm": {
     "name": "#%%\n"
    }
   },
   "outputs": [
    {
     "data": {
      "text/plain": [
       "(5348, 8)"
      ]
     },
     "execution_count": 4,
     "metadata": {},
     "output_type": "execute_result"
    }
   ],
   "source": [
    "df_copy.shape"
   ]
  },
  {
   "cell_type": "code",
   "execution_count": 5,
   "id": "3f876b8a-633c-4849-becf-55fc217d2e67",
   "metadata": {
    "pycharm": {
     "name": "#%%\n"
    }
   },
   "outputs": [
    {
     "data": {
      "text/plain": [
       "array(['White', 'Black or Black British - Caribbean',\n",
       "       'Black or Black British - African', 'Other Black background',\n",
       "       'Asian or Asian British - Indian',\n",
       "       'Asian or Asian British - Pakistani',\n",
       "       'Asian or Asian British - Bangladeshi', 'Chinese',\n",
       "       'Other Asian background', 'Mixed', 'Other', 'Not known'],\n",
       "      dtype=object)"
      ]
     },
     "execution_count": 5,
     "metadata": {},
     "output_type": "execute_result"
    }
   ],
   "source": [
    "df_copy.Ethnicity.unique()"
   ]
  },
  {
   "cell_type": "code",
   "execution_count": 7,
   "id": "b86158be-88ca-4d1e-8d7e-a893d7969db1",
   "metadata": {
    "pycharm": {
     "name": "#%%\n"
    }
   },
   "outputs": [
    {
     "data": {
      "text/plain": [
       "array(['European Union', 'Non-European Union', 'Not known', 'UK'],\n",
       "      dtype=object)"
      ]
     },
     "execution_count": 7,
     "metadata": {},
     "output_type": "execute_result"
    }
   ],
   "source": [
    "df_copy[\"Nationality marker\"].unique()"
   ]
  },
  {
   "cell_type": "code",
   "execution_count": 12,
   "id": "1a36f771-f380-4991-b38e-5e3bb64183a1",
   "metadata": {
    "pycharm": {
     "name": "#%%\n"
    }
   },
   "outputs": [
    {
     "data": {
      "text/html": [
       "<div>\n",
       "<style scoped>\n",
       "    .dataframe tbody tr th:only-of-type {\n",
       "        vertical-align: middle;\n",
       "    }\n",
       "\n",
       "    .dataframe tbody tr th {\n",
       "        vertical-align: top;\n",
       "    }\n",
       "\n",
       "    .dataframe thead th {\n",
       "        text-align: right;\n",
       "    }\n",
       "</style>\n",
       "<table border=\"1\" class=\"dataframe\">\n",
       "  <thead>\n",
       "    <tr style=\"text-align: right;\">\n",
       "      <th>Ethnicity</th>\n",
       "      <th>Academic employment function</th>\n",
       "      <th>Asian or Asian British - Bangladeshi</th>\n",
       "      <th>Asian or Asian British - Indian</th>\n",
       "      <th>Asian or Asian British - Pakistani</th>\n",
       "      <th>Black or Black British - African</th>\n",
       "      <th>Black or Black British - Caribbean</th>\n",
       "      <th>Chinese</th>\n",
       "      <th>Mixed</th>\n",
       "      <th>Not known</th>\n",
       "      <th>Other</th>\n",
       "      <th>Other Asian background</th>\n",
       "      <th>Other Black background</th>\n",
       "      <th>White</th>\n",
       "    </tr>\n",
       "  </thead>\n",
       "  <tbody>\n",
       "    <tr>\n",
       "      <th>0</th>\n",
       "      <td>Both teaching and research</td>\n",
       "      <td>1625</td>\n",
       "      <td>15795</td>\n",
       "      <td>4435</td>\n",
       "      <td>8120</td>\n",
       "      <td>2745</td>\n",
       "      <td>20355</td>\n",
       "      <td>12110</td>\n",
       "      <td>40045</td>\n",
       "      <td>12445</td>\n",
       "      <td>11950</td>\n",
       "      <td>885</td>\n",
       "      <td>559845</td>\n",
       "    </tr>\n",
       "    <tr>\n",
       "      <th>1</th>\n",
       "      <td>Neither teaching nor research</td>\n",
       "      <td>0</td>\n",
       "      <td>195</td>\n",
       "      <td>35</td>\n",
       "      <td>15</td>\n",
       "      <td>0</td>\n",
       "      <td>70</td>\n",
       "      <td>70</td>\n",
       "      <td>635</td>\n",
       "      <td>35</td>\n",
       "      <td>20</td>\n",
       "      <td>0</td>\n",
       "      <td>8545</td>\n",
       "    </tr>\n",
       "    <tr>\n",
       "      <th>2</th>\n",
       "      <td>Research only</td>\n",
       "      <td>1480</td>\n",
       "      <td>14895</td>\n",
       "      <td>3105</td>\n",
       "      <td>4045</td>\n",
       "      <td>600</td>\n",
       "      <td>20970</td>\n",
       "      <td>8405</td>\n",
       "      <td>36425</td>\n",
       "      <td>8835</td>\n",
       "      <td>10365</td>\n",
       "      <td>550</td>\n",
       "      <td>239185</td>\n",
       "    </tr>\n",
       "    <tr>\n",
       "      <th>3</th>\n",
       "      <td>Teaching only</td>\n",
       "      <td>1325</td>\n",
       "      <td>8875</td>\n",
       "      <td>3180</td>\n",
       "      <td>6535</td>\n",
       "      <td>2690</td>\n",
       "      <td>7905</td>\n",
       "      <td>8520</td>\n",
       "      <td>46135</td>\n",
       "      <td>8420</td>\n",
       "      <td>7165</td>\n",
       "      <td>755</td>\n",
       "      <td>332055</td>\n",
       "    </tr>\n",
       "  </tbody>\n",
       "</table>\n",
       "</div>"
      ],
      "text/plain": [
       "Ethnicity   Academic employment function  \\\n",
       "0             Both teaching and research   \n",
       "1          Neither teaching nor research   \n",
       "2                          Research only   \n",
       "3                          Teaching only   \n",
       "\n",
       "Ethnicity  Asian or Asian British - Bangladeshi  \\\n",
       "0                                          1625   \n",
       "1                                             0   \n",
       "2                                          1480   \n",
       "3                                          1325   \n",
       "\n",
       "Ethnicity  Asian or Asian British - Indian  \\\n",
       "0                                    15795   \n",
       "1                                      195   \n",
       "2                                    14895   \n",
       "3                                     8875   \n",
       "\n",
       "Ethnicity  Asian or Asian British - Pakistani  \\\n",
       "0                                        4435   \n",
       "1                                          35   \n",
       "2                                        3105   \n",
       "3                                        3180   \n",
       "\n",
       "Ethnicity  Black or Black British - African  \\\n",
       "0                                      8120   \n",
       "1                                        15   \n",
       "2                                      4045   \n",
       "3                                      6535   \n",
       "\n",
       "Ethnicity  Black or Black British - Caribbean  Chinese  Mixed  Not known  \\\n",
       "0                                        2745    20355  12110      40045   \n",
       "1                                           0       70     70        635   \n",
       "2                                         600    20970   8405      36425   \n",
       "3                                        2690     7905   8520      46135   \n",
       "\n",
       "Ethnicity  Other  Other Asian background  Other Black background   White  \n",
       "0          12445                   11950                     885  559845  \n",
       "1             35                      20                       0    8545  \n",
       "2           8835                   10365                     550  239185  \n",
       "3           8420                    7165                     755  332055  "
      ]
     },
     "execution_count": 12,
     "metadata": {},
     "output_type": "execute_result"
    }
   ],
   "source": [
    "university_ethnicity =df_copy.groupby(['Academic employment function','Ethnicity'])['Number'].sum().unstack(fill_value=0).reset_index()\n",
    "university_ethnicity"
   ]
  },
  {
   "cell_type": "code",
   "execution_count": 15,
   "id": "1f9d3e7c-676e-44d1-824b-5bca2c1ccd82",
   "metadata": {
    "pycharm": {
     "name": "#%%\n"
    }
   },
   "outputs": [
    {
     "data": {
      "text/plain": [
       "<AxesSubplot:xlabel='Academic employment function'>"
      ]
     },
     "execution_count": 15,
     "metadata": {},
     "output_type": "execute_result"
    },
    {
     "data": {
      "image/png": "[encoded data removed]",
      "text/plain": [
       "<Figure size 1440x432 with 1 Axes>"
      ]
     },
     "metadata": {
      "needs_background": "light"
     },
     "output_type": "display_data"
    }
   ],
   "source": [
    "university_ethnicity.plot(kind='bar', x ='Academic employment function', figsize=(20,6))"
   ]
  },
  {
   "cell_type": "code",
   "execution_count": 16,
   "id": "b8f745d9-730b-4b09-bf8f-320571b01f64",
   "metadata": {
    "pycharm": {
     "name": "#%%\n"
    }
   },
   "outputs": [
    {
     "data": {
      "text/html": [
       "<div>\n",
       "<style scoped>\n",
       "    .dataframe tbody tr th:only-of-type {\n",
       "        vertical-align: middle;\n",
       "    }\n",
       "\n",
       "    .dataframe tbody tr th {\n",
       "        vertical-align: top;\n",
       "    }\n",
       "\n",
       "    .dataframe thead th {\n",
       "        text-align: right;\n",
       "    }\n",
       "</style>\n",
       "<table border=\"1\" class=\"dataframe\">\n",
       "  <thead>\n",
       "    <tr style=\"text-align: right;\">\n",
       "      <th>Sex</th>\n",
       "      <th>Academic employment function</th>\n",
       "      <th>Female</th>\n",
       "      <th>Male</th>\n",
       "      <th>Other</th>\n",
       "    </tr>\n",
       "  </thead>\n",
       "  <tbody>\n",
       "    <tr>\n",
       "      <th>0</th>\n",
       "      <td>Both teaching and research</td>\n",
       "      <td>285200</td>\n",
       "      <td>404845</td>\n",
       "      <td>310</td>\n",
       "    </tr>\n",
       "    <tr>\n",
       "      <th>1</th>\n",
       "      <td>Neither teaching nor research</td>\n",
       "      <td>4455</td>\n",
       "      <td>5165</td>\n",
       "      <td>0</td>\n",
       "    </tr>\n",
       "    <tr>\n",
       "      <th>2</th>\n",
       "      <td>Research only</td>\n",
       "      <td>164345</td>\n",
       "      <td>184420</td>\n",
       "      <td>95</td>\n",
       "    </tr>\n",
       "    <tr>\n",
       "      <th>3</th>\n",
       "      <td>Teaching only</td>\n",
       "      <td>227605</td>\n",
       "      <td>205700</td>\n",
       "      <td>255</td>\n",
       "    </tr>\n",
       "  </tbody>\n",
       "</table>\n",
       "</div>"
      ],
      "text/plain": [
       "Sex   Academic employment function  Female    Male  Other\n",
       "0       Both teaching and research  285200  404845    310\n",
       "1    Neither teaching nor research    4455    5165      0\n",
       "2                    Research only  164345  184420     95\n",
       "3                    Teaching only  227605  205700    255"
      ]
     },
     "execution_count": 16,
     "metadata": {},
     "output_type": "execute_result"
    }
   ],
   "source": [
    "university_sex =df_copy.groupby(['Academic employment function','Sex'])['Number'].sum().unstack(fill_value=0).reset_index()\n",
    "university_sex"
   ]
  },
  {
   "cell_type": "code",
   "execution_count": 17,
   "id": "859f6e11-0c63-467c-823e-1cc1fc6a3fee",
   "metadata": {
    "pycharm": {
     "name": "#%%\n"
    }
   },
   "outputs": [
    {
     "data": {
      "text/plain": [
       "<AxesSubplot:xlabel='Academic employment function'>"
      ]
     },
     "execution_count": 17,
     "metadata": {},
     "output_type": "execute_result"
    },
    {
     "data": {
      "image/png": "[encoded data removed]",
      "text/plain": [
       "<Figure size 1440x432 with 1 Axes>"
      ]
     },
     "metadata": {
      "needs_background": "light"
     },
     "output_type": "display_data"
    }
   ],
   "source": [
    "university_sex.plot(kind='bar', x ='Academic employment function', figsize=(20,6))"
   ]
  },
  {
   "cell_type": "code",
   "execution_count": 18,
   "id": "4a1e8daa-81ed-4cc2-8f69-a017fea13863",
   "metadata": {
    "pycharm": {
     "name": "#%%\n"
    }
   },
   "outputs": [
    {
     "data": {
      "text/html": [
       "<div>\n",
       "<style scoped>\n",
       "    .dataframe tbody tr th:only-of-type {\n",
       "        vertical-align: middle;\n",
       "    }\n",
       "\n",
       "    .dataframe tbody tr th {\n",
       "        vertical-align: top;\n",
       "    }\n",
       "\n",
       "    .dataframe thead th {\n",
       "        text-align: right;\n",
       "    }\n",
       "</style>\n",
       "<table border=\"1\" class=\"dataframe\">\n",
       "  <thead>\n",
       "    <tr style=\"text-align: right;\">\n",
       "      <th>Nationality marker</th>\n",
       "      <th>Academic employment function</th>\n",
       "      <th>European Union</th>\n",
       "      <th>Non-European Union</th>\n",
       "      <th>Not known</th>\n",
       "      <th>UK</th>\n",
       "    </tr>\n",
       "  </thead>\n",
       "  <tbody>\n",
       "    <tr>\n",
       "      <th>0</th>\n",
       "      <td>Both teaching and research</td>\n",
       "      <td>108035</td>\n",
       "      <td>79635</td>\n",
       "      <td>3880</td>\n",
       "      <td>498805</td>\n",
       "    </tr>\n",
       "    <tr>\n",
       "      <th>1</th>\n",
       "      <td>Neither teaching nor research</td>\n",
       "      <td>710</td>\n",
       "      <td>375</td>\n",
       "      <td>20</td>\n",
       "      <td>8515</td>\n",
       "    </tr>\n",
       "    <tr>\n",
       "      <th>2</th>\n",
       "      <td>Research only</td>\n",
       "      <td>88055</td>\n",
       "      <td>75410</td>\n",
       "      <td>5400</td>\n",
       "      <td>179995</td>\n",
       "    </tr>\n",
       "    <tr>\n",
       "      <th>3</th>\n",
       "      <td>Teaching only</td>\n",
       "      <td>56035</td>\n",
       "      <td>40095</td>\n",
       "      <td>5750</td>\n",
       "      <td>331680</td>\n",
       "    </tr>\n",
       "  </tbody>\n",
       "</table>\n",
       "</div>"
      ],
      "text/plain": [
       "Nationality marker   Academic employment function  European Union  \\\n",
       "0                      Both teaching and research          108035   \n",
       "1                   Neither teaching nor research             710   \n",
       "2                                   Research only           88055   \n",
       "3                                   Teaching only           56035   \n",
       "\n",
       "Nationality marker  Non-European Union  Not known      UK  \n",
       "0                                79635       3880  498805  \n",
       "1                                  375         20    8515  \n",
       "2                                75410       5400  179995  \n",
       "3                                40095       5750  331680  "
      ]
     },
     "execution_count": 18,
     "metadata": {},
     "output_type": "execute_result"
    }
   ],
   "source": [
    "university_nationality =df_copy.groupby(['Academic employment function','Nationality marker'])['Number'].sum().unstack(fill_value=0).reset_index()\n",
    "university_nationality"
   ]
  },
  {
   "cell_type": "code",
   "execution_count": 19,
   "id": "43885325-a44e-4ac0-8467-bba97a28ecee",
   "metadata": {
    "pycharm": {
     "name": "#%%\n"
    }
   },
   "outputs": [
    {
     "data": {
      "text/plain": [
       "<AxesSubplot:xlabel='Academic employment function'>"
      ]
     },
     "execution_count": 19,
     "metadata": {},
     "output_type": "execute_result"
    },
    {
     "data": {
      "image/png": "[encoded data removed]",
      "text/plain": [
       "<Figure size 1440x432 with 1 Axes>"
      ]
     },
     "metadata": {
      "needs_background": "light"
     },
     "output_type": "display_data"
    }
   ],
   "source": [
    "university_nationality.plot(kind='bar', x ='Academic employment function', figsize=(20,6))"
   ]
  },
  {
   "cell_type": "code",
   "execution_count": null,
   "id": "d1b35c32-bfb8-4d44-94e9-af07754f58c1",
   "metadata": {
    "pycharm": {
     "name": "#%%\n"
    }
   },
   "outputs": [],
   "source": []
  }
 ],
 "metadata": {
  "kernelspec": {
   "display_name": "Python 3 (ipykernel)",
   "language": "python",
   "name": "python3"
  },
  "language_info": {
   "codemirror_mode": {
    "name": "ipython",
    "version": 3
   },
   "file_extension": ".py",
   "mimetype": "text/x-python",
   "name": "python",
   "nbconvert_exporter": "python",
   "pygments_lexer": "ipython3",
   "version": "3.9.12"
  }
 },
 "nbformat": 4,
 "nbformat_minor": 5
}