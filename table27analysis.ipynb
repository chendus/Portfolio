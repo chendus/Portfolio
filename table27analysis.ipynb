{
 "cells": [
  {
   "cell_type": "code",
   "execution_count": 1,
   "id": "ae00f684-2512-44ae-a0e9-95b7b29d6b4a",
   "metadata": {
    "pycharm": {
     "name": "#%%\n"
    }
   },
   "outputs": [],
   "source": [
    "import pandas as pd \n",
    "import numpy as np\n",
    "import matplotlib.pyplot as plt\n",
    "import seaborn as sns\n",
    "import matplotlib.ticker as mtick\n",
    "%matplotlib inline"
   ]
  },
  {
   "cell_type": "code",
   "execution_count": 2,
   "id": "ec3e079a-fb6b-4df3-901e-7c090943bc7f",
   "metadata": {
    "pycharm": {
     "name": "#%%\n"
    }
   },
   "outputs": [
    {
     "data": {
      "text/html": [
       "<div>\n",
       "<style scoped>\n",
       "    .dataframe tbody tr th:only-of-type {\n",
       "        vertical-align: middle;\n",
       "    }\n",
       "\n",
       "    .dataframe tbody tr th {\n",
       "        vertical-align: top;\n",
       "    }\n",
       "\n",
       "    .dataframe thead th {\n",
       "        text-align: right;\n",
       "    }\n",
       "</style>\n",
       "<table border=\"1\" class=\"dataframe\">\n",
       "  <thead>\n",
       "    <tr style=\"text-align: right;\">\n",
       "      <th></th>\n",
       "      <th>Category Marker</th>\n",
       "      <th>Category</th>\n",
       "      <th>Country of HE Provider</th>\n",
       "      <th>Academic contract marker</th>\n",
       "      <th>Activity standard occupational classification</th>\n",
       "      <th>Number</th>\n",
       "      <th>Academic Year</th>\n",
       "    </tr>\n",
       "  </thead>\n",
       "  <tbody>\n",
       "    <tr>\n",
       "      <th>0</th>\n",
       "      <td>Age Group</td>\n",
       "      <td>25 and under</td>\n",
       "      <td>England</td>\n",
       "      <td>Academic contract</td>\n",
       "      <td>Professional occupations</td>\n",
       "      <td>4245</td>\n",
       "      <td>2014/15</td>\n",
       "    </tr>\n",
       "    <tr>\n",
       "      <th>1</th>\n",
       "      <td>Age Group</td>\n",
       "      <td>25 and under</td>\n",
       "      <td>England</td>\n",
       "      <td>Academic contract</td>\n",
       "      <td>Associate professional and technical occupations</td>\n",
       "      <td>60</td>\n",
       "      <td>2014/15</td>\n",
       "    </tr>\n",
       "    <tr>\n",
       "      <th>2</th>\n",
       "      <td>Age Group</td>\n",
       "      <td>25 and under</td>\n",
       "      <td>England</td>\n",
       "      <td>Non-academic contract</td>\n",
       "      <td>Managers, directors and senior officials</td>\n",
       "      <td>45</td>\n",
       "      <td>2014/15</td>\n",
       "    </tr>\n",
       "    <tr>\n",
       "      <th>3</th>\n",
       "      <td>Age Group</td>\n",
       "      <td>25 and under</td>\n",
       "      <td>England</td>\n",
       "      <td>Non-academic contract</td>\n",
       "      <td>Professional occupations</td>\n",
       "      <td>1160</td>\n",
       "      <td>2014/15</td>\n",
       "    </tr>\n",
       "    <tr>\n",
       "      <th>4</th>\n",
       "      <td>Age Group</td>\n",
       "      <td>25 and under</td>\n",
       "      <td>England</td>\n",
       "      <td>Non-academic contract</td>\n",
       "      <td>Associate professional and technical occupations</td>\n",
       "      <td>3560</td>\n",
       "      <td>2014/15</td>\n",
       "    </tr>\n",
       "  </tbody>\n",
       "</table>\n",
       "</div>"
      ],
      "text/plain": [
       "  Category Marker      Category Country of HE Provider  \\\n",
       "0       Age Group  25 and under                England   \n",
       "1       Age Group  25 and under                England   \n",
       "2       Age Group  25 and under                England   \n",
       "3       Age Group  25 and under                England   \n",
       "4       Age Group  25 and under                England   \n",
       "\n",
       "  Academic contract marker     Activity standard occupational classification  \\\n",
       "0        Academic contract                          Professional occupations   \n",
       "1        Academic contract  Associate professional and technical occupations   \n",
       "2    Non-academic contract          Managers, directors and senior officials   \n",
       "3    Non-academic contract                          Professional occupations   \n",
       "4    Non-academic contract  Associate professional and technical occupations   \n",
       "\n",
       "   Number Academic Year  \n",
       "0    4245       2014/15  \n",
       "1      60       2014/15  \n",
       "2      45       2014/15  \n",
       "3    1160       2014/15  \n",
       "4    3560       2014/15  "
      ]
     },
     "execution_count": 2,
     "metadata": {},
     "output_type": "execute_result"
    }
   ],
   "source": [
    "#read table 27 \n",
    "df = pd.read_csv('clean_table_27.csv')\n",
    "df.head()"
   ]
  },
  {
   "cell_type": "code",
   "execution_count": 3,
   "id": "b5ea47d0-4296-497a-a73c-d522d0ba66f7",
   "metadata": {
    "pycharm": {
     "name": "#%%\n"
    }
   },
   "outputs": [],
   "source": [
    "#copy the dataframe into another vairable\n",
    "df_copy =df.copy()"
   ]
  },
  {
   "cell_type": "code",
   "execution_count": 4,
   "id": "a60cdecb-ad9a-4ad0-89ce-f5fe2a2ffe73",
   "metadata": {
    "pycharm": {
     "name": "#%%\n"
    }
   },
   "outputs": [
    {
     "data": {
      "text/html": [
       "<div>\n",
       "<style scoped>\n",
       "    .dataframe tbody tr th:only-of-type {\n",
       "        vertical-align: middle;\n",
       "    }\n",
       "\n",
       "    .dataframe tbody tr th {\n",
       "        vertical-align: top;\n",
       "    }\n",
       "\n",
       "    .dataframe thead th {\n",
       "        text-align: right;\n",
       "    }\n",
       "</style>\n",
       "<table border=\"1\" class=\"dataframe\">\n",
       "  <thead>\n",
       "    <tr style=\"text-align: right;\">\n",
       "      <th></th>\n",
       "      <th>Category_Marker</th>\n",
       "      <th>Category</th>\n",
       "      <th>Country</th>\n",
       "      <th>Academic_contract_marker</th>\n",
       "      <th>Occupational_Classification</th>\n",
       "      <th>Number</th>\n",
       "      <th>Academic Year</th>\n",
       "    </tr>\n",
       "  </thead>\n",
       "  <tbody>\n",
       "    <tr>\n",
       "      <th>0</th>\n",
       "      <td>Age Group</td>\n",
       "      <td>25 and under</td>\n",
       "      <td>England</td>\n",
       "      <td>Academic contract</td>\n",
       "      <td>Professional occupations</td>\n",
       "      <td>4245</td>\n",
       "      <td>2014/15</td>\n",
       "    </tr>\n",
       "    <tr>\n",
       "      <th>1</th>\n",
       "      <td>Age Group</td>\n",
       "      <td>25 and under</td>\n",
       "      <td>England</td>\n",
       "      <td>Academic contract</td>\n",
       "      <td>Associate professional and technical occupations</td>\n",
       "      <td>60</td>\n",
       "      <td>2014/15</td>\n",
       "    </tr>\n",
       "    <tr>\n",
       "      <th>2</th>\n",
       "      <td>Age Group</td>\n",
       "      <td>25 and under</td>\n",
       "      <td>England</td>\n",
       "      <td>Non-academic contract</td>\n",
       "      <td>Managers, directors and senior officials</td>\n",
       "      <td>45</td>\n",
       "      <td>2014/15</td>\n",
       "    </tr>\n",
       "    <tr>\n",
       "      <th>3</th>\n",
       "      <td>Age Group</td>\n",
       "      <td>25 and under</td>\n",
       "      <td>England</td>\n",
       "      <td>Non-academic contract</td>\n",
       "      <td>Professional occupations</td>\n",
       "      <td>1160</td>\n",
       "      <td>2014/15</td>\n",
       "    </tr>\n",
       "    <tr>\n",
       "      <th>4</th>\n",
       "      <td>Age Group</td>\n",
       "      <td>25 and under</td>\n",
       "      <td>England</td>\n",
       "      <td>Non-academic contract</td>\n",
       "      <td>Associate professional and technical occupations</td>\n",
       "      <td>3560</td>\n",
       "      <td>2014/15</td>\n",
       "    </tr>\n",
       "  </tbody>\n",
       "</table>\n",
       "</div>"
      ],
      "text/plain": [
       "  Category_Marker      Category  Country Academic_contract_marker  \\\n",
       "0       Age Group  25 and under  England        Academic contract   \n",
       "1       Age Group  25 and under  England        Academic contract   \n",
       "2       Age Group  25 and under  England    Non-academic contract   \n",
       "3       Age Group  25 and under  England    Non-academic contract   \n",
       "4       Age Group  25 and under  England    Non-academic contract   \n",
       "\n",
       "                        Occupational_Classification  Number Academic Year  \n",
       "0                          Professional occupations    4245       2014/15  \n",
       "1  Associate professional and technical occupations      60       2014/15  \n",
       "2          Managers, directors and senior officials      45       2014/15  \n",
       "3                          Professional occupations    1160       2014/15  \n",
       "4  Associate professional and technical occupations    3560       2014/15  "
      ]
     },
     "execution_count": 4,
     "metadata": {},
     "output_type": "execute_result"
    }
   ],
   "source": [
    "#rename the columns\n",
    "df_copy.rename(columns = {'Category Marker':'Category_Marker', 'Country of HE Provider':'Country', 'Academic contract marker':'Academic_contract_marker','Activity standard occupational classification':'Occupational_Classification'}, inplace = True)\n",
    "df_copy.head()"
   ]
  },
  {
   "cell_type": "code",
   "execution_count": 5,
   "id": "21a3b5f6-1e22-4be3-8d23-afd31a86c2b7",
   "metadata": {
    "pycharm": {
     "name": "#%%\n"
    }
   },
   "outputs": [
    {
     "data": {
      "text/plain": [
       "array(['Age Group', 'Disability status', 'Ethnicity', 'Nationality',\n",
       "       'Sex'], dtype=object)"
      ]
     },
     "execution_count": 5,
     "metadata": {},
     "output_type": "execute_result"
    }
   ],
   "source": [
    "#check for the unique values in the category_maker column\n",
    "df_copy.Category_Marker.unique()"
   ]
  },
  {
   "cell_type": "code",
   "execution_count": 6,
   "id": "0a275a48-9c18-4d74-bc17-49a3b5c8606e",
   "metadata": {
    "pycharm": {
     "name": "#%%\n"
    }
   },
   "outputs": [
    {
     "data": {
      "text/plain": [
       "array(['25 and under', '26-35', '36-45', '46-55', '56-65', '66 and over',\n",
       "       'Known to have a disability', 'No known disability', 'White',\n",
       "       'Black', 'Asian', 'Mixed', 'Other', 'Not known', 'UK',\n",
       "       'European Union', 'Non-European Union', 'Female', 'Male'],\n",
       "      dtype=object)"
      ]
     },
     "execution_count": 6,
     "metadata": {},
     "output_type": "execute_result"
    }
   ],
   "source": [
    "df_copy.Category.unique()"
   ]
  },
  {
   "cell_type": "code",
   "execution_count": 7,
   "id": "d445bd7b-ab2e-4359-a3e5-feafda72a47a",
   "metadata": {
    "pycharm": {
     "name": "#%%\n"
    }
   },
   "outputs": [
    {
     "data": {
      "text/html": [
       "<div>\n",
       "<style scoped>\n",
       "    .dataframe tbody tr th:only-of-type {\n",
       "        vertical-align: middle;\n",
       "    }\n",
       "\n",
       "    .dataframe tbody tr th {\n",
       "        vertical-align: top;\n",
       "    }\n",
       "\n",
       "    .dataframe thead th {\n",
       "        text-align: right;\n",
       "    }\n",
       "</style>\n",
       "<table border=\"1\" class=\"dataframe\">\n",
       "  <thead>\n",
       "    <tr style=\"text-align: right;\">\n",
       "      <th></th>\n",
       "      <th>Category_Marker</th>\n",
       "      <th>Category</th>\n",
       "      <th>Country</th>\n",
       "      <th>Academic_contract_marker</th>\n",
       "      <th>Occupational_Classification</th>\n",
       "      <th>Number</th>\n",
       "      <th>Academic Year</th>\n",
       "    </tr>\n",
       "  </thead>\n",
       "  <tbody>\n",
       "    <tr>\n",
       "      <th>0</th>\n",
       "      <td>Age Group</td>\n",
       "      <td>25 and under</td>\n",
       "      <td>England</td>\n",
       "      <td>Academic contract</td>\n",
       "      <td>Professional occupations</td>\n",
       "      <td>4245</td>\n",
       "      <td>2014/15</td>\n",
       "    </tr>\n",
       "    <tr>\n",
       "      <th>1</th>\n",
       "      <td>Age Group</td>\n",
       "      <td>25 and under</td>\n",
       "      <td>England</td>\n",
       "      <td>Academic contract</td>\n",
       "      <td>Associate professional and technical occupations</td>\n",
       "      <td>60</td>\n",
       "      <td>2014/15</td>\n",
       "    </tr>\n",
       "    <tr>\n",
       "      <th>2</th>\n",
       "      <td>Age Group</td>\n",
       "      <td>25 and under</td>\n",
       "      <td>England</td>\n",
       "      <td>Non-academic contract</td>\n",
       "      <td>Managers, directors and senior officials</td>\n",
       "      <td>45</td>\n",
       "      <td>2014/15</td>\n",
       "    </tr>\n",
       "    <tr>\n",
       "      <th>3</th>\n",
       "      <td>Age Group</td>\n",
       "      <td>25 and under</td>\n",
       "      <td>England</td>\n",
       "      <td>Non-academic contract</td>\n",
       "      <td>Professional occupations</td>\n",
       "      <td>1160</td>\n",
       "      <td>2014/15</td>\n",
       "    </tr>\n",
       "    <tr>\n",
       "      <th>4</th>\n",
       "      <td>Age Group</td>\n",
       "      <td>25 and under</td>\n",
       "      <td>England</td>\n",
       "      <td>Non-academic contract</td>\n",
       "      <td>Associate professional and technical occupations</td>\n",
       "      <td>3560</td>\n",
       "      <td>2014/15</td>\n",
       "    </tr>\n",
       "  </tbody>\n",
       "</table>\n",
       "</div>"
      ],
      "text/plain": [
       "  Category_Marker      Category  Country Academic_contract_marker  \\\n",
       "0       Age Group  25 and under  England        Academic contract   \n",
       "1       Age Group  25 and under  England        Academic contract   \n",
       "2       Age Group  25 and under  England    Non-academic contract   \n",
       "3       Age Group  25 and under  England    Non-academic contract   \n",
       "4       Age Group  25 and under  England    Non-academic contract   \n",
       "\n",
       "                        Occupational_Classification  Number Academic Year  \n",
       "0                          Professional occupations    4245       2014/15  \n",
       "1  Associate professional and technical occupations      60       2014/15  \n",
       "2          Managers, directors and senior officials      45       2014/15  \n",
       "3                          Professional occupations    1160       2014/15  \n",
       "4  Associate professional and technical occupations    3560       2014/15  "
      ]
     },
     "execution_count": 7,
     "metadata": {},
     "output_type": "execute_result"
    }
   ],
   "source": [
    "#extract data for Age group\n",
    "df_Age =df_copy.query(\"Category_Marker == 'Age Group'\")\n",
    "df_Age.head()"
   ]
  },
  {
   "cell_type": "code",
   "execution_count": 12,
   "id": "4c5ee46f-ea45-4255-8480-abb5b45160fb",
   "metadata": {
    "pycharm": {
     "name": "#%%\n"
    }
   },
   "outputs": [
    {
     "data": {
      "text/plain": [
       "(1809, 7)"
      ]
     },
     "execution_count": 12,
     "metadata": {},
     "output_type": "execute_result"
    }
   ],
   "source": [
    "df_Age.shape"
   ]
  },
  {
   "cell_type": "code",
   "execution_count": 17,
   "id": "37905fb6-4f27-48d7-a83f-7ea66f68f784",
   "metadata": {
    "pycharm": {
     "name": "#%%\n"
    }
   },
   "outputs": [
    {
     "data": {
      "text/html": [
       "<div>\n",
       "<style scoped>\n",
       "    .dataframe tbody tr th:only-of-type {\n",
       "        vertical-align: middle;\n",
       "    }\n",
       "\n",
       "    .dataframe tbody tr th {\n",
       "        vertical-align: top;\n",
       "    }\n",
       "\n",
       "    .dataframe thead th {\n",
       "        text-align: right;\n",
       "    }\n",
       "</style>\n",
       "<table border=\"1\" class=\"dataframe\">\n",
       "  <thead>\n",
       "    <tr style=\"text-align: right;\">\n",
       "      <th></th>\n",
       "      <th>Occupational_Classification</th>\n",
       "      <th>Category_Marker</th>\n",
       "      <th>Number</th>\n",
       "    </tr>\n",
       "  </thead>\n",
       "  <tbody>\n",
       "    <tr>\n",
       "      <th>0</th>\n",
       "      <td>Professional occupations</td>\n",
       "      <td>Age Group</td>\n",
       "      <td>1772430</td>\n",
       "    </tr>\n",
       "    <tr>\n",
       "      <th>1</th>\n",
       "      <td>Administrative and secretarial occupations</td>\n",
       "      <td>Age Group</td>\n",
       "      <td>470185</td>\n",
       "    </tr>\n",
       "    <tr>\n",
       "      <th>2</th>\n",
       "      <td>Associate professional and technical occupations</td>\n",
       "      <td>Age Group</td>\n",
       "      <td>336850</td>\n",
       "    </tr>\n",
       "    <tr>\n",
       "      <th>3</th>\n",
       "      <td>Elementary occupations</td>\n",
       "      <td>Age Group</td>\n",
       "      <td>163140</td>\n",
       "    </tr>\n",
       "    <tr>\n",
       "      <th>4</th>\n",
       "      <td>Managers, directors and senior officials</td>\n",
       "      <td>Age Group</td>\n",
       "      <td>78595</td>\n",
       "    </tr>\n",
       "    <tr>\n",
       "      <th>5</th>\n",
       "      <td>Caring, leisure and other service occupations</td>\n",
       "      <td>Age Group</td>\n",
       "      <td>48260</td>\n",
       "    </tr>\n",
       "    <tr>\n",
       "      <th>6</th>\n",
       "      <td>Skilled trades occupations</td>\n",
       "      <td>Age Group</td>\n",
       "      <td>43945</td>\n",
       "    </tr>\n",
       "    <tr>\n",
       "      <th>7</th>\n",
       "      <td>Sales and customer service occupations</td>\n",
       "      <td>Age Group</td>\n",
       "      <td>15410</td>\n",
       "    </tr>\n",
       "    <tr>\n",
       "      <th>8</th>\n",
       "      <td>Process, plant and machine operatives</td>\n",
       "      <td>Age Group</td>\n",
       "      <td>10340</td>\n",
       "    </tr>\n",
       "    <tr>\n",
       "      <th>9</th>\n",
       "      <td>Clerical and manual occupations</td>\n",
       "      <td>Age Group</td>\n",
       "      <td>15</td>\n",
       "    </tr>\n",
       "  </tbody>\n",
       "</table>\n",
       "</div>"
      ],
      "text/plain": [
       "                        Occupational_Classification Category_Marker   Number\n",
       "0                          Professional occupations       Age Group  1772430\n",
       "1        Administrative and secretarial occupations       Age Group   470185\n",
       "2  Associate professional and technical occupations       Age Group   336850\n",
       "3                            Elementary occupations       Age Group   163140\n",
       "4          Managers, directors and senior officials       Age Group    78595\n",
       "5     Caring, leisure and other service occupations       Age Group    48260\n",
       "6                        Skilled trades occupations       Age Group    43945\n",
       "7            Sales and customer service occupations       Age Group    15410\n",
       "8             Process, plant and machine operatives       Age Group    10340\n",
       "9                   Clerical and manual occupations       Age Group       15"
      ]
     },
     "execution_count": 17,
     "metadata": {},
     "output_type": "execute_result"
    }
   ],
   "source": [
    "#group the age group\n",
    "Uni_occupation_age =df_Age.groupby(['Occupational_Classification','Category_Marker'])['Number'].sum().sort_values(ascending=False).reset_index()\n",
    "Uni_occupation_age"
   ]
  },
  {
   "cell_type": "code",
   "execution_count": 18,
   "id": "f3de5765-81fb-425c-ab98-ee6e8ffe4668",
   "metadata": {
    "pycharm": {
     "name": "#%%\n"
    }
   },
   "outputs": [
    {
     "data": {
      "text/plain": [
       "<AxesSubplot:xlabel='Occupational_Classification'>"
      ]
     },
     "execution_count": 18,
     "metadata": {},
     "output_type": "execute_result"
    },
    {
     "data": {
      "image/png": "[encoded data removed]",
      "text/plain": [
       "<Figure size 432x288 with 1 Axes>"
      ]
     },
     "metadata": {
      "needs_background": "light"
     },
     "output_type": "display_data"
    }
   ],
   "source": [
    "Uni_occupation_age.plot(kind=\"bar\",x=\"Occupational_Classification\")"
   ]
  },
  {
   "cell_type": "code",
   "execution_count": 20,
   "id": "2f01baa9-630c-4448-9b6c-cfca5576d445",
   "metadata": {
    "pycharm": {
     "name": "#%%\n"
    }
   },
   "outputs": [
    {
     "data": {
      "text/html": [
       "<div>\n",
       "<style scoped>\n",
       "    .dataframe tbody tr th:only-of-type {\n",
       "        vertical-align: middle;\n",
       "    }\n",
       "\n",
       "    .dataframe tbody tr th {\n",
       "        vertical-align: top;\n",
       "    }\n",
       "\n",
       "    .dataframe thead th {\n",
       "        text-align: right;\n",
       "    }\n",
       "</style>\n",
       "<table border=\"1\" class=\"dataframe\">\n",
       "  <thead>\n",
       "    <tr style=\"text-align: right;\">\n",
       "      <th>Category</th>\n",
       "      <th>Occupational_Classification</th>\n",
       "      <th>25 and under</th>\n",
       "      <th>26-35</th>\n",
       "      <th>36-45</th>\n",
       "      <th>46-55</th>\n",
       "      <th>56-65</th>\n",
       "      <th>66 and over</th>\n",
       "    </tr>\n",
       "  </thead>\n",
       "  <tbody>\n",
       "    <tr>\n",
       "      <th>0</th>\n",
       "      <td>Administrative and secretarial occupations</td>\n",
       "      <td>50420</td>\n",
       "      <td>131125</td>\n",
       "      <td>113170</td>\n",
       "      <td>106760</td>\n",
       "      <td>63345</td>\n",
       "      <td>5365</td>\n",
       "    </tr>\n",
       "    <tr>\n",
       "      <th>1</th>\n",
       "      <td>Associate professional and technical occupations</td>\n",
       "      <td>29185</td>\n",
       "      <td>97310</td>\n",
       "      <td>91520</td>\n",
       "      <td>74935</td>\n",
       "      <td>40945</td>\n",
       "      <td>2955</td>\n",
       "    </tr>\n",
       "    <tr>\n",
       "      <th>2</th>\n",
       "      <td>Caring, leisure and other service occupations</td>\n",
       "      <td>8270</td>\n",
       "      <td>11275</td>\n",
       "      <td>8220</td>\n",
       "      <td>10685</td>\n",
       "      <td>8745</td>\n",
       "      <td>1065</td>\n",
       "    </tr>\n",
       "    <tr>\n",
       "      <th>3</th>\n",
       "      <td>Clerical and manual occupations</td>\n",
       "      <td>0</td>\n",
       "      <td>10</td>\n",
       "      <td>0</td>\n",
       "      <td>5</td>\n",
       "      <td>0</td>\n",
       "      <td>0</td>\n",
       "    </tr>\n",
       "    <tr>\n",
       "      <th>4</th>\n",
       "      <td>Elementary occupations</td>\n",
       "      <td>20775</td>\n",
       "      <td>21630</td>\n",
       "      <td>26330</td>\n",
       "      <td>45935</td>\n",
       "      <td>42105</td>\n",
       "      <td>6365</td>\n",
       "    </tr>\n",
       "    <tr>\n",
       "      <th>5</th>\n",
       "      <td>Managers, directors and senior officials</td>\n",
       "      <td>345</td>\n",
       "      <td>9090</td>\n",
       "      <td>24270</td>\n",
       "      <td>29825</td>\n",
       "      <td>14310</td>\n",
       "      <td>755</td>\n",
       "    </tr>\n",
       "    <tr>\n",
       "      <th>6</th>\n",
       "      <td>Process, plant and machine operatives</td>\n",
       "      <td>580</td>\n",
       "      <td>1455</td>\n",
       "      <td>1905</td>\n",
       "      <td>3140</td>\n",
       "      <td>2870</td>\n",
       "      <td>390</td>\n",
       "    </tr>\n",
       "    <tr>\n",
       "      <th>7</th>\n",
       "      <td>Professional occupations</td>\n",
       "      <td>52265</td>\n",
       "      <td>455435</td>\n",
       "      <td>504240</td>\n",
       "      <td>444885</td>\n",
       "      <td>262080</td>\n",
       "      <td>53525</td>\n",
       "    </tr>\n",
       "    <tr>\n",
       "      <th>8</th>\n",
       "      <td>Sales and customer service occupations</td>\n",
       "      <td>2990</td>\n",
       "      <td>4210</td>\n",
       "      <td>2875</td>\n",
       "      <td>3010</td>\n",
       "      <td>2135</td>\n",
       "      <td>190</td>\n",
       "    </tr>\n",
       "    <tr>\n",
       "      <th>9</th>\n",
       "      <td>Skilled trades occupations</td>\n",
       "      <td>3405</td>\n",
       "      <td>7625</td>\n",
       "      <td>9575</td>\n",
       "      <td>12810</td>\n",
       "      <td>9895</td>\n",
       "      <td>635</td>\n",
       "    </tr>\n",
       "  </tbody>\n",
       "</table>\n",
       "</div>"
      ],
      "text/plain": [
       "Category                       Occupational_Classification  25 and under  \\\n",
       "0               Administrative and secretarial occupations         50420   \n",
       "1         Associate professional and technical occupations         29185   \n",
       "2            Caring, leisure and other service occupations          8270   \n",
       "3                          Clerical and manual occupations             0   \n",
       "4                                   Elementary occupations         20775   \n",
       "5                 Managers, directors and senior officials           345   \n",
       "6                    Process, plant and machine operatives           580   \n",
       "7                                 Professional occupations         52265   \n",
       "8                   Sales and customer service occupations          2990   \n",
       "9                               Skilled trades occupations          3405   \n",
       "\n",
       "Category   26-35   36-45   46-55   56-65  66 and over  \n",
       "0         131125  113170  106760   63345         5365  \n",
       "1          97310   91520   74935   40945         2955  \n",
       "2          11275    8220   10685    8745         1065  \n",
       "3             10       0       5       0            0  \n",
       "4          21630   26330   45935   42105         6365  \n",
       "5           9090   24270   29825   14310          755  \n",
       "6           1455    1905    3140    2870          390  \n",
       "7         455435  504240  444885  262080        53525  \n",
       "8           4210    2875    3010    2135          190  \n",
       "9           7625    9575   12810    9895          635  "
      ]
     },
     "execution_count": 20,
     "metadata": {},
     "output_type": "execute_result"
    }
   ],
   "source": [
    "Uni_occupation_age_category =df_Age.groupby(['Occupational_Classification','Category'])['Number'].sum().unstack(fill_value=0).reset_index()\n",
    "Uni_occupation_age_category"
   ]
  },
  {
   "cell_type": "code",
   "execution_count": 23,
   "id": "4548d212-7b47-4572-b73b-3edad0d12b37",
   "metadata": {
    "pycharm": {
     "name": "#%%\n"
    }
   },
   "outputs": [
    {
     "data": {
      "image/png": "[encoded data removed]",
      "text/plain": [
       "<Figure size 1440x432 with 1 Axes>"
      ]
     },
     "metadata": {
      "needs_background": "light"
     },
     "output_type": "display_data"
    }
   ],
   "source": [
    "Uni_occupation_age_category.plot(kind='bar',x=\"Occupational_Classification\", figsize = (20,6),fontsize=13, width =1)\n",
    "plt.xlabel('Occupational Classification')\n",
    "plt.ylabel('Number')\n",
    "plt.title(\"Number of Occupational Classification based on Age group that was employed from 2014 - 2021\")\n",
    "plt.show()"
   ]
  },
  {
   "cell_type": "code",
   "execution_count": 24,
   "id": "78f085e9-7e81-44e5-b589-4b6bf07e0bac",
   "metadata": {
    "pycharm": {
     "name": "#%%\n"
    }
   },
   "outputs": [
    {
     "data": {
      "text/plain": [
       "array(['Academic contract', 'Non-academic contract'], dtype=object)"
      ]
     },
     "execution_count": 24,
     "metadata": {},
     "output_type": "execute_result"
    }
   ],
   "source": [
    "#based on Academic contractmarker\n",
    "#find the unique values of this column\n",
    "df_copy.Academic_contract_marker.unique()"
   ]
  },
  {
   "cell_type": "code",
   "execution_count": 25,
   "id": "d113c3e6-02ea-4090-9cb7-915b0f7cef13",
   "metadata": {
    "pycharm": {
     "name": "#%%\n"
    }
   },
   "outputs": [
    {
     "data": {
      "text/html": [
       "<div>\n",
       "<style scoped>\n",
       "    .dataframe tbody tr th:only-of-type {\n",
       "        vertical-align: middle;\n",
       "    }\n",
       "\n",
       "    .dataframe tbody tr th {\n",
       "        vertical-align: top;\n",
       "    }\n",
       "\n",
       "    .dataframe thead th {\n",
       "        text-align: right;\n",
       "    }\n",
       "</style>\n",
       "<table border=\"1\" class=\"dataframe\">\n",
       "  <thead>\n",
       "    <tr style=\"text-align: right;\">\n",
       "      <th>Category</th>\n",
       "      <th>Academic_contract_marker</th>\n",
       "      <th>25 and under</th>\n",
       "      <th>26-35</th>\n",
       "      <th>36-45</th>\n",
       "      <th>46-55</th>\n",
       "      <th>56-65</th>\n",
       "      <th>66 and over</th>\n",
       "    </tr>\n",
       "  </thead>\n",
       "  <tbody>\n",
       "    <tr>\n",
       "      <th>0</th>\n",
       "      <td>Academic contract</td>\n",
       "      <td>42015</td>\n",
       "      <td>386850</td>\n",
       "      <td>408215</td>\n",
       "      <td>367595</td>\n",
       "      <td>227935</td>\n",
       "      <td>51465</td>\n",
       "    </tr>\n",
       "    <tr>\n",
       "      <th>1</th>\n",
       "      <td>Non-academic contract</td>\n",
       "      <td>126220</td>\n",
       "      <td>352315</td>\n",
       "      <td>373890</td>\n",
       "      <td>364395</td>\n",
       "      <td>218495</td>\n",
       "      <td>19780</td>\n",
       "    </tr>\n",
       "  </tbody>\n",
       "</table>\n",
       "</div>"
      ],
      "text/plain": [
       "Category Academic_contract_marker  25 and under   26-35   36-45   46-55  \\\n",
       "0               Academic contract         42015  386850  408215  367595   \n",
       "1           Non-academic contract        126220  352315  373890  364395   \n",
       "\n",
       "Category   56-65  66 and over  \n",
       "0         227935        51465  \n",
       "1         218495        19780  "
      ]
     },
     "execution_count": 25,
     "metadata": {},
     "output_type": "execute_result"
    }
   ],
   "source": [
    "university_contract_type =df_Age.groupby(['Academic_contract_marker','Category'])[\"Number\"].sum().unstack(fill_value=0).reset_index()\n",
    "university_contract_type"
   ]
  },
  {
   "cell_type": "code",
   "execution_count": 28,
   "id": "0c900252-fe66-489c-a53f-a50081e4be69",
   "metadata": {
    "pycharm": {
     "name": "#%%\n"
    }
   },
   "outputs": [
    {
     "data": {
      "image/png": "[encoded data removed]",
      "text/plain": [
       "<Figure size 1440x432 with 1 Axes>"
      ]
     },
     "metadata": {
      "needs_background": "light"
     },
     "output_type": "display_data"
    }
   ],
   "source": [
    "university_contract_type.plot(kind='bar',x=\"Academic_contract_marker\", figsize = (20,6),fontsize=13)\n",
    "plt.xlabel('Contract Marker')\n",
    "plt.ylabel('Number')\n",
    "plt.title(\"Number of type of contract that were employed based on Age group from 2014-2021\")\n",
    "plt.show()"
   ]
  },
  {
   "cell_type": "code",
   "execution_count": 30,
   "id": "13c35ed9-2f3b-4e9a-a7c2-ccab2ba05476",
   "metadata": {
    "pycharm": {
     "name": "#%%\n"
    }
   },
   "outputs": [
    {
     "data": {
      "text/html": [
       "<div>\n",
       "<style scoped>\n",
       "    .dataframe tbody tr th:only-of-type {\n",
       "        vertical-align: middle;\n",
       "    }\n",
       "\n",
       "    .dataframe tbody tr th {\n",
       "        vertical-align: top;\n",
       "    }\n",
       "\n",
       "    .dataframe thead th {\n",
       "        text-align: right;\n",
       "    }\n",
       "</style>\n",
       "<table border=\"1\" class=\"dataframe\">\n",
       "  <thead>\n",
       "    <tr style=\"text-align: right;\">\n",
       "      <th></th>\n",
       "      <th>Category_Marker</th>\n",
       "      <th>Category</th>\n",
       "      <th>Country</th>\n",
       "      <th>Academic_contract_marker</th>\n",
       "      <th>Occupational_Classification</th>\n",
       "      <th>Number</th>\n",
       "      <th>Academic Year</th>\n",
       "    </tr>\n",
       "  </thead>\n",
       "  <tbody>\n",
       "    <tr>\n",
       "      <th>1809</th>\n",
       "      <td>Disability status</td>\n",
       "      <td>Known to have a disability</td>\n",
       "      <td>England</td>\n",
       "      <td>Academic contract</td>\n",
       "      <td>Managers, directors and senior officials</td>\n",
       "      <td>20</td>\n",
       "      <td>2014/15</td>\n",
       "    </tr>\n",
       "    <tr>\n",
       "      <th>1810</th>\n",
       "      <td>Disability status</td>\n",
       "      <td>Known to have a disability</td>\n",
       "      <td>England</td>\n",
       "      <td>Academic contract</td>\n",
       "      <td>Professional occupations</td>\n",
       "      <td>6515</td>\n",
       "      <td>2014/15</td>\n",
       "    </tr>\n",
       "    <tr>\n",
       "      <th>1811</th>\n",
       "      <td>Disability status</td>\n",
       "      <td>Known to have a disability</td>\n",
       "      <td>England</td>\n",
       "      <td>Academic contract</td>\n",
       "      <td>Associate professional and technical occupations</td>\n",
       "      <td>80</td>\n",
       "      <td>2014/15</td>\n",
       "    </tr>\n",
       "    <tr>\n",
       "      <th>1812</th>\n",
       "      <td>Disability status</td>\n",
       "      <td>Known to have a disability</td>\n",
       "      <td>England</td>\n",
       "      <td>Non-academic contract</td>\n",
       "      <td>Managers, directors and senior officials</td>\n",
       "      <td>375</td>\n",
       "      <td>2014/15</td>\n",
       "    </tr>\n",
       "    <tr>\n",
       "      <th>1813</th>\n",
       "      <td>Disability status</td>\n",
       "      <td>Known to have a disability</td>\n",
       "      <td>England</td>\n",
       "      <td>Non-academic contract</td>\n",
       "      <td>Professional occupations</td>\n",
       "      <td>1625</td>\n",
       "      <td>2014/15</td>\n",
       "    </tr>\n",
       "  </tbody>\n",
       "</table>\n",
       "</div>"
      ],
      "text/plain": [
       "        Category_Marker                    Category  Country  \\\n",
       "1809  Disability status  Known to have a disability  England   \n",
       "1810  Disability status  Known to have a disability  England   \n",
       "1811  Disability status  Known to have a disability  England   \n",
       "1812  Disability status  Known to have a disability  England   \n",
       "1813  Disability status  Known to have a disability  England   \n",
       "\n",
       "     Academic_contract_marker  \\\n",
       "1809        Academic contract   \n",
       "1810        Academic contract   \n",
       "1811        Academic contract   \n",
       "1812    Non-academic contract   \n",
       "1813    Non-academic contract   \n",
       "\n",
       "                           Occupational_Classification  Number Academic Year  \n",
       "1809          Managers, directors and senior officials      20       2014/15  \n",
       "1810                          Professional occupations    6515       2014/15  \n",
       "1811  Associate professional and technical occupations      80       2014/15  \n",
       "1812          Managers, directors and senior officials     375       2014/15  \n",
       "1813                          Professional occupations    1625       2014/15  "
      ]
     },
     "execution_count": 30,
     "metadata": {},
     "output_type": "execute_result"
    }
   ],
   "source": [
    "#select based on disability status\n",
    "df_disability =df_copy.query(\"Category_Marker =='Disability status'\")\n",
    "df_disability.head()"
   ]
  },
  {
   "cell_type": "code",
   "execution_count": 31,
   "id": "e1f272d5-90a7-467b-aa81-20fcbe83fe9e",
   "metadata": {
    "pycharm": {
     "name": "#%%\n"
    }
   },
   "outputs": [
    {
     "data": {
      "text/plain": [
       "(644, 7)"
      ]
     },
     "execution_count": 31,
     "metadata": {},
     "output_type": "execute_result"
    }
   ],
   "source": [
    "df_disability.shape"
   ]
  },
  {
   "cell_type": "code",
   "execution_count": 38,
   "id": "7475f525-ca83-4fbe-9863-8791d26299cc",
   "metadata": {
    "pycharm": {
     "name": "#%%\n"
    }
   },
   "outputs": [
    {
     "data": {
      "text/html": [
       "<div>\n",
       "<style scoped>\n",
       "    .dataframe tbody tr th:only-of-type {\n",
       "        vertical-align: middle;\n",
       "    }\n",
       "\n",
       "    .dataframe tbody tr th {\n",
       "        vertical-align: top;\n",
       "    }\n",
       "\n",
       "    .dataframe thead th {\n",
       "        text-align: right;\n",
       "    }\n",
       "</style>\n",
       "<table border=\"1\" class=\"dataframe\">\n",
       "  <thead>\n",
       "    <tr style=\"text-align: right;\">\n",
       "      <th></th>\n",
       "      <th>Occupational_Classification</th>\n",
       "      <th>Category_Marker</th>\n",
       "      <th>Number</th>\n",
       "    </tr>\n",
       "  </thead>\n",
       "  <tbody>\n",
       "    <tr>\n",
       "      <th>0</th>\n",
       "      <td>Professional occupations</td>\n",
       "      <td>Disability status</td>\n",
       "      <td>1772405</td>\n",
       "    </tr>\n",
       "    <tr>\n",
       "      <th>1</th>\n",
       "      <td>Administrative and secretarial occupations</td>\n",
       "      <td>Disability status</td>\n",
       "      <td>470170</td>\n",
       "    </tr>\n",
       "    <tr>\n",
       "      <th>2</th>\n",
       "      <td>Associate professional and technical occupations</td>\n",
       "      <td>Disability status</td>\n",
       "      <td>336840</td>\n",
       "    </tr>\n",
       "    <tr>\n",
       "      <th>3</th>\n",
       "      <td>Elementary occupations</td>\n",
       "      <td>Disability status</td>\n",
       "      <td>163170</td>\n",
       "    </tr>\n",
       "    <tr>\n",
       "      <th>4</th>\n",
       "      <td>Managers, directors and senior officials</td>\n",
       "      <td>Disability status</td>\n",
       "      <td>78620</td>\n",
       "    </tr>\n",
       "    <tr>\n",
       "      <th>5</th>\n",
       "      <td>Caring, leisure and other service occupations</td>\n",
       "      <td>Disability status</td>\n",
       "      <td>48270</td>\n",
       "    </tr>\n",
       "    <tr>\n",
       "      <th>6</th>\n",
       "      <td>Skilled trades occupations</td>\n",
       "      <td>Disability status</td>\n",
       "      <td>43965</td>\n",
       "    </tr>\n",
       "    <tr>\n",
       "      <th>7</th>\n",
       "      <td>Sales and customer service occupations</td>\n",
       "      <td>Disability status</td>\n",
       "      <td>15430</td>\n",
       "    </tr>\n",
       "    <tr>\n",
       "      <th>8</th>\n",
       "      <td>Process, plant and machine operatives</td>\n",
       "      <td>Disability status</td>\n",
       "      <td>10400</td>\n",
       "    </tr>\n",
       "    <tr>\n",
       "      <th>9</th>\n",
       "      <td>Clerical and manual occupations</td>\n",
       "      <td>Disability status</td>\n",
       "      <td>50</td>\n",
       "    </tr>\n",
       "  </tbody>\n",
       "</table>\n",
       "</div>"
      ],
      "text/plain": [
       "                        Occupational_Classification    Category_Marker  \\\n",
       "0                          Professional occupations  Disability status   \n",
       "1        Administrative and secretarial occupations  Disability status   \n",
       "2  Associate professional and technical occupations  Disability status   \n",
       "3                            Elementary occupations  Disability status   \n",
       "4          Managers, directors and senior officials  Disability status   \n",
       "5     Caring, leisure and other service occupations  Disability status   \n",
       "6                        Skilled trades occupations  Disability status   \n",
       "7            Sales and customer service occupations  Disability status   \n",
       "8             Process, plant and machine operatives  Disability status   \n",
       "9                   Clerical and manual occupations  Disability status   \n",
       "\n",
       "    Number  \n",
       "0  1772405  \n",
       "1   470170  \n",
       "2   336840  \n",
       "3   163170  \n",
       "4    78620  \n",
       "5    48270  \n",
       "6    43965  \n",
       "7    15430  \n",
       "8    10400  \n",
       "9       50  "
      ]
     },
     "execution_count": 38,
     "metadata": {},
     "output_type": "execute_result"
    }
   ],
   "source": [
    "university_disability_highest =df_disability.groupby(['Occupational_Classification','Category_Marker'])['Number'].sum().sort_values(ascending=False).reset_index()\n",
    "university_disability_highest"
   ]
  },
  {
   "cell_type": "code",
   "execution_count": 39,
   "id": "307b6559-4775-46dd-a313-67caf475e8c3",
   "metadata": {
    "pycharm": {
     "name": "#%%\n"
    }
   },
   "outputs": [
    {
     "data": {
      "image/png": "[encoded data removed]",
      "text/plain": [
       "<Figure size 432x288 with 1 Axes>"
      ]
     },
     "metadata": {
      "needs_background": "light"
     },
     "output_type": "display_data"
    }
   ],
   "source": [
    "university_disability_highest.plot(kind='bar',x ='Occupational_Classification')\n",
    "plt.title('Top 10 disability occupational classification based on disability status')\n",
    "plt.xlabel('Occupational Classification')\n",
    "plt.ylabel('Number')\n",
    "plt.show()"
   ]
  },
  {
   "cell_type": "code",
   "execution_count": 45,
   "id": "d829caef-f2a9-4d48-8f30-0fe5a945461a",
   "metadata": {
    "pycharm": {
     "name": "#%%\n"
    }
   },
   "outputs": [
    {
     "data": {
      "text/html": [
       "<div>\n",
       "<style scoped>\n",
       "    .dataframe tbody tr th:only-of-type {\n",
       "        vertical-align: middle;\n",
       "    }\n",
       "\n",
       "    .dataframe tbody tr th {\n",
       "        vertical-align: top;\n",
       "    }\n",
       "\n",
       "    .dataframe thead th {\n",
       "        text-align: right;\n",
       "    }\n",
       "</style>\n",
       "<table border=\"1\" class=\"dataframe\">\n",
       "  <thead>\n",
       "    <tr style=\"text-align: right;\">\n",
       "      <th>Category</th>\n",
       "      <th>Occupational_Classification</th>\n",
       "      <th>Known to have a disability</th>\n",
       "      <th>No known disability</th>\n",
       "    </tr>\n",
       "  </thead>\n",
       "  <tbody>\n",
       "    <tr>\n",
       "      <th>0</th>\n",
       "      <td>Administrative and secretarial occupations</td>\n",
       "      <td>30085</td>\n",
       "      <td>440085</td>\n",
       "    </tr>\n",
       "    <tr>\n",
       "      <th>1</th>\n",
       "      <td>Associate professional and technical occupations</td>\n",
       "      <td>20625</td>\n",
       "      <td>316215</td>\n",
       "    </tr>\n",
       "    <tr>\n",
       "      <th>2</th>\n",
       "      <td>Caring, leisure and other service occupations</td>\n",
       "      <td>2590</td>\n",
       "      <td>45680</td>\n",
       "    </tr>\n",
       "    <tr>\n",
       "      <th>3</th>\n",
       "      <td>Clerical and manual occupations</td>\n",
       "      <td>0</td>\n",
       "      <td>50</td>\n",
       "    </tr>\n",
       "    <tr>\n",
       "      <th>4</th>\n",
       "      <td>Elementary occupations</td>\n",
       "      <td>8980</td>\n",
       "      <td>154190</td>\n",
       "    </tr>\n",
       "    <tr>\n",
       "      <th>5</th>\n",
       "      <td>Managers, directors and senior officials</td>\n",
       "      <td>3500</td>\n",
       "      <td>75120</td>\n",
       "    </tr>\n",
       "    <tr>\n",
       "      <th>6</th>\n",
       "      <td>Process, plant and machine operatives</td>\n",
       "      <td>455</td>\n",
       "      <td>9945</td>\n",
       "    </tr>\n",
       "    <tr>\n",
       "      <th>7</th>\n",
       "      <td>Professional occupations</td>\n",
       "      <td>79625</td>\n",
       "      <td>1692780</td>\n",
       "    </tr>\n",
       "    <tr>\n",
       "      <th>8</th>\n",
       "      <td>Sales and customer service occupations</td>\n",
       "      <td>1135</td>\n",
       "      <td>14295</td>\n",
       "    </tr>\n",
       "    <tr>\n",
       "      <th>9</th>\n",
       "      <td>Skilled trades occupations</td>\n",
       "      <td>2140</td>\n",
       "      <td>41825</td>\n",
       "    </tr>\n",
       "  </tbody>\n",
       "</table>\n",
       "</div>"
      ],
      "text/plain": [
       "Category                       Occupational_Classification  \\\n",
       "0               Administrative and secretarial occupations   \n",
       "1         Associate professional and technical occupations   \n",
       "2            Caring, leisure and other service occupations   \n",
       "3                          Clerical and manual occupations   \n",
       "4                                   Elementary occupations   \n",
       "5                 Managers, directors and senior officials   \n",
       "6                    Process, plant and machine operatives   \n",
       "7                                 Professional occupations   \n",
       "8                   Sales and customer service occupations   \n",
       "9                               Skilled trades occupations   \n",
       "\n",
       "Category  Known to have a disability  No known disability  \n",
       "0                              30085               440085  \n",
       "1                              20625               316215  \n",
       "2                               2590                45680  \n",
       "3                                  0                   50  \n",
       "4                               8980               154190  \n",
       "5                               3500                75120  \n",
       "6                                455                 9945  \n",
       "7                              79625              1692780  \n",
       "8                               1135                14295  \n",
       "9                               2140                41825  "
      ]
     },
     "execution_count": 45,
     "metadata": {},
     "output_type": "execute_result"
    }
   ],
   "source": [
    "university_disability_category =df_disability.groupby(['Occupational_Classification','Category'])['Number'].sum().unstack(fill_value=0).reset_index()\n",
    "university_disability_category                                                  "
   ]
  },
  {
   "cell_type": "code",
   "execution_count": 57,
   "id": "1ee493da-3b36-4fec-b54f-873a80572754",
   "metadata": {
    "pycharm": {
     "name": "#%%\n"
    }
   },
   "outputs": [
    {
     "data": {
      "image/png": "[encoded data removed]",
      "text/plain": [
       "<Figure size 1440x432 with 1 Axes>"
      ]
     },
     "metadata": {
      "needs_background": "light"
     },
     "output_type": "display_data"
    }
   ],
   "source": [
    "university_disability_category.plot(kind='bar',x=\"Occupational_Classification\",figsize = (20,6),fontsize=13)\n",
    "\n",
    "plt.xlabel(\"Occupation Classification\")\n",
    "\n",
    "plt.ylabel(\"Number\")\n",
    "\n",
    "plt.show()\n",
    "                            "
   ]
  },
  {
   "cell_type": "code",
   "execution_count": 48,
   "id": "2d7d61c5-57af-44f2-b6de-ec76d546009a",
   "metadata": {
    "pycharm": {
     "name": "#%%\n"
    }
   },
   "outputs": [
    {
     "data": {
      "text/html": [
       "<div>\n",
       "<style scoped>\n",
       "    .dataframe tbody tr th:only-of-type {\n",
       "        vertical-align: middle;\n",
       "    }\n",
       "\n",
       "    .dataframe tbody tr th {\n",
       "        vertical-align: top;\n",
       "    }\n",
       "\n",
       "    .dataframe thead th {\n",
       "        text-align: right;\n",
       "    }\n",
       "</style>\n",
       "<table border=\"1\" class=\"dataframe\">\n",
       "  <thead>\n",
       "    <tr style=\"text-align: right;\">\n",
       "      <th>Category</th>\n",
       "      <th>Academic_contract_marker</th>\n",
       "      <th>Known to have a disability</th>\n",
       "      <th>No known disability</th>\n",
       "    </tr>\n",
       "  </thead>\n",
       "  <tbody>\n",
       "    <tr>\n",
       "      <th>0</th>\n",
       "      <td>Academic contract</td>\n",
       "      <td>63775</td>\n",
       "      <td>1420315</td>\n",
       "    </tr>\n",
       "    <tr>\n",
       "      <th>1</th>\n",
       "      <td>Non-academic contract</td>\n",
       "      <td>85360</td>\n",
       "      <td>1369870</td>\n",
       "    </tr>\n",
       "  </tbody>\n",
       "</table>\n",
       "</div>"
      ],
      "text/plain": [
       "Category Academic_contract_marker  Known to have a disability  \\\n",
       "0               Academic contract                       63775   \n",
       "1           Non-academic contract                       85360   \n",
       "\n",
       "Category  No known disability  \n",
       "0                     1420315  \n",
       "1                     1369870  "
      ]
     },
     "execution_count": 48,
     "metadata": {},
     "output_type": "execute_result"
    }
   ],
   "source": [
    "#disability based on academic contract\n",
    "university_disability_contract =df_disability.groupby(['Academic_contract_marker','Category'])['Number'].sum().unstack(fill_value=0).reset_index()\n",
    "university_disability_contract       "
   ]
  },
  {
   "cell_type": "code",
   "execution_count": 61,
   "id": "a8002af8-082a-407f-8b00-041d615002e6",
   "metadata": {
    "pycharm": {
     "name": "#%%\n"
    }
   },
   "outputs": [
    {
     "ename": "TypeError",
     "evalue": "'str' object is not callable",
     "output_type": "error",
     "traceback": [
      "\u001B[1;31m---------------------------------------------------------------------------\u001B[0m",
      "\u001B[1;31mTypeError\u001B[0m                                 Traceback (most recent call last)",
      "Input \u001B[1;32mIn [61]\u001B[0m, in \u001B[0;36m<cell line: 2>\u001B[1;34m()\u001B[0m\n\u001B[0;32m      1\u001B[0m university_disability_contract\u001B[38;5;241m.\u001B[39mplot(kind \u001B[38;5;241m=\u001B[39m\u001B[38;5;124m'\u001B[39m\u001B[38;5;124mbar\u001B[39m\u001B[38;5;124m'\u001B[39m,x \u001B[38;5;241m=\u001B[39m\u001B[38;5;124m'\u001B[39m\u001B[38;5;124mAcademic_contract_marker\u001B[39m\u001B[38;5;124m'\u001B[39m,figsize \u001B[38;5;241m=\u001B[39m (\u001B[38;5;241m20\u001B[39m,\u001B[38;5;241m6\u001B[39m))\n\u001B[1;32m----> 2\u001B[0m \u001B[43mplt\u001B[49m\u001B[38;5;241;43m.\u001B[39;49m\u001B[43mtitle\u001B[49m\u001B[43m(\u001B[49m\u001B[38;5;124;43m\"\u001B[39;49m\u001B[38;5;124;43mDisability status based on contract type\u001B[39;49m\u001B[38;5;124;43m\"\u001B[39;49m\u001B[43m)\u001B[49m\n\u001B[0;32m      3\u001B[0m plt\u001B[38;5;241m.\u001B[39mxlabel(\u001B[38;5;124m\"\u001B[39m\u001B[38;5;124mAcademic Contract Marker\u001B[39m\u001B[38;5;124m\"\u001B[39m)\n\u001B[0;32m      4\u001B[0m plt\u001B[38;5;241m.\u001B[39mylabel(\u001B[38;5;124m\"\u001B[39m\u001B[38;5;124mNumber\u001B[39m\u001B[38;5;124m\"\u001B[39m)\n",
      "\u001B[1;31mTypeError\u001B[0m: 'str' object is not callable"
     ]
    },
    {
     "data": {
      "image/png": "[encoded data removed]",
      "text/plain": [
       "<Figure size 1440x432 with 1 Axes>"
      ]
     },
     "metadata": {
      "needs_background": "light"
     },
     "output_type": "display_data"
    }
   ],
   "source": [
    "university_disability_contract.plot(kind ='bar',x ='Academic_contract_marker',figsize = (20,6))\n",
    "plt.title(\"Disability status based on contract type\")\n",
    "plt.xlabel(\"Academic Contract Marker\")\n",
    "plt.ylabel(\"Number\")\n",
    "plt.show()"
   ]
  },
  {
   "cell_type": "code",
   "execution_count": 62,
   "id": "049ee528-2270-4e72-9f67-717dbbf6b518",
   "metadata": {
    "pycharm": {
     "name": "#%%\n"
    }
   },
   "outputs": [
    {
     "data": {
      "text/html": [
       "<div>\n",
       "<style scoped>\n",
       "    .dataframe tbody tr th:only-of-type {\n",
       "        vertical-align: middle;\n",
       "    }\n",
       "\n",
       "    .dataframe tbody tr th {\n",
       "        vertical-align: top;\n",
       "    }\n",
       "\n",
       "    .dataframe thead th {\n",
       "        text-align: right;\n",
       "    }\n",
       "</style>\n",
       "<table border=\"1\" class=\"dataframe\">\n",
       "  <thead>\n",
       "    <tr style=\"text-align: right;\">\n",
       "      <th></th>\n",
       "      <th>Category_Marker</th>\n",
       "      <th>Category</th>\n",
       "      <th>Country</th>\n",
       "      <th>Academic_contract_marker</th>\n",
       "      <th>Occupational_Classification</th>\n",
       "      <th>Number</th>\n",
       "      <th>Academic Year</th>\n",
       "    </tr>\n",
       "  </thead>\n",
       "  <tbody>\n",
       "    <tr>\n",
       "      <th>2453</th>\n",
       "      <td>Ethnicity</td>\n",
       "      <td>White</td>\n",
       "      <td>England</td>\n",
       "      <td>Academic contract</td>\n",
       "      <td>Managers, directors and senior officials</td>\n",
       "      <td>265</td>\n",
       "      <td>2014/15</td>\n",
       "    </tr>\n",
       "    <tr>\n",
       "      <th>2454</th>\n",
       "      <td>Ethnicity</td>\n",
       "      <td>White</td>\n",
       "      <td>England</td>\n",
       "      <td>Academic contract</td>\n",
       "      <td>Professional occupations</td>\n",
       "      <td>128665</td>\n",
       "      <td>2014/15</td>\n",
       "    </tr>\n",
       "    <tr>\n",
       "      <th>2455</th>\n",
       "      <td>Ethnicity</td>\n",
       "      <td>White</td>\n",
       "      <td>England</td>\n",
       "      <td>Academic contract</td>\n",
       "      <td>Associate professional and technical occupations</td>\n",
       "      <td>835</td>\n",
       "      <td>2014/15</td>\n",
       "    </tr>\n",
       "    <tr>\n",
       "      <th>2456</th>\n",
       "      <td>Ethnicity</td>\n",
       "      <td>White</td>\n",
       "      <td>England</td>\n",
       "      <td>Academic contract</td>\n",
       "      <td>Clerical and manual occupations</td>\n",
       "      <td>5</td>\n",
       "      <td>2014/15</td>\n",
       "    </tr>\n",
       "    <tr>\n",
       "      <th>2457</th>\n",
       "      <td>Ethnicity</td>\n",
       "      <td>White</td>\n",
       "      <td>England</td>\n",
       "      <td>Non-academic contract</td>\n",
       "      <td>Managers, directors and senior officials</td>\n",
       "      <td>8275</td>\n",
       "      <td>2014/15</td>\n",
       "    </tr>\n",
       "  </tbody>\n",
       "</table>\n",
       "</div>"
      ],
      "text/plain": [
       "     Category_Marker Category  Country Academic_contract_marker  \\\n",
       "2453       Ethnicity    White  England        Academic contract   \n",
       "2454       Ethnicity    White  England        Academic contract   \n",
       "2455       Ethnicity    White  England        Academic contract   \n",
       "2456       Ethnicity    White  England        Academic contract   \n",
       "2457       Ethnicity    White  England    Non-academic contract   \n",
       "\n",
       "                           Occupational_Classification  Number Academic Year  \n",
       "2453          Managers, directors and senior officials     265       2014/15  \n",
       "2454                          Professional occupations  128665       2014/15  \n",
       "2455  Associate professional and technical occupations     835       2014/15  \n",
       "2456                   Clerical and manual occupations       5       2014/15  \n",
       "2457          Managers, directors and senior officials    8275       2014/15  "
      ]
     },
     "execution_count": 62,
     "metadata": {},
     "output_type": "execute_result"
    }
   ],
   "source": [
    "#extract for ethnicity\n",
    "df_ethnicity =df_copy.query(\"Category_Marker=='Ethnicity'\")\n",
    "df_ethnicity.head()"
   ]
  },
  {
   "cell_type": "code",
   "execution_count": 63,
   "id": "6e6fdb25-495b-4b1f-8820-8467354dc2dd",
   "metadata": {
    "pycharm": {
     "name": "#%%\n"
    }
   },
   "outputs": [
    {
     "data": {
      "text/plain": [
       "(1448, 7)"
      ]
     },
     "execution_count": 63,
     "metadata": {},
     "output_type": "execute_result"
    }
   ],
   "source": [
    "df_ethnicity.shape"
   ]
  },
  {
   "cell_type": "code",
   "execution_count": 64,
   "id": "2f069f4f-60e6-41c8-a888-acfd84206f51",
   "metadata": {
    "pycharm": {
     "name": "#%%\n"
    }
   },
   "outputs": [
    {
     "data": {
      "text/html": [
       "<div>\n",
       "<style scoped>\n",
       "    .dataframe tbody tr th:only-of-type {\n",
       "        vertical-align: middle;\n",
       "    }\n",
       "\n",
       "    .dataframe tbody tr th {\n",
       "        vertical-align: top;\n",
       "    }\n",
       "\n",
       "    .dataframe thead th {\n",
       "        text-align: right;\n",
       "    }\n",
       "</style>\n",
       "<table border=\"1\" class=\"dataframe\">\n",
       "  <thead>\n",
       "    <tr style=\"text-align: right;\">\n",
       "      <th>Category</th>\n",
       "      <th>Occupational_Classification</th>\n",
       "      <th>Asian</th>\n",
       "      <th>Black</th>\n",
       "      <th>Mixed</th>\n",
       "      <th>Not known</th>\n",
       "      <th>Other</th>\n",
       "      <th>White</th>\n",
       "    </tr>\n",
       "  </thead>\n",
       "  <tbody>\n",
       "    <tr>\n",
       "      <th>0</th>\n",
       "      <td>Administrative and secretarial occupations</td>\n",
       "      <td>26715</td>\n",
       "      <td>13075</td>\n",
       "      <td>8950</td>\n",
       "      <td>22720</td>\n",
       "      <td>3185</td>\n",
       "      <td>395530</td>\n",
       "    </tr>\n",
       "    <tr>\n",
       "      <th>1</th>\n",
       "      <td>Associate professional and technical occupations</td>\n",
       "      <td>20665</td>\n",
       "      <td>8075</td>\n",
       "      <td>6350</td>\n",
       "      <td>17035</td>\n",
       "      <td>2730</td>\n",
       "      <td>281930</td>\n",
       "    </tr>\n",
       "    <tr>\n",
       "      <th>2</th>\n",
       "      <td>Caring, leisure and other service occupations</td>\n",
       "      <td>1590</td>\n",
       "      <td>2080</td>\n",
       "      <td>895</td>\n",
       "      <td>2945</td>\n",
       "      <td>445</td>\n",
       "      <td>40305</td>\n",
       "    </tr>\n",
       "    <tr>\n",
       "      <th>3</th>\n",
       "      <td>Clerical and manual occupations</td>\n",
       "      <td>0</td>\n",
       "      <td>0</td>\n",
       "      <td>0</td>\n",
       "      <td>0</td>\n",
       "      <td>0</td>\n",
       "      <td>40</td>\n",
       "    </tr>\n",
       "    <tr>\n",
       "      <th>4</th>\n",
       "      <td>Elementary occupations</td>\n",
       "      <td>10325</td>\n",
       "      <td>10695</td>\n",
       "      <td>2795</td>\n",
       "      <td>12000</td>\n",
       "      <td>1925</td>\n",
       "      <td>125415</td>\n",
       "    </tr>\n",
       "    <tr>\n",
       "      <th>5</th>\n",
       "      <td>Managers, directors and senior officials</td>\n",
       "      <td>2635</td>\n",
       "      <td>1120</td>\n",
       "      <td>940</td>\n",
       "      <td>3285</td>\n",
       "      <td>340</td>\n",
       "      <td>70235</td>\n",
       "    </tr>\n",
       "    <tr>\n",
       "      <th>6</th>\n",
       "      <td>Process, plant and machine operatives</td>\n",
       "      <td>255</td>\n",
       "      <td>245</td>\n",
       "      <td>65</td>\n",
       "      <td>1180</td>\n",
       "      <td>50</td>\n",
       "      <td>8590</td>\n",
       "    </tr>\n",
       "    <tr>\n",
       "      <th>7</th>\n",
       "      <td>Professional occupations</td>\n",
       "      <td>151850</td>\n",
       "      <td>33120</td>\n",
       "      <td>34215</td>\n",
       "      <td>138115</td>\n",
       "      <td>32160</td>\n",
       "      <td>1382920</td>\n",
       "    </tr>\n",
       "    <tr>\n",
       "      <th>8</th>\n",
       "      <td>Sales and customer service occupations</td>\n",
       "      <td>1215</td>\n",
       "      <td>785</td>\n",
       "      <td>370</td>\n",
       "      <td>830</td>\n",
       "      <td>130</td>\n",
       "      <td>12075</td>\n",
       "    </tr>\n",
       "    <tr>\n",
       "      <th>9</th>\n",
       "      <td>Skilled trades occupations</td>\n",
       "      <td>985</td>\n",
       "      <td>995</td>\n",
       "      <td>460</td>\n",
       "      <td>2965</td>\n",
       "      <td>280</td>\n",
       "      <td>38230</td>\n",
       "    </tr>\n",
       "  </tbody>\n",
       "</table>\n",
       "</div>"
      ],
      "text/plain": [
       "Category                       Occupational_Classification   Asian  Black  \\\n",
       "0               Administrative and secretarial occupations   26715  13075   \n",
       "1         Associate professional and technical occupations   20665   8075   \n",
       "2            Caring, leisure and other service occupations    1590   2080   \n",
       "3                          Clerical and manual occupations       0      0   \n",
       "4                                   Elementary occupations   10325  10695   \n",
       "5                 Managers, directors and senior officials    2635   1120   \n",
       "6                    Process, plant and machine operatives     255    245   \n",
       "7                                 Professional occupations  151850  33120   \n",
       "8                   Sales and customer service occupations    1215    785   \n",
       "9                               Skilled trades occupations     985    995   \n",
       "\n",
       "Category  Mixed  Not known  Other    White  \n",
       "0          8950      22720   3185   395530  \n",
       "1          6350      17035   2730   281930  \n",
       "2           895       2945    445    40305  \n",
       "3             0          0      0       40  \n",
       "4          2795      12000   1925   125415  \n",
       "5           940       3285    340    70235  \n",
       "6            65       1180     50     8590  \n",
       "7         34215     138115  32160  1382920  \n",
       "8           370        830    130    12075  \n",
       "9           460       2965    280    38230  "
      ]
     },
     "execution_count": 64,
     "metadata": {},
     "output_type": "execute_result"
    }
   ],
   "source": [
    "university_ethnicity_category =df_ethnicity.groupby(['Occupational_Classification','Category'])['Number'].sum().unstack(fill_value = 0).reset_index()\n",
    "university_ethnicity_category"
   ]
  },
  {
   "cell_type": "code",
   "execution_count": 68,
   "id": "e048efea-b586-4b4b-8c1d-46646e6c59bb",
   "metadata": {
    "pycharm": {
     "name": "#%%\n"
    }
   },
   "outputs": [
    {
     "data": {
      "text/plain": [
       "<AxesSubplot:xlabel='Occupational_Classification'>"
      ]
     },
     "execution_count": 68,
     "metadata": {},
     "output_type": "execute_result"
    },
    {
     "data": {
      "image/png": "[encoded data removed]",
      "text/plain": [
       "<Figure size 1440x432 with 1 Axes>"
      ]
     },
     "metadata": {
      "needs_background": "light"
     },
     "output_type": "display_data"
    }
   ],
   "source": [
    "university_ethnicity_category.plot(kind ='bar',x ='Occupational_Classification',figsize = (20,6), width=1)"
   ]
  },
  {
   "cell_type": "code",
   "execution_count": 69,
   "id": "f95c8d9a-42e4-403f-9bb2-e8de53498304",
   "metadata": {
    "pycharm": {
     "name": "#%%\n"
    }
   },
   "outputs": [
    {
     "data": {
      "text/html": [
       "<div>\n",
       "<style scoped>\n",
       "    .dataframe tbody tr th:only-of-type {\n",
       "        vertical-align: middle;\n",
       "    }\n",
       "\n",
       "    .dataframe tbody tr th {\n",
       "        vertical-align: top;\n",
       "    }\n",
       "\n",
       "    .dataframe thead th {\n",
       "        text-align: right;\n",
       "    }\n",
       "</style>\n",
       "<table border=\"1\" class=\"dataframe\">\n",
       "  <thead>\n",
       "    <tr style=\"text-align: right;\">\n",
       "      <th>Category</th>\n",
       "      <th>Academic_contract_marker</th>\n",
       "      <th>Asian</th>\n",
       "      <th>Black</th>\n",
       "      <th>Mixed</th>\n",
       "      <th>Not known</th>\n",
       "      <th>Other</th>\n",
       "      <th>White</th>\n",
       "    </tr>\n",
       "  </thead>\n",
       "  <tbody>\n",
       "    <tr>\n",
       "      <th>0</th>\n",
       "      <td>Academic contract</td>\n",
       "      <td>134505</td>\n",
       "      <td>27465</td>\n",
       "      <td>29265</td>\n",
       "      <td>123345</td>\n",
       "      <td>29770</td>\n",
       "      <td>1139680</td>\n",
       "    </tr>\n",
       "    <tr>\n",
       "      <th>1</th>\n",
       "      <td>Non-academic contract</td>\n",
       "      <td>81730</td>\n",
       "      <td>42725</td>\n",
       "      <td>25775</td>\n",
       "      <td>77730</td>\n",
       "      <td>11475</td>\n",
       "      <td>1215590</td>\n",
       "    </tr>\n",
       "  </tbody>\n",
       "</table>\n",
       "</div>"
      ],
      "text/plain": [
       "Category Academic_contract_marker   Asian  Black  Mixed  Not known  Other  \\\n",
       "0               Academic contract  134505  27465  29265     123345  29770   \n",
       "1           Non-academic contract   81730  42725  25775      77730  11475   \n",
       "\n",
       "Category    White  \n",
       "0         1139680  \n",
       "1         1215590  "
      ]
     },
     "execution_count": 69,
     "metadata": {},
     "output_type": "execute_result"
    }
   ],
   "source": [
    "university_ethnicity_category2 =df_ethnicity.groupby(['Academic_contract_marker','Category'])['Number'].sum().unstack(fill_value = 0).reset_index()\n",
    "university_ethnicity_category2"
   ]
  },
  {
   "cell_type": "code",
   "execution_count": 70,
   "id": "f95018ee-1cf4-48fd-a087-e5f9813a4705",
   "metadata": {
    "pycharm": {
     "name": "#%%\n"
    }
   },
   "outputs": [
    {
     "data": {
      "text/plain": [
       "<AxesSubplot:xlabel='Academic_contract_marker'>"
      ]
     },
     "execution_count": 70,
     "metadata": {},
     "output_type": "execute_result"
    },
    {
     "data": {
      "image/png": "[encoded data removed]",
      "text/plain": [
       "<Figure size 1440x432 with 1 Axes>"
      ]
     },
     "metadata": {
      "needs_background": "light"
     },
     "output_type": "display_data"
    }
   ],
   "source": [
    "university_ethnicity_category2.plot(kind='bar',x ='Academic_contract_marker',figsize = (20,6))"
   ]
  },
  {
   "cell_type": "code",
   "execution_count": 72,
   "id": "ac460b40-18a8-487a-b1dd-a38a76080b0b",
   "metadata": {
    "pycharm": {
     "name": "#%%\n"
    }
   },
   "outputs": [
    {
     "data": {
      "text/html": [
       "<div>\n",
       "<style scoped>\n",
       "    .dataframe tbody tr th:only-of-type {\n",
       "        vertical-align: middle;\n",
       "    }\n",
       "\n",
       "    .dataframe tbody tr th {\n",
       "        vertical-align: top;\n",
       "    }\n",
       "\n",
       "    .dataframe thead th {\n",
       "        text-align: right;\n",
       "    }\n",
       "</style>\n",
       "<table border=\"1\" class=\"dataframe\">\n",
       "  <thead>\n",
       "    <tr style=\"text-align: right;\">\n",
       "      <th></th>\n",
       "      <th>Category_Marker</th>\n",
       "      <th>Category</th>\n",
       "      <th>Country</th>\n",
       "      <th>Academic_contract_marker</th>\n",
       "      <th>Occupational_Classification</th>\n",
       "      <th>Number</th>\n",
       "      <th>Academic Year</th>\n",
       "    </tr>\n",
       "  </thead>\n",
       "  <tbody>\n",
       "    <tr>\n",
       "      <th>5018</th>\n",
       "      <td>Sex</td>\n",
       "      <td>Female</td>\n",
       "      <td>England</td>\n",
       "      <td>Academic contract</td>\n",
       "      <td>Managers, directors and senior officials</td>\n",
       "      <td>125</td>\n",
       "      <td>2014/15</td>\n",
       "    </tr>\n",
       "    <tr>\n",
       "      <th>5019</th>\n",
       "      <td>Sex</td>\n",
       "      <td>Female</td>\n",
       "      <td>England</td>\n",
       "      <td>Academic contract</td>\n",
       "      <td>Professional occupations</td>\n",
       "      <td>73890</td>\n",
       "      <td>2014/15</td>\n",
       "    </tr>\n",
       "    <tr>\n",
       "      <th>5020</th>\n",
       "      <td>Sex</td>\n",
       "      <td>Female</td>\n",
       "      <td>England</td>\n",
       "      <td>Academic contract</td>\n",
       "      <td>Associate professional and technical occupations</td>\n",
       "      <td>450</td>\n",
       "      <td>2014/15</td>\n",
       "    </tr>\n",
       "    <tr>\n",
       "      <th>5021</th>\n",
       "      <td>Sex</td>\n",
       "      <td>Female</td>\n",
       "      <td>England</td>\n",
       "      <td>Academic contract</td>\n",
       "      <td>Clerical and manual occupations</td>\n",
       "      <td>5</td>\n",
       "      <td>2014/15</td>\n",
       "    </tr>\n",
       "    <tr>\n",
       "      <th>5022</th>\n",
       "      <td>Sex</td>\n",
       "      <td>Female</td>\n",
       "      <td>England</td>\n",
       "      <td>Non-academic contract</td>\n",
       "      <td>Managers, directors and senior officials</td>\n",
       "      <td>4935</td>\n",
       "      <td>2014/15</td>\n",
       "    </tr>\n",
       "  </tbody>\n",
       "</table>\n",
       "</div>"
      ],
      "text/plain": [
       "     Category_Marker Category  Country Academic_contract_marker  \\\n",
       "5018             Sex   Female  England        Academic contract   \n",
       "5019             Sex   Female  England        Academic contract   \n",
       "5020             Sex   Female  England        Academic contract   \n",
       "5021             Sex   Female  England        Academic contract   \n",
       "5022             Sex   Female  England    Non-academic contract   \n",
       "\n",
       "                           Occupational_Classification  Number Academic Year  \n",
       "5018          Managers, directors and senior officials     125       2014/15  \n",
       "5019                          Professional occupations   73890       2014/15  \n",
       "5020  Associate professional and technical occupations     450       2014/15  \n",
       "5021                   Clerical and manual occupations       5       2014/15  \n",
       "5022          Managers, directors and senior officials    4935       2014/15  "
      ]
     },
     "execution_count": 72,
     "metadata": {},
     "output_type": "execute_result"
    }
   ],
   "source": [
    "df_sex = df_copy.query(\"Category_Marker =='Sex'\")\n",
    "df_sex.head()"
   ]
  },
  {
   "cell_type": "code",
   "execution_count": 73,
   "id": "b903c74d-e222-4ebe-bdc7-d8ec5414bfc3",
   "metadata": {
    "pycharm": {
     "name": "#%%\n"
    }
   },
   "outputs": [
    {
     "data": {
      "text/html": [
       "<div>\n",
       "<style scoped>\n",
       "    .dataframe tbody tr th:only-of-type {\n",
       "        vertical-align: middle;\n",
       "    }\n",
       "\n",
       "    .dataframe tbody tr th {\n",
       "        vertical-align: top;\n",
       "    }\n",
       "\n",
       "    .dataframe thead th {\n",
       "        text-align: right;\n",
       "    }\n",
       "</style>\n",
       "<table border=\"1\" class=\"dataframe\">\n",
       "  <thead>\n",
       "    <tr style=\"text-align: right;\">\n",
       "      <th></th>\n",
       "      <th>Occupational_Classification</th>\n",
       "      <th>Category_Marker</th>\n",
       "      <th>Number</th>\n",
       "    </tr>\n",
       "  </thead>\n",
       "  <tbody>\n",
       "    <tr>\n",
       "      <th>0</th>\n",
       "      <td>Professional occupations</td>\n",
       "      <td>Sex</td>\n",
       "      <td>1772390</td>\n",
       "    </tr>\n",
       "    <tr>\n",
       "      <th>1</th>\n",
       "      <td>Administrative and secretarial occupations</td>\n",
       "      <td>Sex</td>\n",
       "      <td>470160</td>\n",
       "    </tr>\n",
       "    <tr>\n",
       "      <th>2</th>\n",
       "      <td>Associate professional and technical occupations</td>\n",
       "      <td>Sex</td>\n",
       "      <td>336815</td>\n",
       "    </tr>\n",
       "    <tr>\n",
       "      <th>3</th>\n",
       "      <td>Elementary occupations</td>\n",
       "      <td>Sex</td>\n",
       "      <td>163165</td>\n",
       "    </tr>\n",
       "    <tr>\n",
       "      <th>4</th>\n",
       "      <td>Managers, directors and senior officials</td>\n",
       "      <td>Sex</td>\n",
       "      <td>78610</td>\n",
       "    </tr>\n",
       "    <tr>\n",
       "      <th>5</th>\n",
       "      <td>Caring, leisure and other service occupations</td>\n",
       "      <td>Sex</td>\n",
       "      <td>48280</td>\n",
       "    </tr>\n",
       "    <tr>\n",
       "      <th>6</th>\n",
       "      <td>Skilled trades occupations</td>\n",
       "      <td>Sex</td>\n",
       "      <td>43965</td>\n",
       "    </tr>\n",
       "    <tr>\n",
       "      <th>7</th>\n",
       "      <td>Sales and customer service occupations</td>\n",
       "      <td>Sex</td>\n",
       "      <td>15425</td>\n",
       "    </tr>\n",
       "    <tr>\n",
       "      <th>8</th>\n",
       "      <td>Process, plant and machine operatives</td>\n",
       "      <td>Sex</td>\n",
       "      <td>10380</td>\n",
       "    </tr>\n",
       "    <tr>\n",
       "      <th>9</th>\n",
       "      <td>Clerical and manual occupations</td>\n",
       "      <td>Sex</td>\n",
       "      <td>40</td>\n",
       "    </tr>\n",
       "  </tbody>\n",
       "</table>\n",
       "</div>"
      ],
      "text/plain": [
       "                        Occupational_Classification Category_Marker   Number\n",
       "0                          Professional occupations             Sex  1772390\n",
       "1        Administrative and secretarial occupations             Sex   470160\n",
       "2  Associate professional and technical occupations             Sex   336815\n",
       "3                            Elementary occupations             Sex   163165\n",
       "4          Managers, directors and senior officials             Sex    78610\n",
       "5     Caring, leisure and other service occupations             Sex    48280\n",
       "6                        Skilled trades occupations             Sex    43965\n",
       "7            Sales and customer service occupations             Sex    15425\n",
       "8             Process, plant and machine operatives             Sex    10380\n",
       "9                   Clerical and manual occupations             Sex       40"
      ]
     },
     "execution_count": 73,
     "metadata": {},
     "output_type": "execute_result"
    }
   ],
   "source": [
    "university_sex =df_sex.groupby(['Occupational_Classification','Category_Marker'])['Number'].sum().sort_values(ascending =False).reset_index()\n",
    "university_sex"
   ]
  },
  {
   "cell_type": "code",
   "execution_count": 75,
   "id": "bc17f0b5-fa31-45f2-91e7-27e1521bdc98",
   "metadata": {
    "pycharm": {
     "name": "#%%\n"
    }
   },
   "outputs": [
    {
     "data": {
      "text/plain": [
       "<AxesSubplot:xlabel='Occupational_Classification'>"
      ]
     },
     "execution_count": 75,
     "metadata": {},
     "output_type": "execute_result"
    },
    {
     "data": {
      "image/png": "[encoded data removed]",
      "text/plain": [
       "<Figure size 432x288 with 1 Axes>"
      ]
     },
     "metadata": {
      "needs_background": "light"
     },
     "output_type": "display_data"
    }
   ],
   "source": [
    "university_sex.plot(kind ='bar', x='Occupational_Classification')"
   ]
  },
  {
   "cell_type": "code",
   "execution_count": 76,
   "id": "4d8d57f6-5818-4a90-ad90-49bb80d0f9b6",
   "metadata": {
    "pycharm": {
     "name": "#%%\n"
    }
   },
   "outputs": [
    {
     "data": {
      "text/html": [
       "<div>\n",
       "<style scoped>\n",
       "    .dataframe tbody tr th:only-of-type {\n",
       "        vertical-align: middle;\n",
       "    }\n",
       "\n",
       "    .dataframe tbody tr th {\n",
       "        vertical-align: top;\n",
       "    }\n",
       "\n",
       "    .dataframe thead th {\n",
       "        text-align: right;\n",
       "    }\n",
       "</style>\n",
       "<table border=\"1\" class=\"dataframe\">\n",
       "  <thead>\n",
       "    <tr style=\"text-align: right;\">\n",
       "      <th>Category</th>\n",
       "      <th>Occupational_Classification</th>\n",
       "      <th>Female</th>\n",
       "      <th>Male</th>\n",
       "      <th>Other</th>\n",
       "    </tr>\n",
       "  </thead>\n",
       "  <tbody>\n",
       "    <tr>\n",
       "      <th>0</th>\n",
       "      <td>Administrative and secretarial occupations</td>\n",
       "      <td>376295</td>\n",
       "      <td>93645</td>\n",
       "      <td>220</td>\n",
       "    </tr>\n",
       "    <tr>\n",
       "      <th>1</th>\n",
       "      <td>Associate professional and technical occupations</td>\n",
       "      <td>183100</td>\n",
       "      <td>153530</td>\n",
       "      <td>185</td>\n",
       "    </tr>\n",
       "    <tr>\n",
       "      <th>2</th>\n",
       "      <td>Caring, leisure and other service occupations</td>\n",
       "      <td>27050</td>\n",
       "      <td>21225</td>\n",
       "      <td>5</td>\n",
       "    </tr>\n",
       "    <tr>\n",
       "      <th>3</th>\n",
       "      <td>Clerical and manual occupations</td>\n",
       "      <td>30</td>\n",
       "      <td>10</td>\n",
       "      <td>0</td>\n",
       "    </tr>\n",
       "    <tr>\n",
       "      <th>4</th>\n",
       "      <td>Elementary occupations</td>\n",
       "      <td>94175</td>\n",
       "      <td>68965</td>\n",
       "      <td>25</td>\n",
       "    </tr>\n",
       "    <tr>\n",
       "      <th>5</th>\n",
       "      <td>Managers, directors and senior officials</td>\n",
       "      <td>41915</td>\n",
       "      <td>36685</td>\n",
       "      <td>10</td>\n",
       "    </tr>\n",
       "    <tr>\n",
       "      <th>6</th>\n",
       "      <td>Process, plant and machine operatives</td>\n",
       "      <td>1870</td>\n",
       "      <td>8510</td>\n",
       "      <td>0</td>\n",
       "    </tr>\n",
       "    <tr>\n",
       "      <th>7</th>\n",
       "      <td>Professional occupations</td>\n",
       "      <td>849900</td>\n",
       "      <td>921445</td>\n",
       "      <td>1045</td>\n",
       "    </tr>\n",
       "    <tr>\n",
       "      <th>8</th>\n",
       "      <td>Sales and customer service occupations</td>\n",
       "      <td>10495</td>\n",
       "      <td>4930</td>\n",
       "      <td>0</td>\n",
       "    </tr>\n",
       "    <tr>\n",
       "      <th>9</th>\n",
       "      <td>Skilled trades occupations</td>\n",
       "      <td>9070</td>\n",
       "      <td>34890</td>\n",
       "      <td>5</td>\n",
       "    </tr>\n",
       "  </tbody>\n",
       "</table>\n",
       "</div>"
      ],
      "text/plain": [
       "Category                       Occupational_Classification  Female    Male  \\\n",
       "0               Administrative and secretarial occupations  376295   93645   \n",
       "1         Associate professional and technical occupations  183100  153530   \n",
       "2            Caring, leisure and other service occupations   27050   21225   \n",
       "3                          Clerical and manual occupations      30      10   \n",
       "4                                   Elementary occupations   94175   68965   \n",
       "5                 Managers, directors and senior officials   41915   36685   \n",
       "6                    Process, plant and machine operatives    1870    8510   \n",
       "7                                 Professional occupations  849900  921445   \n",
       "8                   Sales and customer service occupations   10495    4930   \n",
       "9                               Skilled trades occupations    9070   34890   \n",
       "\n",
       "Category  Other  \n",
       "0           220  \n",
       "1           185  \n",
       "2             5  \n",
       "3             0  \n",
       "4            25  \n",
       "5            10  \n",
       "6             0  \n",
       "7          1045  \n",
       "8             0  \n",
       "9             5  "
      ]
     },
     "execution_count": 76,
     "metadata": {},
     "output_type": "execute_result"
    }
   ],
   "source": [
    "university_sex_category =df_sex.groupby(['Occupational_Classification','Category'])['Number'].sum().unstack(fill_value=0).reset_index()\n",
    "university_sex_category"
   ]
  },
  {
   "cell_type": "code",
   "execution_count": 80,
   "id": "cbabaa45-3882-4931-9800-e3a333a18fbd",
   "metadata": {
    "pycharm": {
     "name": "#%%\n"
    }
   },
   "outputs": [
    {
     "data": {
      "text/plain": [
       "<AxesSubplot:xlabel='Occupational_Classification'>"
      ]
     },
     "execution_count": 80,
     "metadata": {},
     "output_type": "execute_result"
    },
    {
     "data": {
      "image/png": "[encoded data removed]",
      "text/plain": [
       "<Figure size 1440x432 with 1 Axes>"
      ]
     },
     "metadata": {
      "needs_background": "light"
     },
     "output_type": "display_data"
    }
   ],
   "source": [
    "university_sex_category.plot(kind='bar', x ='Occupational_Classification', figsize =(20,6), width =1)"
   ]
  },
  {
   "cell_type": "code",
   "execution_count": 81,
   "id": "54e6b7fa-8937-4a9d-bb76-3b9fc815f8d2",
   "metadata": {
    "pycharm": {
     "name": "#%%\n"
    }
   },
   "outputs": [
    {
     "data": {
      "text/html": [
       "<div>\n",
       "<style scoped>\n",
       "    .dataframe tbody tr th:only-of-type {\n",
       "        vertical-align: middle;\n",
       "    }\n",
       "\n",
       "    .dataframe tbody tr th {\n",
       "        vertical-align: top;\n",
       "    }\n",
       "\n",
       "    .dataframe thead th {\n",
       "        text-align: right;\n",
       "    }\n",
       "</style>\n",
       "<table border=\"1\" class=\"dataframe\">\n",
       "  <thead>\n",
       "    <tr style=\"text-align: right;\">\n",
       "      <th>Category</th>\n",
       "      <th>Academic_contract_marker</th>\n",
       "      <th>Female</th>\n",
       "      <th>Male</th>\n",
       "      <th>Other</th>\n",
       "    </tr>\n",
       "  </thead>\n",
       "  <tbody>\n",
       "    <tr>\n",
       "      <th>0</th>\n",
       "      <td>Academic contract</td>\n",
       "      <td>682360</td>\n",
       "      <td>800870</td>\n",
       "      <td>845</td>\n",
       "    </tr>\n",
       "    <tr>\n",
       "      <th>1</th>\n",
       "      <td>Non-academic contract</td>\n",
       "      <td>911540</td>\n",
       "      <td>542965</td>\n",
       "      <td>650</td>\n",
       "    </tr>\n",
       "  </tbody>\n",
       "</table>\n",
       "</div>"
      ],
      "text/plain": [
       "Category Academic_contract_marker  Female    Male  Other\n",
       "0               Academic contract  682360  800870    845\n",
       "1           Non-academic contract  911540  542965    650"
      ]
     },
     "execution_count": 81,
     "metadata": {},
     "output_type": "execute_result"
    }
   ],
   "source": [
    "university_sex_category2 =df_sex.groupby(['Academic_contract_marker','Category'])['Number'].sum().unstack(fill_value=0).reset_index()\n",
    "university_sex_category2"
   ]
  },
  {
   "cell_type": "code",
   "execution_count": 84,
   "id": "1e11d77d-cffa-4f7b-a7b3-1b3e3c9579dc",
   "metadata": {
    "pycharm": {
     "name": "#%%\n"
    }
   },
   "outputs": [
    {
     "data": {
      "text/plain": [
       "<AxesSubplot:xlabel='Academic_contract_marker'>"
      ]
     },
     "execution_count": 84,
     "metadata": {},
     "output_type": "execute_result"
    },
    {
     "data": {
      "image/png": "[encoded data removed]",
      "text/plain": [
       "<Figure size 1440x648 with 1 Axes>"
      ]
     },
     "metadata": {
      "needs_background": "light"
     },
     "output_type": "display_data"
    }
   ],
   "source": [
    "university_sex_category2.plot(kind='bar', x ='Academic_contract_marker', figsize =(20,9), width =1, fontsize =13)"
   ]
  },
  {
   "cell_type": "code",
   "execution_count": 86,
   "id": "6691adfc-c09c-422c-b0f4-fcf525bccd86",
   "metadata": {
    "pycharm": {
     "name": "#%%\n"
    }
   },
   "outputs": [
    {
     "data": {
      "text/html": [
       "<div>\n",
       "<style scoped>\n",
       "    .dataframe tbody tr th:only-of-type {\n",
       "        vertical-align: middle;\n",
       "    }\n",
       "\n",
       "    .dataframe tbody tr th {\n",
       "        vertical-align: top;\n",
       "    }\n",
       "\n",
       "    .dataframe thead th {\n",
       "        text-align: right;\n",
       "    }\n",
       "</style>\n",
       "<table border=\"1\" class=\"dataframe\">\n",
       "  <thead>\n",
       "    <tr style=\"text-align: right;\">\n",
       "      <th></th>\n",
       "      <th>Category_Marker</th>\n",
       "      <th>Category</th>\n",
       "      <th>Country</th>\n",
       "      <th>Academic_contract_marker</th>\n",
       "      <th>Occupational_Classification</th>\n",
       "      <th>Number</th>\n",
       "      <th>Academic Year</th>\n",
       "    </tr>\n",
       "  </thead>\n",
       "  <tbody>\n",
       "    <tr>\n",
       "      <th>3901</th>\n",
       "      <td>Nationality</td>\n",
       "      <td>UK</td>\n",
       "      <td>England</td>\n",
       "      <td>Academic contract</td>\n",
       "      <td>Managers, directors and senior officials</td>\n",
       "      <td>270</td>\n",
       "      <td>2014/15</td>\n",
       "    </tr>\n",
       "    <tr>\n",
       "      <th>3902</th>\n",
       "      <td>Nationality</td>\n",
       "      <td>UK</td>\n",
       "      <td>England</td>\n",
       "      <td>Academic contract</td>\n",
       "      <td>Professional occupations</td>\n",
       "      <td>114085</td>\n",
       "      <td>2014/15</td>\n",
       "    </tr>\n",
       "    <tr>\n",
       "      <th>3903</th>\n",
       "      <td>Nationality</td>\n",
       "      <td>UK</td>\n",
       "      <td>England</td>\n",
       "      <td>Academic contract</td>\n",
       "      <td>Associate professional and technical occupations</td>\n",
       "      <td>870</td>\n",
       "      <td>2014/15</td>\n",
       "    </tr>\n",
       "    <tr>\n",
       "      <th>3904</th>\n",
       "      <td>Nationality</td>\n",
       "      <td>UK</td>\n",
       "      <td>England</td>\n",
       "      <td>Academic contract</td>\n",
       "      <td>Clerical and manual occupations</td>\n",
       "      <td>5</td>\n",
       "      <td>2014/15</td>\n",
       "    </tr>\n",
       "    <tr>\n",
       "      <th>3905</th>\n",
       "      <td>Nationality</td>\n",
       "      <td>UK</td>\n",
       "      <td>England</td>\n",
       "      <td>Non-academic contract</td>\n",
       "      <td>Managers, directors and senior officials</td>\n",
       "      <td>8625</td>\n",
       "      <td>2014/15</td>\n",
       "    </tr>\n",
       "  </tbody>\n",
       "</table>\n",
       "</div>"
      ],
      "text/plain": [
       "     Category_Marker Category  Country Academic_contract_marker  \\\n",
       "3901     Nationality       UK  England        Academic contract   \n",
       "3902     Nationality       UK  England        Academic contract   \n",
       "3903     Nationality       UK  England        Academic contract   \n",
       "3904     Nationality       UK  England        Academic contract   \n",
       "3905     Nationality       UK  England    Non-academic contract   \n",
       "\n",
       "                           Occupational_Classification  Number Academic Year  \n",
       "3901          Managers, directors and senior officials     270       2014/15  \n",
       "3902                          Professional occupations  114085       2014/15  \n",
       "3903  Associate professional and technical occupations     870       2014/15  \n",
       "3904                   Clerical and manual occupations       5       2014/15  \n",
       "3905          Managers, directors and senior officials    8625       2014/15  "
      ]
     },
     "execution_count": 86,
     "metadata": {},
     "output_type": "execute_result"
    }
   ],
   "source": [
    "df_nationality = df_copy.query(\"Category_Marker == 'Nationality'\")\n",
    "df_nationality.head()"
   ]
  },
  {
   "cell_type": "code",
   "execution_count": 87,
   "id": "f0df265f-164a-4e4a-b325-723001a1249e",
   "metadata": {
    "pycharm": {
     "name": "#%%\n"
    }
   },
   "outputs": [
    {
     "data": {
      "text/html": [
       "<div>\n",
       "<style scoped>\n",
       "    .dataframe tbody tr th:only-of-type {\n",
       "        vertical-align: middle;\n",
       "    }\n",
       "\n",
       "    .dataframe tbody tr th {\n",
       "        vertical-align: top;\n",
       "    }\n",
       "\n",
       "    .dataframe thead th {\n",
       "        text-align: right;\n",
       "    }\n",
       "</style>\n",
       "<table border=\"1\" class=\"dataframe\">\n",
       "  <thead>\n",
       "    <tr style=\"text-align: right;\">\n",
       "      <th>Category</th>\n",
       "      <th>Occupational_Classification</th>\n",
       "      <th>European Union</th>\n",
       "      <th>Non-European Union</th>\n",
       "      <th>Not known</th>\n",
       "      <th>UK</th>\n",
       "    </tr>\n",
       "  </thead>\n",
       "  <tbody>\n",
       "    <tr>\n",
       "      <th>0</th>\n",
       "      <td>Administrative and secretarial occupations</td>\n",
       "      <td>28670</td>\n",
       "      <td>15750</td>\n",
       "      <td>2905</td>\n",
       "      <td>422840</td>\n",
       "    </tr>\n",
       "    <tr>\n",
       "      <th>1</th>\n",
       "      <td>Associate professional and technical occupations</td>\n",
       "      <td>20905</td>\n",
       "      <td>11840</td>\n",
       "      <td>2535</td>\n",
       "      <td>301530</td>\n",
       "    </tr>\n",
       "    <tr>\n",
       "      <th>2</th>\n",
       "      <td>Caring, leisure and other service occupations</td>\n",
       "      <td>3245</td>\n",
       "      <td>1560</td>\n",
       "      <td>590</td>\n",
       "      <td>42895</td>\n",
       "    </tr>\n",
       "    <tr>\n",
       "      <th>3</th>\n",
       "      <td>Clerical and manual occupations</td>\n",
       "      <td>0</td>\n",
       "      <td>0</td>\n",
       "      <td>0</td>\n",
       "      <td>40</td>\n",
       "    </tr>\n",
       "    <tr>\n",
       "      <th>4</th>\n",
       "      <td>Elementary occupations</td>\n",
       "      <td>16285</td>\n",
       "      <td>10805</td>\n",
       "      <td>1675</td>\n",
       "      <td>134410</td>\n",
       "    </tr>\n",
       "    <tr>\n",
       "      <th>5</th>\n",
       "      <td>Managers, directors and senior officials</td>\n",
       "      <td>3045</td>\n",
       "      <td>1630</td>\n",
       "      <td>355</td>\n",
       "      <td>73560</td>\n",
       "    </tr>\n",
       "    <tr>\n",
       "      <th>6</th>\n",
       "      <td>Process, plant and machine operatives</td>\n",
       "      <td>705</td>\n",
       "      <td>265</td>\n",
       "      <td>520</td>\n",
       "      <td>8885</td>\n",
       "    </tr>\n",
       "    <tr>\n",
       "      <th>7</th>\n",
       "      <td>Professional occupations</td>\n",
       "      <td>273310</td>\n",
       "      <td>208675</td>\n",
       "      <td>17210</td>\n",
       "      <td>1273225</td>\n",
       "    </tr>\n",
       "    <tr>\n",
       "      <th>8</th>\n",
       "      <td>Sales and customer service occupations</td>\n",
       "      <td>1160</td>\n",
       "      <td>620</td>\n",
       "      <td>140</td>\n",
       "      <td>13480</td>\n",
       "    </tr>\n",
       "    <tr>\n",
       "      <th>9</th>\n",
       "      <td>Skilled trades occupations</td>\n",
       "      <td>2410</td>\n",
       "      <td>940</td>\n",
       "      <td>560</td>\n",
       "      <td>40060</td>\n",
       "    </tr>\n",
       "  </tbody>\n",
       "</table>\n",
       "</div>"
      ],
      "text/plain": [
       "Category                       Occupational_Classification  European Union  \\\n",
       "0               Administrative and secretarial occupations           28670   \n",
       "1         Associate professional and technical occupations           20905   \n",
       "2            Caring, leisure and other service occupations            3245   \n",
       "3                          Clerical and manual occupations               0   \n",
       "4                                   Elementary occupations           16285   \n",
       "5                 Managers, directors and senior officials            3045   \n",
       "6                    Process, plant and machine operatives             705   \n",
       "7                                 Professional occupations          273310   \n",
       "8                   Sales and customer service occupations            1160   \n",
       "9                               Skilled trades occupations            2410   \n",
       "\n",
       "Category  Non-European Union  Not known       UK  \n",
       "0                      15750       2905   422840  \n",
       "1                      11840       2535   301530  \n",
       "2                       1560        590    42895  \n",
       "3                          0          0       40  \n",
       "4                      10805       1675   134410  \n",
       "5                       1630        355    73560  \n",
       "6                        265        520     8885  \n",
       "7                     208675      17210  1273225  \n",
       "8                        620        140    13480  \n",
       "9                        940        560    40060  "
      ]
     },
     "execution_count": 87,
     "metadata": {},
     "output_type": "execute_result"
    }
   ],
   "source": [
    "university_nationality =df_nationality.groupby(['Occupational_Classification','Category'])[\"Number\"].sum().unstack(fill_value =0).reset_index()\n",
    "university_nationality"
   ]
  },
  {
   "cell_type": "code",
   "execution_count": 88,
   "id": "a3c400f2-9670-4d37-9bf7-0fa1fe6bff52",
   "metadata": {
    "pycharm": {
     "name": "#%%\n"
    }
   },
   "outputs": [
    {
     "data": {
      "text/plain": [
       "<AxesSubplot:xlabel='Occupational_Classification'>"
      ]
     },
     "execution_count": 88,
     "metadata": {},
     "output_type": "execute_result"
    },
    {
     "data": {
      "image/png": "[encoded data removed]",
      "text/plain": [
       "<Figure size 1440x432 with 1 Axes>"
      ]
     },
     "metadata": {
      "needs_background": "light"
     },
     "output_type": "display_data"
    }
   ],
   "source": [
    "university_nationality.plot(kind ='bar',x ='Occupational_Classification',figsize=(20,6),fontsize =13, width =1)"
   ]
  },
  {
   "cell_type": "code",
   "execution_count": 89,
   "id": "c6e58387-e7bb-46f5-927b-0050863e51e4",
   "metadata": {
    "pycharm": {
     "name": "#%%\n"
    }
   },
   "outputs": [
    {
     "data": {
      "text/html": [
       "<div>\n",
       "<style scoped>\n",
       "    .dataframe tbody tr th:only-of-type {\n",
       "        vertical-align: middle;\n",
       "    }\n",
       "\n",
       "    .dataframe tbody tr th {\n",
       "        vertical-align: top;\n",
       "    }\n",
       "\n",
       "    .dataframe thead th {\n",
       "        text-align: right;\n",
       "    }\n",
       "</style>\n",
       "<table border=\"1\" class=\"dataframe\">\n",
       "  <thead>\n",
       "    <tr style=\"text-align: right;\">\n",
       "      <th>Category</th>\n",
       "      <th>Academic_contract_marker</th>\n",
       "      <th>European Union</th>\n",
       "      <th>Non-European Union</th>\n",
       "      <th>Not known</th>\n",
       "      <th>UK</th>\n",
       "    </tr>\n",
       "  </thead>\n",
       "  <tbody>\n",
       "    <tr>\n",
       "      <th>0</th>\n",
       "      <td>Academic contract</td>\n",
       "      <td>253255</td>\n",
       "      <td>195835</td>\n",
       "      <td>15500</td>\n",
       "      <td>1019490</td>\n",
       "    </tr>\n",
       "    <tr>\n",
       "      <th>1</th>\n",
       "      <td>Non-academic contract</td>\n",
       "      <td>96480</td>\n",
       "      <td>56250</td>\n",
       "      <td>10990</td>\n",
       "      <td>1291435</td>\n",
       "    </tr>\n",
       "  </tbody>\n",
       "</table>\n",
       "</div>"
      ],
      "text/plain": [
       "Category Academic_contract_marker  European Union  Non-European Union  \\\n",
       "0               Academic contract          253255              195835   \n",
       "1           Non-academic contract           96480               56250   \n",
       "\n",
       "Category  Not known       UK  \n",
       "0             15500  1019490  \n",
       "1             10990  1291435  "
      ]
     },
     "execution_count": 89,
     "metadata": {},
     "output_type": "execute_result"
    }
   ],
   "source": [
    "university_nationality2 =df_nationality.groupby(['Academic_contract_marker','Category'])[\"Number\"].sum().unstack(fill_value =0).reset_index()\n",
    "university_nationality2"
   ]
  },
  {
   "cell_type": "code",
   "execution_count": 91,
   "id": "894def81-ee89-4f46-a9e6-887b3fa37abd",
   "metadata": {
    "pycharm": {
     "name": "#%%\n"
    }
   },
   "outputs": [
    {
     "data": {
      "text/plain": [
       "<AxesSubplot:xlabel='Academic_contract_marker'>"
      ]
     },
     "execution_count": 91,
     "metadata": {},
     "output_type": "execute_result"
    },
    {
     "data": {
      "image/png": "[encoded data removed]",
      "text/plain": [
       "<Figure size 1440x432 with 1 Axes>"
      ]
     },
     "metadata": {
      "needs_background": "light"
     },
     "output_type": "display_data"
    }
   ],
   "source": [
    "university_nationality2.plot(kind='bar',x ='Academic_contract_marker',figsize =(20,6), fontsize =13)"
   ]
  },
  {
   "cell_type": "code",
   "execution_count": null,
   "id": "1b99705e-b5ce-4144-a195-dbd1658d5e4e",
   "metadata": {
    "pycharm": {
     "name": "#%%\n"
    }
   },
   "outputs": [],
   "source": []
  }
 ],
 "metadata": {
  "kernelspec": {
   "display_name": "Python 3 (ipykernel)",
   "language": "python",
   "name": "python3"
  },
  "language_info": {
   "codemirror_mode": {
    "name": "ipython",
    "version": 3
   },
   "file_extension": ".py",
   "mimetype": "text/x-python",
   "name": "python",
   "nbconvert_exporter": "python",
   "pygments_lexer": "ipython3",
   "version": "3.9.12"
  }
 },
 "nbformat": 4,
 "nbformat_minor": 5
}